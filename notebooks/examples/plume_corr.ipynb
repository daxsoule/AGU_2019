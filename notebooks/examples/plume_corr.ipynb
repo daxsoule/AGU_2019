{
 "cells": [
  {
   "cell_type": "markdown",
   "metadata": {},
   "source": [
    "# Science Plan\n",
    "\n",
    "## Objective - test hypothesis that weather events can affect the bottom currents that control the bending and rise heights of Hydrothermal plumes \n",
    "\n",
    "### Plot TimeSeries to look for correlations\n",
    "1. Plotted time series.... compare 2010 and 2011; overlap in seasonality. Seasonality in storms is important. Compare what is happening year to year. \n",
    "2. Data is currently has a heading and angle from verticle. Want north and east components. We have a vector in 3d, projecting that down to horizontal and splitting that out into x and y components. \n",
    "3. Karen has matlab code that solves this problem. Dax will adapt and then coach josh in how to do the same. \n",
    "4. Why does this one month have more bending above 50 degrees than other months? \n",
    "\n",
    "## Notes:\n",
    "1. I have tried to be \"pythonic\" in my naming conventions: https://docs.python-guide.org/writing/style/\n",
    "\n",
    "2. I have indexed my dataframe using time "
   ]
  },
  {
   "cell_type": "code",
   "execution_count": null,
   "metadata": {},
   "outputs": [],
   "source": [
    "import numpy as np\n",
    "import matplotlib.pyplot as plt\n",
    "%matplotlib inline\n",
    "from mpl_toolkits import mplot3d\n",
    "import pandas as pd\n",
    "from datetime import datetime\n",
    "import hvplot.pandas\n",
    "import holoviews as hv\n",
    "from holoviews import dim, opts\n",
    "hv.extension('bokeh')"
   ]
  },
  {
   "cell_type": "code",
   "execution_count": null,
   "metadata": {},
   "outputs": [],
   "source": [
    "from time import sleep\n",
    "\n",
    "def inc(x):\n",
    "    sleep(1)\n",
    "    return x + 1\n",
    "\n",
    "def add(x, y):\n",
    "    sleep(1)\n",
    "    return x + y"
   ]
  },
  {
   "cell_type": "code",
   "execution_count": null,
   "metadata": {},
   "outputs": [],
   "source": [
    "import datetime\n",
    "def dateparse (date_string):\n",
    "    return datetime.datetime.strptime(date_string, '%d-%m-%Y %H:%M:%S')"
   ]
  },
  {
   "cell_type": "markdown",
   "metadata": {},
   "source": [
    "## Step One - Gather Data\n",
    "\n",
    "Plume Bending Data"
   ]
  },
  {
   "cell_type": "code",
   "execution_count": null,
   "metadata": {},
   "outputs": [],
   "source": [
    "# Test path to data using unix command \n",
    "!ls /home/jovyan/data/covis_data/"
   ]
  },
  {
   "cell_type": "markdown",
   "metadata": {},
   "source": [
    "### BendData files  (*.txt = ascii format)\n",
    "* 3 variables (direction, angle from vertical, julian day)\n",
    "* separator = single blank space"
   ]
  },
  {
   "cell_type": "code",
   "execution_count": null,
   "metadata": {},
   "outputs": [],
   "source": [
    "# Take quick look at data using unix command \n",
    "!echo 'direction,deg_from_vert,jday' | cat - ~jovyan/data/covis_data/BendData2010_020113_TrakFormat.txt > ~jovyan/data/covis_data/temp.txt\n",
    "!sed 's/  /,/g' ~jovyan/data/covis_data/temp.txt > ~jovyan/data/covis_data/bend_data2010.csv\n",
    "!head ~jovyan/data/covis_data/bend_data2010.csv"
   ]
  },
  {
   "cell_type": "markdown",
   "metadata": {},
   "source": [
    "## notes:\n",
    "1. For direction, units are degrees. Both 0 degrees and 360 degrees are North.  Probably Magnetic North rather than True North.\n",
    "2. Angle from vertical is also in degrees.\n",
    "3. The time is in a modified Julian Day format. Modified in that it is only days since January of the appropriate year AND that it likely starts at midnight not noon.\n",
    "4. The BendData are a linear fit to a centerline of an isosurface  representing a plume."
   ]
  },
  {
   "cell_type": "code",
   "execution_count": null,
   "metadata": {},
   "outputs": [],
   "source": [
    "path = '/home/jovyan/data/covis_data/bend_data2010.csv' # use your path\n",
    "df_bd2010 = pd.read_csv(path, sep=\",\")\n",
    "df_bd2010['year'] = '2010'\n",
    "df_bd2010['datetime'] = pd.to_datetime(df_bd2010.year, format='%Y') + pd.to_timedelta(df_bd2010.jday - 1, unit='d')\n",
    "df_bd2010['datetime'] = df_bd2010['datetime'].dt.round('1s')\n",
    "df_bd2010 = df_bd2010.set_index('datetime')\n",
    "df_bd2010.drop(['jday', 'year'], axis=1,inplace=True)\n",
    "df_bd2010 = df_bd2010.rename_axis(None)\n",
    "df_bd2010.head(3)"
   ]
  },
  {
   "cell_type": "code",
   "execution_count": null,
   "metadata": {},
   "outputs": [],
   "source": [
    "df_bd2010.hvplot(x = 'index', y= ['direction'], kind = 'scatter') * df_bd2010.hvplot(x = 'index', y= ['direction'])"
   ]
  },
  {
   "cell_type": "code",
   "execution_count": null,
   "metadata": {},
   "outputs": [],
   "source": [
    "df_bd2010.hvplot(x = 'index', y= ['direction', 'deg_from_vert'])"
   ]
  },
  {
   "cell_type": "markdown",
   "metadata": {},
   "source": [
    "# Data is from COVIS data collected at Grotto Vent in the MEF.\n",
    "## Centerline Vertical Flow Rate\n",
    "* 7 variables (Year, Month, Day, Hour, Minute, Second, Flow rate)\n",
    "* separator = single blank space\n",
    "## notes:\n",
    "1. Time is given as a vector here.  This was the simplest conversion from the internal Matlab datenum. \n",
    "2. Flow rate is in m/s. Values should all be <1 m/s.\n",
    "3. Several rows contain only the values \"NaN\" which is a Matlab code for Not a Number.  These represent missing data.\n",
    "4. The data in this file is from a diffent set of files than the BendData so the times will not match but be offset by 20-40 minutes.  And there will be missing values (maybe more even than the NaN's represent) as the Doppler data can only be interpretated when the plume is near vertical."
   ]
  },
  {
   "cell_type": "code",
   "execution_count": null,
   "metadata": {},
   "outputs": [],
   "source": [
    "# Take quick look at data using unix command \n",
    "#!head ~jovyan/data/covis_data/centerline_vertical_flow_rate_2010.txt"
   ]
  },
  {
   "cell_type": "markdown",
   "metadata": {},
   "source": [
    "### This requires some clean up... almost certainly there was an cleaner way to do this but using the unix command we can clean this up and create the .csv file we want. "
   ]
  },
  {
   "cell_type": "code",
   "execution_count": null,
   "metadata": {},
   "outputs": [],
   "source": [
    "!echo 'year month day hour minute second flowrate' | cat - ~jovyan/data/covis_data/centerline_vertical_flow_rate_2010.txt > ~jovyan/data/covis_data/temp.txt\n",
    "!sed 's/ /,/g' ~jovyan/data/covis_data/temp.txt > ~jovyan/data/covis_data/temp1.txt\n",
    "!sed 's/,,,,,,,,,,,,,/,/g' ~jovyan/data/covis_data/temp1.txt > ~jovyan/data/covis_data/temp2.txt\n",
    "!sed 's/,,,/,/g' ~jovyan/data/covis_data/temp2.txt > ~jovyan/data/covis_data/temp3.txt\n",
    "!sed 's/^,//' <~jovyan/data/covis_data/temp3.txt >~jovyan/data/covis_data/centerline_vertical_flow_rate_2010.csv\n",
    "!rm ~jovyan/data/covis_data/temp*"
   ]
  },
  {
   "cell_type": "code",
   "execution_count": null,
   "metadata": {},
   "outputs": [],
   "source": [
    "#!head ~jovyan/data/covis_data/centerline_vertical_flow_rate_2010.csv"
   ]
  },
  {
   "cell_type": "code",
   "execution_count": null,
   "metadata": {},
   "outputs": [],
   "source": [
    "path = '/home/jovyan/data/covis_data/centerline_vertical_flow_rate_2010.csv' # use your path\n",
    "df_cvfr2010 = pd.read_csv(path, sep=\",\", engine='python')\n",
    "df_cvfr2010= df_cvfr2010.dropna()\n",
    "df_cvfr2010['year']= df_cvfr2010['year'].round(0).astype(int).astype(str)\n",
    "df_cvfr2010['month']= df_cvfr2010['month'].round(0).astype(int).astype(str).str.pad(width=2, side='left', fillchar='0')\n",
    "df_cvfr2010['day']= df_cvfr2010['day'].round(0).astype(int).astype(str).str.pad(width=2, side='left', fillchar='0')\n",
    "df_cvfr2010['hour']= df_cvfr2010['hour'].round(0).astype(int).astype(str).str.pad(width=2, side='left', fillchar='0')\n",
    "df_cvfr2010['minute']=df_cvfr2010['minute'].round(0).astype(int).astype(str).str.pad(width=2, side='left', fillchar='0')\n",
    "#df_cvfr2010['second']= df_cvfr2010['second'].round(0).astype(int).astype(str)\n",
    "df_cvfr2010['datetime'] = df_cvfr2010['year'] + df_cvfr2010['month'] + df_cvfr2010['day'] +\\\n",
    "'T' + df_cvfr2010['hour']+ ':' + df_cvfr2010['minute']\n",
    "df_cvfr2010['datetime'] = pd.to_datetime(df_cvfr2010['datetime'])\n",
    "df_cvfr2010 = df_cvfr2010.set_index('datetime')\n",
    "df_cvfr2010 = df_cvfr2010[['flowrate']]\n",
    "df_cvfr2010 = df_cvfr2010.rename_axis(None)\n",
    "df_cvfr2010.head(3)"
   ]
  },
  {
   "cell_type": "code",
   "execution_count": null,
   "metadata": {},
   "outputs": [],
   "source": [
    "df_cvfr2010.hvplot(x = 'index', y= 'flowrate') * df_cvfr2010.hvplot(x = 'index', y= 'flowrate', kind = 'scatter')"
   ]
  },
  {
   "cell_type": "markdown",
   "metadata": {},
   "source": [
    "## Ras data\n",
    "* 7 variables (Year, Month, Day, Hour, Minute, Second, Temperature)\n",
    "* separator = single blank space\n",
    "### notes:\n",
    "1. Time is given as a vector here.  This was the simplest conversion from the internal Matlab datenum. \n",
    "2. Temperature is in degrees C. Temperature is averaged at 15 minute intervals starting at 15 minutes after the hour.\n",
    "3. These data are from the RAS instument's inflow temperature sensor.  The RAS is a water sampling instrument that takes samples when a user request or inflow temperature sensor exceeds a given value.  The temperature sensor is under a \"hood\" that keeps the ambient ocean bottom waters from mixing with the discharging diffuse fluids. I don't expect these data to match up with the COVIS data but you never know."
   ]
  },
  {
   "cell_type": "code",
   "execution_count": null,
   "metadata": {},
   "outputs": [],
   "source": [
    "# Take quick look at data using unix command\n",
    "!rm ~jovyan/data/covis_data/rasdata_2010.csv\n",
    "!echo 'year,month,day,hour,minute,second,temp' | cat - ~jovyan/data/covis_data/rasdata_2010.txt > ~jovyan/data/covis_data/temp.txt\n",
    "!sed 's/   /,/g' ~jovyan/data/covis_data/temp.txt > ~jovyan/data/covis_data/temp1.txt\n",
    "!sed 's/^,//' <~jovyan/data/covis_data/temp1.txt >~jovyan/data/covis_data/rasdata_2010.csv\n",
    "#!head ~jovyan/data/covis_data/rasdata_2010.csv\n",
    "!rm ~jovyan/data/covis_data/temp*"
   ]
  },
  {
   "cell_type": "code",
   "execution_count": null,
   "metadata": {},
   "outputs": [],
   "source": [
    "# Note the data type has requred a slightly a parsing scheme that does not use the .round command. \n",
    "path = '/home/jovyan/data/covis_data/rasdata_2010.csv' # use your path\n",
    "df_ras2010 = pd.read_csv(path, sep=\",\")\n",
    "df_ras2010['year']= df_ras2010['year'].astype(int).astype(str)\n",
    "df_ras2010['month']= df_ras2010['month'].astype(int).astype(str).str.pad(width=2, side='left', fillchar='0')\n",
    "df_ras2010['day']= df_ras2010['day'].astype(int).astype(str).str.pad(width=2, side='left', fillchar='0')\n",
    "df_ras2010['hour']= df_ras2010['hour'].astype(int).astype(str).str.pad(width=2, side='left', fillchar='0')\n",
    "df_ras2010['minute']=df_ras2010['minute'].astype(int).astype(str).str.pad(width=2, side='left', fillchar='0')\n",
    "df_ras2010['datetime'] = df_ras2010['year'] + df_ras2010['month'] + df_ras2010['day'] +\\\n",
    "'T' + df_ras2010['hour']+ ':' + df_ras2010['minute']\n",
    "df_ras2010['datetime'] = pd.to_datetime(df_ras2010['datetime'])\n",
    "df_ras2010 = df_ras2010.set_index('datetime')\n",
    "df_ras2010 = df_ras2010[['temp']]\n",
    "df_ras2010 = df_ras2010.rename_axis(None)\n",
    "df_ras2010.head(2)"
   ]
  },
  {
   "cell_type": "code",
   "execution_count": null,
   "metadata": {},
   "outputs": [],
   "source": [
    "df_ras2010.hvplot(x = 'index', y= 'temp')"
   ]
  },
  {
   "cell_type": "markdown",
   "metadata": {},
   "source": [
    "## Weather data\n",
    "* I'm not sure how useful this file will be or what timeframe it covers.  An explanation of the variable names can be found at https://www.ndbc.noaa.gov/measdes.shtml\n",
    "* weather_data_for_plotting*.txt files\n",
    "* 13 variables (Year, Month, Day, Hour, Minute, Seconds, Julian day, wave height, wind direction, wind speed, wind gust speed, atmospheric pressure, air temperature)\n",
    "* separator = single blank space\n",
    "### notes:\n",
    "1. Time is given both as a vector (from original data file probably) and as a Julian day.\n",
    "2. No information on other units by m/s likely for speeds.  Rest should match the NOAA information.  \n",
    "3. I probably still have the original NOAA data files for these buoys. I'll see if I can match data files to the time periods; my directories seemed a little confused."
   ]
  },
  {
   "cell_type": "code",
   "execution_count": null,
   "metadata": {},
   "outputs": [],
   "source": [
    "# Clean up text file and add headders \n",
    "!rm ~jovyan/data/covis_data/weather_data_for_plotting_2010_C46036.csv\n",
    "!echo 'year,month,day,hour,minute,seconds,jday,wv_height,wnd_dir,wnd_spd,wnd_gspd,atm_prs,air_temp' | cat - ~jovyan/data/covis_data/weather_data_for_plotting_2010_C46036.txt > ~jovyan/data/covis_data/temp.txt\n",
    "!sed 's/   /,/g' ~jovyan/data/covis_data/temp.txt > ~jovyan/data/covis_data/temp1.txt\n",
    "!sed 's/^,//' <~jovyan/data/covis_data/temp1.txt >~jovyan/data/covis_data/weather_data_for_plotting_2010_C46036.csv\n",
    "#!head /home/jovyan/data/covis_data/weather_data_for_plotting_2010_C46036.csv\n",
    "!rm ~jovyan/data/covis_data/temp*"
   ]
  },
  {
   "cell_type": "code",
   "execution_count": null,
   "metadata": {},
   "outputs": [],
   "source": [
    "path = '/home/jovyan/data/covis_data/weather_data_for_plotting_2010_C46036.csv' # use your path\n",
    "df_wd2010c46036 = pd.read_csv(path, sep=\",\")\n",
    "df_wd2010c46036['year']= df_wd2010c46036['year'].astype(int).astype(str)\n",
    "df_wd2010c46036['month']= df_wd2010c46036['month'].astype(int).astype(str).str.pad(width=2, side='left', fillchar='0')\n",
    "df_wd2010c46036['day']= df_wd2010c46036['day'].astype(int).astype(str).str.pad(width=2, side='left', fillchar='0')\n",
    "df_wd2010c46036['hour']= df_wd2010c46036['hour'].astype(int).astype(str).str.pad(width=2, side='left', fillchar='0')\n",
    "df_wd2010c46036['minute']=df_wd2010c46036['minute'].astype(int).astype(str).str.pad(width=2, side='left', fillchar='0')\n",
    "df_wd2010c46036['datetime'] = df_wd2010c46036['year'] + df_wd2010c46036['month'] + df_wd2010c46036['day'] +\\\n",
    "'T' + df_wd2010c46036['hour']+ ':' + df_wd2010c46036['minute']\n",
    "df_wd2010c46036['datetime'] = pd.to_datetime(df_wd2010c46036['datetime'])\n",
    "df_wd2010c46036 = df_wd2010c46036.set_index('datetime')\n",
    "df_wd2010c46036 = df_wd2010c46036[['jday', 'wv_height', 'wnd_dir', 'wnd_spd', 'wnd_gspd', 'atm_prs', 'air_temp']]\n",
    "df_wd2010c46036 = df_wd2010c46036.rename_axis(None)\n",
    "df_wd2010c46036.head(2)"
   ]
  },
  {
   "cell_type": "code",
   "execution_count": null,
   "metadata": {},
   "outputs": [],
   "source": [
    "df_wd2010c46036.hvplot(x = 'index', y= ['wv_height'])"
   ]
  },
  {
   "cell_type": "code",
   "execution_count": null,
   "metadata": {},
   "outputs": [],
   "source": [
    "df_wd2010c46036.hvplot(x='index', y=['wv_height',  'wnd_dir', 'wnd_spd', 'wnd_gspd', 'atm_prs', 'air_temp'], \n",
    "                width=350, height=300, subplots=True, shared_axes=False, title= True, 'wd2010c46036').cols(2)"
   ]
  },
  {
   "cell_type": "code",
   "execution_count": null,
   "metadata": {},
   "outputs": [],
   "source": [
    "WH2010CPlot = df_WD2010C.plot(kind='line',color='black', y='Wave Height')\n",
    "WH2010CPlot.set_title(\"Wave Height 2010 at C46036\")\n",
    "WH2010CPlot.set_xlabel('Date Time')\n",
    "WH2010CPlot.set_ylabel('Wave Height')\n",
    "plt.savefig('WHCPlot2010.png')"
   ]
  },
  {
   "cell_type": "code",
   "execution_count": null,
   "metadata": {},
   "outputs": [],
   "source": [
    "WDir2010CPlot = df_WD2010C.plot(kind='line',color='black', y='Wind Direction')\n",
    "WDir2010CPlot.set_title(\"Wind Direction 2010 at C46036\")\n",
    "WDir2010CPlot.set_xlabel('Date Time')\n",
    "WDir2010CPlot.set_ylabel('Wind Direction')\n",
    "plt.savefig('WDirCPlot2010.png')"
   ]
  },
  {
   "cell_type": "code",
   "execution_count": null,
   "metadata": {},
   "outputs": [],
   "source": [
    "WS2010CPlot = df_WD2010C.plot(kind='line',color='black', y='Wind Speed')\n",
    "WS2010CPlot.set_title(\"Wind Speed 2010 at C46036\")\n",
    "WS2010CPlot.set_xlabel('Date Time')\n",
    "WS2010CPlot.set_ylabel('Wind Speed (m/s)')\n",
    "plt.savefig('WSCPlot2010.png')"
   ]
  },
  {
   "cell_type": "code",
   "execution_count": null,
   "metadata": {},
   "outputs": [],
   "source": [
    "WGS2010CPlot = df_WD2010C.plot(kind='line',color='black', y='Wind Gust Speed')\n",
    "WGS2010CPlot.set_title(\"Wind Gust Speed 2010 at C46036\")\n",
    "WGS2010CPlot.set_xlabel('Date Time')\n",
    "WGS2010CPlot.set_ylabel('Wind Gust Speed (m/s)')\n",
    "plt.savefig('WGCPlot2010.png')"
   ]
  },
  {
   "cell_type": "code",
   "execution_count": null,
   "metadata": {},
   "outputs": [],
   "source": [
    "AP2010CPlot = df_WD2010C.plot(kind='line',color='black', y='Atmospheric Pressure')\n",
    "AP2010CPlot.set_title(\"Atmospheric Pressure 2010 at C46036\")\n",
    "AP2010CPlot.set_xlabel('Date Time')\n",
    "AP2010CPlot.set_ylabel('Atmospheric Pressure')\n",
    "plt.savefig('APCPlot2010.png')"
   ]
  },
  {
   "cell_type": "code",
   "execution_count": null,
   "metadata": {},
   "outputs": [],
   "source": [
    "AT2010CPlot = df_WD2010C.plot(kind='line',color='black', y='Air Temperature')\n",
    "AT2010CPlot.set_title(\"Air Temperature 2010 at C46036\")\n",
    "AT2010CPlot.set_xlabel('Date Time')\n",
    "AT2010CPlot.set_ylabel('Air Temperature')\n",
    "plt.savefig('ATCPlot2010.png')"
   ]
  },
  {
   "cell_type": "markdown",
   "metadata": {},
   "source": [
    "Weather Data 2011 C46036"
   ]
  },
  {
   "cell_type": "code",
   "execution_count": null,
   "metadata": {},
   "outputs": [],
   "source": [
    "WH2011CPlot = df_WD2011C.plot(kind='line',color='black', y='Wave Height')\n",
    "WH2011CPlot.set_title(\"Wave Height 2011 at C46036\")\n",
    "WH2011CPlot.set_xlabel('Date Time')\n",
    "WH2011CPlot.set_ylabel('Wave Height')\n",
    "plt.savefig('WHCPlot2011.png')"
   ]
  },
  {
   "cell_type": "code",
   "execution_count": null,
   "metadata": {},
   "outputs": [],
   "source": [
    "WDir2011CPlot = df_WD2011C.plot(kind='line',color='black', y='Wind Direction')\n",
    "WDir2011CPlot.set_title(\"Wind Direction 2011 at C46036\")\n",
    "WDir2011CPlot.set_xlabel('Date Time')\n",
    "WDir2011CPlot.set_ylabel('Wind Direction')\n",
    "plt.savefig('WDirCPlot2011.png')"
   ]
  },
  {
   "cell_type": "code",
   "execution_count": null,
   "metadata": {},
   "outputs": [],
   "source": [
    "WS2011CPlot = df_WD2011C.plot(kind='line',color='black', y='Wind Speed')\n",
    "WS2011CPlot.set_title(\"Wind Speed 2011 at C46036\")\n",
    "WS2011CPlot.set_xlabel('Date Time')\n",
    "WS2011CPlot.set_ylabel('Wind Speed (m/s)')\n",
    "plt.savefig('WSCPlot2011.png')"
   ]
  },
  {
   "cell_type": "code",
   "execution_count": null,
   "metadata": {},
   "outputs": [],
   "source": [
    "WGS2011CPlot = df_WD2011C.plot(kind='line',color='black', y='Wind Gust Speed')\n",
    "WGS2011CPlot.set_title(\"Wind Gust Speed 2011 at C46036\")\n",
    "WGS2011CPlot.set_xlabel('Date Time')\n",
    "WGS2011CPlot.set_ylabel('Wind Gust Speed (m/s)')\n",
    "plt.savefig('WGSCPlot2011.png')"
   ]
  },
  {
   "cell_type": "code",
   "execution_count": null,
   "metadata": {},
   "outputs": [],
   "source": [
    "AP2011CPlot = df_WD2011C.plot(kind='line',color='black', y='Atmospheric Pressure')\n",
    "AP2011CPlot.set_title(\"Atmospheric Pressure 2011 at C46036\")\n",
    "AP2011CPlot.set_xlabel('Date Time')\n",
    "AP2011CPlot.set_ylabel('Atmospheric Pressure')\n",
    "plt.savefig('APCPlot2011.png')"
   ]
  },
  {
   "cell_type": "code",
   "execution_count": null,
   "metadata": {},
   "outputs": [],
   "source": [
    "AT2011CPlot = df_WD2011C.plot(kind='line',color='black', y='Air Temperature')\n",
    "AT2011CPlot.set_title(\"Air Temperature 2011 at C46036\")\n",
    "AT2011CPlot.set_xlabel('Date Time')\n",
    "AT2011CPlot.set_ylabel('Air Temperature')\n",
    "plt.savefig('ATCPlot2011.png')"
   ]
  },
  {
   "cell_type": "markdown",
   "metadata": {},
   "source": [
    "Weather Data 2010 Tillamook"
   ]
  },
  {
   "cell_type": "code",
   "execution_count": null,
   "metadata": {},
   "outputs": [],
   "source": [
    "WDir2010TPlot = df_WD2010T.plot(kind='line',color='black', y='Wind Direction')\n",
    "WDir2010TPlot.set_title(\"Wind Direction 2010 at Tillamook\")\n",
    "WDir2010TPlot.set_xlabel('Date Time')\n",
    "WDir2010TPlot.set_ylabel('Wind Direction')\n",
    "plt.savefig('WDirTPlot2010.png')"
   ]
  },
  {
   "cell_type": "code",
   "execution_count": null,
   "metadata": {},
   "outputs": [],
   "source": [
    "WS2010TPlot = df_WD2010T.plot(kind='line',color='black', y='Wind Speed')\n",
    "WS2010TPlot.set_title(\"Wind Speed 2010 at Tillamook\")\n",
    "WS2010TPlot.set_xlabel('Date Time')\n",
    "WS2010TPlot.set_ylabel('Wind Speed (m/s)')\n",
    "plt.savefig('WSTPlot2010.png')"
   ]
  },
  {
   "cell_type": "code",
   "execution_count": null,
   "metadata": {},
   "outputs": [],
   "source": [
    "WGS2010TPlot = df_WD2010T.plot(kind='line',color='black', y='Wind Gust Speed')\n",
    "WGS2010TPlot.set_title(\"Wind Gust Speed 2010 at Tillamook\")\n",
    "WGS2010TPlot.set_xlabel('Date Time')\n",
    "WGS2010TPlot.set_ylabel('Wind Gust Speed (m/s)')\n",
    "plt.savefig('WGSTPlot2010.png')"
   ]
  },
  {
   "cell_type": "code",
   "execution_count": null,
   "metadata": {},
   "outputs": [],
   "source": [
    "AT2010TPlot = df_WD2010T.plot(kind='line',color='black', y='Air Temperature')\n",
    "AT2010TPlot.set_title(\"Air Temperature 2010 at Tillamook\")\n",
    "AT2010TPlot.set_xlabel('Date Time')\n",
    "AT2010TPlot.set_ylabel('Air Temperature')\n",
    "plt.savefig('ATTPlot2010.png')"
   ]
  },
  {
   "cell_type": "markdown",
   "metadata": {},
   "source": [
    "Weather Data 2011 Tillamook"
   ]
  },
  {
   "cell_type": "code",
   "execution_count": null,
   "metadata": {},
   "outputs": [],
   "source": [
    "WDir2011TPlot = df_WD2011T.plot(kind='line',color='black', y='Wind Direction')\n",
    "WDir2011TPlot.set_title(\"Wind Direction 2011 at Tillamook\")\n",
    "WDir2011TPlot.set_xlabel('Date Time')\n",
    "WDir2011TPlot.set_ylabel('Wind Direction')\n",
    "plt.savefig('WDirTPlot2011.png')"
   ]
  },
  {
   "cell_type": "code",
   "execution_count": null,
   "metadata": {},
   "outputs": [],
   "source": [
    "WS2011TPlot = df_WD2011T.plot(kind='line',color='black', y='Wind Speed')\n",
    "WS2011TPlot.set_title(\"Wind Speed 2011 at Tillamook\")\n",
    "WS2011TPlot.set_xlabel('Date Time')\n",
    "WS2011TPlot.set_ylabel('Wind Speed (m/s)')\n",
    "plt.savefig('WSTPlot2011.png')"
   ]
  },
  {
   "cell_type": "code",
   "execution_count": null,
   "metadata": {},
   "outputs": [],
   "source": [
    "WGS2011TPlot = df_WD2011T.plot(kind='line',color='black', y='Wind Gust Speed')\n",
    "WGS2011TPlot.set_title(\"Wind Gust Speed 2011 at Tillamook\")\n",
    "WGS2011TPlot.set_xlabel('Date Time')\n",
    "WGS2011TPlot.set_ylabel('Wind Gust Speed (m/s)')\n",
    "plt.savefig('WGSTPlot2011.png')"
   ]
  },
  {
   "cell_type": "code",
   "execution_count": null,
   "metadata": {},
   "outputs": [],
   "source": [
    "AT2011TPlot = df_WD2011T.plot(kind='line',color='black', y='Air Temperature')\n",
    "AT2011TPlot.set_title(\"Air Temperature 2011 at Tillamook\")\n",
    "AT2011TPlot.set_xlabel('Date Time')\n",
    "AT2011TPlot.set_ylabel('Air Temperature')\n",
    "plt.savefig('ATTPlot2011.png')"
   ]
  },
  {
   "cell_type": "code",
   "execution_count": null,
   "metadata": {},
   "outputs": [],
   "source": []
  }
 ],
 "metadata": {
  "kernelspec": {
   "display_name": "Python 3",
   "language": "python",
   "name": "python3"
  },
  "language_info": {
   "codemirror_mode": {
    "name": "ipython",
    "version": 3
   },
   "file_extension": ".py",
   "mimetype": "text/x-python",
   "name": "python",
   "nbconvert_exporter": "python",
   "pygments_lexer": "ipython3",
   "version": "3.7.3"
  }
 },
 "nbformat": 4,
 "nbformat_minor": 4
}
