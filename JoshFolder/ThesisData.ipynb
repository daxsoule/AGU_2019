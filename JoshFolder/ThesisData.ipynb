{
 "cells": [
  {
   "cell_type": "markdown",
   "metadata": {},
   "source": [
    "# Thesis Data 2010-2012"
   ]
  },
  {
   "cell_type": "code",
   "execution_count": null,
   "metadata": {},
   "outputs": [],
   "source": [
    "import numpy as np\n",
    "import matplotlib.dates\n",
    "import matplotlib.pyplot as plt\n",
    "%matplotlib inline\n",
    "from mpl_toolkits import mplot3d\n",
    "import pandas as pd\n",
    "from datetime import datetime\n",
    "import seaborn as sns\n",
    "import hvplot.pandas\n",
    "import holoviews as hv\n",
    "from holoviews import dim, opts\n",
    "hv.extension('bokeh')"
   ]
  },
  {
   "cell_type": "markdown",
   "metadata": {},
   "source": [
    "**1. inclination - angle from the vertical (positive z-axis)**\n",
    "\n",
    "**2. azimuth - counterclockwise angle from the postive x-axis (standard for polar coordinate systems)**"
   ]
  },
  {
   "cell_type": "markdown",
   "metadata": {},
   "source": [
    "## Gather Data:\n",
    "\n",
    "**2010**"
   ]
  },
  {
   "cell_type": "code",
   "execution_count": null,
   "metadata": {},
   "outputs": [],
   "source": [
    "path = '/home/jovyan/data/covis_data/recomputed/angles_partialpts_2010.csv' \n",
    "df_rc2010 = pd.read_csv(path, sep=\",\")\n",
    "df_rc2010['year'] = '2010'\n",
    "df_rc2010['datetime'] = pd.to_datetime(df_rc2010.year, format='%Y') + pd.to_timedelta(df_rc2010.date - 1, unit='d')\n",
    "df_rc2010['datetime'] = df_rc2010['datetime'].dt.round('1s')\n",
    "df_rc2010 = df_rc2010.set_index('datetime')\n",
    "df_rc2010.drop(['date', 'year'], axis=1,inplace=True)\n",
    "df_rc2010 = df_rc2010.rename_axis(None)\n",
    "#fix for azimuth angle, 90 - azimuth then recomputation for any values that aren't in between 0 and 360 \n",
    "df_rc2010['azimuth2'] = df_rc2010.azimuth.rsub(90)\n",
    "mask = (df_rc2010['azimuth2'] < 0) \n",
    "df_rc2010.azimuth2[mask]=df_rc2010.azimuth2[mask]+360\n",
    "df_rc2010['azirads'] = df_rc2010['azimuth']*(np.pi/180)\n",
    "df_rc2010['incrads'] = df_rc2010['inclination']*(np.pi/180)\n",
    "r = df_rc2010['r_value'] = 1\n",
    "theta = df_rc2010['incrads']\n",
    "phi = df_rc2010['azirads']\n",
    "df_rc2010['rc_north'] = r * np.sin(theta) * np.cos(phi)\n",
    "df_rc2010['rc_east'] = r * np.sin(theta) * np.sin(phi)\n",
    "df_rc2010.drop(['r_value'], axis=1,inplace=True)\n",
    "df_rc2010 = df_rc2010.resample('h').mean()\n",
    "df_rc2010"
   ]
  },
  {
   "cell_type": "code",
   "execution_count": null,
   "metadata": {},
   "outputs": [],
   "source": [
    "path = '/home/jovyan/data/covis_data/data2012/T2010.csv' \n",
    "df_wd2010T = pd.read_csv(path, sep=\",\")\n",
    "df_wd2010T['year'] = '2010'\n",
    "df_wd2010T['year']= df_wd2010T['year'].astype(int).astype(str)\n",
    "df_wd2010T['month']= df_wd2010T['month'].astype(int).astype(str).str.pad(width=2, side='left', fillchar='0')\n",
    "df_wd2010T['day']= df_wd2010T['day'].astype(int).astype(str).str.pad(width=2, side='left', fillchar='0')\n",
    "df_wd2010T['hour']= df_wd2010T['hour'].astype(int).astype(str).str.pad(width=2, side='left', fillchar='0')\n",
    "df_wd2010T['minute']= df_wd2010T['minute'].astype(int).astype(str).str.pad(width=2, side='left', fillchar='0')\n",
    "df_wd2010T['datetime'] = df_wd2010T['year'] + df_wd2010T['month'] + df_wd2010T['day'] +\\\n",
    "'T' + df_wd2010T['hour']+ ':' + df_wd2010T['minute']\n",
    "df_wd2010T['datetime'] = pd.to_datetime(df_wd2010T['datetime'])\n",
    "df_wd2010T = df_wd2010T.set_index('datetime')\n",
    "df_wd2010T = df_wd2010T[['wnd_dir','wnd_spd','wnd_gspd','wv_height','dom_wvp','av_wvp','mwd','atm_prs','air_temp','dew_temp','vis','tide']]\n",
    "df_wd2010T = df_wd2010T.rename_axis(None)\n",
    "df_wd2010T['wndrads'] = df_wd2010T['wnd_dir']*(np.pi/180)\n",
    "r = df_wd2010T['r_value'] = 1\n",
    "theta = df_wd2010T['wndrads']\n",
    "phi = df_wd2010T['wndrads']\n",
    "df_wd2010T['wd_north'] = r * np.sin(theta) * np.cos(phi)\n",
    "df_wd2010T['wd_east'] = r * np.sin(theta) * np.sin(phi)\n",
    "df_wd2010T.drop(['r_value','dom_wvp','av_wvp','mwd','dew_temp','vis','tide'], axis=1, inplace=True)\n",
    "df_wd2010T = df_wd2010T.resample('h').mean()\n",
    "df_wd2010T.head()"
   ]
  },
  {
   "cell_type": "code",
   "execution_count": null,
   "metadata": {},
   "outputs": [],
   "source": [
    "D2010 = pd.merge(df_rc2010, df_wd2010T,how='inner', indicator=True, left_index=True, right_index=True,\\\n",
    "                 suffixes=('_B', '_G'))\n",
    "df_D2010 = pd.DataFrame()\n",
    "df_D2010 = D2010[D2010['_merge'] == 'both']\n",
    "del df_D2010['_merge']\n",
    "df_D2010"
   ]
  },
  {
   "cell_type": "code",
   "execution_count": null,
   "metadata": {},
   "outputs": [],
   "source": [
    "path = '/home/jovyan/data/covis_data/mooring_data/MooringNE_005mab_CurrentMeter_2010_python.csv'\n",
    "df_NE_005mab2010 = pd.read_csv(path, sep=\",\")\n",
    "df_NE_005mab2010['datetime'] = matplotlib.dates.num2date(df_NE_005mab2010['time'], tz=None)\n",
    "df_NE_005mab2010 = df_NE_005mab2010.set_index('datetime')\n",
    "df_NE_005mab2010 = df_NE_005mab2010.resample('T').mean()\n",
    "df_NE_005mab2010.drop(['time'], axis=1,inplace=True)\n",
    "df_NE_005mab2010['angle'] = np.arctan2(df_NE_005mab2010['current_nc'],df_NE_005mab2010['current_ec'])\n",
    "df_NE_005mab2010['angle'] = np.degrees(df_NE_005mab2010['angle'])\n",
    "#fix for angle, 90 - angle then recomputation for any values that aren't in between 0 and 360 \n",
    "df_NE_005mab2010['angle2'] = 90 - df_NE_005mab2010['angle'] \n",
    "mask = (df_NE_005mab2010['angle2'] < 0) \n",
    "df_NE_005mab2010.angle2[mask]=df_NE_005mab2010.angle2[mask]+360\n",
    "df_NE_005mab2010.head()"
   ]
  },
  {
   "cell_type": "code",
   "execution_count": null,
   "metadata": {},
   "outputs": [],
   "source": [
    "path = '/home/jovyan/data/covis_data/mooring_data/MooringNE_050mab_CurrentMeter_2010_python.csv'\n",
    "df_NE_050mab2010 = pd.read_csv(path, sep=\",\")\n",
    "df_NE_050mab2010['datetime'] = matplotlib.dates.num2date(df_NE_050mab2010['time'], tz=None)\n",
    "df_NE_050mab2010 = df_NE_050mab2010.set_index('datetime')\n",
    "df_NE_050mab2010 = df_NE_050mab2010.resample('T').mean()\n",
    "df_NE_050mab2010.drop(['time'], axis=1,inplace=True)\n",
    "df_NE_050mab2010['angle'] = np.arctan2(df_NE_050mab2010['current_nc'],df_NE_050mab2010['current_ec'])\n",
    "df_NE_050mab2010['angle'] = np.degrees(df_NE_050mab2010['angle'])\n",
    "df_NE_050mab2010['angle2'] = 90 - df_NE_050mab2010['angle'] \n",
    "mask = (df_NE_050mab2010['angle2'] < 0) \n",
    "df_NE_050mab2010.angle2[mask]=df_NE_050mab2010.angle2[mask]+360\n",
    "df_NE_050mab2010.head()"
   ]
  },
  {
   "cell_type": "markdown",
   "metadata": {},
   "source": [
    "**2011**"
   ]
  },
  {
   "cell_type": "code",
   "execution_count": null,
   "metadata": {},
   "outputs": [],
   "source": [
    "path = '/home/jovyan/data/covis_data/recomputed/angles_partialpts_2011.csv' \n",
    "df_rc2011 = pd.read_csv(path, sep=\",\")\n",
    "df_rc2011['year'] = '2011'\n",
    "df_rc2011['datetime'] = pd.to_datetime(df_rc2011.year, format='%Y') + pd.to_timedelta(df_rc2011.date - 1, unit='d')\n",
    "df_rc2011['datetime'] = df_rc2011['datetime'].dt.round('1s')\n",
    "df_rc2011 = df_rc2011.set_index('datetime')\n",
    "df_rc2011.drop(['date', 'year'], axis=1,inplace=True)\n",
    "df_rc2011 = df_rc2011.rename_axis(None)\n",
    "#fix for azimuth angle, 90 - azimuth then recomputation for any values that aren't in between 0 and 360 \n",
    "df_rc2011['azimuth2'] = df_rc2011.azimuth.rsub(90)\n",
    "mask = (df_rc2011['azimuth2'] < 0) \n",
    "df_rc2011.azimuth2[mask]=df_rc2011.azimuth2[mask]+360\n",
    "df_rc2011['azirads'] = df_rc2011['azimuth']*(np.pi/180)\n",
    "df_rc2011['incrads'] = df_rc2011['inclination']*(np.pi/180)\n",
    "r = df_rc2011['r_value'] = 1\n",
    "theta = df_rc2011['azimuth']\n",
    "phi = df_rc2011['inclination']\n",
    "df_rc2011['rc_north'] = r * np.sin(theta) * np.cos(phi)\n",
    "df_rc2011['rc_east'] = r * np.sin(theta) * np.sin(phi)\n",
    "df_rc2011.drop(['r_value'], axis=1, inplace=True)\n",
    "df_rc2011 = df_rc2011.resample('h').mean()\n",
    "df_rc2011.head()"
   ]
  },
  {
   "cell_type": "code",
   "execution_count": null,
   "metadata": {},
   "outputs": [],
   "source": [
    "path = '/home/jovyan/data/covis_data/data2012/T2011.csv' \n",
    "df_wd2011T = pd.read_csv(path, sep=\",\")\n",
    "df_wd2011T['year'] = '2011'\n",
    "df_wd2011T['year']= df_wd2011T['year'].astype(int).astype(str)\n",
    "df_wd2011T['month']= df_wd2011T['month'].astype(int).astype(str).str.pad(width=2, side='left', fillchar='0')\n",
    "df_wd2011T['day']= df_wd2011T['day'].astype(int).astype(str).str.pad(width=2, side='left', fillchar='0')\n",
    "df_wd2011T['hour']= df_wd2011T['hour'].astype(int).astype(str).str.pad(width=2, side='left', fillchar='0')\n",
    "df_wd2011T['minute']= df_wd2011T['minute'].astype(int).astype(str).str.pad(width=2, side='left', fillchar='0')\n",
    "df_wd2011T['datetime'] = df_wd2011T['year'] + df_wd2011T['month'] + df_wd2011T['day'] +\\\n",
    "'T' + df_wd2011T['hour']+ ':' + df_wd2011T['minute']\n",
    "df_wd2011T['datetime'] = pd.to_datetime(df_wd2011T['datetime'])\n",
    "df_wd2011T = df_wd2011T.set_index('datetime')\n",
    "df_wd2011T = df_wd2011T[['wnd_dir','wnd_spd','wnd_gspd','wv_height','dom_wvp','av_wvp','mwd','atm_prs','air_temp','dew_temp','vis','tide']]\n",
    "df_wd2011T = df_wd2011T.rename_axis(None)\n",
    "df_wd2011T['wndrads'] = df_wd2011T['wnd_dir']*(np.pi/180)\n",
    "r = df_wd2011T['r_value'] = 1\n",
    "theta = df_wd2011T['wndrads']\n",
    "phi = df_wd2011T['wndrads']\n",
    "df_wd2011T['wd_north'] = r * np.sin(theta) * np.cos(phi)\n",
    "df_wd2011T['wd_east'] = r * np.sin(theta) * np.sin(phi)\n",
    "df_wd2011T.drop(['r_value','dom_wvp','av_wvp','mwd','dew_temp','vis','tide'], axis=1, inplace=True)\n",
    "df_wd2011T = df_wd2011T.resample('h').mean()\n",
    "df_wd2011T.head()"
   ]
  },
  {
   "cell_type": "code",
   "execution_count": null,
   "metadata": {},
   "outputs": [],
   "source": [
    "D2011 = pd.merge(df_rc2011, df_wd2011T,how='inner', indicator=True, left_index=True, right_index=True, suffixes=('_B', '_G'))\n",
    "df_D2011 = pd.DataFrame()\n",
    "df_D2011 = D2011[D2011['_merge'] == 'both']\n",
    "del df_D2011['_merge']\n",
    "df_D2011"
   ]
  },
  {
   "cell_type": "code",
   "execution_count": null,
   "metadata": {},
   "outputs": [],
   "source": [
    "df_2_D2011 = df_D2011['2011-9-29 00:00:00' : \"2011-10-25 23:59:00\"]\n",
    "df_2_D2011"
   ]
  },
  {
   "cell_type": "code",
   "execution_count": null,
   "metadata": {},
   "outputs": [],
   "source": [
    "path = '/home/jovyan/data/covis_data/mooring_data/MooringNE_005mab_CurrentMeter_2011_python_test2.csv'\n",
    "df_NE_005mab2011 = pd.read_csv(path, sep=\",\")\n",
    "df_NE_005mab2011['datetime'] = matplotlib.dates.num2date(df_NE_005mab2011['time'], tz=None)\n",
    "df_NE_005mab2011 = df_NE_005mab2011.set_index('datetime')\n",
    "df_NE_005mab2011 = df_NE_005mab2011.resample('T').mean()\n",
    "df_NE_005mab2011.drop(['time'], axis=1,inplace=True)\n",
    "df_NE_005mab2011['angle'] = np.arctan2(df_NE_005mab2011['current_nc'],df_NE_005mab2011['current_ec'])\n",
    "df_NE_005mab2011['angle'] = np.degrees(df_NE_005mab2011['angle'])\n",
    "#fix for angle, 90 - angle then recomputation for any values that aren't in between 0 and 360 \n",
    "df_NE_005mab2011['angle2'] = 90 - df_NE_005mab2011['angle'] \n",
    "mask = (df_NE_005mab2011['angle2'] < 0) \n",
    "df_NE_005mab2011.angle2[mask]=df_NE_005mab2011.angle2[mask]+360\n",
    "df_NE_005mab2011 = df_NE_005mab2011['2011-09-27 00:00:00+00:00' : \"2011-12-31 23:59:00+00:00\"]\n",
    "df_NE_005mab2011"
   ]
  },
  {
   "cell_type": "code",
   "execution_count": null,
   "metadata": {},
   "outputs": [],
   "source": [
    "path = '/home/jovyan/data/covis_data/mooring_data/MooringNE_050mab_CurrentMeter_2011_python_test2.csv'\n",
    "df_NE_050mab2011 = pd.read_csv(path, sep=\",\")\n",
    "df_NE_050mab2011['datetime'] = matplotlib.dates.num2date(df_NE_050mab2011['time'], tz=None)\n",
    "df_NE_050mab2011 = df_NE_050mab2011.set_index('datetime')\n",
    "df_NE_050mab2011 = df_NE_050mab2011.resample('T').mean()\n",
    "df_NE_050mab2011.drop(['time'], axis=1,inplace=True)\n",
    "df_NE_050mab2011['angle'] = np.arctan2(df_NE_050mab2011['current_nc'],df_NE_050mab2011['current_ec'])\n",
    "df_NE_050mab2011['angle'] = np.degrees(df_NE_050mab2011['angle'])\n",
    "#fix for angle, 90 - angle then recomputation for any values that aren't in between 0 and 360 \n",
    "df_NE_050mab2011['angle2'] = 90 - df_NE_050mab2011['angle'] \n",
    "mask = (df_NE_050mab2011['angle2'] < 0) \n",
    "df_NE_050mab2011.angle2[mask]=df_NE_050mab2011.angle2[mask]+360\n",
    "df_NE_050mab2011 = df_NE_050mab2011['2011-09-27 00:00:00+00:00' : '2011-12-31 23:59:00+00:00']\n",
    "df_NE_050mab2011.head()"
   ]
  },
  {
   "cell_type": "markdown",
   "metadata": {},
   "source": [
    "**2012**"
   ]
  },
  {
   "cell_type": "code",
   "execution_count": null,
   "metadata": {},
   "outputs": [],
   "source": [
    "path = '/home/jovyan/data/covis_data/data2012/T2012.csv' \n",
    "df_wd2012T = pd.read_csv(path, sep=\",\")\n",
    "df_wd2012T['year'] = '2012'\n",
    "df_wd2012T['year']= df_wd2012T['year'].astype(int).astype(str)\n",
    "df_wd2012T['month']= df_wd2012T['month'].astype(int).astype(str).str.pad(width=2, side='left', fillchar='0')\n",
    "df_wd2012T['day']= df_wd2012T['day'].astype(int).astype(str).str.pad(width=2, side='left', fillchar='0')\n",
    "df_wd2012T['hour']= df_wd2012T['hour'].astype(int).astype(str).str.pad(width=2, side='left', fillchar='0')\n",
    "df_wd2012T['minute']= df_wd2012T['minute'].astype(int).astype(str).str.pad(width=2, side='left', fillchar='0')\n",
    "df_wd2012T['datetime'] = df_wd2012T['year'] + df_wd2012T['month'] + df_wd2012T['day'] +\\\n",
    "'T' + df_wd2012T['hour']+ ':' + df_wd2012T['minute']\n",
    "df_wd2012T['datetime'] = pd.to_datetime(df_wd2012T['datetime'])\n",
    "df_wd2012T = df_wd2012T.set_index('datetime')\n",
    "df_wd2012T = df_wd2012T[['wnd_dir','wnd_spd','wnd_gspd','wv_height','dom_wvp','av_wvp','mwd','atm_prs','air_temp','dew_temp','vis','tide']]\n",
    "df_wd2012T = df_wd2012T.rename_axis(None)\n",
    "df_wd2012T['wndrads'] = df_wd2012T['wnd_dir']*(np.pi/180)\n",
    "r = df_wd2012T['r_value'] = 1\n",
    "theta = df_wd2012T['wndrads']\n",
    "phi = df_wd2012T['wndrads']\n",
    "df_wd2012T['wd_north'] = r * np.sin(theta) * np.cos(phi)\n",
    "df_wd2012T['wd_east'] = r * np.sin(theta) * np.sin(phi)\n",
    "df_wd2012T.drop(['r_value','dom_wvp','av_wvp','mwd','dew_temp','vis','tide'], axis=1, inplace=True)\n",
    "df_wd2012T = df_wd2012T.resample('h').mean()\n",
    "df_wd2012T.head()"
   ]
  },
  {
   "cell_type": "code",
   "execution_count": null,
   "metadata": {},
   "outputs": [],
   "source": [
    "#Sept/Oct\n",
    "path = '/home/jovyan/data/covis_data/data2012/sepoctangles.csv' \n",
    "df_sepoct2012 = pd.read_csv(path, sep=\",\")\n",
    "df_sepoct2012['year'] = '2012'\n",
    "df_sepoct2012['datetime'] = pd.to_datetime(df_sepoct2012.year, format='%Y') + pd.to_timedelta(df_sepoct2012.date - 1, unit='d')\n",
    "df_sepoct2012['datetime'] = df_sepoct2012['datetime'].dt.round('1s')\n",
    "df_sepoct2012 = df_sepoct2012.set_index('datetime')\n",
    "df_sepoct2012.drop(['date', 'year','minimum', 'maximum', 'sum1', 'sum2'], axis=1,inplace=True)\n",
    "df_sepoct2012 = df_sepoct2012.rename_axis(None)\n",
    "#fix for azimuth angle, 90 - azimuth then recomputation for any values that aren't in between 0 and 360 \n",
    "df_sepoct2012.azimuth = df_sepoct2012.azimuth.rsub(90)\n",
    "df_sepoct2012['azimuth'] %= 360 \n",
    "df_sepoct2012['azirads'] = df_sepoct2012['azimuth']*(np.pi/180)\n",
    "df_sepoct2012['incrads'] = df_sepoct2012['inclination']*(np.pi/180)\n",
    "r = df_sepoct2012['r_value'] = 1\n",
    "theta = df_sepoct2012['azimuth']\n",
    "phi = df_sepoct2012['inclination']\n",
    "df_sepoct2012['rc_north'] = r * np.sin(theta) * np.cos(phi)\n",
    "df_sepoct2012['rc_east'] = r * np.sin(theta) * np.sin(phi)\n",
    "df_sepoct2012.drop(['r_value'], axis=1, inplace=True)\n",
    "df_sepoct2012 = df_sepoct2012.resample('h').mean()\n",
    "df_sepoct2012.head()"
   ]
  },
  {
   "cell_type": "code",
   "execution_count": null,
   "metadata": {},
   "outputs": [],
   "source": [
    "df_sepoctwd2012T = df_wd2012T['2012-09-01 00:00:00' : \"2012-10-31 23:59:00\"]\n",
    "df_sepoctwd2012T.head()"
   ]
  },
  {
   "cell_type": "code",
   "execution_count": null,
   "metadata": {},
   "outputs": [],
   "source": [
    "sepoct2012T = pd.merge(df_sepoct2012, df_sepoctwd2012T,how='inner', indicator=True, left_index=True, right_index=True, suffixes=('_B', '_G'))\n",
    "df_sepoct2012T = pd.DataFrame()\n",
    "df_sepoct2012T = sepoct2012T[sepoct2012T['_merge'] == 'both']\n",
    "del df_sepoct2012T['_merge']\n",
    "df_sepoct2012T.head()"
   ]
  },
  {
   "cell_type": "code",
   "execution_count": null,
   "metadata": {},
   "outputs": [],
   "source": [
    "#Nov/Dec\n",
    "path = '/home/jovyan/data/covis_data/data2012/novdecangles.csv' \n",
    "df_novdec2012 = pd.read_csv(path, sep=\",\")\n",
    "df_novdec2012['year'] = '2012'\n",
    "df_novdec2012['datetime'] = pd.to_datetime(df_novdec2012.year, format='%Y') + pd.to_timedelta(df_novdec2012.date - 1, unit='d')\n",
    "df_novdec2012['datetime'] = df_novdec2012['datetime'].dt.round('1s')\n",
    "df_novdec2012 = df_novdec2012.set_index('datetime')\n",
    "df_novdec2012.drop(['date', 'year','minimum','maximum','sum1','sum2'], axis=1,inplace=True)\n",
    "df_novdec2012 = df_novdec2012.rename_axis(None)\n",
    "#fix for azimuth angle, 90 - azimuth then recomputation for any values that aren't in between 0 and 360 \n",
    "df_novdec2012.azimuth = df_novdec2012.azimuth.rsub(90)\n",
    "df_novdec2012['azimuth'] %= 360 \n",
    "df_novdec2012['azirads'] = df_novdec2012['azimuth']*(np.pi/180)\n",
    "df_novdec2012['incrads'] = df_novdec2012['inclination']*(np.pi/180)\n",
    "r = df_novdec2012['r_value'] = 1\n",
    "theta = df_novdec2012['azimuth']\n",
    "phi = df_novdec2012['inclination']\n",
    "df_novdec2012['rc_north'] = r * np.sin(theta) * np.cos(phi)\n",
    "df_novdec2012['rc_east'] = r * np.sin(theta) * np.sin(phi)\n",
    "df_novdec2012.drop(['r_value'], axis=1, inplace=True)\n",
    "df_novdec2012 = df_novdec2012.resample('h').mean()\n",
    "df_novdec2012.head()"
   ]
  },
  {
   "cell_type": "code",
   "execution_count": null,
   "metadata": {},
   "outputs": [],
   "source": [
    "df_novdecwd2012T = df_wd2012T['2012-11-01 00:00:00' : \"2012-12-31 23:59:00\"]\n",
    "df_novdecwd2012T.head()"
   ]
  },
  {
   "cell_type": "code",
   "execution_count": null,
   "metadata": {},
   "outputs": [],
   "source": [
    "novdec2012T = pd.merge(df_novdec2012, df_novdecwd2012T,how='inner', indicator=True, left_index=True, right_index=True, suffixes=('_B', '_G'))\n",
    "df_novdec2012T = pd.DataFrame()\n",
    "df_novdec2012T = novdec2012T[novdec2012T['_merge'] == 'both']\n",
    "del df_novdec2012T['_merge']\n",
    "df_novdec2012T.head()"
   ]
  },
  {
   "cell_type": "code",
   "execution_count": null,
   "metadata": {},
   "outputs": [],
   "source": [
    "df_D2012 = df_sepoct2012T.append(df_novdec2012T)\n",
    "df_D2012"
   ]
  },
  {
   "cell_type": "code",
   "execution_count": null,
   "metadata": {},
   "outputs": [],
   "source": [
    "df_2_D2012 = df_D2012['2012-9-29 00:00:00' : \"2012-10-25 23:59:00\"]"
   ]
  },
  {
   "cell_type": "markdown",
   "metadata": {},
   "source": [
    "## Make Figures:\n",
    "\n",
    "**Histograms**"
   ]
  },
  {
   "cell_type": "code",
   "execution_count": null,
   "metadata": {},
   "outputs": [],
   "source": [
    "x1 = df_D2010['inclination']\n",
    "x2 = df_D2011['inclination']\n",
    "x3 = df_D2012['inclination']\n",
    "\n",
    "colors = ['gold', 'orange','blue']\n",
    "names = ['2010', '2011', '2012']\n",
    "\n",
    "plt.hist([x1, x2, x3], bins = int(360/15), density=True,\n",
    "         color = colors, label=names, rwidth = 1)\n",
    "\n",
    "plt.legend()\n",
    "plt.xlabel('Inclination')\n",
    "plt.ylabel('Normalized Frequency')\n",
    "plt.title('2010-2012 Inclination')\n",
    "plt.savefig('/home/jovyan/Repos/AGU_2019/JoshFolder/ThesisFigs/HistInc', dpi=300)\n",
    "plt.show()"
   ]
  },
  {
   "cell_type": "code",
   "execution_count": null,
   "metadata": {},
   "outputs": [],
   "source": [
    "df_D2010['inclination_category'] = pd.cut(df_D2010['inclination'], bins=[0, 10, 40, 100], include_lowest=True, labels=['vertical', 'ordinary', 'extreme'])\n",
    "df_D2010.hvplot.hist(y='inclination', by='inclination_category', title='Oct 2010', bin_range=(0,95)).opts(fontsize={'xticks': 12.5, 'yticks': 12.5, 'title': 12.5})"
   ]
  },
  {
   "cell_type": "code",
   "execution_count": null,
   "metadata": {},
   "outputs": [],
   "source": [
    "df_D2011['inclination_category'] = pd.cut(df_D2011['inclination'], bins=[0, 10, 40, 100], include_lowest=True, labels=['vertical', 'ordinary', 'extreme'])\n",
    "df_D2011.hvplot.hist(y='inclination', by='inclination_category', title='Oct-Dec 2011', bin_range=(0,95)).opts(fontsize={'xticks': 12.5, 'yticks': 12.5, 'title': 12.5})"
   ]
  },
  {
   "cell_type": "code",
   "execution_count": null,
   "metadata": {},
   "outputs": [],
   "source": [
    "df_D2012['inclination_category'] = pd.cut(df_D2012['inclination'], bins=[0, 10, 40, 100], include_lowest=True, labels=['vertical', 'ordinary', 'extreme'])\n",
    "df_D2012.hvplot.hist(y='inclination', by='inclination_category', title='Oct-Dec 2012', bin_range=(0, 95)).opts(fontsize={'xticks': 12.5, 'yticks': 12.5, 'title': 12.5})"
   ]
  },
  {
   "cell_type": "code",
   "execution_count": null,
   "metadata": {},
   "outputs": [],
   "source": [
    "df_2_D2011['inclination_category'] = pd.cut(df_2_D2011['inclination'], bins=[0, 10, 40, 100], include_lowest=True, labels=['vertical', 'ordinary', 'extreme'])\n",
    "df_2_D2011.hvplot.hist(y='inclination', by='inclination_category', title='Oct 2011', bin_range=(0,95)).opts(fontsize={'xticks': 12.5, 'yticks': 12.5, 'title': 12.5})"
   ]
  },
  {
   "cell_type": "code",
   "execution_count": null,
   "metadata": {},
   "outputs": [],
   "source": [
    "df_2_D2012['inclination_category'] = pd.cut(df_2_D2012['inclination'], bins=[0, 10, 40, 100], include_lowest=True, labels=['vertical', 'ordinary', 'extreme'])\n",
    "df_2_D2012.hvplot.hist(y='inclination', by='inclination_category', title='Oct 2012', bin_range=(0, 95)).opts(fontsize={'xticks': 12.5, 'yticks': 12.5, 'title': 12.5})"
   ]
  },
  {
   "cell_type": "markdown",
   "metadata": {},
   "source": [
    "**Polar Plots (Azimuth)**"
   ]
  },
  {
   "cell_type": "code",
   "execution_count": null,
   "metadata": {},
   "outputs": [],
   "source": [
    "degrees = df_D2010['azimuth2'].values\n",
    "radians = np.deg2rad(degrees)\n",
    "\n",
    "bin_size = 2\n",
    "a , b=np.histogram(degrees, bins=np.arange(0, 360+bin_size, bin_size))\n",
    "centers = np.deg2rad(np.ediff1d(b)//2 + b[:-1])\n",
    "\n",
    "fig = plt.figure(figsize=(10,8))\n",
    "ax = fig.add_subplot(111, projection='polar')\n",
    "ax.bar(centers, a, width=np.deg2rad(bin_size), bottom=0.0, color='gold', edgecolor='k')\n",
    "ax.set_theta_zero_location(\"N\")\n",
    "ax.set_theta_direction(-1)\n",
    "plt.title('Azimuth 2010',fontsize='15')\n",
    "plt.rc('xtick', labelsize=20)\n",
    "plt.rc('ytick', labelsize=15)\n",
    "plt.savefig('/home/jovyan/Repos/AGU_2019/JoshFolder/ThesisFigs/azimuth2010')\n",
    "plt.show()"
   ]
  },
  {
   "cell_type": "code",
   "execution_count": null,
   "metadata": {},
   "outputs": [],
   "source": [
    "degrees = df_D2011['azimuth2'].values\n",
    "radians = np.deg2rad(degrees)\n",
    "\n",
    "bin_size = 2\n",
    "a , b=np.histogram(degrees, bins=np.arange(0, 360+bin_size, bin_size))\n",
    "centers = np.deg2rad(np.ediff1d(b)//2 + b[:-1])\n",
    "\n",
    "fig = plt.figure(figsize=(10,8))\n",
    "ax = fig.add_subplot(111, projection='polar')\n",
    "ax.bar(centers, a, width=np.deg2rad(bin_size), bottom=0.0, color='orange', edgecolor='k')\n",
    "ax.set_theta_zero_location(\"N\")\n",
    "ax.set_theta_direction(-1)\n",
    "plt.title('Azimuth 2011',fontsize='15')\n",
    "plt.rc('xtick', labelsize=20)\n",
    "plt.rc('ytick', labelsize=15)\n",
    "plt.savefig('/home/jovyan/Repos/AGU_2019/JoshFolder/ThesisFigs/azimuth2011')\n",
    "plt.show()"
   ]
  },
  {
   "cell_type": "code",
   "execution_count": null,
   "metadata": {},
   "outputs": [],
   "source": [
    "degrees = df_D2012['azimuth'].values\n",
    "radians = np.deg2rad(degrees)\n",
    "\n",
    "bin_size = 2\n",
    "a , b=np.histogram(degrees, bins=np.arange(0, 360+bin_size, bin_size))\n",
    "centers = np.deg2rad(np.ediff1d(b)//2 + b[:-1])\n",
    "\n",
    "fig = plt.figure(figsize=(10,8))\n",
    "ax = fig.add_subplot(111, projection='polar')\n",
    "ax.bar(centers, a, width=np.deg2rad(bin_size), bottom=0.0, color='cyan', edgecolor='k')\n",
    "ax.set_theta_zero_location(\"N\")\n",
    "ax.set_theta_direction(-1)\n",
    "plt.title('Azimuth 2012',fontsize='15')\n",
    "plt.rc('xtick', labelsize=20)\n",
    "plt.rc('ytick', labelsize=15)\n",
    "plt.savefig('/home/jovyan/Repos/AGU_2019/JoshFolder/ThesisFigs/azimuth2012')\n",
    "plt.show()"
   ]
  },
  {
   "cell_type": "markdown",
   "metadata": {},
   "source": [
    "**Polar Plots (Wind Direction)**"
   ]
  },
  {
   "cell_type": "code",
   "execution_count": null,
   "metadata": {},
   "outputs": [],
   "source": [
    "degrees = df_D2010['wnd_dir'].values\n",
    "radians = np.deg2rad(degrees)\n",
    "\n",
    "bin_size = 2\n",
    "a , b=np.histogram(degrees, bins=np.arange(0, 360+bin_size, bin_size))\n",
    "centers = np.deg2rad(np.ediff1d(b)//2 + b[:-1])\n",
    "\n",
    "fig = plt.figure(figsize=(10,8))\n",
    "ax = fig.add_subplot(111, projection='polar')\n",
    "ax.bar(centers, a, width=np.deg2rad(bin_size), bottom=0.0, color='gold', edgecolor='k')\n",
    "ax.set_theta_zero_location(\"N\")\n",
    "ax.set_theta_direction(-1)\n",
    "plt.title('Wind Direction 2010',fontsize='15')\n",
    "plt.rc('xtick', labelsize=20)\n",
    "plt.rc('ytick', labelsize=15)\n",
    "plt.savefig('/home/jovyan/Repos/AGU_2019/JoshFolder/ThesisFigs/wd2010')\n",
    "plt.show()"
   ]
  },
  {
   "cell_type": "code",
   "execution_count": null,
   "metadata": {},
   "outputs": [],
   "source": [
    "degrees = df_D2011['wnd_dir'].values\n",
    "radians = np.deg2rad(degrees)\n",
    "\n",
    "bin_size = 2\n",
    "a , b=np.histogram(degrees, bins=np.arange(0, 360+bin_size, bin_size))\n",
    "centers = np.deg2rad(np.ediff1d(b)//2 + b[:-1])\n",
    "\n",
    "fig = plt.figure(figsize=(10,8))\n",
    "ax = fig.add_subplot(111, projection='polar')\n",
    "ax.bar(centers, a, width=np.deg2rad(bin_size), bottom=0.0, color='orange', edgecolor='k')\n",
    "ax.set_theta_zero_location(\"N\")\n",
    "ax.set_theta_direction(-1)\n",
    "plt.title('Wind Direction 2011',fontsize='15')\n",
    "plt.rc('xtick', labelsize=20)\n",
    "plt.rc('ytick', labelsize=15)\n",
    "plt.savefig('/home/jovyan/Repos/AGU_2019/JoshFolder/ThesisFigs/wd2011')\n",
    "plt.show()"
   ]
  },
  {
   "cell_type": "code",
   "execution_count": null,
   "metadata": {},
   "outputs": [],
   "source": [
    "degrees = df_D2012['wnd_dir'].values\n",
    "radians = np.deg2rad(degrees)\n",
    "\n",
    "bin_size = 2\n",
    "a , b=np.histogram(degrees, bins=np.arange(0, 360+bin_size, bin_size))\n",
    "centers = np.deg2rad(np.ediff1d(b)//2 + b[:-1])\n",
    "\n",
    "fig = plt.figure(figsize=(10,8))\n",
    "ax = fig.add_subplot(111, projection='polar')\n",
    "ax.bar(centers, a, width=np.deg2rad(bin_size), bottom=0.0, color='cyan', edgecolor='k')\n",
    "ax.set_theta_zero_location(\"N\")\n",
    "ax.set_theta_direction(-1)\n",
    "plt.title('Wind Direction 2012',fontsize='15')\n",
    "plt.rc('xtick', labelsize=20)\n",
    "plt.rc('ytick', labelsize=15)\n",
    "plt.savefig('/home/jovyan/Repos/AGU_2019/JoshFolder/ThesisFigs/wd2012')\n",
    "plt.show()"
   ]
  },
  {
   "cell_type": "markdown",
   "metadata": {},
   "source": [
    "**Polar Plots (Mooring Angle)**"
   ]
  },
  {
   "cell_type": "code",
   "execution_count": null,
   "metadata": {},
   "outputs": [],
   "source": [
    "degrees = df_NE_005mab2010['angle2'].values\n",
    "radians = np.deg2rad(degrees)\n",
    "\n",
    "bin_size = 2\n",
    "a , b=np.histogram(degrees, bins=np.arange(0, 360+bin_size, bin_size))\n",
    "centers = np.deg2rad(np.ediff1d(b)//2 + b[:-1])\n",
    "\n",
    "fig = plt.figure(figsize=(10,8))\n",
    "ax = fig.add_subplot(111, projection='polar')\n",
    "ax.bar(centers, a, width=np.deg2rad(bin_size), bottom=0.0, color='gold', edgecolor='k')\n",
    "ax.set_theta_zero_location(\"N\")\n",
    "ax.set_theta_direction(-1)\n",
    "plt.title('005 Current Angle 2010',fontsize='15')\n",
    "plt.rc('xtick', labelsize=20)\n",
    "plt.rc('ytick', labelsize=15)\n",
    "plt.savefig('/home/jovyan/Repos/AGU_2019/JoshFolder/ThesisFigs/005_2010')\n",
    "plt.show()"
   ]
  },
  {
   "cell_type": "code",
   "execution_count": null,
   "metadata": {},
   "outputs": [],
   "source": [
    "degrees = df_NE_005mab2011['angle2'].values\n",
    "radians = np.deg2rad(degrees)\n",
    "\n",
    "bin_size = 2\n",
    "a , b=np.histogram(degrees, bins=np.arange(0, 360+bin_size, bin_size))\n",
    "centers = np.deg2rad(np.ediff1d(b)//2 + b[:-1])\n",
    "\n",
    "fig = plt.figure(figsize=(10,8))\n",
    "ax = fig.add_subplot(111, projection='polar')\n",
    "ax.bar(centers, a, width=np.deg2rad(bin_size), bottom=0.0, color='orange', edgecolor='k')\n",
    "ax.set_theta_zero_location(\"N\")\n",
    "ax.set_theta_direction(-1)\n",
    "plt.title('005 Current Angle 2011',fontsize='15')\n",
    "plt.rc('xtick', labelsize=20)\n",
    "plt.rc('ytick', labelsize=15)\n",
    "plt.savefig('/home/jovyan/Repos/AGU_2019/JoshFolder/ThesisFigs/005_2011')\n",
    "plt.show()"
   ]
  },
  {
   "cell_type": "code",
   "execution_count": null,
   "metadata": {},
   "outputs": [],
   "source": [
    "degrees = df_NE_050mab2010['angle2'].values\n",
    "radians = np.deg2rad(degrees)\n",
    "\n",
    "bin_size = 2\n",
    "a , b=np.histogram(degrees, bins=np.arange(0, 360+bin_size, bin_size))\n",
    "centers = np.deg2rad(np.ediff1d(b)//2 + b[:-1])\n",
    "\n",
    "fig = plt.figure(figsize=(10,8))\n",
    "ax = fig.add_subplot(111, projection='polar')\n",
    "ax.bar(centers, a, width=np.deg2rad(bin_size), bottom=0.0, color='gold', edgecolor='k')\n",
    "ax.set_theta_zero_location(\"N\")\n",
    "ax.set_theta_direction(-1)\n",
    "plt.title('050 Current Angle 2010',fontsize='15')\n",
    "plt.rc('xtick', labelsize=20)\n",
    "plt.rc('ytick', labelsize=15)\n",
    "plt.savefig('/home/jovyan/Repos/AGU_2019/JoshFolder/ThesisFigs/050_2010')\n",
    "plt.show()"
   ]
  },
  {
   "cell_type": "code",
   "execution_count": null,
   "metadata": {},
   "outputs": [],
   "source": [
    "degrees = df_NE_050mab2011['angle2'].values\n",
    "radians = np.deg2rad(degrees)\n",
    "\n",
    "bin_size = 2\n",
    "a , b=np.histogram(degrees, bins=np.arange(0, 360+bin_size, bin_size))\n",
    "centers = np.deg2rad(np.ediff1d(b)//2 + b[:-1])\n",
    "\n",
    "fig = plt.figure(figsize=(10,8))\n",
    "ax = fig.add_subplot(111, projection='polar')\n",
    "ax.bar(centers, a, width=np.deg2rad(bin_size), bottom=0.0, color='orange', edgecolor='k')\n",
    "ax.set_theta_zero_location(\"N\")\n",
    "ax.set_theta_direction(-1)\n",
    "plt.title('050 Current Angle 2011',fontsize='15')\n",
    "plt.rc('xtick', labelsize=20)\n",
    "plt.rc('ytick', labelsize=15)\n",
    "plt.savefig('/home/jovyan/Repos/AGU_2019/JoshFolder/ThesisFigs/050_2011')\n",
    "plt.show()"
   ]
  },
  {
   "cell_type": "markdown",
   "metadata": {},
   "source": [
    "**Polar Plots (Extremes)**"
   ]
  },
  {
   "cell_type": "code",
   "execution_count": null,
   "metadata": {},
   "outputs": [],
   "source": [
    "df_D2010ex=df_D2010.loc[df_D2010['inclination']>40]\n",
    "df_D2010ex"
   ]
  },
  {
   "cell_type": "code",
   "execution_count": null,
   "metadata": {},
   "outputs": [],
   "source": [
    "df_D2011ex=df_D2011.loc[df_D2011['inclination']>40]\n",
    "df_D2011ex"
   ]
  },
  {
   "cell_type": "code",
   "execution_count": null,
   "metadata": {},
   "outputs": [],
   "source": [
    "df_D2012ex=df_D2012.loc[df_D2012['inclination']>40]\n",
    "df_D2012ex"
   ]
  },
  {
   "cell_type": "code",
   "execution_count": null,
   "metadata": {},
   "outputs": [],
   "source": [
    "degrees = df_D2010ex['azimuth2'].values\n",
    "radians = np.deg2rad(degrees)\n",
    "\n",
    "bin_size = 2\n",
    "a , b=np.histogram(degrees, bins=np.arange(0, 360+bin_size, bin_size))\n",
    "centers = np.deg2rad(np.ediff1d(b)//2 + b[:-1])\n",
    "\n",
    "fig = plt.figure(figsize=(10,8))\n",
    "ax = fig.add_subplot(111, projection='polar')\n",
    "ax.bar(centers, a, width=np.deg2rad(bin_size), bottom=0.0, color='gold', edgecolor='k')\n",
    "ax.set_theta_zero_location(\"N\")\n",
    "ax.set_theta_direction(-1)\n",
    "plt.title('Extreme Azimuth 2010',fontsize='15')\n",
    "plt.rc('xtick', labelsize=20)\n",
    "plt.rc('ytick', labelsize=15)\n",
    "plt.savefig('/home/jovyan/Repos/AGU_2019/JoshFolder/ThesisFigs/extazi2010')\n",
    "plt.show()"
   ]
  },
  {
   "cell_type": "code",
   "execution_count": null,
   "metadata": {},
   "outputs": [],
   "source": [
    "degrees = df_D2011ex['azimuth2'].values\n",
    "radians = np.deg2rad(degrees)\n",
    "\n",
    "bin_size = 2\n",
    "a , b=np.histogram(degrees, bins=np.arange(0, 360+bin_size, bin_size))\n",
    "centers = np.deg2rad(np.ediff1d(b)//2 + b[:-1])\n",
    "\n",
    "fig = plt.figure(figsize=(10,8))\n",
    "ax = fig.add_subplot(111, projection='polar')\n",
    "ax.bar(centers, a, width=np.deg2rad(bin_size), bottom=0.0, color='orange', edgecolor='k')\n",
    "ax.set_theta_zero_location(\"N\")\n",
    "ax.set_theta_direction(-1)\n",
    "plt.title('Extreme Azimuth 2011',fontsize='15')\n",
    "plt.rc('xtick', labelsize=20)\n",
    "plt.rc('ytick', labelsize=15)\n",
    "plt.savefig('/home/jovyan/Repos/AGU_2019/JoshFolder/ThesisFigs/extazi2011')\n",
    "plt.show()"
   ]
  },
  {
   "cell_type": "code",
   "execution_count": null,
   "metadata": {},
   "outputs": [],
   "source": [
    "degrees = df_D2012ex['azimuth'].values\n",
    "radians = np.deg2rad(degrees)\n",
    "\n",
    "bin_size = 2\n",
    "a , b=np.histogram(degrees, bins=np.arange(0, 360+bin_size, bin_size))\n",
    "centers = np.deg2rad(np.ediff1d(b)//2 + b[:-1])\n",
    "\n",
    "fig = plt.figure(figsize=(10,8))\n",
    "ax = fig.add_subplot(111, projection='polar')\n",
    "ax.bar(centers, a, width=np.deg2rad(bin_size), bottom=0.0, color='cyan', edgecolor='k')\n",
    "ax.set_theta_zero_location(\"N\")\n",
    "ax.set_theta_direction(-1)\n",
    "plt.title('Extreme Azimuth 2012',fontsize='15')\n",
    "plt.rc('xtick', labelsize=20)\n",
    "plt.rc('ytick', labelsize=15)\n",
    "plt.savefig('/home/jovyan/Repos/AGU_2019/JoshFolder/ThesisFigs/extazi2012')\n",
    "plt.show()"
   ]
  },
  {
   "cell_type": "code",
   "execution_count": null,
   "metadata": {},
   "outputs": [],
   "source": [
    "degrees = df_D2012ex['azimuth'].values\n",
    "radians = np.deg2rad(degrees)\n",
    "\n",
    "bin_size = 2\n",
    "a , b=np.histogram(degrees, bins=np.arange(0, 360+bin_size, bin_size))\n",
    "centers = np.deg2rad(np.ediff1d(b)//2 + b[:-1])\n",
    "\n",
    "fig = plt.figure(figsize=(10,8))\n",
    "ax = fig.add_subplot(111, projection='polar')\n",
    "ax.bar(centers, a, width=np.deg2rad(bin_size), bottom=0.0, color='cyan', edgecolor='k')\n",
    "ax.set_theta_zero_location(\"N\")\n",
    "ax.set_theta_direction(-1)\n",
    "plt.title('Extreme Azimuth 2012',fontsize='15')\n",
    "plt.rc('xtick', labelsize=20)\n",
    "plt.rc('ytick', labelsize=15)\n",
    "plt.savefig('/home/jovyan/Repos/AGU_2019/JoshFolder/ThesisFigs/extazi2012')\n",
    "plt.show()"
   ]
  },
  {
   "cell_type": "code",
   "execution_count": null,
   "metadata": {},
   "outputs": [],
   "source": [
    "degrees = df_D2012ex['azimuth'].values\n",
    "radians = np.deg2rad(degrees)\n",
    "\n",
    "bin_size = 2\n",
    "a , b=np.histogram(degrees, bins=np.arange(0, 360+bin_size, bin_size))\n",
    "centers = np.deg2rad(np.ediff1d(b)//2 + b[:-1])\n",
    "\n",
    "fig = plt.figure(figsize=(10,8))\n",
    "ax = fig.add_subplot(111, projection='polar')\n",
    "ax.bar(centers, a, width=np.deg2rad(bin_size), bottom=0.0, color='cyan', edgecolor='k')\n",
    "ax.set_theta_zero_location(\"N\")\n",
    "ax.set_theta_direction(-1)\n",
    "plt.title('Extreme Azimuth 2012',fontsize='15')\n",
    "plt.rc('xtick', labelsize=20)\n",
    "plt.rc('ytick', labelsize=15)\n",
    "plt.savefig('/home/jovyan/Repos/AGU_2019/JoshFolder/ThesisFigs/extazi2012')\n",
    "plt.show()"
   ]
  },
  {
   "cell_type": "code",
   "execution_count": null,
   "metadata": {},
   "outputs": [],
   "source": [
    "degrees = df_D2012ex['azimuth'].values\n",
    "radians = np.deg2rad(degrees)\n",
    "\n",
    "bin_size = 2\n",
    "a , b=np.histogram(degrees, bins=np.arange(0, 360+bin_size, bin_size))\n",
    "centers = np.deg2rad(np.ediff1d(b)//2 + b[:-1])\n",
    "\n",
    "fig = plt.figure(figsize=(10,8))\n",
    "ax = fig.add_subplot(111, projection='polar')\n",
    "ax.bar(centers, a, width=np.deg2rad(bin_size), bottom=0.0, color='cyan', edgecolor='k')\n",
    "ax.set_theta_zero_location(\"N\")\n",
    "ax.set_theta_direction(-1)\n",
    "plt.title('Extreme Azimuth 2012',fontsize='15')\n",
    "plt.rc('xtick', labelsize=20)\n",
    "plt.rc('ytick', labelsize=15)\n",
    "plt.savefig('/home/jovyan/Repos/AGU_2019/JoshFolder/ThesisFigs/extazi2012')\n",
    "plt.show()"
   ]
  },
  {
   "cell_type": "markdown",
   "metadata": {},
   "source": [
    "**Violin Plots**"
   ]
  },
  {
   "cell_type": "code",
   "execution_count": null,
   "metadata": {},
   "outputs": [],
   "source": [
    "df_D2010.inclination.hvplot.violin(by='index.day', c='gold') "
   ]
  },
  {
   "cell_type": "code",
   "execution_count": null,
   "metadata": {},
   "outputs": [],
   "source": [
    "df_D2010.wnd_dir.hvplot.violin(by='index.day', c='gold')"
   ]
  },
  {
   "cell_type": "code",
   "execution_count": null,
   "metadata": {},
   "outputs": [],
   "source": [
    "df_D2011.inclination.hvplot.violin(by='index.day') * hv.HLine(0)"
   ]
  },
  {
   "cell_type": "code",
   "execution_count": null,
   "metadata": {},
   "outputs": [],
   "source": [
    "df_D2012.inclination.hvplot.violin(by='index.day') * hv.HLine(0)"
   ]
  },
  {
   "cell_type": "code",
   "execution_count": null,
   "metadata": {},
   "outputs": [],
   "source": [
    "(df_D2010.rc_north.hvplot.violin(by='index.day', title='Azimuth North 2010', c='gold', ylim=(-1, 1)) * hv.HLine(0) +\n",
    " df_D2010.wd_north.hvplot.violin(by='index.day', title='Tillamook Wind Direction North 2010', c='gold') * hv.HLine(0) +\n",
    " df_NE_005mab2010.current_nc.hvplot.violin(by='index.day', title='005 Current North 2010', c='gold') * hv.HLine(0) +\n",
    " df_NE_050mab2010.current_nc.hvplot.violin(by='index.day', title='050 Current North 2010', c='gold') * hv.HLine(0)).cols(2)"
   ]
  },
  {
   "cell_type": "code",
   "execution_count": null,
   "metadata": {},
   "outputs": [],
   "source": [
    "df_D2010.rc_north.hvplot.violin(by='index.day', title='Azimuth North 2010', c='gold', ylim=(-1, 1)) * hv.HLine(0)"
   ]
  },
  {
   "cell_type": "code",
   "execution_count": null,
   "metadata": {},
   "outputs": [],
   "source": [
    "(df_D2011.rc_north.hvplot.violin(by='index.day', title='Azimuth North 2011', c='darkorange', ylim=(-1, 1)) * hv.HLine(0) +\n",
    " df_D2011.wd_north.hvplot.violin(by='index.day', title='Tillamook Wind Direction North 2011', c='darkorange') * hv.HLine(0) +\n",
    " df_NE_005mab2011.current_nc.hvplot.violin(by='index.day', title='005 Current North 2011', c='darkorange') * hv.HLine(0) +\n",
    " df_NE_050mab2011.current_nc.hvplot.violin(by='index.day', title='050 Current North 2011', c='darkorange') * hv.HLine(0)).cols(2)"
   ]
  },
  {
   "cell_type": "code",
   "execution_count": null,
   "metadata": {},
   "outputs": [],
   "source": [
    "df_D2011.rc_north.hvplot.violin(by='index.day', title='Azimuth North 2011', c='darkorange', ylim=(-1, 1)) * hv.HLine(0)"
   ]
  },
  {
   "cell_type": "code",
   "execution_count": null,
   "metadata": {},
   "outputs": [],
   "source": [
    "(df_D2012.rc_north.hvplot.violin(by='index.day', title='Azimuth North 2012',ylim=(-1, 1)) * hv.HLine(0) +\n",
    " df_D2012.wd_north.hvplot.violin(by='index.day', title='Tillamook Wind Direction North 2012') * hv.HLine(0)).cols(1)"
   ]
  },
  {
   "cell_type": "code",
   "execution_count": null,
   "metadata": {},
   "outputs": [],
   "source": [
    "df_D2010.wd_north.hvplot.violin(by='index.day', title='Tillamook Wind Direction North 2010', c='gold') * hv.HLine(0)"
   ]
  },
  {
   "cell_type": "code",
   "execution_count": null,
   "metadata": {},
   "outputs": [],
   "source": [
    "df_D2011.wd_north.hvplot.violin(by='index.day', title='Tillamook Wind Direction North 2011', c='darkorange') * hv.HLine(0)"
   ]
  },
  {
   "cell_type": "code",
   "execution_count": null,
   "metadata": {},
   "outputs": [],
   "source": [
    "df_D2012.wd_north.hvplot.violin(by='index.day', title='Tillamook Wind Direction North 2012') * hv.HLine(0)"
   ]
  },
  {
   "cell_type": "code",
   "execution_count": null,
   "metadata": {},
   "outputs": [],
   "source": []
  }
 ],
 "metadata": {
  "kernelspec": {
   "display_name": "Python 3",
   "language": "python",
   "name": "python3"
  },
  "language_info": {
   "codemirror_mode": {
    "name": "ipython",
    "version": 3
   },
   "file_extension": ".py",
   "mimetype": "text/x-python",
   "name": "python",
   "nbconvert_exporter": "python",
   "pygments_lexer": "ipython3",
   "version": "3.7.6"
  }
 },
 "nbformat": 4,
 "nbformat_minor": 4
}
