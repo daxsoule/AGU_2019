{
 "cells": [
  {
   "cell_type": "code",
   "execution_count": null,
   "metadata": {},
   "outputs": [],
   "source": [
    "import numpy as np\n",
    "import matplotlib.dates\n",
    "import matplotlib.pyplot as plt\n",
    "%matplotlib inline\n",
    "from mpl_toolkits import mplot3d\n",
    "import pandas as pd\n",
    "from datetime import datetime\n",
    "import hvplot.pandas\n",
    "import holoviews as hv\n",
    "from holoviews import dim, opts\n",
    "hv.extension('bokeh')"
   ]
  },
  {
   "cell_type": "markdown",
   "metadata": {},
   "source": [
    "## 2010\n",
    "\n",
    "**October**"
   ]
  },
  {
   "cell_type": "code",
   "execution_count": null,
   "metadata": {},
   "outputs": [],
   "source": [
    "!echo 'date,inclination,azimuth,minimum,maximum,sum1,sum2' | cat - ~jovyan/data/covis_data/data20102011/octang10.dat > ~jovyan/data/covis_data/temp.txt\n",
    "!sed 's/ /,/g' ~jovyan/data/covis_data/temp.txt > ~jovyan/data/covis_data/data20102011/octang10.csv\n",
    "!rm ~jovyan/data/covis_data/temp*\n",
    "!head /home/jovyan/data/covis_data/data20102011/octang10.csv"
   ]
  },
  {
   "cell_type": "code",
   "execution_count": null,
   "metadata": {},
   "outputs": [],
   "source": [
    "path = '/home/jovyan/data/covis_data/data20102011/octang10.csv' \n",
    "df_oct2010 = pd.read_csv(path, sep=\",\")\n",
    "df_oct2010['year'] = '2010'\n",
    "df_oct2010['datetime'] = pd.to_datetime(df_oct2010.year, format='%Y') + pd.to_timedelta(df_oct2010.date - 1, unit='d')\n",
    "df_oct2010['datetime'] = df_oct2010['datetime'].dt.round('1s')\n",
    "df_oct2010 = df_oct2010.set_index('datetime')\n",
    "df_oct2010.drop(['date', 'year'], axis=1,inplace=True)\n",
    "df_oct2010 = df_oct2010.rename_axis(None)\n",
    "#fix for azimuth angle, 90 - azimuth then recomputation for any values that aren't in between 0 and 360 \n",
    "df_oct2010.azimuth = df_oct2010.azimuth.rsub(90)\n",
    "df_oct2010['azimuth'] %= 360 \n",
    "df_oct2010['minimum'] = pd.to_numeric(df_oct2010['minimum'], errors='coerce')\n",
    "df_oct2010['azirads'] = df_oct2010['azimuth']*(np.pi/180)\n",
    "df_oct2010['incrads'] = df_oct2010['inclination']*(np.pi/180)\n",
    "r = df_oct2010['r_value'] = 1\n",
    "theta = df_oct2010['azimuth']\n",
    "phi = df_oct2010['inclination']\n",
    "df_oct2010['rc_north'] = r * np.sin(theta) * np.cos(phi)\n",
    "df_oct2010['rc_east'] = r * np.sin(theta) * np.sin(phi)\n",
    "df_oct2010.drop(['r_value'], axis=1, inplace=True)\n",
    "df_oct2010 = df_oct2010.resample('h').mean().dropna()\n",
    "#df_oct2010 = df_oct2010['2010-09-01 00:00:00' : \"2010-09-31 23:59:00\"]\n",
    "df_oct2010"
   ]
  },
  {
   "cell_type": "markdown",
   "metadata": {},
   "source": [
    "## 2011\n",
    "\n",
    "**October**"
   ]
  },
  {
   "cell_type": "code",
   "execution_count": null,
   "metadata": {},
   "outputs": [],
   "source": [
    "!echo 'date,inclination,azimuth,minimum,maximum,sum1,sum2' | cat - ~jovyan/data/covis_data/data20102011/oct1st11.dat > ~jovyan/data/covis_data/temp.txt\n",
    "!sed 's/ /,/g' ~jovyan/data/covis_data/temp.txt > ~jovyan/data/covis_data/data20102011/oct1st11.csv\n",
    "!rm ~jovyan/data/covis_data/temp*\n",
    "!head /home/jovyan/data/covis_data/data20102011/oct1st11.csv"
   ]
  },
  {
   "cell_type": "code",
   "execution_count": null,
   "metadata": {},
   "outputs": [],
   "source": [
    "path = '/home/jovyan/data/covis_data/data20102011/oct1st11.csv' \n",
    "df_oct1 = pd.read_csv(path, sep=\",\")\n",
    "df_oct1['year'] = '2011'\n",
    "df_oct1['datetime'] = pd.to_datetime(df_oct1.year, format='%Y') + pd.to_timedelta(df_oct1.date - 1, unit='d')\n",
    "df_oct1['datetime'] = df_oct1['datetime'].dt.round('1s')\n",
    "df_oct1 = df_oct1.set_index('datetime')\n",
    "df_oct1.drop(['date', 'year'], axis=1,inplace=True)\n",
    "df_oct1 = df_oct1.rename_axis(None)\n",
    "#fix for azimuth angle, 90 - azimuth then recomputation for any values that aren't in between 0 and 360 \n",
    "df_oct1.azimuth = df_oct1.azimuth.rsub(90)\n",
    "df_oct1['azimuth'] %= 360 \n",
    "df_oct1['minimum'] = pd.to_numeric(df_oct1['minimum'], errors='coerce')\n",
    "df_oct1['azirads'] = df_oct1['azimuth']*(np.pi/180)\n",
    "df_oct1['incrads'] = df_oct1['inclination']*(np.pi/180)\n",
    "r = df_oct1['r_value'] = 1\n",
    "theta = df_oct1['azimuth']\n",
    "phi = df_oct1['inclination']\n",
    "df_oct1['rc_north'] = r * np.sin(theta) * np.cos(phi)\n",
    "df_oct1['rc_east'] = r * np.sin(theta) * np.sin(phi)\n",
    "df_oct1.drop(['r_value'], axis=1, inplace=True)\n",
    "df_oct1 = df_oct1.resample('h').mean().dropna()\n",
    "#df_oct1 = df_oct1['2012-01-01 00:00:00' : \"2012-01-31 23:59:00\"]\n",
    "df_oct1"
   ]
  },
  {
   "cell_type": "code",
   "execution_count": null,
   "metadata": {},
   "outputs": [],
   "source": [
    "!echo 'date,inclination,azimuth,minimum,maximum,sum1,sum2' | cat - ~jovyan/data/covis_data/data20102011/oct2411.dat > ~jovyan/data/covis_data/temp.txt\n",
    "!sed 's/ /,/g' ~jovyan/data/covis_data/temp.txt > ~jovyan/data/covis_data/data20102011/oct2411.csv\n",
    "!rm ~jovyan/data/covis_data/temp*\n",
    "!head /home/jovyan/data/covis_data/data20102011/oct2411.csv"
   ]
  },
  {
   "cell_type": "code",
   "execution_count": null,
   "metadata": {},
   "outputs": [],
   "source": [
    "path = '/home/jovyan/data/covis_data/data20102011/oct2411.csv' \n",
    "df_oct2 = pd.read_csv(path, sep=\",\")\n",
    "df_oct2['year'] = '2011'\n",
    "df_oct2['datetime'] = pd.to_datetime(df_oct2.year, format='%Y') + pd.to_timedelta(df_oct2.date - 1, unit='d')\n",
    "df_oct2['datetime'] = df_oct2['datetime'].dt.round('1s')\n",
    "df_oct2 = df_oct2.set_index('datetime')\n",
    "df_oct2.drop(['date', 'year'], axis=1,inplace=True)\n",
    "df_oct2 = df_oct2.rename_axis(None)\n",
    "#fix for azimuth angle, 90 - azimuth then recomputation for any values that aren't in between 0 and 360 \n",
    "df_oct2.azimuth = df_oct2.azimuth.rsub(90)\n",
    "df_oct2['azimuth'] %= 360 \n",
    "df_oct2['minimum'] = pd.to_numeric(df_oct2['minimum'], errors='coerce')\n",
    "df_oct2['azirads'] = df_oct2['azimuth']*(np.pi/180)\n",
    "df_oct2['incrads'] = df_oct2['inclination']*(np.pi/180)\n",
    "r = df_oct2['r_value'] = 1\n",
    "theta = df_oct2['azimuth']\n",
    "phi = df_oct2['inclination']\n",
    "df_oct2['rc_north'] = r * np.sin(theta) * np.cos(phi)\n",
    "df_oct2['rc_east'] = r * np.sin(theta) * np.sin(phi)\n",
    "df_oct2.drop(['r_value'], axis=1, inplace=True)\n",
    "df_oct2 = df_oct2.resample('h').mean().dropna()\n",
    "#df_oct1 = df_oct1['2012-01-01 00:00:00' : \"2012-01-31 23:59:00\"]\n",
    "df_oct2"
   ]
  },
  {
   "cell_type": "code",
   "execution_count": null,
   "metadata": {},
   "outputs": [],
   "source": [
    "!echo 'date,inclination,azimuth,minimum,maximum,sum1,sum2' | cat - ~jovyan/data/covis_data/data20102011/oct4811.dat > ~jovyan/data/covis_data/temp.txt\n",
    "!sed 's/ /,/g' ~jovyan/data/covis_data/temp.txt > ~jovyan/data/covis_data/data20102011/oct4811.csv\n",
    "!rm ~jovyan/data/covis_data/temp*\n",
    "!head /home/jovyan/data/covis_data/data20102011/oct4811.csv"
   ]
  },
  {
   "cell_type": "code",
   "execution_count": null,
   "metadata": {},
   "outputs": [],
   "source": [
    "path = '/home/jovyan/data/covis_data/data20102011/oct4811.csv' \n",
    "df_oct3 = pd.read_csv(path, sep=\",\")\n",
    "df_oct3['year'] = '2011'\n",
    "df_oct3['datetime'] = pd.to_datetime(df_oct3.year, format='%Y') + pd.to_timedelta(df_oct3.date - 1, unit='d')\n",
    "df_oct3['datetime'] = df_oct3['datetime'].dt.round('1s')\n",
    "df_oct3 = df_oct3.set_index('datetime')\n",
    "df_oct3.drop(['date', 'year'], axis=1,inplace=True)\n",
    "df_oct3 = df_oct3.rename_axis(None)\n",
    "#fix for azimuth angle, 90 - azimuth then recomputation for any values that aren't in between 0 and 360 \n",
    "df_oct3.azimuth = df_oct3.azimuth.rsub(90)\n",
    "df_oct3['azimuth'] %= 360 \n",
    "df_oct3['minimum'] = pd.to_numeric(df_oct3['minimum'], errors='coerce')\n",
    "df_oct3['azirads'] = df_oct3['azimuth']*(np.pi/180)\n",
    "df_oct3['incrads'] = df_oct3['inclination']*(np.pi/180)\n",
    "r = df_oct3['r_value'] = 1\n",
    "theta = df_oct3['azimuth']\n",
    "phi = df_oct3['inclination']\n",
    "df_oct3['rc_north'] = r * np.sin(theta) * np.cos(phi)\n",
    "df_oct3['rc_east'] = r * np.sin(theta) * np.sin(phi)\n",
    "df_oct3.drop(['r_value'], axis=1, inplace=True)\n",
    "df_oct3 = df_oct3.resample('h').mean().dropna()\n",
    "#df_oct1 = df_oct1['2012-01-01 00:00:00' : \"2012-01-31 23:59:00\"]\n",
    "df_oct3"
   ]
  },
  {
   "cell_type": "code",
   "execution_count": null,
   "metadata": {},
   "outputs": [],
   "source": [
    "!echo 'date,inclination,azimuth,minimum,maximum,sum1,sum2' | cat - ~jovyan/data/covis_data/data20102011/oct91511.dat > ~jovyan/data/covis_data/temp.txt\n",
    "!sed 's/ /,/g' ~jovyan/data/covis_data/temp.txt > ~jovyan/data/covis_data/data20102011/oct91511.csv\n",
    "!rm ~jovyan/data/covis_data/temp*\n",
    "!head /home/jovyan/data/covis_data/data20102011/oct91511.csv"
   ]
  },
  {
   "cell_type": "code",
   "execution_count": null,
   "metadata": {},
   "outputs": [],
   "source": [
    "path = '/home/jovyan/data/covis_data/data20102011/oct91511.csv' \n",
    "df_oct4 = pd.read_csv(path, sep=\",\")\n",
    "df_oct4['year'] = '2011'\n",
    "df_oct4['datetime'] = pd.to_datetime(df_oct4.year, format='%Y') + pd.to_timedelta(df_oct4.date - 1, unit='d')\n",
    "df_oct4['datetime'] = df_oct4['datetime'].dt.round('1s')\n",
    "df_oct4 = df_oct4.set_index('datetime')\n",
    "df_oct4.drop(['date', 'year'], axis=1,inplace=True)\n",
    "df_oct4 = df_oct4.rename_axis(None)\n",
    "#fix for azimuth angle, 90 - azimuth then recomputation for any values that aren't in between 0 and 360 \n",
    "df_oct4.azimuth = df_oct4.azimuth.rsub(90)\n",
    "df_oct4['azimuth'] %= 360 \n",
    "df_oct4['minimum'] = pd.to_numeric(df_oct4['minimum'], errors='coerce')\n",
    "df_oct4['azirads'] = df_oct4['azimuth']*(np.pi/180)\n",
    "df_oct4['incrads'] = df_oct4['inclination']*(np.pi/180)\n",
    "r = df_oct4['r_value'] = 1\n",
    "theta = df_oct4['azimuth']\n",
    "phi = df_oct4['inclination']\n",
    "df_oct4['rc_north'] = r * np.sin(theta) * np.cos(phi)\n",
    "df_oct4['rc_east'] = r * np.sin(theta) * np.sin(phi)\n",
    "df_oct4.drop(['r_value'], axis=1, inplace=True)\n",
    "df_oct4 = df_oct4.resample('h').mean().dropna()\n",
    "#df_oct1 = df_oct1['2012-01-01 00:00:00' : \"2012-01-31 23:59:00\"]\n",
    "df_oct4"
   ]
  },
  {
   "cell_type": "code",
   "execution_count": null,
   "metadata": {},
   "outputs": [],
   "source": [
    "!echo 'date,inclination,azimuth,minimum,maximum,sum1,sum2' | cat - ~jovyan/data/covis_data/data20102011/oct1611.dat > ~jovyan/data/covis_data/temp.txt\n",
    "!sed 's/ /,/g' ~jovyan/data/covis_data/temp.txt > ~jovyan/data/covis_data/data20102011/oct1611.csv\n",
    "!rm ~jovyan/data/covis_data/temp*\n",
    "!head /home/jovyan/data/covis_data/data20102011/oct1611.csv"
   ]
  },
  {
   "cell_type": "code",
   "execution_count": null,
   "metadata": {},
   "outputs": [],
   "source": [
    "path = '/home/jovyan/data/covis_data/data20102011/oct1611.csv' \n",
    "df_oct5 = pd.read_csv(path, sep=\",\")\n",
    "df_oct5['year'] = '2011'\n",
    "df_oct5['datetime'] = pd.to_datetime(df_oct5.year, format='%Y') + pd.to_timedelta(df_oct5.date - 1, unit='d')\n",
    "df_oct5['datetime'] = df_oct5['datetime'].dt.round('1s')\n",
    "df_oct5 = df_oct5.set_index('datetime')\n",
    "df_oct5.drop(['date', 'year'], axis=1,inplace=True)\n",
    "df_oct5 = df_oct5.rename_axis(None)\n",
    "#fix for azimuth angle, 90 - azimuth then recomputation for any values that aren't in between 0 and 360 \n",
    "df_oct5.azimuth = df_oct5.azimuth.rsub(90)\n",
    "df_oct5['azimuth'] %= 360 \n",
    "df_oct5['minimum'] = pd.to_numeric(df_oct5['minimum'], errors='coerce')\n",
    "df_oct5['azirads'] = df_oct5['azimuth']*(np.pi/180)\n",
    "df_oct5['incrads'] = df_oct5['inclination']*(np.pi/180)\n",
    "r = df_oct5['r_value'] = 1\n",
    "theta = df_oct5['azimuth']\n",
    "phi = df_oct5['inclination']\n",
    "df_oct5['rc_north'] = r * np.sin(theta) * np.cos(phi)\n",
    "df_oct5['rc_east'] = r * np.sin(theta) * np.sin(phi)\n",
    "df_oct5.drop(['r_value'], axis=1, inplace=True)\n",
    "df_oct5 = df_oct5.resample('h').mean().dropna()\n",
    "#df_oct1 = df_oct1['2012-01-01 00:00:00' : \"2012-01-31 23:59:00\"]\n",
    "df_oct5"
   ]
  },
  {
   "cell_type": "code",
   "execution_count": null,
   "metadata": {},
   "outputs": [],
   "source": [
    "df_oct2011 = pd.concat([df_oct1, df_oct2, df_oct3, df_oct4, df_oct5])\n",
    "df_oct2011"
   ]
  },
  {
   "cell_type": "markdown",
   "metadata": {},
   "source": [
    "**November**"
   ]
  },
  {
   "cell_type": "code",
   "execution_count": null,
   "metadata": {},
   "outputs": [],
   "source": [
    "!echo 'date,inclination,azimuth,minimum,maximum,sum1,sum2' | cat - ~jovyan/data/covis_data/data20102011/novang11.dat > ~jovyan/data/covis_data/temp.txt\n",
    "!sed 's/ /,/g' ~jovyan/data/covis_data/temp.txt > ~jovyan/data/covis_data/data20102011/novang11.csv\n",
    "!rm ~jovyan/data/covis_data/temp*\n",
    "!head /home/jovyan/data/covis_data/data20102011/novang11.csv"
   ]
  },
  {
   "cell_type": "code",
   "execution_count": null,
   "metadata": {},
   "outputs": [],
   "source": [
    "path = '/home/jovyan/data/covis_data/data20102011/novang11.csv' \n",
    "df_nov2011 = pd.read_csv(path, sep=\",\")\n",
    "df_nov2011['year'] = '2011'\n",
    "df_nov2011['datetime'] = pd.to_datetime(df_nov2011.year, format='%Y') + pd.to_timedelta(df_nov2011.date - 1, unit='d')\n",
    "df_nov2011['datetime'] = df_nov2011['datetime'].dt.round('1s')\n",
    "df_nov2011 = df_nov2011.set_index('datetime')\n",
    "df_nov2011.drop(['date', 'year'], axis=1,inplace=True)\n",
    "df_nov2011 = df_nov2011.rename_axis(None)\n",
    "#fix for azimuth angle, 90 - azimuth then recomputation for any values that aren't in between 0 and 360 \n",
    "df_nov2011.azimuth = df_nov2011.azimuth.rsub(90)\n",
    "df_nov2011['azimuth'] %= 360 \n",
    "df_nov2011['minimum'] = pd.to_numeric(df_nov2011['minimum'], errors='coerce')\n",
    "df_nov2011['azirads'] = df_nov2011['azimuth']*(np.pi/180)\n",
    "df_nov2011['incrads'] = df_nov2011['inclination']*(np.pi/180)\n",
    "r = df_nov2011['r_value'] = 1\n",
    "theta = df_nov2011['azimuth']\n",
    "phi = df_nov2011['inclination']\n",
    "df_nov2011['rc_north'] = r * np.sin(theta) * np.cos(phi)\n",
    "df_nov2011['rc_east'] = r * np.sin(theta) * np.sin(phi)\n",
    "df_nov2011.drop(['r_value'], axis=1, inplace=True)\n",
    "df_nov2011 = df_nov2011.resample('h').mean().dropna()\n",
    "#df_oct1 = df_oct1['2012-01-01 00:00:00' : \"2012-01-31 23:59:00\"]\n",
    "df_nov2011"
   ]
  },
  {
   "cell_type": "markdown",
   "metadata": {},
   "source": [
    "**December**"
   ]
  },
  {
   "cell_type": "code",
   "execution_count": null,
   "metadata": {},
   "outputs": [],
   "source": [
    "!echo 'date,inclination,azimuth,minimum,maximum,sum1,sum2' | cat - ~jovyan/data/covis_data/data20102011/decang11.dat > ~jovyan/data/covis_data/temp.txt\n",
    "!sed 's/ /,/g' ~jovyan/data/covis_data/temp.txt > ~jovyan/data/covis_data/data20102011/decang11.csv\n",
    "!rm ~jovyan/data/covis_data/temp*\n",
    "!head /home/jovyan/data/covis_data/data20102011/decang11.csv"
   ]
  },
  {
   "cell_type": "code",
   "execution_count": null,
   "metadata": {},
   "outputs": [],
   "source": [
    "path = '/home/jovyan/data/covis_data/data20102011/decang11.csv' \n",
    "df_dec2011 = pd.read_csv(path, sep=\",\")\n",
    "df_dec2011['year'] = '2011'\n",
    "df_dec2011['datetime'] = pd.to_datetime(df_dec2011.year, format='%Y') + pd.to_timedelta(df_dec2011.date - 1, unit='d')\n",
    "df_dec2011['datetime'] = df_dec2011['datetime'].dt.round('1s')\n",
    "df_dec2011 = df_dec2011.set_index('datetime')\n",
    "df_dec2011.drop(['date', 'year'], axis=1,inplace=True)\n",
    "df_dec2011 = df_dec2011.rename_axis(None)\n",
    "#fix for azimuth angle, 90 - azimuth then recomputation for any values that aren't in between 0 and 360 \n",
    "df_dec2011.azimuth = df_dec2011.azimuth.rsub(90)\n",
    "df_dec2011['azimuth'] %= 360 \n",
    "df_dec2011['minimum'] = pd.to_numeric(df_dec2011['minimum'], errors='coerce')\n",
    "df_dec2011['azirads'] = df_dec2011['azimuth']*(np.pi/180)\n",
    "df_dec2011['incrads'] = df_dec2011['inclination']*(np.pi/180)\n",
    "r = df_dec2011['r_value'] = 1\n",
    "theta = df_dec2011['azimuth']\n",
    "phi = df_dec2011['inclination']\n",
    "df_dec2011['rc_north'] = r * np.sin(theta) * np.cos(phi)\n",
    "df_dec2011['rc_east'] = r * np.sin(theta) * np.sin(phi)\n",
    "df_dec2011.drop(['r_value'], axis=1, inplace=True)\n",
    "df_dec2011 = df_dec2011.resample('h').mean().dropna()\n",
    "#df_oct1 = df_oct1['2012-01-01 00:00:00' : \"2012-01-31 23:59:00\"]\n",
    "df_dec2011"
   ]
  },
  {
   "cell_type": "code",
   "execution_count": null,
   "metadata": {},
   "outputs": [],
   "source": [
    "df_D2011 = pd.concat([df_oct2011, df_nov2011, df_dec2011])\n",
    "df_D2011"
   ]
  },
  {
   "cell_type": "markdown",
   "metadata": {},
   "source": [
    "## 2012\n",
    "\n",
    "**January**"
   ]
  },
  {
   "cell_type": "code",
   "execution_count": null,
   "metadata": {},
   "outputs": [],
   "source": [
    "!echo 'date,inclination,azimuth,minimum,maximum,sum1,sum2' | cat - ~jovyan/data/covis_data/data2012/janang12.dat > ~jovyan/data/covis_data/temp.txt\n",
    "!sed 's/ /,/g' ~jovyan/data/covis_data/temp.txt > ~jovyan/data/covis_data/data2012/janang12.csv\n",
    "!rm ~jovyan/data/covis_data/temp*\n",
    "!head /home/jovyan/data/covis_data/data2012/janang12.csv"
   ]
  },
  {
   "cell_type": "code",
   "execution_count": null,
   "metadata": {},
   "outputs": [],
   "source": [
    "path = '/home/jovyan/data/covis_data/data2012/janangles.csv' \n",
    "df_jan2012 = pd.read_csv(path, sep=\",\")\n",
    "df_jan2012['year'] = '2012'\n",
    "df_jan2012['datetime'] = pd.to_datetime(df_jan2012.year, format='%Y') + pd.to_timedelta(df_jan2012.date - 1, unit='d')\n",
    "df_jan2012['datetime'] = df_jan2012['datetime'].dt.round('1s')\n",
    "df_jan2012 = df_jan2012.set_index('datetime')\n",
    "df_jan2012.drop(['date', 'year'], axis=1,inplace=True)\n",
    "df_jan2012 = df_jan2012.rename_axis(None)\n",
    "#fix for azimuth angle, 90 - azimuth then recomputation for any values that aren't in between 0 and 360 \n",
    "df_jan2012.azimuth = df_jan2012.azimuth.rsub(90)\n",
    "df_jan2012['azimuth'] %= 360 \n",
    "df_jan2012['minimum'] = pd.to_numeric(df_jan2012['minimum'], errors='coerce')\n",
    "df_jan2012['azirads'] = df_jan2012['azimuth']*(np.pi/180)\n",
    "df_jan2012['incrads'] = df_jan2012['inclination']*(np.pi/180)\n",
    "r = df_jan2012['r_value'] = 1\n",
    "theta = df_jan2012['azimuth']\n",
    "phi = df_jan2012['inclination']\n",
    "df_jan2012['rc_north'] = r * np.sin(theta) * np.cos(phi)\n",
    "df_jan2012['rc_east'] = r * np.sin(theta) * np.sin(phi)\n",
    "df_jan2012.drop(['r_value'], axis=1, inplace=True)\n",
    "df_jan2012 = df_jan2012.resample('h').mean().dropna()\n",
    "df_jan2012 = df_jan2012['2012-01-01 00:00:00' : \"2012-01-31 23:59:00\"]\n",
    "df_jan2012"
   ]
  },
  {
   "cell_type": "markdown",
   "metadata": {},
   "source": [
    "**Feburary**"
   ]
  },
  {
   "cell_type": "code",
   "execution_count": null,
   "metadata": {},
   "outputs": [],
   "source": [
    "!echo 'date,inclination,azimuth,minimum,maximum,sum1,sum2' | cat - ~jovyan/data/covis_data/data2012/febmarang12.dat > ~jovyan/data/covis_data/temp.txt\n",
    "!sed 's/ /,/g' ~jovyan/data/covis_data/temp.txt > ~jovyan/data/covis_data/data2012/febmarang12.csv\n",
    "!rm ~jovyan/data/covis_data/temp*\n",
    "!head /home/jovyan/data/covis_data/data2012/febmarang12.csv"
   ]
  },
  {
   "cell_type": "code",
   "execution_count": null,
   "metadata": {},
   "outputs": [],
   "source": [
    "path = '/home/jovyan/data/covis_data/data2012/febmarang12.csv' \n",
    "df_feb2012 = pd.read_csv(path, sep=\",\")\n",
    "df_feb2012['year'] = '2012'\n",
    "df_feb2012['datetime'] = pd.to_datetime(df_feb2012.year, format='%Y') + pd.to_timedelta(df_feb2012.date - 1, unit='d')\n",
    "df_feb2012['datetime'] = df_feb2012['datetime'].dt.round('1s')\n",
    "df_feb2012 = df_feb2012.set_index('datetime')\n",
    "df_feb2012.drop(['date', 'year'], axis=1,inplace=True)\n",
    "df_feb2012 = df_feb2012.rename_axis(None)\n",
    "#fix for azimuth angle, 90 - azimuth then recomputation for any values that aren't in between 0 and 360 \n",
    "df_feb2012.azimuth = df_feb2012.azimuth.rsub(90)\n",
    "df_feb2012['azimuth'] %= 360 \n",
    "df_feb2012['minimum'] = pd.to_numeric(df_feb2012['minimum'], errors='coerce')\n",
    "df_feb2012['azirads'] = df_feb2012['azimuth']*(np.pi/180)\n",
    "df_feb2012['incrads'] = df_feb2012['inclination']*(np.pi/180)\n",
    "r = df_feb2012['r_value'] = 1\n",
    "theta = df_feb2012['azimuth']\n",
    "phi = df_feb2012['inclination']\n",
    "df_feb2012['rc_north'] = r * np.sin(theta) * np.cos(phi)\n",
    "df_feb2012['rc_east'] = r * np.sin(theta) * np.sin(phi)\n",
    "df_feb2012.drop(['r_value'], axis=1, inplace=True)\n",
    "df_feb2012 = df_feb2012.resample('h').mean().dropna()\n",
    "df_feb2012 = df_feb2012['2012-02-01 00:00:00' : \"2012-02-28 23:59:00\"]\n",
    "df_feb2012"
   ]
  },
  {
   "cell_type": "markdown",
   "metadata": {},
   "source": [
    "**March**"
   ]
  },
  {
   "cell_type": "code",
   "execution_count": null,
   "metadata": {},
   "outputs": [],
   "source": [
    "path = '/home/jovyan/data/covis_data/data2012/febmarang12.csv' \n",
    "df_mar2012 = pd.read_csv(path, sep=\",\")\n",
    "df_mar2012['year'] = '2012'\n",
    "df_mar2012['datetime'] = pd.to_datetime(df_mar2012.year, format='%Y') + pd.to_timedelta(df_mar2012.date - 1, unit='d')\n",
    "df_mar2012['datetime'] = df_mar2012['datetime'].dt.round('1s')\n",
    "df_mar2012 = df_mar2012.set_index('datetime')\n",
    "df_mar2012.drop(['date', 'year'], axis=1,inplace=True)\n",
    "df_mar2012 = df_mar2012.rename_axis(None)\n",
    "#fix for azimuth angle, 90 - azimuth then recomputation for any values that aren't in between 0 and 360 \n",
    "df_mar2012.azimuth = df_mar2012.azimuth.rsub(90)\n",
    "df_mar2012['azimuth'] %= 360 \n",
    "df_mar2012['minimum'] = pd.to_numeric(df_mar2012['minimum'], errors='coerce')\n",
    "df_mar2012['azirads'] = df_mar2012['azimuth']*(np.pi/180)\n",
    "df_mar2012['incrads'] = df_mar2012['inclination']*(np.pi/180)\n",
    "r = df_mar2012['r_value'] = 1\n",
    "theta = df_mar2012['azimuth']\n",
    "phi = df_mar2012['inclination']\n",
    "df_mar2012['rc_north'] = r * np.sin(theta) * np.cos(phi)\n",
    "df_mar2012['rc_east'] = r * np.sin(theta) * np.sin(phi)\n",
    "df_mar2012.drop(['r_value'], axis=1, inplace=True)\n",
    "df_mar2012 = df_mar2012.resample('h').mean().dropna()\n",
    "df_mar2012 = df_mar2012['2012-03-01 00:00:00' : \"2012-03-31 23:59:00\"]\n",
    "df_mar2012"
   ]
  },
  {
   "cell_type": "markdown",
   "metadata": {},
   "source": [
    "**April**"
   ]
  },
  {
   "cell_type": "code",
   "execution_count": null,
   "metadata": {},
   "outputs": [],
   "source": [
    "!echo 'date,inclination,azimuth,minimum,maximum,sum1,sum2' | cat - ~jovyan/data/covis_data/data2012/aprang12.dat > ~jovyan/data/covis_data/temp.txt\n",
    "!sed 's/ /,/g' ~jovyan/data/covis_data/temp.txt > ~jovyan/data/covis_data/data2012/aprang12.csv\n",
    "!rm ~jovyan/data/covis_data/temp*\n",
    "!head /home/jovyan/data/covis_data/data2012/aprang12.csv"
   ]
  },
  {
   "cell_type": "code",
   "execution_count": null,
   "metadata": {},
   "outputs": [],
   "source": [
    "path = '/home/jovyan/data/covis_data/data2012/aprang12.csv' \n",
    "df_apr2012 = pd.read_csv(path, sep=\",\")\n",
    "df_apr2012['year'] = '2012'\n",
    "df_apr2012['datetime'] = pd.to_datetime(df_apr2012.year, format='%Y') + pd.to_timedelta(df_apr2012.date - 1, unit='d')\n",
    "df_apr2012['datetime'] = df_apr2012['datetime'].dt.round('1s')\n",
    "df_apr2012 = df_apr2012.set_index('datetime')\n",
    "df_apr2012.drop(['date', 'year'], axis=1,inplace=True)\n",
    "df_apr2012 = df_apr2012.rename_axis(None)\n",
    "#fix for azimuth angle, 90 - azimuth then recomputation for any values that aren't in between 0 and 360 \n",
    "df_apr2012.azimuth = df_apr2012.azimuth.rsub(90)\n",
    "df_apr2012['azimuth'] %= 360 \n",
    "df_apr2012['minimum'] = pd.to_numeric(df_apr2012['minimum'], errors='coerce')\n",
    "df_apr2012['azirads'] = df_apr2012['azimuth']*(np.pi/180)\n",
    "df_apr2012['incrads'] = df_apr2012['inclination']*(np.pi/180)\n",
    "r = df_apr2012['r_value'] = 1\n",
    "theta = df_apr2012['azimuth']\n",
    "phi = df_apr2012['inclination']\n",
    "df_apr2012['rc_north'] = r * np.sin(theta) * np.cos(phi)\n",
    "df_apr2012['rc_east'] = r * np.sin(theta) * np.sin(phi)\n",
    "df_apr2012.drop(['r_value'], axis=1, inplace=True)\n",
    "df_apr2012 = df_apr2012.resample('h').mean().dropna()\n",
    "df_apr2012 = df_apr2012['2012-04-01 00:00:00' : \"2012-04-30 23:59:00\"]\n",
    "df_apr2012"
   ]
  },
  {
   "cell_type": "markdown",
   "metadata": {},
   "source": [
    "**May**"
   ]
  },
  {
   "cell_type": "code",
   "execution_count": null,
   "metadata": {},
   "outputs": [],
   "source": [
    "!echo 'date,inclination,azimuth,minimum,maximum,sum1,sum2' | cat - ~jovyan/data/covis_data/data2012/mayjunang12.dat > ~jovyan/data/covis_data/temp.txt\n",
    "!sed 's/ /,/g' ~jovyan/data/covis_data/temp.txt > ~jovyan/data/covis_data/data2012/mayjunang12.csv\n",
    "!rm ~jovyan/data/covis_data/temp*\n",
    "!head /home/jovyan/data/covis_data/data2012/mayjunang12.csv"
   ]
  },
  {
   "cell_type": "code",
   "execution_count": null,
   "metadata": {},
   "outputs": [],
   "source": [
    "path = '/home/jovyan/data/covis_data/data2012/mayjunang12.csv' \n",
    "df_may2012 = pd.read_csv(path, sep=\",\")\n",
    "df_may2012['year'] = '2012'\n",
    "df_may2012['datetime'] = pd.to_datetime(df_may2012.year, format='%Y') + pd.to_timedelta(df_may2012.date - 1, unit='d')\n",
    "df_may2012['datetime'] = df_may2012['datetime'].dt.round('1s')\n",
    "df_may2012 = df_may2012.set_index('datetime')\n",
    "df_may2012.drop(['date', 'year'], axis=1,inplace=True)\n",
    "df_may2012 = df_may2012.rename_axis(None)\n",
    "#fix for azimuth angle, 90 - azimuth then recomputation for any values that aren't in between 0 and 360 \n",
    "df_may2012.azimuth = df_may2012.azimuth.rsub(90)\n",
    "df_may2012['azimuth'] %= 360 \n",
    "df_may2012['minimum'] = pd.to_numeric(df_may2012['minimum'], errors='coerce')\n",
    "df_may2012['azirads'] = df_may2012['azimuth']*(np.pi/180)\n",
    "df_may2012['incrads'] = df_may2012['inclination']*(np.pi/180)\n",
    "r = df_may2012['r_value'] = 1\n",
    "theta = df_may2012['azimuth']\n",
    "phi = df_may2012['inclination']\n",
    "df_may2012['rc_north'] = r * np.sin(theta) * np.cos(phi)\n",
    "df_may2012['rc_east'] = r * np.sin(theta) * np.sin(phi)\n",
    "df_may2012.drop(['r_value'], axis=1, inplace=True)\n",
    "df_may2012 = df_may2012.resample('h').mean().dropna()\n",
    "df_may2012 = df_may2012['2012-05-01 00:00:00' : \"2012-05-31 23:59:00\"]\n",
    "df_may2012"
   ]
  },
  {
   "cell_type": "markdown",
   "metadata": {},
   "source": [
    "**June**"
   ]
  },
  {
   "cell_type": "code",
   "execution_count": null,
   "metadata": {},
   "outputs": [],
   "source": [
    "path = '/home/jovyan/data/covis_data/data2012/mayjunang12.csv' \n",
    "df_jun2012 = pd.read_csv(path, sep=\",\")\n",
    "df_jun2012['year'] = '2012'\n",
    "df_jun2012['datetime'] = pd.to_datetime(df_jun2012.year, format='%Y') + pd.to_timedelta(df_jun2012.date - 1, unit='d')\n",
    "df_jun2012['datetime'] = df_jun2012['datetime'].dt.round('1s')\n",
    "df_jun2012 = df_jun2012.set_index('datetime')\n",
    "df_jun2012.drop(['date', 'year'], axis=1,inplace=True)\n",
    "df_jun2012 = df_jun2012.rename_axis(None)\n",
    "#fix for azimuth angle, 90 - azimuth then recomputation for any values that aren't in between 0 and 360 \n",
    "df_jun2012.azimuth = df_jun2012.azimuth.rsub(90)\n",
    "df_jun2012['azimuth'] %= 360 \n",
    "df_jun2012['minimum'] = pd.to_numeric(df_jun2012['minimum'], errors='coerce')\n",
    "df_jun2012['azirads'] = df_jun2012['azimuth']*(np.pi/180)\n",
    "df_jun2012['incrads'] = df_jun2012['inclination']*(np.pi/180)\n",
    "r = df_jun2012['r_value'] = 1\n",
    "theta = df_jun2012['azimuth']\n",
    "phi = df_jun2012['inclination']\n",
    "df_jun2012['rc_north'] = r * np.sin(theta) * np.cos(phi)\n",
    "df_jun2012['rc_east'] = r * np.sin(theta) * np.sin(phi)\n",
    "df_jun2012.drop(['r_value'], axis=1, inplace=True)\n",
    "df_jun2012 = df_jun2012.resample('h').mean().dropna()\n",
    "df_jun2012 = df_jun2012['2012-06-01 00:00:00' : \"2012-06-30 23:59:00\"]\n",
    "df_jun2012.head()"
   ]
  },
  {
   "cell_type": "markdown",
   "metadata": {},
   "source": [
    "**July**"
   ]
  },
  {
   "cell_type": "code",
   "execution_count": null,
   "metadata": {},
   "outputs": [],
   "source": [
    "!echo 'date,inclination,azimuth,minimum,maximum,sum1,sum2' | cat - ~jovyan/data/covis_data/data2012/julaugang12.dat > ~jovyan/data/covis_data/temp.txt\n",
    "!sed 's/ /,/g' ~jovyan/data/covis_data/temp.txt > ~jovyan/data/covis_data/data2012/julaugang12.csv\n",
    "!rm ~jovyan/data/covis_data/temp*\n",
    "!head /home/jovyan/data/covis_data/data2012/julaugang12.csv"
   ]
  },
  {
   "cell_type": "code",
   "execution_count": null,
   "metadata": {},
   "outputs": [],
   "source": [
    "path = '/home/jovyan/data/covis_data/data2012/julaugang12.csv' \n",
    "df_jul2012 = pd.read_csv(path, sep=\",\")\n",
    "df_jul2012['year'] = '2012'\n",
    "df_jul2012['datetime'] = pd.to_datetime(df_jul2012.year, format='%Y') + pd.to_timedelta(df_jul2012.date - 1, unit='d')\n",
    "df_jul2012['datetime'] = df_jul2012['datetime'].dt.round('1s')\n",
    "df_jul2012 = df_jul2012.set_index('datetime')\n",
    "df_jul2012.drop(['date', 'year'], axis=1,inplace=True)\n",
    "df_jul2012 = df_jul2012.rename_axis(None)\n",
    "#fix for azimuth angle, 90 - azimuth then recomputation for any values that aren't in between 0 and 360 \n",
    "df_jul2012.azimuth = df_jul2012.azimuth.rsub(90)\n",
    "df_jul2012['azimuth'] %= 360 \n",
    "df_jul2012['minimum'] = pd.to_numeric(df_jul2012['minimum'], errors='coerce')\n",
    "df_jul2012['azirads'] = df_jul2012['azimuth']*(np.pi/180)\n",
    "df_jul2012['incrads'] = df_jul2012['inclination']*(np.pi/180)\n",
    "r = df_jul2012['r_value'] = 1\n",
    "theta = df_jul2012['azimuth']\n",
    "phi = df_jul2012['inclination']\n",
    "df_jul2012['rc_north'] = r * np.sin(theta) * np.cos(phi)\n",
    "df_jul2012['rc_east'] = r * np.sin(theta) * np.sin(phi)\n",
    "df_jul2012.drop(['r_value'], axis=1, inplace=True)\n",
    "df_jul2012 = df_jul2012.resample('h').mean().dropna()\n",
    "df_jul2012 = df_jul2012['2012-07-01 00:00:00' : \"2012-07-31 23:59:00\"]\n",
    "df_jul2012"
   ]
  },
  {
   "cell_type": "markdown",
   "metadata": {},
   "source": [
    "**August**"
   ]
  },
  {
   "cell_type": "code",
   "execution_count": null,
   "metadata": {},
   "outputs": [],
   "source": [
    "!echo 'date,inclination,azimuth,minimum,maximum,sum1,sum2' | cat - ~jovyan/data/covis_data/data2012/julaugang12.dat > ~jovyan/data/covis_data/temp.txt\n",
    "!sed 's/ /,/g' ~jovyan/data/covis_data/temp.txt > ~jovyan/data/covis_data/data2012/julaugang12.csv\n",
    "!rm ~jovyan/data/covis_data/temp*\n",
    "!head /home/jovyan/data/covis_data/data2012/julaugang12.csv"
   ]
  },
  {
   "cell_type": "code",
   "execution_count": null,
   "metadata": {},
   "outputs": [],
   "source": [
    "path = '/home/jovyan/data/covis_data/data2012/julaugang12.csv' \n",
    "df_aug2012 = pd.read_csv(path, sep=\",\")\n",
    "df_aug2012['year'] = '2012'\n",
    "df_aug2012['datetime'] = pd.to_datetime(df_aug2012.year, format='%Y') + pd.to_timedelta(df_aug2012.date - 1, unit='d')\n",
    "df_aug2012['datetime'] = df_aug2012['datetime'].dt.round('1s')\n",
    "df_aug2012 = df_aug2012.set_index('datetime')\n",
    "df_aug2012.drop(['date', 'year'], axis=1,inplace=True)\n",
    "df_aug2012 = df_aug2012.rename_axis(None)\n",
    "#fix for azimuth angle, 90 - azimuth then recomputation for any values that aren't in between 0 and 360 \n",
    "df_aug2012.azimuth = df_aug2012.azimuth.rsub(90)\n",
    "df_aug2012['azimuth'] %= 360 \n",
    "df_aug2012['minimum'] = pd.to_numeric(df_aug2012['minimum'], errors='coerce')\n",
    "df_aug2012['azirads'] = df_aug2012['azimuth']*(np.pi/180)\n",
    "df_aug2012['incrads'] = df_aug2012['inclination']*(np.pi/180)\n",
    "r = df_aug2012['r_value'] = 1\n",
    "theta = df_aug2012['azimuth']\n",
    "phi = df_aug2012['inclination']\n",
    "df_aug2012['rc_north'] = r * np.sin(theta) * np.cos(phi)\n",
    "df_aug2012['rc_east'] = r * np.sin(theta) * np.sin(phi)\n",
    "df_aug2012.drop(['r_value'], axis=1, inplace=True)\n",
    "df_aug2012 = df_aug2012.resample('h').mean().dropna()\n",
    "df_aug2012 = df_aug2012['2012-08-01 00:00:00' : \"2012-08-31 23:59:00\"]\n",
    "df_aug2012"
   ]
  },
  {
   "cell_type": "markdown",
   "metadata": {},
   "source": [
    "**September**"
   ]
  },
  {
   "cell_type": "code",
   "execution_count": null,
   "metadata": {},
   "outputs": [],
   "source": [
    "!echo 'date,inclination,azimuth,minimum,maximum,sum1,sum2' | cat - ~jovyan/data/covis_data/data2012/sepoctang12.dat > ~jovyan/data/covis_data/temp.txt\n",
    "!sed 's/ /,/g' ~jovyan/data/covis_data/temp.txt > ~jovyan/data/covis_data/data2012/sepoctang12.csv\n",
    "!rm ~jovyan/data/covis_data/temp*\n",
    "!head /home/jovyan/data/covis_data/data2012/sepoctang12.csv"
   ]
  },
  {
   "cell_type": "code",
   "execution_count": null,
   "metadata": {},
   "outputs": [],
   "source": [
    "path = '/home/jovyan/data/covis_data/data2012/sepoctang12.csv' \n",
    "df_sep2012 = pd.read_csv(path, sep=\",\")\n",
    "df_sep2012['year'] = '2012'\n",
    "df_sep2012['datetime'] = pd.to_datetime(df_sep2012.year, format='%Y') + pd.to_timedelta(df_sep2012.date - 1, unit='d')\n",
    "df_sep2012['datetime'] = df_sep2012['datetime'].dt.round('1s')\n",
    "df_sep2012 = df_sep2012.set_index('datetime')\n",
    "df_sep2012.drop(['date', 'year'], axis=1,inplace=True)\n",
    "df_sep2012 = df_sep2012.rename_axis(None)\n",
    "#fix for azimuth angle, 90 - azimuth then recomputation for any values that aren't in between 0 and 360 \n",
    "df_sep2012.azimuth = df_sep2012.azimuth.rsub(90)\n",
    "df_sep2012['azimuth'] %= 360 \n",
    "df_sep2012['minimum'] = pd.to_numeric(df_sep2012['minimum'], errors='coerce')\n",
    "df_sep2012['azirads'] = df_sep2012['azimuth']*(np.pi/180)\n",
    "df_sep2012['incrads'] = df_sep2012['inclination']*(np.pi/180)\n",
    "r = df_sep2012['r_value'] = 1\n",
    "theta = df_sep2012['azimuth']\n",
    "phi = df_sep2012['inclination']\n",
    "df_sep2012['rc_north'] = r * np.sin(theta) * np.cos(phi)\n",
    "df_sep2012['rc_east'] = r * np.sin(theta) * np.sin(phi)\n",
    "df_sep2012.drop(['r_value'], axis=1, inplace=True)\n",
    "df_sep2012 = df_sep2012.resample('h').mean().dropna()\n",
    "df_sep2012 = df_sep2012['2012-09-01 00:00:00' : \"2012-09-30 23:59:00\"]\n",
    "df_sep2012"
   ]
  },
  {
   "cell_type": "markdown",
   "metadata": {},
   "source": [
    "**October**"
   ]
  },
  {
   "cell_type": "code",
   "execution_count": null,
   "metadata": {},
   "outputs": [],
   "source": [
    "path = '/home/jovyan/data/covis_data/data2012/sepoctang12.csv' \n",
    "df_oct2012 = pd.read_csv(path, sep=\",\")\n",
    "df_oct2012['year'] = '2012'\n",
    "df_oct2012['datetime'] = pd.to_datetime(df_oct2012.year, format='%Y') + pd.to_timedelta(df_oct2012.date - 1, unit='d')\n",
    "df_oct2012['datetime'] = df_oct2012['datetime'].dt.round('1s')\n",
    "df_oct2012 = df_oct2012.set_index('datetime')\n",
    "df_oct2012.drop(['date', 'year'], axis=1,inplace=True)\n",
    "df_oct2012 = df_oct2012.rename_axis(None)\n",
    "#fix for azimuth angle, 90 - azimuth then recomputation for any values that aren't in between 0 and 360 \n",
    "df_oct2012.azimuth = df_oct2012.azimuth.rsub(90)\n",
    "df_oct2012['azimuth'] %= 360 \n",
    "df_oct2012['minimum'] = pd.to_numeric(df_oct2012['minimum'], errors='coerce')\n",
    "df_oct2012['azirads'] = df_oct2012['azimuth']*(np.pi/180)\n",
    "df_oct2012['incrads'] = df_oct2012['inclination']*(np.pi/180)\n",
    "r = df_oct2012['r_value'] = 1\n",
    "theta = df_oct2012['azimuth']\n",
    "phi = df_oct2012['inclination']\n",
    "df_oct2012['rc_north'] = r * np.sin(theta) * np.cos(phi)\n",
    "df_oct2012['rc_east'] = r * np.sin(theta) * np.sin(phi)\n",
    "df_oct2012.drop(['r_value'], axis=1, inplace=True)\n",
    "df_oct2012 = df_oct2012.resample('h').mean().dropna()\n",
    "df_oct2012 = df_oct2012['2012-10-01 00:00:00' : \"2012-10-31 23:59:00\"]\n",
    "df_oct2012"
   ]
  },
  {
   "cell_type": "markdown",
   "metadata": {},
   "source": [
    "**November**"
   ]
  },
  {
   "cell_type": "code",
   "execution_count": null,
   "metadata": {},
   "outputs": [],
   "source": [
    "!echo 'date,inclination,azimuth,minimum,maximum,sum1,sum2' | cat - ~jovyan/data/covis_data/data2012/novdecang12.dat > ~jovyan/data/covis_data/temp.txt\n",
    "!sed 's/ /,/g' ~jovyan/data/covis_data/temp.txt > ~jovyan/data/covis_data/data2012/novdecang12.csv\n",
    "!rm ~jovyan/data/covis_data/temp*\n",
    "!head /home/jovyan/data/covis_data/data2012/novdecang12.csv"
   ]
  },
  {
   "cell_type": "code",
   "execution_count": null,
   "metadata": {},
   "outputs": [],
   "source": [
    "path = '/home/jovyan/data/covis_data/data2012/novdecang12.csv' \n",
    "df_nov2012 = pd.read_csv(path, sep=\",\")\n",
    "df_nov2012['year'] = '2012'\n",
    "df_nov2012['datetime'] = pd.to_datetime(df_nov2012.year, format='%Y') + pd.to_timedelta(df_nov2012.date - 1, unit='d')\n",
    "df_nov2012['datetime'] = df_nov2012['datetime'].dt.round('1s')\n",
    "df_nov2012 = df_nov2012.set_index('datetime')\n",
    "df_nov2012.drop(['date', 'year'], axis=1,inplace=True)\n",
    "df_nov2012 = df_nov2012.rename_axis(None)\n",
    "#fix for azimuth angle, 90 - azimuth then recomputation for any values that aren't in between 0 and 360 \n",
    "df_nov2012.azimuth = df_nov2012.azimuth.rsub(90)\n",
    "df_nov2012['azimuth'] %= 360 \n",
    "df_nov2012['minimum'] = pd.to_numeric(df_nov2012['minimum'], errors='coerce')\n",
    "df_nov2012['azirads'] = df_nov2012['azimuth']*(np.pi/180)\n",
    "df_nov2012['incrads'] = df_nov2012['inclination']*(np.pi/180)\n",
    "r = df_nov2012['r_value'] = 1\n",
    "theta = df_nov2012['azimuth']\n",
    "phi = df_nov2012['inclination']\n",
    "df_nov2012['rc_north'] = r * np.sin(theta) * np.cos(phi)\n",
    "df_nov2012['rc_east'] = r * np.sin(theta) * np.sin(phi)\n",
    "df_nov2012.drop(['r_value'], axis=1, inplace=True)\n",
    "df_nov2012 = df_nov2012.resample('h').mean().dropna()\n",
    "df_nov2012 = df_nov2012['2012-11-01 00:00:00' : \"2012-11-30 23:59:00\"]\n",
    "df_nov2012"
   ]
  },
  {
   "cell_type": "markdown",
   "metadata": {},
   "source": [
    "**December**"
   ]
  },
  {
   "cell_type": "code",
   "execution_count": null,
   "metadata": {},
   "outputs": [],
   "source": [
    "path = '/home/jovyan/data/covis_data/data2012/novdecang12.csv' \n",
    "df_dec2012 = pd.read_csv(path, sep=\",\")\n",
    "df_dec2012['year'] = '2012'\n",
    "df_dec2012['datetime'] = pd.to_datetime(df_dec2012.year, format='%Y') + pd.to_timedelta(df_dec2012.date - 1, unit='d')\n",
    "df_dec2012['datetime'] = df_dec2012['datetime'].dt.round('1s')\n",
    "df_dec2012 = df_dec2012.set_index('datetime')\n",
    "df_dec2012.drop(['date', 'year'], axis=1,inplace=True)\n",
    "df_dec2012 = df_dec2012.rename_axis(None)\n",
    "#fix for azimuth angle, 90 - azimuth then recomputation for any values that aren't in between 0 and 360 \n",
    "df_dec2012.azimuth = df_dec2012.azimuth.rsub(90)\n",
    "df_dec2012['azimuth'] %= 360 \n",
    "df_dec2012['minimum'] = pd.to_numeric(df_dec2012['minimum'], errors='coerce')\n",
    "df_dec2012['azirads'] = df_dec2012['azimuth']*(np.pi/180)\n",
    "df_dec2012['incrads'] = df_dec2012['inclination']*(np.pi/180)\n",
    "r = df_dec2012['r_value'] = 1\n",
    "theta = df_dec2012['azimuth']\n",
    "phi = df_dec2012['inclination']\n",
    "df_dec2012['rc_north'] = r * np.sin(theta) * np.cos(phi)\n",
    "df_dec2012['rc_east'] = r * np.sin(theta) * np.sin(phi)\n",
    "df_dec2012.drop(['r_value'], axis=1, inplace=True)\n",
    "df_dec2012 = df_dec2012.resample('h').mean().dropna()\n",
    "df_dec2012 = df_dec2012['2012-12-01 00:00:00' : \"2012-12-31 23:59:00\"]\n",
    "df_dec2012"
   ]
  },
  {
   "cell_type": "code",
   "execution_count": null,
   "metadata": {},
   "outputs": [],
   "source": [
    "df_D2012 = pd.concat([df_jan2012, df_feb2012, df_mar2012, df_apr2012, df_may2012, df_jun2012, df_jul2012, df_aug2012, df_sep2012, df_oct2012, df_nov2012, df_dec2012])\n",
    "df_D2012"
   ]
  },
  {
   "cell_type": "markdown",
   "metadata": {},
   "source": [
    "## 2013\n",
    "\n",
    "**January**"
   ]
  },
  {
   "cell_type": "code",
   "execution_count": null,
   "metadata": {},
   "outputs": [],
   "source": [
    "!echo 'date,inclination,azimuth,minimum,maximum,sum1,sum2' | cat - ~jovyan/data/covis_data/data2013/janang13.dat > ~jovyan/data/covis_data/temp.txt\n",
    "!sed 's/ /,/g' ~jovyan/data/covis_data/temp.txt > ~jovyan/data/covis_data/data2013/janang13.csv\n",
    "!rm ~jovyan/data/covis_data/temp*\n",
    "!head /home/jovyan/data/covis_data/data2013/janang13.csv"
   ]
  },
  {
   "cell_type": "code",
   "execution_count": null,
   "metadata": {},
   "outputs": [],
   "source": [
    "path = '/home/jovyan/data/covis_data/data2013/janang13.csv' \n",
    "df_jan2013 = pd.read_csv(path, sep=\",\")\n",
    "df_jan2013['year'] = '2013'\n",
    "df_jan2013['datetime'] = pd.to_datetime(df_jan2013.year, format='%Y') + pd.to_timedelta(df_jan2013.date - 1, unit='d')\n",
    "df_jan2013['datetime'] = df_jan2013['datetime'].dt.round('1s')\n",
    "df_jan2013 = df_jan2013.set_index('datetime')\n",
    "df_jan2013.drop(['date', 'year'], axis=1,inplace=True)\n",
    "df_jan2013 = df_jan2013.rename_axis(None)\n",
    "#fix for azimuth angle, 90 - azimuth then recomputation for any values that aren't in between 0 and 360 \n",
    "df_jan2013.azimuth = df_jan2013.azimuth.rsub(90)\n",
    "df_jan2013['azimuth'] %= 360 \n",
    "df_jan2013['minimum'] = pd.to_numeric(df_jan2013['minimum'], errors='coerce')\n",
    "df_jan2013['azirads'] = df_jan2013['azimuth']*(np.pi/180)\n",
    "df_jan2013['incrads'] = df_jan2013['inclination']*(np.pi/180)\n",
    "r = df_jan2013['r_value'] = 1\n",
    "theta = df_jan2013['azimuth']\n",
    "phi = df_jan2013['inclination']\n",
    "df_jan2013['rc_north'] = r * np.sin(theta) * np.cos(phi)\n",
    "df_jan2013['rc_east'] = r * np.sin(theta) * np.sin(phi)\n",
    "df_jan2013.drop(['r_value'], axis=1, inplace=True)\n",
    "df_jan2013 = df_jan2013.resample('h').mean().dropna()\n",
    "df_jan2013 = df_jan2013['2013-01-01 00:00:00' : \"2013-01-31 23:59:00\"]\n",
    "df_jan2013"
   ]
  },
  {
   "cell_type": "markdown",
   "metadata": {},
   "source": [
    "**Feburary**"
   ]
  },
  {
   "cell_type": "code",
   "execution_count": null,
   "metadata": {},
   "outputs": [],
   "source": [
    "!echo 'date,inclination,azimuth,minimum,maximum,sum1,sum2' | cat - ~jovyan/data/covis_data/data2013/febang13.dat > ~jovyan/data/covis_data/temp.txt\n",
    "!sed 's/ /,/g' ~jovyan/data/covis_data/temp.txt > ~jovyan/data/covis_data/data2013/febang13.csv\n",
    "!rm ~jovyan/data/covis_data/temp*\n",
    "!head /home/jovyan/data/covis_data/data2013/febang13.csv"
   ]
  },
  {
   "cell_type": "code",
   "execution_count": null,
   "metadata": {},
   "outputs": [],
   "source": [
    "path = '/home/jovyan/data/covis_data/data2013/febang13.csv' \n",
    "df_feb2013 = pd.read_csv(path, sep=\",\")\n",
    "df_feb2013['year'] = '2013'\n",
    "df_feb2013['datetime'] = pd.to_datetime(df_feb2013.year, format='%Y') + pd.to_timedelta(df_feb2013.date - 1, unit='d')\n",
    "df_feb2013['datetime'] = df_feb2013['datetime'].dt.round('1s')\n",
    "df_feb2013 = df_feb2013.set_index('datetime')\n",
    "df_feb2013.drop(['date', 'year'], axis=1,inplace=True)\n",
    "df_feb2013 = df_feb2013.rename_axis(None)\n",
    "#fix for azimuth angle, 90 - azimuth then recomputation for any values that aren't in between 0 and 360 \n",
    "df_feb2013.azimuth = df_feb2013.azimuth.rsub(90)\n",
    "df_feb2013['azimuth'] %= 360 \n",
    "df_feb2013['minimum'] = pd.to_numeric(df_feb2013['minimum'], errors='coerce')\n",
    "df_feb2013['azirads'] = df_feb2013['azimuth']*(np.pi/180)\n",
    "df_feb2013['incrads'] = df_feb2013['inclination']*(np.pi/180)\n",
    "r = df_feb2013['r_value'] = 1\n",
    "theta = df_feb2013['azimuth']\n",
    "phi = df_feb2013['inclination']\n",
    "df_feb2013['rc_north'] = r * np.sin(theta) * np.cos(phi)\n",
    "df_feb2013['rc_east'] = r * np.sin(theta) * np.sin(phi)\n",
    "df_feb2013.drop(['r_value'], axis=1, inplace=True)\n",
    "df_feb2013 = df_feb2013.resample('h').mean().dropna()\n",
    "df_feb2013 = df_feb2013['2013-02-01 00:00:00' : \"2013-02-28 23:59:00\"]\n",
    "df_feb2013"
   ]
  },
  {
   "cell_type": "markdown",
   "metadata": {},
   "source": [
    "**March**"
   ]
  },
  {
   "cell_type": "code",
   "execution_count": null,
   "metadata": {},
   "outputs": [],
   "source": [
    "!echo 'date,inclination,azimuth,minimum,maximum,sum1,sum2' | cat - ~jovyan/data/covis_data/data2013/marang13.dat > ~jovyan/data/covis_data/temp.txt\n",
    "!sed 's/ /,/g' ~jovyan/data/covis_data/temp.txt > ~jovyan/data/covis_data/data2013/marang13.csv\n",
    "!rm ~jovyan/data/covis_data/temp*\n",
    "!head /home/jovyan/data/covis_data/data2013/marang13.csv"
   ]
  },
  {
   "cell_type": "code",
   "execution_count": null,
   "metadata": {},
   "outputs": [],
   "source": [
    "path = '/home/jovyan/data/covis_data/data2013/marang13.csv' \n",
    "df_mar2013 = pd.read_csv(path, sep=\",\")\n",
    "df_mar2013['year'] = '2013'\n",
    "df_mar2013['datetime'] = pd.to_datetime(df_mar2013.year, format='%Y') + pd.to_timedelta(df_mar2013.date - 1, unit='d')\n",
    "df_mar2013['datetime'] = df_mar2013['datetime'].dt.round('1s')\n",
    "df_mar2013 = df_mar2013.set_index('datetime')\n",
    "df_mar2013.drop(['date', 'year'], axis=1,inplace=True)\n",
    "df_mar2013 = df_mar2013.rename_axis(None)\n",
    "#fix for azimuth angle, 90 - azimuth then recomputation for any values that aren't in between 0 and 360 \n",
    "df_mar2013.azimuth = df_mar2013.azimuth.rsub(90)\n",
    "df_mar2013['azimuth'] %= 360 \n",
    "df_mar2013['minimum'] = pd.to_numeric(df_mar2013['minimum'], errors='coerce')\n",
    "df_mar2013['azirads'] = df_mar2013['azimuth']*(np.pi/180)\n",
    "df_mar2013['incrads'] = df_mar2013['inclination']*(np.pi/180)\n",
    "r = df_mar2013['r_value'] = 1\n",
    "theta = df_mar2013['azimuth']\n",
    "phi = df_mar2013['inclination']\n",
    "df_mar2013['rc_north'] = r * np.sin(theta) * np.cos(phi)\n",
    "df_mar2013['rc_east'] = r * np.sin(theta) * np.sin(phi)\n",
    "df_mar2013.drop(['r_value'], axis=1, inplace=True)\n",
    "df_mar2013 = df_mar2013.resample('h').mean().dropna()\n",
    "df_mar2013 = df_mar2013['2013-03-01 00:00:00' : \"2013-03-31 23:59:00\"]\n",
    "df_mar2013"
   ]
  },
  {
   "cell_type": "markdown",
   "metadata": {},
   "source": [
    "**April**"
   ]
  },
  {
   "cell_type": "code",
   "execution_count": null,
   "metadata": {},
   "outputs": [],
   "source": [
    "!echo 'date,inclination,azimuth,minimum,maximum,sum1,sum2' | cat - ~jovyan/data/covis_data/data2013/aprang13.dat > ~jovyan/data/covis_data/temp.txt\n",
    "!sed 's/ /,/g' ~jovyan/data/covis_data/temp.txt > ~jovyan/data/covis_data/data2013/aprang13.csv\n",
    "!rm ~jovyan/data/covis_data/temp*\n",
    "!head /home/jovyan/data/covis_data/data2013/aprang13.csv"
   ]
  },
  {
   "cell_type": "code",
   "execution_count": null,
   "metadata": {},
   "outputs": [],
   "source": [
    "path = '/home/jovyan/data/covis_data/data2013/aprang13.csv' \n",
    "df_apr2013 = pd.read_csv(path, sep=\",\")\n",
    "df_apr2013['year'] = '2013'\n",
    "df_apr2013['datetime'] = pd.to_datetime(df_apr2013.year, format='%Y') + pd.to_timedelta(df_apr2013.date - 1, unit='d')\n",
    "df_apr2013['datetime'] = df_apr2013['datetime'].dt.round('1s')\n",
    "df_apr2013 = df_apr2013.set_index('datetime')\n",
    "df_apr2013.drop(['date', 'year'], axis=1,inplace=True)\n",
    "df_apr2013 = df_apr2013.rename_axis(None)\n",
    "#fix for azimuth angle, 90 - azimuth then recomputation for any values that aren't in between 0 and 360 \n",
    "df_apr2013.azimuth = df_apr2013.azimuth.rsub(90)\n",
    "df_apr2013['azimuth'] %= 360 \n",
    "df_apr2013['minimum'] = pd.to_numeric(df_apr2013['minimum'], errors='coerce')\n",
    "df_apr2013['azirads'] = df_apr2013['azimuth']*(np.pi/180)\n",
    "df_apr2013['incrads'] = df_apr2013['inclination']*(np.pi/180)\n",
    "r = df_apr2013['r_value'] = 1\n",
    "theta = df_apr2013['azimuth']\n",
    "phi = df_apr2013['inclination']\n",
    "df_apr2013['rc_north'] = r * np.sin(theta) * np.cos(phi)\n",
    "df_apr2013['rc_east'] = r * np.sin(theta) * np.sin(phi)\n",
    "df_apr2013.drop(['r_value'], axis=1, inplace=True)\n",
    "df_apr2013 = df_apr2013.resample('h').mean().dropna()\n",
    "df_apr2013 = df_apr2013['2013-04-01 00:00:00' : \"2013-04-30 23:59:00\"]\n",
    "df_apr2013"
   ]
  },
  {
   "cell_type": "markdown",
   "metadata": {},
   "source": [
    "**May**"
   ]
  },
  {
   "cell_type": "code",
   "execution_count": null,
   "metadata": {},
   "outputs": [],
   "source": [
    "!echo 'date,inclination,azimuth,minimum,maximum,sum1,sum2' | cat - ~jovyan/data/covis_data/data2013/mayang13.dat > ~jovyan/data/covis_data/temp.txt\n",
    "!sed 's/ /,/g' ~jovyan/data/covis_data/temp.txt > ~jovyan/data/covis_data/data2013/mayang13.csv\n",
    "!rm ~jovyan/data/covis_data/temp*\n",
    "!head /home/jovyan/data/covis_data/data2013/mayang13.csv"
   ]
  },
  {
   "cell_type": "code",
   "execution_count": null,
   "metadata": {},
   "outputs": [],
   "source": [
    "path = '/home/jovyan/data/covis_data/data2013/mayang13.csv' \n",
    "df_may2013 = pd.read_csv(path, sep=\",\")\n",
    "df_may2013['year'] = '2013'\n",
    "df_may2013['datetime'] = pd.to_datetime(df_may2013.year, format='%Y') + pd.to_timedelta(df_may2013.date - 1, unit='d')\n",
    "df_may2013['datetime'] = df_may2013['datetime'].dt.round('1s')\n",
    "df_may2013 = df_may2013.set_index('datetime')\n",
    "df_may2013.drop(['date', 'year'], axis=1,inplace=True)\n",
    "df_may2013 = df_may2013.rename_axis(None)\n",
    "#fix for azimuth angle, 90 - azimuth then recomputation for any values that aren't in between 0 and 360 \n",
    "df_may2013.azimuth = df_may2013.azimuth.rsub(90)\n",
    "df_may2013['azimuth'] %= 360 \n",
    "df_may2013['minimum'] = pd.to_numeric(df_may2013['minimum'], errors='coerce')\n",
    "df_may2013['azirads'] = df_may2013['azimuth']*(np.pi/180)\n",
    "df_may2013['incrads'] = df_may2013['inclination']*(np.pi/180)\n",
    "r = df_may2013['r_value'] = 1\n",
    "theta = df_may2013['azimuth']\n",
    "phi = df_may2013['inclination']\n",
    "df_may2013['rc_north'] = r * np.sin(theta) * np.cos(phi)\n",
    "df_may2013['rc_east'] = r * np.sin(theta) * np.sin(phi)\n",
    "df_may2013.drop(['r_value'], axis=1, inplace=True)\n",
    "df_may2013 = df_may2013.resample('h').mean().dropna()\n",
    "df_may2013 = df_may2013['2013-05-01 00:00:00' : \"2013-05-31 23:59:00\"]\n",
    "df_may2013"
   ]
  },
  {
   "cell_type": "markdown",
   "metadata": {},
   "source": [
    "**June**"
   ]
  },
  {
   "cell_type": "code",
   "execution_count": null,
   "metadata": {},
   "outputs": [],
   "source": [
    "!echo 'date,inclination,azimuth,minimum,maximum,sum1,sum2' | cat - ~jovyan/data/covis_data/data2013/junang13.dat > ~jovyan/data/covis_data/temp.txt\n",
    "!sed 's/ /,/g' ~jovyan/data/covis_data/temp.txt > ~jovyan/data/covis_data/data2013/junang13.csv\n",
    "!rm ~jovyan/data/covis_data/temp*\n",
    "!head /home/jovyan/data/covis_data/data2013/junang13.csv"
   ]
  },
  {
   "cell_type": "code",
   "execution_count": null,
   "metadata": {},
   "outputs": [],
   "source": [
    "path = '/home/jovyan/data/covis_data/data2013/junang13.csv' \n",
    "df_jun2013 = pd.read_csv(path, sep=\",\")\n",
    "df_jun2013['year'] = '2013'\n",
    "df_jun2013['datetime'] = pd.to_datetime(df_jun2013.year, format='%Y') + pd.to_timedelta(df_jun2013.date - 1, unit='d')\n",
    "df_jun2013['datetime'] = df_jun2013['datetime'].dt.round('1s')\n",
    "df_jun2013 = df_jun2013.set_index('datetime')\n",
    "df_jun2013.drop(['date', 'year'], axis=1,inplace=True)\n",
    "df_jun2013 = df_jun2013.rename_axis(None)\n",
    "#fix for azimuth angle, 90 - azimuth then recomputation for any values that aren't in between 0 and 360 \n",
    "df_jun2013.azimuth = df_jun2013.azimuth.rsub(90)\n",
    "df_jun2013['azimuth'] %= 360 \n",
    "df_jun2013['minimum'] = pd.to_numeric(df_jun2013['minimum'], errors='coerce')\n",
    "df_jun2013['azirads'] = df_jun2013['azimuth']*(np.pi/180)\n",
    "df_jun2013['incrads'] = df_jun2013['inclination']*(np.pi/180)\n",
    "r = df_jun2013['r_value'] = 1\n",
    "theta = df_jun2013['azimuth']\n",
    "phi = df_jun2013['inclination']\n",
    "df_jun2013['rc_north'] = r * np.sin(theta) * np.cos(phi)\n",
    "df_jun2013['rc_east'] = r * np.sin(theta) * np.sin(phi)\n",
    "df_jun2013.drop(['r_value'], axis=1, inplace=True)\n",
    "df_jun2013 = df_jun2013.resample('h').mean().dropna()\n",
    "df_jun2013 = df_jun2013['2013-06-01 00:00:00' : \"2013-06-30 23:59:00\"]\n",
    "df_jun2013"
   ]
  },
  {
   "cell_type": "markdown",
   "metadata": {},
   "source": [
    "**July**"
   ]
  },
  {
   "cell_type": "code",
   "execution_count": null,
   "metadata": {},
   "outputs": [],
   "source": [
    "!echo 'date,inclination,azimuth,minimum,maximum,sum1,sum2' | cat - ~jovyan/data/covis_data/data2013/julang13.dat > ~jovyan/data/covis_data/temp.txt\n",
    "!sed 's/ /,/g' ~jovyan/data/covis_data/temp.txt > ~jovyan/data/covis_data/data2013/julang13.csv\n",
    "!rm ~jovyan/data/covis_data/temp*\n",
    "!head /home/jovyan/data/covis_data/data2013/julang13.csv"
   ]
  },
  {
   "cell_type": "code",
   "execution_count": null,
   "metadata": {},
   "outputs": [],
   "source": [
    "path = '/home/jovyan/data/covis_data/data2013/julang13.csv' \n",
    "df_jul2013 = pd.read_csv(path, sep=\",\")\n",
    "df_jul2013['year'] = '2013'\n",
    "df_jul2013['datetime'] = pd.to_datetime(df_jul2013.year, format='%Y') + pd.to_timedelta(df_jul2013.date - 1, unit='d')\n",
    "df_jul2013['datetime'] = df_jul2013['datetime'].dt.round('1s')\n",
    "df_jul2013 = df_jul2013.set_index('datetime')\n",
    "df_jul2013.drop(['date', 'year'], axis=1,inplace=True)\n",
    "df_jul2013 = df_jul2013.rename_axis(None)\n",
    "#fix for azimuth angle, 90 - azimuth then recomputation for any values that aren't in between 0 and 360 \n",
    "df_jul2013.azimuth = df_jul2013.azimuth.rsub(90)\n",
    "df_jul2013['azimuth'] %= 360 \n",
    "df_jul2013['minimum'] = pd.to_numeric(df_jul2013['minimum'], errors='coerce')\n",
    "df_jul2013['azirads'] = df_jul2013['azimuth']*(np.pi/180)\n",
    "df_jul2013['incrads'] = df_jul2013['inclination']*(np.pi/180)\n",
    "r = df_jul2013['r_value'] = 1\n",
    "theta = df_jul2013['azimuth']\n",
    "phi = df_jul2013['inclination']\n",
    "df_jul2013['rc_north'] = r * np.sin(theta) * np.cos(phi)\n",
    "df_jul2013['rc_east'] = r * np.sin(theta) * np.sin(phi)\n",
    "df_jul2013.drop(['r_value'], axis=1, inplace=True)\n",
    "df_jul2013 = df_jul2013.resample('h').mean().dropna()\n",
    "df_jul2013 = df_jul2013['2013-07-01 00:00:00' : \"2013-07-31 23:59:00\"]\n",
    "df_jul2013"
   ]
  },
  {
   "cell_type": "markdown",
   "metadata": {},
   "source": [
    "**August**"
   ]
  },
  {
   "cell_type": "code",
   "execution_count": null,
   "metadata": {},
   "outputs": [],
   "source": [
    "!echo 'date,inclination,azimuth,minimum,maximum,sum1,sum2' | cat - ~jovyan/data/covis_data/data2013/augang13.dat > ~jovyan/data/covis_data/temp.txt\n",
    "!sed 's/ /,/g' ~jovyan/data/covis_data/temp.txt > ~jovyan/data/covis_data/data2013/augang13.csv\n",
    "!rm ~jovyan/data/covis_data/temp*\n",
    "!head /home/jovyan/data/covis_data/data2013/augang13.csv"
   ]
  },
  {
   "cell_type": "code",
   "execution_count": null,
   "metadata": {},
   "outputs": [],
   "source": [
    "path = '/home/jovyan/data/covis_data/data2013/augang13.csv' \n",
    "df_aug2013 = pd.read_csv(path, sep=\",\")\n",
    "df_aug2013['year'] = '2013'\n",
    "df_aug2013['datetime'] = pd.to_datetime(df_aug2013.year, format='%Y') + pd.to_timedelta(df_aug2013.date - 1, unit='d')\n",
    "df_aug2013['datetime'] = df_aug2013['datetime'].dt.round('1s')\n",
    "df_aug2013 = df_aug2013.set_index('datetime')\n",
    "df_aug2013.drop(['date', 'year'], axis=1,inplace=True)\n",
    "df_aug2013 = df_aug2013.rename_axis(None)\n",
    "#fix for azimuth angle, 90 - azimuth then recomputation for any values that aren't in between 0 and 360 \n",
    "df_aug2013.azimuth = df_aug2013.azimuth.rsub(90)\n",
    "df_aug2013['azimuth'] %= 360 \n",
    "df_aug2013['minimum'] = pd.to_numeric(df_aug2013['minimum'], errors='coerce')\n",
    "df_aug2013['azirads'] = df_aug2013['azimuth']*(np.pi/180)\n",
    "df_aug2013['incrads'] = df_aug2013['inclination']*(np.pi/180)\n",
    "r = df_aug2013['r_value'] = 1\n",
    "theta = df_aug2013['azimuth']\n",
    "phi = df_aug2013['inclination']\n",
    "df_aug2013['rc_north'] = r * np.sin(theta) * np.cos(phi)\n",
    "df_aug2013['rc_east'] = r * np.sin(theta) * np.sin(phi)\n",
    "df_aug2013.drop(['r_value'], axis=1, inplace=True)\n",
    "df_aug2013 = df_aug2013.resample('h').mean().dropna()\n",
    "df_aug2013 = df_aug2013['2013-08-01 00:00:00' : \"2013-08-31 23:59:00\"]\n",
    "df_aug2013"
   ]
  },
  {
   "cell_type": "markdown",
   "metadata": {},
   "source": [
    "**September**"
   ]
  },
  {
   "cell_type": "code",
   "execution_count": null,
   "metadata": {},
   "outputs": [],
   "source": [
    "!echo 'date,inclination,azimuth,minimum,maximum,sum1,sum2' | cat - ~jovyan/data/covis_data/data2013/sepang13.dat > ~jovyan/data/covis_data/temp.txt\n",
    "!sed 's/ /,/g' ~jovyan/data/covis_data/temp.txt > ~jovyan/data/covis_data/data2013/sepang13.csv\n",
    "!rm ~jovyan/data/covis_data/temp*\n",
    "!head /home/jovyan/data/covis_data/data2013/sepang13.csv"
   ]
  },
  {
   "cell_type": "code",
   "execution_count": null,
   "metadata": {},
   "outputs": [],
   "source": [
    "path = '/home/jovyan/data/covis_data/data2013/sepang13.csv' \n",
    "df_sep2013 = pd.read_csv(path, sep=\",\")\n",
    "df_sep2013['year'] = '2013'\n",
    "df_sep2013['datetime'] = pd.to_datetime(df_sep2013.year, format='%Y') + pd.to_timedelta(df_sep2013.date - 1, unit='d')\n",
    "df_sep2013['datetime'] = df_sep2013['datetime'].dt.round('1s')\n",
    "df_sep2013 = df_sep2013.set_index('datetime')\n",
    "df_sep2013.drop(['date', 'year'], axis=1,inplace=True)\n",
    "df_sep2013 = df_sep2013.rename_axis(None)\n",
    "#fix for azimuth angle, 90 - azimuth then recomputation for any values that aren't in between 0 and 360 \n",
    "df_sep2013.azimuth = df_sep2013.azimuth.rsub(90)\n",
    "df_sep2013['azimuth'] %= 360 \n",
    "df_sep2013['minimum'] = pd.to_numeric(df_sep2013['minimum'], errors='coerce')\n",
    "df_sep2013['azirads'] = df_sep2013['azimuth']*(np.pi/180)\n",
    "df_sep2013['incrads'] = df_sep2013['inclination']*(np.pi/180)\n",
    "r = df_sep2013['r_value'] = 1\n",
    "theta = df_sep2013['azimuth']\n",
    "phi = df_sep2013['inclination']\n",
    "df_sep2013['rc_north'] = r * np.sin(theta) * np.cos(phi)\n",
    "df_sep2013['rc_east'] = r * np.sin(theta) * np.sin(phi)\n",
    "df_sep2013.drop(['r_value'], axis=1, inplace=True)\n",
    "df_sep2013 = df_sep2013.resample('h').mean().dropna()\n",
    "df_sep2013 = df_sep2013['2013-09-01 00:00:00' : \"2013-09-30 23:59:00\"]\n",
    "df_sep2013"
   ]
  },
  {
   "cell_type": "markdown",
   "metadata": {},
   "source": [
    "**October**"
   ]
  },
  {
   "cell_type": "code",
   "execution_count": null,
   "metadata": {},
   "outputs": [],
   "source": [
    "!echo 'date,inclination,azimuth,minimum,maximum,sum1,sum2' | cat - ~jovyan/data/covis_data/data2013/octang13.dat > ~jovyan/data/covis_data/temp.txt\n",
    "!sed 's/ /,/g' ~jovyan/data/covis_data/temp.txt > ~jovyan/data/covis_data/data2013/octang13.csv\n",
    "!rm ~jovyan/data/covis_data/temp*\n",
    "!head /home/jovyan/data/covis_data/data2013/octang13.csv"
   ]
  },
  {
   "cell_type": "code",
   "execution_count": null,
   "metadata": {},
   "outputs": [],
   "source": [
    "path = '/home/jovyan/data/covis_data/data2013/octang13.csv' \n",
    "df_oct2013 = pd.read_csv(path, sep=\",\")\n",
    "df_oct2013['year'] = '2013'\n",
    "df_oct2013['datetime'] = pd.to_datetime(df_oct2013.year, format='%Y') + pd.to_timedelta(df_oct2013.date - 1, unit='d')\n",
    "df_oct2013['datetime'] = df_oct2013['datetime'].dt.round('1s')\n",
    "df_oct2013 = df_oct2013.set_index('datetime')\n",
    "df_oct2013.drop(['date', 'year'], axis=1,inplace=True)\n",
    "df_oct2013 = df_oct2013.rename_axis(None)\n",
    "#fix for azimuth angle, 90 - azimuth then recomputation for any values that aren't in between 0 and 360 \n",
    "df_oct2013.azimuth = df_oct2013.azimuth.rsub(90)\n",
    "df_oct2013['azimuth'] %= 360 \n",
    "df_oct2013['minimum'] = pd.to_numeric(df_oct2013['minimum'], errors='coerce')\n",
    "df_oct2013['azirads'] = df_oct2013['azimuth']*(np.pi/180)\n",
    "df_oct2013['incrads'] = df_oct2013['inclination']*(np.pi/180)\n",
    "r = df_oct2013['r_value'] = 1\n",
    "theta = df_oct2013['azimuth']\n",
    "phi = df_oct2013['inclination']\n",
    "df_oct2013['rc_north'] = r * np.sin(theta) * np.cos(phi)\n",
    "df_oct2013['rc_east'] = r * np.sin(theta) * np.sin(phi)\n",
    "df_oct2013.drop(['r_value'], axis=1, inplace=True)\n",
    "df_oct2013 = df_oct2013.resample('h').mean().dropna()\n",
    "df_oct2013 = df_oct2013['2013-10-01 00:00:00' : \"2013-10-31 23:59:00\"]\n",
    "df_oct2013"
   ]
  },
  {
   "cell_type": "markdown",
   "metadata": {},
   "source": [
    "**November**"
   ]
  },
  {
   "cell_type": "code",
   "execution_count": null,
   "metadata": {},
   "outputs": [],
   "source": [
    "!echo 'date,inclination,azimuth,minimum,maximum,sum1,sum2' | cat - ~jovyan/data/covis_data/data2013/novang13.dat > ~jovyan/data/covis_data/temp.txt\n",
    "!sed 's/ /,/g' ~jovyan/data/covis_data/temp.txt > ~jovyan/data/covis_data/data2013/novang13.csv\n",
    "!rm ~jovyan/data/covis_data/temp*\n",
    "!head /home/jovyan/data/covis_data/data2013/novang13.csv"
   ]
  },
  {
   "cell_type": "code",
   "execution_count": null,
   "metadata": {},
   "outputs": [],
   "source": [
    "path = '/home/jovyan/data/covis_data/data2013/novang13.csv' \n",
    "df_nov2013 = pd.read_csv(path, sep=\",\")\n",
    "df_nov2013['year'] = '2013'\n",
    "df_nov2013['datetime'] = pd.to_datetime(df_nov2013.year, format='%Y') + pd.to_timedelta(df_nov2013.date - 1, unit='d')\n",
    "df_nov2013['datetime'] = df_nov2013['datetime'].dt.round('1s')\n",
    "df_nov2013 = df_nov2013.set_index('datetime')\n",
    "df_nov2013.drop(['date', 'year'], axis=1,inplace=True)\n",
    "df_nov2013 = df_nov2013.rename_axis(None)\n",
    "#fix for azimuth angle, 90 - azimuth then recomputation for any values that aren't in between 0 and 360 \n",
    "df_nov2013.azimuth = df_nov2013.azimuth.rsub(90)\n",
    "df_nov2013['azimuth'] %= 360 \n",
    "df_nov2013['minimum'] = pd.to_numeric(df_nov2013['minimum'], errors='coerce')\n",
    "df_nov2013['azirads'] = df_nov2013['azimuth']*(np.pi/180)\n",
    "df_nov2013['incrads'] = df_nov2013['inclination']*(np.pi/180)\n",
    "r = df_nov2013['r_value'] = 1\n",
    "theta = df_nov2013['azimuth']\n",
    "phi = df_nov2013['inclination']\n",
    "df_nov2013['rc_north'] = r * np.sin(theta) * np.cos(phi)\n",
    "df_nov2013['rc_east'] = r * np.sin(theta) * np.sin(phi)\n",
    "df_nov2013.drop(['r_value'], axis=1, inplace=True)\n",
    "df_nov2013 = df_nov2013.resample('h').mean().dropna()\n",
    "df_nov2013 = df_nov2013['2013-11-01 00:00:00' : \"2013-11-30 23:59:00\"]\n",
    "df_nov2013"
   ]
  },
  {
   "cell_type": "markdown",
   "metadata": {},
   "source": [
    "**December**"
   ]
  },
  {
   "cell_type": "code",
   "execution_count": null,
   "metadata": {},
   "outputs": [],
   "source": [
    "!echo 'date,inclination,azimuth,minimum,maximum,sum1,sum2' | cat - ~jovyan/data/covis_data/data2013/decang13.dat > ~jovyan/data/covis_data/temp.txt\n",
    "!sed 's/ /,/g' ~jovyan/data/covis_data/temp.txt > ~jovyan/data/covis_data/data2013/decang13.csv\n",
    "!rm ~jovyan/data/covis_data/temp*\n",
    "!head /home/jovyan/data/covis_data/data2013/decang13.csv"
   ]
  },
  {
   "cell_type": "code",
   "execution_count": null,
   "metadata": {},
   "outputs": [],
   "source": [
    "path = '/home/jovyan/data/covis_data/data2013/decang13.csv' \n",
    "df_dec2013 = pd.read_csv(path, sep=\",\")\n",
    "df_dec2013['year'] = '2013'\n",
    "df_dec2013['datetime'] = pd.to_datetime(df_dec2013.year, format='%Y') + pd.to_timedelta(df_dec2013.date - 1, unit='d')\n",
    "df_dec2013['datetime'] = df_dec2013['datetime'].dt.round('1s')\n",
    "df_dec2013 = df_dec2013.set_index('datetime')\n",
    "df_dec2013.drop(['date', 'year'], axis=1,inplace=True)\n",
    "df_dec2013 = df_dec2013.rename_axis(None)\n",
    "#fix for azimuth angle, 90 - azimuth then recomputation for any values that aren't in between 0 and 360 \n",
    "df_dec2013.azimuth = df_dec2013.azimuth.rsub(90)\n",
    "df_dec2013['azimuth'] %= 360 \n",
    "df_dec2013['minimum'] = pd.to_numeric(df_dec2013['minimum'], errors='coerce')\n",
    "df_dec2013['azirads'] = df_dec2013['azimuth']*(np.pi/180)\n",
    "df_dec2013['incrads'] = df_dec2013['inclination']*(np.pi/180)\n",
    "r = df_dec2013['r_value'] = 1\n",
    "theta = df_dec2013['azimuth']\n",
    "phi = df_dec2013['inclination']\n",
    "df_dec2013['rc_north'] = r * np.sin(theta) * np.cos(phi)\n",
    "df_dec2013['rc_east'] = r * np.sin(theta) * np.sin(phi)\n",
    "df_dec2013.drop(['r_value'], axis=1, inplace=True)\n",
    "df_dec2013 = df_dec2013.resample('h').mean().dropna()\n",
    "df_dec2013 = df_dec2013['2013-12-01 00:00:00' : \"2013-12-31 23:59:00\"]\n",
    "df_dec2013"
   ]
  },
  {
   "cell_type": "code",
   "execution_count": null,
   "metadata": {},
   "outputs": [],
   "source": [
    "df_D2013 = pd.concat([df_jan2013, df_feb2013, df_mar2013, df_apr2013, df_may2013, df_jun2013, df_jul2013, df_aug2013, df_sep2013, df_oct2013, df_nov2013, df_dec2013])\n",
    "df_D2013"
   ]
  },
  {
   "cell_type": "markdown",
   "metadata": {},
   "source": [
    "## 2014\n",
    "\n",
    "**January**"
   ]
  },
  {
   "cell_type": "code",
   "execution_count": null,
   "metadata": {},
   "outputs": [],
   "source": [
    "!echo 'date,inclination,azimuth,minimum,maximum,sum1,sum2' | cat - ~jovyan/data/covis_data/data2014/janang14.dat > ~jovyan/data/covis_data/temp.txt\n",
    "!sed 's/ /,/g' ~jovyan/data/covis_data/temp.txt > ~jovyan/data/covis_data/data2014/janang14.csv\n",
    "!rm ~jovyan/data/covis_data/temp*\n",
    "!head /home/jovyan/data/covis_data/data2014/janang14.csv"
   ]
  },
  {
   "cell_type": "code",
   "execution_count": null,
   "metadata": {},
   "outputs": [],
   "source": [
    "path = '/home/jovyan/data/covis_data/data2014/janang14.csv' \n",
    "df_jan2014 = pd.read_csv(path, sep=\",\")\n",
    "df_jan2014['year'] = '2014'\n",
    "df_jan2014['datetime'] = pd.to_datetime(df_jan2014.year, format='%Y') + pd.to_timedelta(df_jan2014.date - 1, unit='d')\n",
    "df_jan2014['datetime'] = df_jan2014['datetime'].dt.round('1s')\n",
    "df_jan2014 = df_jan2014.set_index('datetime')\n",
    "df_jan2014.drop(['date', 'year'], axis=1,inplace=True)\n",
    "df_jan2014 = df_jan2014.rename_axis(None)\n",
    "#fix for azimuth angle, 90 - azimuth then recomputation for any values that aren't in between 0 and 360 \n",
    "df_jan2014.azimuth = df_jan2014.azimuth.rsub(90)\n",
    "df_jan2014['azimuth'] %= 360 \n",
    "df_jan2014['minimum'] = pd.to_numeric(df_jan2014['minimum'], errors='coerce')\n",
    "df_jan2014['azirads'] = df_jan2014['azimuth']*(np.pi/180)\n",
    "df_jan2014['incrads'] = df_jan2014['inclination']*(np.pi/180)\n",
    "r = df_jan2014['r_value'] = 1\n",
    "theta = df_jan2014['azimuth']\n",
    "phi = df_jan2014['inclination']\n",
    "df_jan2014['rc_north'] = r * np.sin(theta) * np.cos(phi)\n",
    "df_jan2014['rc_east'] = r * np.sin(theta) * np.sin(phi)\n",
    "df_jan2014.drop(['r_value'], axis=1, inplace=True)\n",
    "df_jan2014 = df_jan2014.resample('h').mean().dropna()\n",
    "df_jan2014 = df_jan2014['2014-01-01 00:00:00' : \"2014-01-31 23:59:00\"]\n",
    "df_jan2014"
   ]
  },
  {
   "cell_type": "markdown",
   "metadata": {},
   "source": [
    "**Feburary**"
   ]
  },
  {
   "cell_type": "code",
   "execution_count": null,
   "metadata": {},
   "outputs": [],
   "source": [
    "!echo 'date,inclination,azimuth,minimum,maximum,sum1,sum2' | cat - ~jovyan/data/covis_data/data2014/febang14.dat > ~jovyan/data/covis_data/temp.txt\n",
    "!sed 's/ /,/g' ~jovyan/data/covis_data/temp.txt > ~jovyan/data/covis_data/data2014/febang14.csv\n",
    "!rm ~jovyan/data/covis_data/temp*\n",
    "!head /home/jovyan/data/covis_data/data2014/febang14.csv"
   ]
  },
  {
   "cell_type": "code",
   "execution_count": null,
   "metadata": {},
   "outputs": [],
   "source": [
    "path = '/home/jovyan/data/covis_data/data2014/febang14.csv' \n",
    "df_feb2014 = pd.read_csv(path, sep=\",\")\n",
    "df_feb2014['year'] = '2014'\n",
    "df_feb2014['datetime'] = pd.to_datetime(df_feb2014.year, format='%Y') + pd.to_timedelta(df_feb2014.date - 1, unit='d')\n",
    "df_feb2014['datetime'] = df_feb2014['datetime'].dt.round('1s')\n",
    "df_feb2014 = df_feb2014.set_index('datetime')\n",
    "df_feb2014.drop(['date', 'year'], axis=1,inplace=True)\n",
    "df_feb2014 = df_feb2014.rename_axis(None)\n",
    "#fix for azimuth angle, 90 - azimuth then recomputation for any values that aren't in between 0 and 360 \n",
    "df_feb2014.azimuth = df_feb2014.azimuth.rsub(90)\n",
    "df_feb2014['azimuth'] %= 360 \n",
    "df_feb2014['minimum'] = pd.to_numeric(df_feb2014['minimum'], errors='coerce')\n",
    "df_feb2014['azirads'] = df_feb2014['azimuth']*(np.pi/180)\n",
    "df_feb2014['incrads'] = df_feb2014['inclination']*(np.pi/180)\n",
    "r = df_feb2014['r_value'] = 1\n",
    "theta = df_feb2014['azimuth']\n",
    "phi = df_feb2014['inclination']\n",
    "df_feb2014['rc_north'] = r * np.sin(theta) * np.cos(phi)\n",
    "df_feb2014['rc_east'] = r * np.sin(theta) * np.sin(phi)\n",
    "df_feb2014.drop(['r_value'], axis=1, inplace=True)\n",
    "df_feb2014 = df_feb2014.resample('h').mean().dropna()\n",
    "df_feb2014 = df_feb2014['2014-02-01 00:00:00' : \"2014-02-28 23:59:00\"]\n",
    "df_feb2014"
   ]
  },
  {
   "cell_type": "markdown",
   "metadata": {},
   "source": [
    "**March**"
   ]
  },
  {
   "cell_type": "code",
   "execution_count": null,
   "metadata": {},
   "outputs": [],
   "source": [
    "!echo 'date,inclination,azimuth,minimum,maximum,sum1,sum2' | cat - ~jovyan/data/covis_data/data2014/marang14.dat > ~jovyan/data/covis_data/temp.txt\n",
    "!sed 's/ /,/g' ~jovyan/data/covis_data/temp.txt > ~jovyan/data/covis_data/data2014/marang14.csv\n",
    "!rm ~jovyan/data/covis_data/temp*\n",
    "!head /home/jovyan/data/covis_data/data2014/marang14.csv"
   ]
  },
  {
   "cell_type": "code",
   "execution_count": null,
   "metadata": {},
   "outputs": [],
   "source": [
    "path = '/home/jovyan/data/covis_data/data2014/marang14.csv' \n",
    "df_mar2014 = pd.read_csv(path, sep=\",\")\n",
    "df_mar2014['year'] = '2014'\n",
    "df_mar2014['datetime'] = pd.to_datetime(df_mar2014.year, format='%Y') + pd.to_timedelta(df_mar2014.date - 1, unit='d')\n",
    "df_mar2014['datetime'] = df_mar2014['datetime'].dt.round('1s')\n",
    "df_mar2014 = df_mar2014.set_index('datetime')\n",
    "df_mar2014.drop(['date', 'year'], axis=1,inplace=True)\n",
    "df_mar2014 = df_mar2014.rename_axis(None)\n",
    "#fix for azimuth angle, 90 - azimuth then recomputation for any values that aren't in between 0 and 360 \n",
    "df_mar2014.azimuth = df_mar2014.azimuth.rsub(90)\n",
    "df_mar2014['azimuth'] %= 360 \n",
    "df_mar2014['minimum'] = pd.to_numeric(df_mar2014['minimum'], errors='coerce')\n",
    "df_mar2014['azirads'] = df_mar2014['azimuth']*(np.pi/180)\n",
    "df_mar2014['incrads'] = df_mar2014['inclination']*(np.pi/180)\n",
    "r = df_mar2014['r_value'] = 1\n",
    "theta = df_mar2014['azimuth']\n",
    "phi = df_mar2014['inclination']\n",
    "df_mar2014['rc_north'] = r * np.sin(theta) * np.cos(phi)\n",
    "df_mar2014['rc_east'] = r * np.sin(theta) * np.sin(phi)\n",
    "df_mar2014.drop(['r_value'], axis=1, inplace=True)\n",
    "df_mar2014 = df_mar2014.resample('h').mean().dropna()\n",
    "df_mar2014 = df_mar2014['2014-03-01 00:00:00' : \"2014-03-31 23:59:00\"]\n",
    "df_mar2014"
   ]
  },
  {
   "cell_type": "markdown",
   "metadata": {},
   "source": [
    "**April**"
   ]
  },
  {
   "cell_type": "code",
   "execution_count": null,
   "metadata": {},
   "outputs": [],
   "source": [
    "!echo 'date,inclination,azimuth,minimum,maximum,sum1,sum2' | cat - ~jovyan/data/covis_data/data2014/aprang14.dat > ~jovyan/data/covis_data/temp.txt\n",
    "!sed 's/ /,/g' ~jovyan/data/covis_data/temp.txt > ~jovyan/data/covis_data/data2014/aprang14.csv\n",
    "!rm ~jovyan/data/covis_data/temp*\n",
    "!head /home/jovyan/data/covis_data/data2014/aprang14.csv"
   ]
  },
  {
   "cell_type": "code",
   "execution_count": null,
   "metadata": {},
   "outputs": [],
   "source": [
    "path = '/home/jovyan/data/covis_data/data2014/aprang14.csv' \n",
    "df_apr2014 = pd.read_csv(path, sep=\",\")\n",
    "df_apr2014['year'] = '2014'\n",
    "df_apr2014['datetime'] = pd.to_datetime(df_apr2014.year, format='%Y') + pd.to_timedelta(df_apr2014.date - 1, unit='d')\n",
    "df_apr2014['datetime'] = df_apr2014['datetime'].dt.round('1s')\n",
    "df_apr2014 = df_apr2014.set_index('datetime')\n",
    "df_apr2014.drop(['date', 'year'], axis=1,inplace=True)\n",
    "df_apr2014 = df_apr2014.rename_axis(None)\n",
    "#fix for azimuth angle, 90 - azimuth then recomputation for any values that aren't in between 0 and 360 \n",
    "df_apr2014.azimuth = df_apr2014.azimuth.rsub(90)\n",
    "df_apr2014['azimuth'] %= 360 \n",
    "df_apr2014['minimum'] = pd.to_numeric(df_apr2014['minimum'], errors='coerce')\n",
    "df_apr2014['azirads'] = df_apr2014['azimuth']*(np.pi/180)\n",
    "df_apr2014['incrads'] = df_apr2014['inclination']*(np.pi/180)\n",
    "r = df_apr2014['r_value'] = 1\n",
    "theta = df_apr2014['azimuth']\n",
    "phi = df_apr2014['inclination']\n",
    "df_apr2014['rc_north'] = r * np.sin(theta) * np.cos(phi)\n",
    "df_apr2014['rc_east'] = r * np.sin(theta) * np.sin(phi)\n",
    "df_apr2014.drop(['r_value'], axis=1, inplace=True)\n",
    "df_apr2014 = df_apr2014.resample('h').mean().dropna()\n",
    "df_apr2014 = df_apr2014['2014-04-01 00:00:00' : \"2014-04-30 23:59:00\"]\n",
    "df_apr2014"
   ]
  },
  {
   "cell_type": "markdown",
   "metadata": {},
   "source": [
    "**May**"
   ]
  },
  {
   "cell_type": "code",
   "execution_count": null,
   "metadata": {},
   "outputs": [],
   "source": [
    "!echo 'date,inclination,azimuth,minimum,maximum,sum1,sum2' | cat - ~jovyan/data/covis_data/data2014/mayang14.dat > ~jovyan/data/covis_data/temp.txt\n",
    "!sed 's/ /,/g' ~jovyan/data/covis_data/temp.txt > ~jovyan/data/covis_data/data2014/mayang14.csv\n",
    "!rm ~jovyan/data/covis_data/temp*\n",
    "!head /home/jovyan/data/covis_data/data2014/mayang14.csv"
   ]
  },
  {
   "cell_type": "code",
   "execution_count": null,
   "metadata": {},
   "outputs": [],
   "source": [
    "path = '/home/jovyan/data/covis_data/data2014/mayang14.csv' \n",
    "df_may2014 = pd.read_csv(path, sep=\",\")\n",
    "df_may2014['year'] = '2014'\n",
    "df_may2014['datetime'] = pd.to_datetime(df_may2014.year, format='%Y') + pd.to_timedelta(df_may2014.date - 1, unit='d')\n",
    "df_may2014['datetime'] = df_may2014['datetime'].dt.round('1s')\n",
    "df_may2014 = df_may2014.set_index('datetime')\n",
    "df_may2014.drop(['date', 'year'], axis=1,inplace=True)\n",
    "df_may2014 = df_may2014.rename_axis(None)\n",
    "#fix for azimuth angle, 90 - azimuth then recomputation for any values that aren't in between 0 and 360 \n",
    "df_may2014.azimuth = df_may2014.azimuth.rsub(90)\n",
    "df_may2014['azimuth'] %= 360 \n",
    "df_may2014['minimum'] = pd.to_numeric(df_may2014['minimum'], errors='coerce')\n",
    "df_may2014['azirads'] = df_may2014['azimuth']*(np.pi/180)\n",
    "df_may2014['incrads'] = df_may2014['inclination']*(np.pi/180)\n",
    "r = df_may2014['r_value'] = 1\n",
    "theta = df_may2014['azimuth']\n",
    "phi = df_may2014['inclination']\n",
    "df_may2014['rc_north'] = r * np.sin(theta) * np.cos(phi)\n",
    "df_may2014['rc_east'] = r * np.sin(theta) * np.sin(phi)\n",
    "df_may2014.drop(['r_value'], axis=1, inplace=True)\n",
    "df_may2014 = df_may2014.resample('h').mean().dropna()\n",
    "df_may2014 = df_may2014['2014-05-01 00:00:00' : \"2014-05-31 23:59:00\"]\n",
    "df_may2014"
   ]
  },
  {
   "cell_type": "markdown",
   "metadata": {},
   "source": [
    "**June**"
   ]
  },
  {
   "cell_type": "code",
   "execution_count": null,
   "metadata": {},
   "outputs": [],
   "source": [
    "!echo 'date,inclination,azimuth,minimum,maximum,sum1,sum2' | cat - ~jovyan/data/covis_data/data2014/junang14.dat > ~jovyan/data/covis_data/temp.txt\n",
    "!sed 's/ /,/g' ~jovyan/data/covis_data/temp.txt > ~jovyan/data/covis_data/data2014/junang14.csv\n",
    "!rm ~jovyan/data/covis_data/temp*\n",
    "!head /home/jovyan/data/covis_data/data2014/junang14.csv"
   ]
  },
  {
   "cell_type": "code",
   "execution_count": null,
   "metadata": {},
   "outputs": [],
   "source": [
    "path = '/home/jovyan/data/covis_data/data2014/junang14.csv' \n",
    "df_jun2014 = pd.read_csv(path, sep=\",\")\n",
    "df_jun2014['year'] = '2014'\n",
    "df_jun2014['datetime'] = pd.to_datetime(df_jun2014.year, format='%Y') + pd.to_timedelta(df_jun2014.date - 1, unit='d')\n",
    "df_jun2014['datetime'] = df_jun2014['datetime'].dt.round('1s')\n",
    "df_jun2014 = df_jun2014.set_index('datetime')\n",
    "df_jun2014.drop(['date', 'year'], axis=1,inplace=True)\n",
    "df_jun2014 = df_jun2014.rename_axis(None)\n",
    "#fix for azimuth angle, 90 - azimuth then recomputation for any values that aren't in between 0 and 360 \n",
    "df_jun2014.azimuth = df_jun2014.azimuth.rsub(90)\n",
    "df_jun2014['azimuth'] %= 360 \n",
    "df_jun2014['minimum'] = pd.to_numeric(df_jun2014['minimum'], errors='coerce')\n",
    "df_jun2014['azirads'] = df_jun2014['azimuth']*(np.pi/180)\n",
    "df_jun2014['incrads'] = df_jun2014['inclination']*(np.pi/180)\n",
    "r = df_jun2014['r_value'] = 1\n",
    "theta = df_jun2014['azimuth']\n",
    "phi = df_jun2014['inclination']\n",
    "df_jun2014['rc_north'] = r * np.sin(theta) * np.cos(phi)\n",
    "df_jun2014['rc_east'] = r * np.sin(theta) * np.sin(phi)\n",
    "df_jun2014.drop(['r_value'], axis=1, inplace=True)\n",
    "df_jun2014 = df_jun2014.resample('h').mean().dropna()\n",
    "df_jun2014 = df_jun2014['2014-06-01 00:00:00' : \"2014-06-30 23:59:00\"]\n",
    "df_jun2014.head()"
   ]
  },
  {
   "cell_type": "markdown",
   "metadata": {},
   "source": [
    "**July**"
   ]
  },
  {
   "cell_type": "code",
   "execution_count": null,
   "metadata": {},
   "outputs": [],
   "source": [
    "!echo 'date,inclination,azimuth,minimum,maximum,sum1,sum2' | cat - ~jovyan/data/covis_data/data2014/julang14.dat > ~jovyan/data/covis_data/temp.txt\n",
    "!sed 's/ /,/g' ~jovyan/data/covis_data/temp.txt > ~jovyan/data/covis_data/data2014/julang14.csv\n",
    "!rm ~jovyan/data/covis_data/temp*\n",
    "!head /home/jovyan/data/covis_data/data2014/julang14.csv"
   ]
  },
  {
   "cell_type": "code",
   "execution_count": null,
   "metadata": {},
   "outputs": [],
   "source": [
    "path = '/home/jovyan/data/covis_data/data2014/julang14.csv' \n",
    "df_jul2014 = pd.read_csv(path, sep=\",\")\n",
    "df_jul2014['year'] = '2014'\n",
    "df_jul2014['datetime'] = pd.to_datetime(df_jul2014.year, format='%Y') + pd.to_timedelta(df_jul2014.date - 1, unit='d')\n",
    "df_jul2014['datetime'] = df_jul2014['datetime'].dt.round('1s')\n",
    "df_jul2014 = df_jul2014.set_index('datetime')\n",
    "df_jul2014.drop(['date', 'year'], axis=1,inplace=True)\n",
    "df_jul2014 = df_jul2014.rename_axis(None)\n",
    "#fix for azimuth angle, 90 - azimuth then recomputation for any values that aren't in between 0 and 360 \n",
    "df_jul2014.azimuth = df_jul2014.azimuth.rsub(90)\n",
    "df_jul2014['azimuth'] %= 360 \n",
    "df_jul2014['minimum'] = pd.to_numeric(df_jul2014['minimum'], errors='coerce')\n",
    "df_jul2014['azirads'] = df_jul2014['azimuth']*(np.pi/180)\n",
    "df_jul2014['incrads'] = df_jul2014['inclination']*(np.pi/180)\n",
    "r = df_jul2014['r_value'] = 1\n",
    "theta = df_jul2014['azimuth']\n",
    "phi = df_jul2014['inclination']\n",
    "df_jul2014['rc_north'] = r * np.sin(theta) * np.cos(phi)\n",
    "df_jul2014['rc_east'] = r * np.sin(theta) * np.sin(phi)\n",
    "df_jul2014.drop(['r_value'], axis=1, inplace=True)\n",
    "df_jul2014 = df_jul2014.resample('h').mean().dropna()\n",
    "df_jul2014 = df_jul2014['2014-07-01 00:00:00' : \"2014-07-31 23:59:00\"]\n",
    "df_jul2014"
   ]
  },
  {
   "cell_type": "markdown",
   "metadata": {},
   "source": [
    "**August**"
   ]
  },
  {
   "cell_type": "code",
   "execution_count": null,
   "metadata": {},
   "outputs": [],
   "source": [
    "!echo 'date,inclination,azimuth,minimum,maximum,sum1,sum2' | cat - ~jovyan/data/covis_data/data2014/augang14.dat > ~jovyan/data/covis_data/temp.txt\n",
    "!sed 's/ /,/g' ~jovyan/data/covis_data/temp.txt > ~jovyan/data/covis_data/data2014/augang14.csv\n",
    "!rm ~jovyan/data/covis_data/temp*\n",
    "!head /home/jovyan/data/covis_data/data2014/augang14.csv"
   ]
  },
  {
   "cell_type": "code",
   "execution_count": null,
   "metadata": {},
   "outputs": [],
   "source": [
    "path = '/home/jovyan/data/covis_data/data2014/augang14.csv' \n",
    "df_aug2014 = pd.read_csv(path, sep=\",\")\n",
    "df_aug2014['year'] = '2014'\n",
    "df_aug2014['datetime'] = pd.to_datetime(df_aug2014.year, format='%Y') + pd.to_timedelta(df_aug2014.date - 1, unit='d')\n",
    "df_aug2014['datetime'] = df_aug2014['datetime'].dt.round('1s')\n",
    "df_aug2014 = df_aug2014.set_index('datetime')\n",
    "df_aug2014.drop(['date', 'year'], axis=1,inplace=True)\n",
    "df_aug2014 = df_aug2014.rename_axis(None)\n",
    "#fix for azimuth angle, 90 - azimuth then recomputation for any values that aren't in between 0 and 360 \n",
    "df_aug2014.azimuth = df_aug2014.azimuth.rsub(90)\n",
    "df_aug2014['azimuth'] %= 360 \n",
    "df_aug2014['minimum'] = pd.to_numeric(df_aug2014['minimum'], errors='coerce')\n",
    "df_aug2014['azirads'] = df_aug2014['azimuth']*(np.pi/180)\n",
    "df_aug2014['incrads'] = df_aug2014['inclination']*(np.pi/180)\n",
    "r = df_aug2014['r_value'] = 1\n",
    "theta = df_aug2014['azimuth']\n",
    "phi = df_aug2014['inclination']\n",
    "df_aug2014['rc_north'] = r * np.sin(theta) * np.cos(phi)\n",
    "df_aug2014['rc_east'] = r * np.sin(theta) * np.sin(phi)\n",
    "df_aug2014.drop(['r_value'], axis=1, inplace=True)\n",
    "df_aug2014 = df_aug2014.resample('h').mean().dropna()\n",
    "df_aug2014 = df_aug2014['2014-08-01 00:00:00' : \"2014-08-31 23:59:00\"]\n",
    "df_aug2014"
   ]
  },
  {
   "cell_type": "markdown",
   "metadata": {},
   "source": [
    "**September**"
   ]
  },
  {
   "cell_type": "code",
   "execution_count": null,
   "metadata": {},
   "outputs": [],
   "source": [
    "!echo 'date,inclination,azimuth,minimum,maximum,sum1,sum2' | cat - ~jovyan/data/covis_data/data2014/sepang14.dat > ~jovyan/data/covis_data/temp.txt\n",
    "!sed 's/ /,/g' ~jovyan/data/covis_data/temp.txt > ~jovyan/data/covis_data/data2014/sepang14.csv\n",
    "!rm ~jovyan/data/covis_data/temp*\n",
    "!head /home/jovyan/data/covis_data/data2014/sepang14.csv"
   ]
  },
  {
   "cell_type": "code",
   "execution_count": null,
   "metadata": {},
   "outputs": [],
   "source": [
    "path = '/home/jovyan/data/covis_data/data2014/sepang14.csv' \n",
    "df_sep2014 = pd.read_csv(path, sep=\",\")\n",
    "df_sep2014['year'] = '2014'\n",
    "df_sep2014['datetime'] = pd.to_datetime(df_sep2014.year, format='%Y') + pd.to_timedelta(df_sep2014.date - 1, unit='d')\n",
    "df_sep2014['datetime'] = df_sep2014['datetime'].dt.round('1s')\n",
    "df_sep2014 = df_sep2014.set_index('datetime')\n",
    "df_sep2014.drop(['date', 'year'], axis=1,inplace=True)\n",
    "df_sep2014 = df_sep2014.rename_axis(None)\n",
    "#fix for azimuth angle, 90 - azimuth then recomputation for any values that aren't in between 0 and 360 \n",
    "df_sep2014.azimuth = df_sep2014.azimuth.rsub(90)\n",
    "df_sep2014['azimuth'] %= 360 \n",
    "df_sep2014['minimum'] = pd.to_numeric(df_sep2014['minimum'], errors='coerce')\n",
    "df_sep2014['azirads'] = df_sep2014['azimuth']*(np.pi/180)\n",
    "df_sep2014['incrads'] = df_sep2014['inclination']*(np.pi/180)\n",
    "r = df_sep2014['r_value'] = 1\n",
    "theta = df_sep2014['azimuth']\n",
    "phi = df_sep2014['inclination']\n",
    "df_sep2014['rc_north'] = r * np.sin(theta) * np.cos(phi)\n",
    "df_sep2014['rc_east'] = r * np.sin(theta) * np.sin(phi)\n",
    "df_sep2014.drop(['r_value'], axis=1, inplace=True)\n",
    "df_sep2014 = df_sep2014.resample('h').mean().dropna()\n",
    "df_sep2014 = df_sep2014['2014-09-01 00:00:00' : \"2014-09-30 23:59:00\"]\n",
    "df_sep2014"
   ]
  },
  {
   "cell_type": "markdown",
   "metadata": {},
   "source": [
    "**October**"
   ]
  },
  {
   "cell_type": "code",
   "execution_count": null,
   "metadata": {},
   "outputs": [],
   "source": [
    "!echo 'date,inclination,azimuth,minimum,maximum,sum1,sum2' | cat - ~jovyan/data/covis_data/data2014/octang14.dat > ~jovyan/data/covis_data/temp.txt\n",
    "!sed 's/ /,/g' ~jovyan/data/covis_data/temp.txt > ~jovyan/data/covis_data/data2014/octang14.csv\n",
    "!rm ~jovyan/data/covis_data/temp*\n",
    "!head /home/jovyan/data/covis_data/data2014/octang14.csv"
   ]
  },
  {
   "cell_type": "code",
   "execution_count": null,
   "metadata": {},
   "outputs": [],
   "source": [
    "path = '/home/jovyan/data/covis_data/data2014/octang14.csv' \n",
    "df_oct2014 = pd.read_csv(path, sep=\",\")\n",
    "df_oct2014['year'] = '2014'\n",
    "df_oct2014['datetime'] = pd.to_datetime(df_oct2014.year, format='%Y') + pd.to_timedelta(df_oct2014.date - 1, unit='d')\n",
    "df_oct2014['datetime'] = df_oct2014['datetime'].dt.round('1s')\n",
    "df_oct2014 = df_oct2014.set_index('datetime')\n",
    "df_oct2014.drop(['date', 'year'], axis=1,inplace=True)\n",
    "df_oct2014 = df_oct2014.rename_axis(None)\n",
    "#fix for azimuth angle, 90 - azimuth then recomputation for any values that aren't in between 0 and 360 \n",
    "df_oct2014.azimuth = df_oct2014.azimuth.rsub(90)\n",
    "df_oct2014['azimuth'] %= 360 \n",
    "df_oct2014['minimum'] = pd.to_numeric(df_oct2014['minimum'], errors='coerce')\n",
    "df_oct2014['azirads'] = df_oct2014['azimuth']*(np.pi/180)\n",
    "df_oct2014['incrads'] = df_oct2014['inclination']*(np.pi/180)\n",
    "r = df_oct2014['r_value'] = 1\n",
    "theta = df_oct2014['azimuth']\n",
    "phi = df_oct2014['inclination']\n",
    "df_oct2014['rc_north'] = r * np.sin(theta) * np.cos(phi)\n",
    "df_oct2014['rc_east'] = r * np.sin(theta) * np.sin(phi)\n",
    "df_oct2014.drop(['r_value'], axis=1, inplace=True)\n",
    "df_oct2014 = df_oct2014.resample('h').mean().dropna()\n",
    "df_oct2014 = df_oct2014['2014-10-01 00:00:00' : \"2014-10-31 23:59:00\"]\n",
    "df_oct2014"
   ]
  },
  {
   "cell_type": "markdown",
   "metadata": {},
   "source": [
    "**November**"
   ]
  },
  {
   "cell_type": "code",
   "execution_count": null,
   "metadata": {},
   "outputs": [],
   "source": [
    "!echo 'date,inclination,azimuth,minimum,maximum,sum1,sum2' | cat - ~jovyan/data/covis_data/data2014/novang14.dat > ~jovyan/data/covis_data/temp.txt\n",
    "!sed 's/ /,/g' ~jovyan/data/covis_data/temp.txt > ~jovyan/data/covis_data/data2014/novang14.csv\n",
    "!rm ~jovyan/data/covis_data/temp*\n",
    "!head /home/jovyan/data/covis_data/data2014/novang14.csv"
   ]
  },
  {
   "cell_type": "code",
   "execution_count": null,
   "metadata": {},
   "outputs": [],
   "source": [
    "path = '/home/jovyan/data/covis_data/data2014/novang14.csv' \n",
    "df_nov2014 = pd.read_csv(path, sep=\",\")\n",
    "df_nov2014['year'] = '2014'\n",
    "df_nov2014['datetime'] = pd.to_datetime(df_nov2014.year, format='%Y') + pd.to_timedelta(df_nov2014.date - 1, unit='d')\n",
    "df_nov2014['datetime'] = df_nov2014['datetime'].dt.round('1s')\n",
    "df_nov2014 = df_nov2014.set_index('datetime')\n",
    "df_nov2014.drop(['date', 'year'], axis=1,inplace=True)\n",
    "df_nov2014 = df_nov2014.rename_axis(None)\n",
    "#fix for azimuth angle, 90 - azimuth then recomputation for any values that aren't in between 0 and 360 \n",
    "df_nov2014.azimuth = df_nov2014.azimuth.rsub(90)\n",
    "df_nov2014['azimuth'] %= 360 \n",
    "df_nov2014['minimum'] = pd.to_numeric(df_nov2014['minimum'], errors='coerce')\n",
    "df_nov2014['azirads'] = df_nov2014['azimuth']*(np.pi/180)\n",
    "df_nov2014['incrads'] = df_nov2014['inclination']*(np.pi/180)\n",
    "r = df_nov2014['r_value'] = 1\n",
    "theta = df_nov2014['azimuth']\n",
    "phi = df_nov2014['inclination']\n",
    "df_nov2014['rc_north'] = r * np.sin(theta) * np.cos(phi)\n",
    "df_nov2014['rc_east'] = r * np.sin(theta) * np.sin(phi)\n",
    "df_nov2014.drop(['r_value'], axis=1, inplace=True)\n",
    "df_nov2014 = df_nov2014.resample('h').mean().dropna()\n",
    "df_nov2014 = df_nov2014['2014-11-01 00:00:00' : \"2014-11-30 23:59:00\"]\n",
    "df_nov2014"
   ]
  },
  {
   "cell_type": "markdown",
   "metadata": {},
   "source": [
    "**December**"
   ]
  },
  {
   "cell_type": "code",
   "execution_count": null,
   "metadata": {},
   "outputs": [],
   "source": [
    "!echo 'date,inclination,azimuth,minimum,maximum,sum1,sum2' | cat - ~jovyan/data/covis_data/data2014/decang14.dat > ~jovyan/data/covis_data/temp.txt\n",
    "!sed 's/ /,/g' ~jovyan/data/covis_data/temp.txt > ~jovyan/data/covis_data/data2014/decang14.csv\n",
    "!rm ~jovyan/data/covis_data/temp*\n",
    "!head /home/jovyan/data/covis_data/data2014/decang14.csv"
   ]
  },
  {
   "cell_type": "code",
   "execution_count": null,
   "metadata": {},
   "outputs": [],
   "source": [
    "path = '/home/jovyan/data/covis_data/data2014/decang14.csv' \n",
    "df_dec2014 = pd.read_csv(path, sep=\",\")\n",
    "df_dec2014['year'] = '2014'\n",
    "df_dec2014['datetime'] = pd.to_datetime(df_dec2014.year, format='%Y') + pd.to_timedelta(df_dec2014.date - 1, unit='d')\n",
    "df_dec2014['datetime'] = df_dec2014['datetime'].dt.round('1s')\n",
    "df_dec2014 = df_dec2014.set_index('datetime')\n",
    "df_dec2014.drop(['date', 'year'], axis=1,inplace=True)\n",
    "df_dec2014 = df_dec2014.rename_axis(None)\n",
    "#fix for azimuth angle, 90 - azimuth then recomputation for any values that aren't in between 0 and 360 \n",
    "df_dec2014.azimuth = df_dec2014.azimuth.rsub(90)\n",
    "df_dec2014['azimuth'] %= 360 \n",
    "df_dec2014['minimum'] = pd.to_numeric(df_dec2014['minimum'], errors='coerce')\n",
    "df_dec2014['azirads'] = df_dec2014['azimuth']*(np.pi/180)\n",
    "df_dec2014['incrads'] = df_dec2014['inclination']*(np.pi/180)\n",
    "r = df_dec2014['r_value'] = 1\n",
    "theta = df_dec2014['azimuth']\n",
    "phi = df_dec2014['inclination']\n",
    "df_dec2014['rc_north'] = r * np.sin(theta) * np.cos(phi)\n",
    "df_dec2014['rc_east'] = r * np.sin(theta) * np.sin(phi)\n",
    "df_dec2014.drop(['r_value'], axis=1, inplace=True)\n",
    "df_dec2014 = df_dec2014.resample('h').mean().dropna()\n",
    "df_dec2014 = df_dec2014['2014-12-01 00:00:00' : \"2014-12-31 23:59:00\"]\n",
    "df_dec2014"
   ]
  },
  {
   "cell_type": "code",
   "execution_count": null,
   "metadata": {},
   "outputs": [],
   "source": [
    "df_D2014 = pd.concat([df_jan2014, df_feb2014, df_mar2014, df_apr2014, df_may2014, df_jun2014, df_jul2014, df_aug2014, df_sep2014, df_oct2014, df_nov2014, df_dec2014])\n",
    "df_D2014"
   ]
  },
  {
   "cell_type": "code",
   "execution_count": null,
   "metadata": {},
   "outputs": [],
   "source": [
    "x1 = df_oct2010['inclination']\n",
    "x2 = df_D2011['inclination']\n",
    "x3 = df_D2012['inclination']\n",
    "x4 = df_D2013['inclination']\n",
    "x5 = df_D2014['inclination']\n",
    "\n",
    "colors = ['salmon', 'blue','yellow','plum','green']\n",
    "names = ['2010', '2011', '2012', '2013','2014']\n",
    "\n",
    "plt.hist([x1, x2, x3, x4, x5], bins = int(360/15), density=True,\n",
    "         color = colors, label=names, rwidth = 1)\n",
    "\n",
    "plt.legend()\n",
    "plt.xlabel('Inclination')\n",
    "plt.ylabel('Normalized Frequency')\n",
    "plt.title('2010-2013 Inclination')\n",
    "plt.savefig('/home/jovyan/Repos/AGU_2019/JoshFolder/2013Figs/HistIncAll', dpi=300)\n",
    "plt.show()"
   ]
  },
  {
   "cell_type": "code",
   "execution_count": null,
   "metadata": {},
   "outputs": [],
   "source": []
  }
 ],
 "metadata": {
  "kernelspec": {
   "display_name": "Python 3",
   "language": "python",
   "name": "python3"
  },
  "language_info": {
   "codemirror_mode": {
    "name": "ipython",
    "version": 3
   },
   "file_extension": ".py",
   "mimetype": "text/x-python",
   "name": "python",
   "nbconvert_exporter": "python",
   "pygments_lexer": "ipython3",
   "version": "3.7.8"
  }
 },
 "nbformat": 4,
 "nbformat_minor": 4
}
