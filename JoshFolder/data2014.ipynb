{
 "cells": [
  {
   "cell_type": "code",
   "execution_count": null,
   "metadata": {},
   "outputs": [],
   "source": [
    "import numpy as np\n",
    "import matplotlib.dates\n",
    "import matplotlib.pyplot as plt\n",
    "%matplotlib inline\n",
    "from mpl_toolkits import mplot3d\n",
    "import pandas as pd\n",
    "from datetime import datetime\n",
    "import hvplot.pandas\n",
    "import holoviews as hv\n",
    "from holoviews import dim, opts\n",
    "hv.extension('bokeh')"
   ]
  },
  {
   "cell_type": "markdown",
   "metadata": {},
   "source": [
    "## Weather Data\n",
    "\n",
    "**Tillamook**"
   ]
  },
  {
   "cell_type": "code",
   "execution_count": null,
   "metadata": {},
   "outputs": [],
   "source": [
    "!rm ~jovyan/data/covis_data/data2014/T2014.csv\n",
    "!sed '1,3d' file ~jovyan/data/covis_data/data2014/T2014.txt > ~jovyan/data/covis_data/data2014/temp.txt\n",
    "!echo 'year,month,day,hour,minute,wnd_dir,wnd_spd,wnd_gspd,wv_height,dom_wvp,av_wvp,mwd,atm_prs,air_temp,sea_temp,dew_temp,vis,tide' | cat - ~jovyan/data/covis_data/data2014/temp.txt > ~jovyan/data/covis_data/data2014/temp1.txt\n",
    "!sed 's/   /,/g' ~jovyan/data/covis_data/data2014/temp1.txt > ~jovyan/data/covis_data/data2014/temp2.txt\n",
    "!sed 's/  /,/g' ~jovyan/data/covis_data/data2014/temp2.txt > ~jovyan/data/covis_data/data2014/temp3.txt\n",
    "!sed 's/ /,/g' ~jovyan/data/covis_data/data2014/temp3.txt > ~jovyan/data/covis_data/data2014/temp4.txt\n",
    "!sed 's/^,//' <~jovyan/data/covis_data/data2014/temp4.txt >~jovyan/data/covis_data/data2014/T2014.csv\n",
    "!rm ~jovyan/data/covis_data/data2014/temp*\n",
    "!head ~jovyan/data/covis_data/data2014/T2014.csv"
   ]
  },
  {
   "cell_type": "code",
   "execution_count": null,
   "metadata": {},
   "outputs": [],
   "source": [
    "path = '/home/jovyan/data/covis_data/data2014/T2014.csv' \n",
    "df_wd2014T = pd.read_csv(path, sep=\",\")\n",
    "df_wd2014T['year'] = '2014'\n",
    "df_wd2014T['year']= df_wd2014T['year'].astype(int).astype(str)\n",
    "df_wd2014T['month']= df_wd2014T['month'].astype(int).astype(str).str.pad(width=2, side='left', fillchar='0')\n",
    "df_wd2014T['day']= df_wd2014T['day'].astype(int).astype(str).str.pad(width=2, side='left', fillchar='0')\n",
    "df_wd2014T['hour']= df_wd2014T['hour'].astype(int).astype(str).str.pad(width=2, side='left', fillchar='0')\n",
    "df_wd2014T['minute']= df_wd2014T['minute'].astype(int).astype(str).str.pad(width=2, side='left', fillchar='0')\n",
    "df_wd2014T['datetime'] = df_wd2014T['year'] + df_wd2014T['month'] + df_wd2014T['day'] +\\\n",
    "'T' + df_wd2014T['hour']+ ':' + df_wd2014T['minute']\n",
    "df_wd2014T['datetime'] = pd.to_datetime(df_wd2014T['datetime'])\n",
    "df_wd2014T = df_wd2014T.set_index('datetime')\n",
    "df_wd2014T = df_wd2014T[['wnd_dir','wnd_spd','wnd_gspd','wv_height','dom_wvp','av_wvp','mwd','atm_prs','air_temp','dew_temp','vis','tide']]\n",
    "df_wd2014T = df_wd2014T.rename_axis(None)\n",
    "df_wd2014T['wndrads'] = df_wd2014T['wnd_dir']*(np.pi/180)\n",
    "r = df_wd2014T['r_value'] = 1\n",
    "theta = df_wd2014T['wndrads']\n",
    "phi = df_wd2014T['wndrads']\n",
    "df_wd2014T['wd_north'] = r * np.sin(theta) * np.cos(phi)\n",
    "df_wd2014T['wd_east'] = r * np.sin(theta) * np.sin(phi)\n",
    "df_wd2014T = df_wd2014T.resample('h').mean()\n",
    "df_wd2014T.head()"
   ]
  },
  {
   "cell_type": "markdown",
   "metadata": {},
   "source": [
    "**c46036**"
   ]
  },
  {
   "cell_type": "code",
   "execution_count": null,
   "metadata": {},
   "outputs": [],
   "source": [
    "path = '/home/jovyan/data/covis_data/data2013/c46036WD.csv' \n",
    "df_wd2014C = pd.read_csv(path, sep=\",\")\n",
    "df_wd2014C.drop(['STN_ID','Q_FLAG','LATITUDE','LONGITUDE','DEPTH','VCAR','VTPK','VWH$','VCMX','VTP$','WSS$','WSS$.1','Unnamed: 23'], axis=1, inplace=True)\n",
    "df_wd2014C['datetime'] = df_wd2014C['DATE']\n",
    "df_wd2014C['datetime'] = pd.to_datetime(df_wd2014C['datetime'])\n",
    "df_wd2014C = df_wd2014C.set_index('datetime')\n",
    "df_wd2014C = df_wd2014C.rename_axis(None)\n",
    "df_wd2014C = df_wd2014C['2014-01-01 00:00:00' : \"2014-12-31 23:59:00\"]\n",
    "df_wd2014C['wndrads'] = df_wd2014C['WDIR']*(np.pi/180)\n",
    "df_wd2014C['wndrads2'] = df_wd2014C['WDIR.1']*(np.pi/180)\n",
    "r = df_wd2014C['r_value'] = 1\n",
    "theta = df_wd2014C['wndrads']\n",
    "phi = df_wd2014C['wndrads']\n",
    "df_wd2014C['wd_north'] = r * np.sin(theta) * np.cos(phi)\n",
    "df_wd2014C['wd_east'] = r * np.sin(theta) * np.sin(phi)\n",
    "theta1 = df_wd2014C['wndrads2']\n",
    "phi1 = df_wd2014C['wndrads2']\n",
    "df_wd2014C['wd_north2'] = r * np.sin(theta1) * np.cos(phi1)\n",
    "df_wd2014C['wd_east2'] = r * np.sin(theta1) * np.sin(phi1)\n",
    "df_wd2014C.drop(['r_value'], axis=1, inplace=True)\n",
    "df_wd2014C = df_wd2014C.resample('h').mean()\n",
    "df_wd2014C.head()"
   ]
  },
  {
   "cell_type": "markdown",
   "metadata": {},
   "source": [
    "## Buoy Data\n",
    "\n",
    "**January**"
   ]
  },
  {
   "cell_type": "code",
   "execution_count": null,
   "metadata": {},
   "outputs": [],
   "source": [
    "!echo 'date,inclination,azimuth,minimum,maximum,sum1,sum2' | cat - ~jovyan/data/covis_data/data2014/janang14.dat > ~jovyan/data/covis_data/temp.txt\n",
    "!sed 's/ /,/g' ~jovyan/data/covis_data/temp.txt > ~jovyan/data/covis_data/data2014/janang14.csv\n",
    "!rm ~jovyan/data/covis_data/temp*\n",
    "!head /home/jovyan/data/covis_data/data2014/janang14.csv"
   ]
  },
  {
   "cell_type": "code",
   "execution_count": null,
   "metadata": {},
   "outputs": [],
   "source": [
    "path = '/home/jovyan/data/covis_data/data2014/janang14.csv' \n",
    "df_jan2014 = pd.read_csv(path, sep=\",\")\n",
    "df_jan2014['year'] = '2014'\n",
    "df_jan2014['datetime'] = pd.to_datetime(df_jan2014.year, format='%Y') + pd.to_timedelta(df_jan2014.date - 1, unit='d')\n",
    "df_jan2014['datetime'] = df_jan2014['datetime'].dt.round('1s')\n",
    "df_jan2014 = df_jan2014.set_index('datetime')\n",
    "df_jan2014.drop(['date', 'year'], axis=1,inplace=True)\n",
    "df_jan2014 = df_jan2014.rename_axis(None)\n",
    "#fix for azimuth angle, 90 - azimuth then recomputation for any values that aren't in between 0 and 360 \n",
    "df_jan2014.azimuth = df_jan2014.azimuth.rsub(90)\n",
    "df_jan2014['azimuth'] %= 360 \n",
    "df_jan2014['minimum'] = pd.to_numeric(df_jan2014['minimum'], errors='coerce')\n",
    "df_jan2014['azirads'] = df_jan2014['azimuth']*(np.pi/180)\n",
    "df_jan2014['incrads'] = df_jan2014['inclination']*(np.pi/180)\n",
    "r = df_jan2014['r_value'] = 1\n",
    "theta = df_jan2014['azimuth']\n",
    "phi = df_jan2014['inclination']\n",
    "df_jan2014['rc_north'] = r * np.sin(theta) * np.cos(phi)\n",
    "df_jan2014['rc_east'] = r * np.sin(theta) * np.sin(phi)\n",
    "df_jan2014.drop(['r_value'], axis=1, inplace=True)\n",
    "df_jan2014 = df_jan2014.resample('h').mean().dropna()\n",
    "df_jan2014 = df_jan2014['2014-01-01 00:00:00' : \"2014-01-31 23:59:00\"]\n",
    "df_jan2014"
   ]
  },
  {
   "cell_type": "code",
   "execution_count": null,
   "metadata": {},
   "outputs": [],
   "source": [
    "df_jan2014['inclination_category'] = pd.cut(df_jan2014['inclination'], bins=[0, 10, 40, 100], include_lowest=True, labels=['vertical', 'ordinary', 'extreme'])\n",
    "df_jan2014.hvplot.hist(y='inclination', by='inclination_category', bin_range=(0,95)).opts(fontsize={'xticks': 12.5, 'yticks': 12.5})"
   ]
  },
  {
   "cell_type": "code",
   "execution_count": null,
   "metadata": {},
   "outputs": [],
   "source": [
    "df_jan2014.inclination.hvplot.violin(by='index.day', title='January Inclination 2014')"
   ]
  },
  {
   "cell_type": "code",
   "execution_count": null,
   "metadata": {},
   "outputs": [],
   "source": [
    "df_jan2014.rc_north.hvplot.violin(by='index.day', title='January Azimuth North 2014',ylim=(-1, 1)).opts(fontsize={'xticks': 12, 'yticks': 12, 'title': 12, 'ylabel': 12, 'xlabel': 12}) * hv.HLine(0)"
   ]
  },
  {
   "cell_type": "code",
   "execution_count": null,
   "metadata": {},
   "outputs": [],
   "source": [
    "df_janwd2014T = df_wd2014T['2014-01-01 00:00:00' : \"2014-01-31 23:59:00\"]\n",
    "df_janwd2014T.head()"
   ]
  },
  {
   "cell_type": "code",
   "execution_count": null,
   "metadata": {},
   "outputs": [],
   "source": [
    "df_janwd2014C = df_wd2014C['2014-01-01 00:00:00' : \"2014-01-31 23:59:00\"]\n",
    "df_janwd2014C.head()"
   ]
  },
  {
   "cell_type": "code",
   "execution_count": null,
   "metadata": {},
   "outputs": [],
   "source": [
    "df_janwd2014T.wd_north.hvplot.violin(by='index.day') * hv.HLine(0)"
   ]
  },
  {
   "cell_type": "code",
   "execution_count": null,
   "metadata": {},
   "outputs": [],
   "source": [
    "df_janwd2014C.wd_north.hvplot.violin(by='index.day') * hv.HLine(0)"
   ]
  },
  {
   "cell_type": "code",
   "execution_count": null,
   "metadata": {},
   "outputs": [],
   "source": [
    "df_janwd2014C.wd_north2.hvplot.violin(by='index.day') * hv.HLine(0)"
   ]
  },
  {
   "cell_type": "markdown",
   "metadata": {},
   "source": [
    "**Feburary**"
   ]
  },
  {
   "cell_type": "code",
   "execution_count": null,
   "metadata": {},
   "outputs": [],
   "source": [
    "!echo 'date,inclination,azimuth,minimum,maximum,sum1,sum2' | cat - ~jovyan/data/covis_data/data2014/febang14.dat > ~jovyan/data/covis_data/temp.txt\n",
    "!sed 's/ /,/g' ~jovyan/data/covis_data/temp.txt > ~jovyan/data/covis_data/data2014/febang14.csv\n",
    "!rm ~jovyan/data/covis_data/temp*\n",
    "!head /home/jovyan/data/covis_data/data2014/febang14.csv"
   ]
  },
  {
   "cell_type": "code",
   "execution_count": null,
   "metadata": {},
   "outputs": [],
   "source": [
    "path = '/home/jovyan/data/covis_data/data2014/febang14.csv' \n",
    "df_feb2014 = pd.read_csv(path, sep=\",\")\n",
    "df_feb2014['year'] = '2014'\n",
    "df_feb2014['datetime'] = pd.to_datetime(df_feb2014.year, format='%Y') + pd.to_timedelta(df_feb2014.date - 1, unit='d')\n",
    "df_feb2014['datetime'] = df_feb2014['datetime'].dt.round('1s')\n",
    "df_feb2014 = df_feb2014.set_index('datetime')\n",
    "df_feb2014.drop(['date', 'year'], axis=1,inplace=True)\n",
    "df_feb2014 = df_feb2014.rename_axis(None)\n",
    "#fix for azimuth angle, 90 - azimuth then recomputation for any values that aren't in between 0 and 360 \n",
    "df_feb2014.azimuth = df_feb2014.azimuth.rsub(90)\n",
    "df_feb2014['azimuth'] %= 360 \n",
    "df_feb2014['minimum'] = pd.to_numeric(df_feb2014['minimum'], errors='coerce')\n",
    "df_feb2014['azirads'] = df_feb2014['azimuth']*(np.pi/180)\n",
    "df_feb2014['incrads'] = df_feb2014['inclination']*(np.pi/180)\n",
    "r = df_feb2014['r_value'] = 1\n",
    "theta = df_feb2014['azimuth']\n",
    "phi = df_feb2014['inclination']\n",
    "df_feb2014['rc_north'] = r * np.sin(theta) * np.cos(phi)\n",
    "df_feb2014['rc_east'] = r * np.sin(theta) * np.sin(phi)\n",
    "df_feb2014.drop(['r_value'], axis=1, inplace=True)\n",
    "df_feb2014 = df_feb2014.resample('h').mean().dropna()\n",
    "df_feb2014 = df_feb2014['2014-02-01 00:00:00' : \"2014-02-28 23:59:00\"]\n",
    "df_feb2014"
   ]
  },
  {
   "cell_type": "code",
   "execution_count": null,
   "metadata": {},
   "outputs": [],
   "source": [
    "df_feb2014['inclination_category'] = pd.cut(df_feb2014['inclination'], bins=[0, 10, 40, 100], include_lowest=True, labels=['vertical', 'ordinary', 'extreme'])\n",
    "df_feb2014.hvplot.hist(y='inclination', by='inclination_category', bin_range=(0,95)).opts(fontsize={'xticks': 12.5, 'yticks': 12.5})"
   ]
  },
  {
   "cell_type": "code",
   "execution_count": null,
   "metadata": {},
   "outputs": [],
   "source": [
    "df_feb2014.inclination.hvplot.violin(by='index.day', title='Feburary Inclination 2014')"
   ]
  },
  {
   "cell_type": "code",
   "execution_count": null,
   "metadata": {},
   "outputs": [],
   "source": [
    "df_feb2014.rc_north.hvplot.violin(by='index.day', title='Feburary Azimuth North 2014',ylim=(-1, 1)).opts(fontsize={'xticks': 12, 'yticks': 12, 'title': 12, 'ylabel': 12, 'xlabel': 12}) * hv.HLine(0)"
   ]
  },
  {
   "cell_type": "code",
   "execution_count": null,
   "metadata": {},
   "outputs": [],
   "source": [
    "df_febwd2014T = df_wd2014T['2014-02-01 00:00:00' : \"2014-02-28 23:59:00\"]\n",
    "df_febwd2014T.head()"
   ]
  },
  {
   "cell_type": "code",
   "execution_count": null,
   "metadata": {},
   "outputs": [],
   "source": [
    "df_febwd2014C = df_wd2014C['2014-02-01 00:00:00' : \"2014-02-28 23:59:00\"]\n",
    "df_febwd2014C.head()"
   ]
  },
  {
   "cell_type": "code",
   "execution_count": null,
   "metadata": {},
   "outputs": [],
   "source": [
    "df_febwd2014T.wd_north.hvplot.violin(by='index.day') * hv.HLine(0)"
   ]
  },
  {
   "cell_type": "code",
   "execution_count": null,
   "metadata": {},
   "outputs": [],
   "source": [
    "df_febwd2014C.wd_north.hvplot.violin(by='index.day') * hv.HLine(0)"
   ]
  },
  {
   "cell_type": "code",
   "execution_count": null,
   "metadata": {},
   "outputs": [],
   "source": [
    "df_febwd2014C.wd_north2.hvplot.violin(by='index.day') * hv.HLine(0)"
   ]
  },
  {
   "cell_type": "markdown",
   "metadata": {},
   "source": [
    "**March**"
   ]
  },
  {
   "cell_type": "code",
   "execution_count": null,
   "metadata": {},
   "outputs": [],
   "source": [
    "!echo 'date,inclination,azimuth,minimum,maximum,sum1,sum2' | cat - ~jovyan/data/covis_data/data2014/marang14.dat > ~jovyan/data/covis_data/temp.txt\n",
    "!sed 's/ /,/g' ~jovyan/data/covis_data/temp.txt > ~jovyan/data/covis_data/data2014/marang14.csv\n",
    "!rm ~jovyan/data/covis_data/temp*\n",
    "!head /home/jovyan/data/covis_data/data2014/marang14.csv"
   ]
  },
  {
   "cell_type": "code",
   "execution_count": null,
   "metadata": {},
   "outputs": [],
   "source": [
    "path = '/home/jovyan/data/covis_data/data2014/marang14.csv' \n",
    "df_mar2014 = pd.read_csv(path, sep=\",\")\n",
    "df_mar2014['year'] = '2014'\n",
    "df_mar2014['datetime'] = pd.to_datetime(df_mar2014.year, format='%Y') + pd.to_timedelta(df_mar2014.date - 1, unit='d')\n",
    "df_mar2014['datetime'] = df_mar2014['datetime'].dt.round('1s')\n",
    "df_mar2014 = df_mar2014.set_index('datetime')\n",
    "df_mar2014.drop(['date', 'year'], axis=1,inplace=True)\n",
    "df_mar2014 = df_mar2014.rename_axis(None)\n",
    "#fix for azimuth angle, 90 - azimuth then recomputation for any values that aren't in between 0 and 360 \n",
    "df_mar2014.azimuth = df_mar2014.azimuth.rsub(90)\n",
    "df_mar2014['azimuth'] %= 360 \n",
    "df_mar2014['minimum'] = pd.to_numeric(df_mar2014['minimum'], errors='coerce')\n",
    "df_mar2014['azirads'] = df_mar2014['azimuth']*(np.pi/180)\n",
    "df_mar2014['incrads'] = df_mar2014['inclination']*(np.pi/180)\n",
    "r = df_mar2014['r_value'] = 1\n",
    "theta = df_mar2014['azimuth']\n",
    "phi = df_mar2014['inclination']\n",
    "df_mar2014['rc_north'] = r * np.sin(theta) * np.cos(phi)\n",
    "df_mar2014['rc_east'] = r * np.sin(theta) * np.sin(phi)\n",
    "df_mar2014.drop(['r_value'], axis=1, inplace=True)\n",
    "df_mar2014 = df_mar2014.resample('h').mean().dropna()\n",
    "df_mar2014 = df_mar2014['2014-03-01 00:00:00' : \"2014-03-31 23:59:00\"]\n",
    "df_mar2014"
   ]
  },
  {
   "cell_type": "code",
   "execution_count": null,
   "metadata": {},
   "outputs": [],
   "source": [
    "df_mar2014['inclination_category'] = pd.cut(df_mar2014['inclination'], bins=[0, 10, 40, 100], include_lowest=True, labels=['vertical', 'ordinary', 'extreme'])\n",
    "df_mar2014.hvplot.hist(y='inclination', by='inclination_category', bin_range=(0,95)).opts(fontsize={'xticks': 12.5, 'yticks': 12.5})"
   ]
  },
  {
   "cell_type": "code",
   "execution_count": null,
   "metadata": {},
   "outputs": [],
   "source": [
    "df_mar2014.inclination.hvplot.violin(by='index.day', title='March Inclination 2014')"
   ]
  },
  {
   "cell_type": "code",
   "execution_count": null,
   "metadata": {},
   "outputs": [],
   "source": [
    "df_mar2014.rc_north.hvplot.violin(by='index.day', title='March Azimuth North 2014',ylim=(-1, 1)).opts(fontsize={'xticks': 12, 'yticks': 12, 'title': 12, 'ylabel': 12, 'xlabel': 12}) * hv.HLine(0)"
   ]
  },
  {
   "cell_type": "code",
   "execution_count": null,
   "metadata": {},
   "outputs": [],
   "source": [
    "df_marwd2014T = df_wd2014T['2014-03-01 00:00:00' : \"2014-03-31 23:59:00\"]\n",
    "df_marwd2014T.head()"
   ]
  },
  {
   "cell_type": "code",
   "execution_count": null,
   "metadata": {},
   "outputs": [],
   "source": [
    "df_marwd2014C = df_wd2014C['2014-03-01 00:00:00' : \"2014-03-31 23:59:00\"]\n",
    "df_marwd2014C.head()"
   ]
  },
  {
   "cell_type": "code",
   "execution_count": null,
   "metadata": {},
   "outputs": [],
   "source": [
    "df_marwd2014T.wd_north.hvplot.violin(by='index.day') * hv.HLine(0)"
   ]
  },
  {
   "cell_type": "code",
   "execution_count": null,
   "metadata": {},
   "outputs": [],
   "source": [
    "df_marwd2014C.wd_north.hvplot.violin(by='index.day') * hv.HLine(0)"
   ]
  },
  {
   "cell_type": "code",
   "execution_count": null,
   "metadata": {},
   "outputs": [],
   "source": [
    "df_marwd2014C.wd_north2.hvplot.violin(by='index.day') * hv.HLine(0)"
   ]
  },
  {
   "cell_type": "markdown",
   "metadata": {},
   "source": [
    "**April**"
   ]
  },
  {
   "cell_type": "code",
   "execution_count": null,
   "metadata": {},
   "outputs": [],
   "source": [
    "!echo 'date,inclination,azimuth,minimum,maximum,sum1,sum2' | cat - ~jovyan/data/covis_data/data2014/aprang14.dat > ~jovyan/data/covis_data/temp.txt\n",
    "!sed 's/ /,/g' ~jovyan/data/covis_data/temp.txt > ~jovyan/data/covis_data/data2014/aprang14.csv\n",
    "!rm ~jovyan/data/covis_data/temp*\n",
    "!head /home/jovyan/data/covis_data/data2014/aprang14.csv"
   ]
  },
  {
   "cell_type": "code",
   "execution_count": null,
   "metadata": {},
   "outputs": [],
   "source": [
    "path = '/home/jovyan/data/covis_data/data2014/aprang14.csv' \n",
    "df_apr2014 = pd.read_csv(path, sep=\",\")\n",
    "df_apr2014['year'] = '2014'\n",
    "df_apr2014['datetime'] = pd.to_datetime(df_apr2014.year, format='%Y') + pd.to_timedelta(df_apr2014.date - 1, unit='d')\n",
    "df_apr2014['datetime'] = df_apr2014['datetime'].dt.round('1s')\n",
    "df_apr2014 = df_apr2014.set_index('datetime')\n",
    "df_apr2014.drop(['date', 'year'], axis=1,inplace=True)\n",
    "df_apr2014 = df_apr2014.rename_axis(None)\n",
    "#fix for azimuth angle, 90 - azimuth then recomputation for any values that aren't in between 0 and 360 \n",
    "df_apr2014.azimuth = df_apr2014.azimuth.rsub(90)\n",
    "df_apr2014['azimuth'] %= 360 \n",
    "df_apr2014['minimum'] = pd.to_numeric(df_apr2014['minimum'], errors='coerce')\n",
    "df_apr2014['azirads'] = df_apr2014['azimuth']*(np.pi/180)\n",
    "df_apr2014['incrads'] = df_apr2014['inclination']*(np.pi/180)\n",
    "r = df_apr2014['r_value'] = 1\n",
    "theta = df_apr2014['azimuth']\n",
    "phi = df_apr2014['inclination']\n",
    "df_apr2014['rc_north'] = r * np.sin(theta) * np.cos(phi)\n",
    "df_apr2014['rc_east'] = r * np.sin(theta) * np.sin(phi)\n",
    "df_apr2014.drop(['r_value'], axis=1, inplace=True)\n",
    "df_apr2014 = df_apr2014.resample('h').mean().dropna()\n",
    "df_apr2014 = df_apr2014['2014-04-01 00:00:00' : \"2014-04-30 23:59:00\"]\n",
    "df_apr2014"
   ]
  },
  {
   "cell_type": "code",
   "execution_count": null,
   "metadata": {},
   "outputs": [],
   "source": [
    "df_apr2014['inclination_category'] = pd.cut(df_apr2014['inclination'], bins=[0, 10, 40, 100], include_lowest=True, labels=['vertical', 'ordinary', 'extreme'])\n",
    "df_apr2014.hvplot.hist(y='inclination', by='inclination_category', bin_range=(0,95)).opts(fontsize={'xticks': 12.5, 'yticks': 12.5})"
   ]
  },
  {
   "cell_type": "code",
   "execution_count": null,
   "metadata": {},
   "outputs": [],
   "source": [
    "df_apr2014.inclination.hvplot.violin(by='index.day', title='April Inclination 2014')"
   ]
  },
  {
   "cell_type": "code",
   "execution_count": null,
   "metadata": {},
   "outputs": [],
   "source": [
    "df_apr2014.rc_north.hvplot.violin(by='index.day', title='April Azimuth North 2014',ylim=(-1, 1)).opts(fontsize={'xticks': 12, 'yticks': 12, 'title': 12, 'ylabel': 12, 'xlabel': 12}) * hv.HLine(0)"
   ]
  },
  {
   "cell_type": "code",
   "execution_count": null,
   "metadata": {},
   "outputs": [],
   "source": [
    "df_aprwd2014T = df_wd2014T['2014-04-01 00:00:00' : \"2014-04-30 23:59:00\"]\n",
    "df_aprwd2014T.head()"
   ]
  },
  {
   "cell_type": "code",
   "execution_count": null,
   "metadata": {},
   "outputs": [],
   "source": [
    "df_aprwd2014C = df_wd2014C['2014-04-01 00:00:00' : \"2014-04-30 23:59:00\"]\n",
    "df_aprwd2014C.head()"
   ]
  },
  {
   "cell_type": "code",
   "execution_count": null,
   "metadata": {},
   "outputs": [],
   "source": [
    "df_aprwd2014T.wd_north.hvplot.violin(by='index.day') * hv.HLine(0)"
   ]
  },
  {
   "cell_type": "code",
   "execution_count": null,
   "metadata": {},
   "outputs": [],
   "source": [
    "df_aprwd2014C.wd_north.hvplot.violin(by='index.day') * hv.HLine(0)"
   ]
  },
  {
   "cell_type": "code",
   "execution_count": null,
   "metadata": {},
   "outputs": [],
   "source": [
    "df_aprwd2014C.wd_north2.hvplot.violin(by='index.day') * hv.HLine(0)"
   ]
  },
  {
   "cell_type": "markdown",
   "metadata": {},
   "source": [
    "**May**"
   ]
  },
  {
   "cell_type": "code",
   "execution_count": null,
   "metadata": {},
   "outputs": [],
   "source": [
    "!echo 'date,inclination,azimuth,minimum,maximum,sum1,sum2' | cat - ~jovyan/data/covis_data/data2014/mayang14.dat > ~jovyan/data/covis_data/temp.txt\n",
    "!sed 's/ /,/g' ~jovyan/data/covis_data/temp.txt > ~jovyan/data/covis_data/data2014/mayang14.csv\n",
    "!rm ~jovyan/data/covis_data/temp*\n",
    "!head /home/jovyan/data/covis_data/data2014/mayang14.csv"
   ]
  },
  {
   "cell_type": "code",
   "execution_count": null,
   "metadata": {},
   "outputs": [],
   "source": [
    "path = '/home/jovyan/data/covis_data/data2014/mayang14.csv' \n",
    "df_may2014 = pd.read_csv(path, sep=\",\")\n",
    "df_may2014['year'] = '2014'\n",
    "df_may2014['datetime'] = pd.to_datetime(df_may2014.year, format='%Y') + pd.to_timedelta(df_may2014.date - 1, unit='d')\n",
    "df_may2014['datetime'] = df_may2014['datetime'].dt.round('1s')\n",
    "df_may2014 = df_may2014.set_index('datetime')\n",
    "df_may2014.drop(['date', 'year'], axis=1,inplace=True)\n",
    "df_may2014 = df_may2014.rename_axis(None)\n",
    "#fix for azimuth angle, 90 - azimuth then recomputation for any values that aren't in between 0 and 360 \n",
    "df_may2014.azimuth = df_may2014.azimuth.rsub(90)\n",
    "df_may2014['azimuth'] %= 360 \n",
    "df_may2014['minimum'] = pd.to_numeric(df_may2014['minimum'], errors='coerce')\n",
    "df_may2014['azirads'] = df_may2014['azimuth']*(np.pi/180)\n",
    "df_may2014['incrads'] = df_may2014['inclination']*(np.pi/180)\n",
    "r = df_may2014['r_value'] = 1\n",
    "theta = df_may2014['azimuth']\n",
    "phi = df_may2014['inclination']\n",
    "df_may2014['rc_north'] = r * np.sin(theta) * np.cos(phi)\n",
    "df_may2014['rc_east'] = r * np.sin(theta) * np.sin(phi)\n",
    "df_may2014.drop(['r_value'], axis=1, inplace=True)\n",
    "df_may2014 = df_may2014.resample('h').mean().dropna()\n",
    "df_may2014 = df_may2014['2014-05-01 00:00:00' : \"2014-05-31 23:59:00\"]\n",
    "df_may2014"
   ]
  },
  {
   "cell_type": "code",
   "execution_count": null,
   "metadata": {},
   "outputs": [],
   "source": [
    "df_may2014['inclination_category'] = pd.cut(df_may2014['inclination'], bins=[0, 10, 40, 100], include_lowest=True, labels=['vertical', 'ordinary', 'extreme'])\n",
    "df_may2014.hvplot.hist(y='inclination', by='inclination_category', bin_range=(0,95)).opts(fontsize={'xticks': 12.5, 'yticks': 12.5})"
   ]
  },
  {
   "cell_type": "code",
   "execution_count": null,
   "metadata": {},
   "outputs": [],
   "source": [
    "df_may2014.inclination.hvplot.violin(by='index.day', title='May Inclination 2014')"
   ]
  },
  {
   "cell_type": "code",
   "execution_count": null,
   "metadata": {},
   "outputs": [],
   "source": [
    "df_may2014.rc_north.hvplot.violin(by='index.day', title='May Azimuth North 2014',ylim=(-1, 1)).opts(fontsize={'xticks': 12, 'yticks': 12, 'title': 12, 'ylabel': 12, 'xlabel': 12}) * hv.HLine(0)"
   ]
  },
  {
   "cell_type": "code",
   "execution_count": null,
   "metadata": {},
   "outputs": [],
   "source": [
    "df_maywd2014T = df_wd2014T['2014-05-01 00:00:00' : \"2014-05-31 23:59:00\"]\n",
    "df_maywd2014T.head()"
   ]
  },
  {
   "cell_type": "code",
   "execution_count": null,
   "metadata": {},
   "outputs": [],
   "source": [
    "df_maywd2014C = df_wd2014C['2014-05-01 00:00:00' : \"2014-05-31 23:59:00\"]\n",
    "df_maywd2014C.head()"
   ]
  },
  {
   "cell_type": "code",
   "execution_count": null,
   "metadata": {},
   "outputs": [],
   "source": [
    "df_maywd2014T.wd_north.hvplot.violin(by='index.day') * hv.HLine(0)"
   ]
  },
  {
   "cell_type": "code",
   "execution_count": null,
   "metadata": {},
   "outputs": [],
   "source": [
    "df_maywd2014C.wd_north.hvplot.violin(by='index.day') * hv.HLine(0)"
   ]
  },
  {
   "cell_type": "code",
   "execution_count": null,
   "metadata": {},
   "outputs": [],
   "source": [
    "df_maywd2014C.wd_north2.hvplot.violin(by='index.day') * hv.HLine(0)"
   ]
  },
  {
   "cell_type": "markdown",
   "metadata": {},
   "source": [
    "**June**"
   ]
  },
  {
   "cell_type": "code",
   "execution_count": null,
   "metadata": {},
   "outputs": [],
   "source": [
    "!echo 'date,inclination,azimuth,minimum,maximum,sum1,sum2' | cat - ~jovyan/data/covis_data/data2014/junang14.dat > ~jovyan/data/covis_data/temp.txt\n",
    "!sed 's/ /,/g' ~jovyan/data/covis_data/temp.txt > ~jovyan/data/covis_data/data2014/junang14.csv\n",
    "!rm ~jovyan/data/covis_data/temp*\n",
    "!head /home/jovyan/data/covis_data/data2014/junang14.csv"
   ]
  },
  {
   "cell_type": "code",
   "execution_count": null,
   "metadata": {},
   "outputs": [],
   "source": [
    "path = '/home/jovyan/data/covis_data/data2014/junang14.csv' \n",
    "df_jun2014 = pd.read_csv(path, sep=\",\")\n",
    "df_jun2014['year'] = '2014'\n",
    "df_jun2014['datetime'] = pd.to_datetime(df_jun2014.year, format='%Y') + pd.to_timedelta(df_jun2014.date - 1, unit='d')\n",
    "df_jun2014['datetime'] = df_jun2014['datetime'].dt.round('1s')\n",
    "df_jun2014 = df_jun2014.set_index('datetime')\n",
    "df_jun2014.drop(['date', 'year'], axis=1,inplace=True)\n",
    "df_jun2014 = df_jun2014.rename_axis(None)\n",
    "#fix for azimuth angle, 90 - azimuth then recomputation for any values that aren't in between 0 and 360 \n",
    "df_jun2014.azimuth = df_jun2014.azimuth.rsub(90)\n",
    "df_jun2014['azimuth'] %= 360 \n",
    "df_jun2014['minimum'] = pd.to_numeric(df_jun2014['minimum'], errors='coerce')\n",
    "df_jun2014['azirads'] = df_jun2014['azimuth']*(np.pi/180)\n",
    "df_jun2014['incrads'] = df_jun2014['inclination']*(np.pi/180)\n",
    "r = df_jun2014['r_value'] = 1\n",
    "theta = df_jun2014['azimuth']\n",
    "phi = df_jun2014['inclination']\n",
    "df_jun2014['rc_north'] = r * np.sin(theta) * np.cos(phi)\n",
    "df_jun2014['rc_east'] = r * np.sin(theta) * np.sin(phi)\n",
    "df_jun2014.drop(['r_value'], axis=1, inplace=True)\n",
    "df_jun2014 = df_jun2014.resample('h').mean().dropna()\n",
    "df_jun2014 = df_jun2014['2014-06-01 00:00:00' : \"2014-06-30 23:59:00\"]\n",
    "df_jun2014.head()"
   ]
  },
  {
   "cell_type": "code",
   "execution_count": null,
   "metadata": {},
   "outputs": [],
   "source": [
    "df_jun2014['inclination_category'] = pd.cut(df_jun2014['inclination'], bins=[0, 10, 40, 100], include_lowest=True, labels=['vertical', 'ordinary', 'extreme'])\n",
    "df_jun2014.hvplot.hist(y='inclination', by='inclination_category', bin_range=(0,95)).opts(fontsize={'xticks': 12.5, 'yticks': 12.5})"
   ]
  },
  {
   "cell_type": "code",
   "execution_count": null,
   "metadata": {},
   "outputs": [],
   "source": [
    "df_jun2014.inclination.hvplot.violin(by='index.day', title='June Inclination 2014')"
   ]
  },
  {
   "cell_type": "code",
   "execution_count": null,
   "metadata": {},
   "outputs": [],
   "source": [
    "df_jun2014.rc_north.hvplot.violin(by='index.day', title='June Azimuth North 2014',ylim=(-1, 1)).opts(fontsize={'xticks': 12, 'yticks': 12, 'title': 12, 'ylabel': 12, 'xlabel': 12}) * hv.HLine(0)"
   ]
  },
  {
   "cell_type": "code",
   "execution_count": null,
   "metadata": {},
   "outputs": [],
   "source": [
    "df_junwd2014T = df_wd2014T['2014-06-01 00:00:00' : \"2014-06-30 23:59:00\"]\n",
    "df_junwd2014T.head()"
   ]
  },
  {
   "cell_type": "code",
   "execution_count": null,
   "metadata": {},
   "outputs": [],
   "source": [
    "df_junwd2014C = df_wd2014C['2014-06-01 00:00:00' : \"2014-06-30 23:59:00\"]\n",
    "df_junwd2014C.head()"
   ]
  },
  {
   "cell_type": "code",
   "execution_count": null,
   "metadata": {},
   "outputs": [],
   "source": [
    "df_junwd2014T.wd_north.hvplot.violin(by='index.day') * hv.HLine(0)"
   ]
  },
  {
   "cell_type": "code",
   "execution_count": null,
   "metadata": {},
   "outputs": [],
   "source": [
    "df_junwd2014C.wd_north.hvplot.violin(by='index.day') * hv.HLine(0)"
   ]
  },
  {
   "cell_type": "code",
   "execution_count": null,
   "metadata": {},
   "outputs": [],
   "source": [
    "df_junwd2014C.wd_north2.hvplot.violin(by='index.day') * hv.HLine(0)"
   ]
  },
  {
   "cell_type": "markdown",
   "metadata": {},
   "source": [
    "**July**"
   ]
  },
  {
   "cell_type": "code",
   "execution_count": null,
   "metadata": {},
   "outputs": [],
   "source": [
    "!echo 'date,inclination,azimuth,minimum,maximum,sum1,sum2' | cat - ~jovyan/data/covis_data/data2014/julang14.dat > ~jovyan/data/covis_data/temp.txt\n",
    "!sed 's/ /,/g' ~jovyan/data/covis_data/temp.txt > ~jovyan/data/covis_data/data2014/julang14.csv\n",
    "!rm ~jovyan/data/covis_data/temp*\n",
    "!head /home/jovyan/data/covis_data/data2014/julang14.csv"
   ]
  },
  {
   "cell_type": "code",
   "execution_count": null,
   "metadata": {},
   "outputs": [],
   "source": [
    "path = '/home/jovyan/data/covis_data/data2014/julang14.csv' \n",
    "df_jul2014 = pd.read_csv(path, sep=\",\")\n",
    "df_jul2014['year'] = '2014'\n",
    "df_jul2014['datetime'] = pd.to_datetime(df_jul2014.year, format='%Y') + pd.to_timedelta(df_jul2014.date - 1, unit='d')\n",
    "df_jul2014['datetime'] = df_jul2014['datetime'].dt.round('1s')\n",
    "df_jul2014 = df_jul2014.set_index('datetime')\n",
    "df_jul2014.drop(['date', 'year'], axis=1,inplace=True)\n",
    "df_jul2014 = df_jul2014.rename_axis(None)\n",
    "#fix for azimuth angle, 90 - azimuth then recomputation for any values that aren't in between 0 and 360 \n",
    "df_jul2014.azimuth = df_jul2014.azimuth.rsub(90)\n",
    "df_jul2014['azimuth'] %= 360 \n",
    "df_jul2014['minimum'] = pd.to_numeric(df_jul2014['minimum'], errors='coerce')\n",
    "df_jul2014['azirads'] = df_jul2014['azimuth']*(np.pi/180)\n",
    "df_jul2014['incrads'] = df_jul2014['inclination']*(np.pi/180)\n",
    "r = df_jul2014['r_value'] = 1\n",
    "theta = df_jul2014['azimuth']\n",
    "phi = df_jul2014['inclination']\n",
    "df_jul2014['rc_north'] = r * np.sin(theta) * np.cos(phi)\n",
    "df_jul2014['rc_east'] = r * np.sin(theta) * np.sin(phi)\n",
    "df_jul2014.drop(['r_value'], axis=1, inplace=True)\n",
    "df_jul2014 = df_jul2014.resample('h').mean().dropna()\n",
    "df_jul2014 = df_jul2014['2014-07-01 00:00:00' : \"2014-07-31 23:59:00\"]\n",
    "df_jul2014"
   ]
  },
  {
   "cell_type": "code",
   "execution_count": null,
   "metadata": {},
   "outputs": [],
   "source": [
    "df_jul2014['inclination_category'] = pd.cut(df_jul2014['inclination'], bins=[0, 10, 40, 100], include_lowest=True, labels=['vertical', 'ordinary', 'extreme'])\n",
    "df_jul2014.hvplot.hist(y='inclination', by='inclination_category', bin_range=(0,95)).opts(fontsize={'xticks': 12.5, 'yticks': 12.5})"
   ]
  },
  {
   "cell_type": "code",
   "execution_count": null,
   "metadata": {},
   "outputs": [],
   "source": [
    "df_jul2014.inclination.hvplot.violin(by='index.day', title='July Inclination 2014')"
   ]
  },
  {
   "cell_type": "code",
   "execution_count": null,
   "metadata": {},
   "outputs": [],
   "source": [
    "df_jul2014.rc_north.hvplot.violin(by='index.day', title='July Azimuth North 2014',ylim=(-1, 1)).opts(fontsize={'xticks': 12, 'yticks': 12, 'title': 12, 'ylabel': 12, 'xlabel': 12}) * hv.HLine(0)"
   ]
  },
  {
   "cell_type": "code",
   "execution_count": null,
   "metadata": {},
   "outputs": [],
   "source": [
    "df_julwd2014T = df_wd2014T['2014-07-01 00:00:00' : \"2014-07-31 23:59:00\"]\n",
    "df_julwd2014T.head()"
   ]
  },
  {
   "cell_type": "code",
   "execution_count": null,
   "metadata": {},
   "outputs": [],
   "source": [
    "df_julwd2014C = df_wd2014C['2014-07-01 00:00:00' : \"2014-07-31 23:59:00\"]\n",
    "df_julwd2014C.head()"
   ]
  },
  {
   "cell_type": "code",
   "execution_count": null,
   "metadata": {},
   "outputs": [],
   "source": [
    "df_julwd2014T.wd_north.hvplot.violin(by='index.day') * hv.HLine(0)"
   ]
  },
  {
   "cell_type": "code",
   "execution_count": null,
   "metadata": {},
   "outputs": [],
   "source": [
    "df_julwd2014C.wd_north.hvplot.violin(by='index.day') * hv.HLine(0)"
   ]
  },
  {
   "cell_type": "code",
   "execution_count": null,
   "metadata": {},
   "outputs": [],
   "source": [
    "df_julwd2014C.wd_north2.hvplot.violin(by='index.day') * hv.HLine(0)"
   ]
  },
  {
   "cell_type": "markdown",
   "metadata": {},
   "source": [
    "**August**"
   ]
  },
  {
   "cell_type": "code",
   "execution_count": null,
   "metadata": {},
   "outputs": [],
   "source": [
    "!echo 'date,inclination,azimuth,minimum,maximum,sum1,sum2' | cat - ~jovyan/data/covis_data/data2014/augang14.dat > ~jovyan/data/covis_data/temp.txt\n",
    "!sed 's/ /,/g' ~jovyan/data/covis_data/temp.txt > ~jovyan/data/covis_data/data2014/augang14.csv\n",
    "!rm ~jovyan/data/covis_data/temp*\n",
    "!head /home/jovyan/data/covis_data/data2014/augang14.csv"
   ]
  },
  {
   "cell_type": "code",
   "execution_count": null,
   "metadata": {},
   "outputs": [],
   "source": [
    "path = '/home/jovyan/data/covis_data/data2014/augang14.csv' \n",
    "df_aug2014 = pd.read_csv(path, sep=\",\")\n",
    "df_aug2014['year'] = '2014'\n",
    "df_aug2014['datetime'] = pd.to_datetime(df_aug2014.year, format='%Y') + pd.to_timedelta(df_aug2014.date - 1, unit='d')\n",
    "df_aug2014['datetime'] = df_aug2014['datetime'].dt.round('1s')\n",
    "df_aug2014 = df_aug2014.set_index('datetime')\n",
    "df_aug2014.drop(['date', 'year'], axis=1,inplace=True)\n",
    "df_aug2014 = df_aug2014.rename_axis(None)\n",
    "#fix for azimuth angle, 90 - azimuth then recomputation for any values that aren't in between 0 and 360 \n",
    "df_aug2014.azimuth = df_aug2014.azimuth.rsub(90)\n",
    "df_aug2014['azimuth'] %= 360 \n",
    "df_aug2014['minimum'] = pd.to_numeric(df_aug2014['minimum'], errors='coerce')\n",
    "df_aug2014['azirads'] = df_aug2014['azimuth']*(np.pi/180)\n",
    "df_aug2014['incrads'] = df_aug2014['inclination']*(np.pi/180)\n",
    "r = df_aug2014['r_value'] = 1\n",
    "theta = df_aug2014['azimuth']\n",
    "phi = df_aug2014['inclination']\n",
    "df_aug2014['rc_north'] = r * np.sin(theta) * np.cos(phi)\n",
    "df_aug2014['rc_east'] = r * np.sin(theta) * np.sin(phi)\n",
    "df_aug2014.drop(['r_value'], axis=1, inplace=True)\n",
    "df_aug2014 = df_aug2014.resample('h').mean().dropna()\n",
    "df_aug2014 = df_aug2014['2014-08-01 00:00:00' : \"2014-08-31 23:59:00\"]\n",
    "df_aug2014"
   ]
  },
  {
   "cell_type": "code",
   "execution_count": null,
   "metadata": {},
   "outputs": [],
   "source": [
    "df_aug2014['inclination_category'] = pd.cut(df_aug2014['inclination'], bins=[0, 10, 40, 100], include_lowest=True, labels=['vertical', 'ordinary', 'extreme'])\n",
    "df_aug2014.hvplot.hist(y='inclination', by='inclination_category', bin_range=(0,95)).opts(fontsize={'xticks': 12.5, 'yticks': 12.5})"
   ]
  },
  {
   "cell_type": "code",
   "execution_count": null,
   "metadata": {},
   "outputs": [],
   "source": [
    "df_aug2014.inclination.hvplot.violin(by='index.day', title='August Inclination 2014')"
   ]
  },
  {
   "cell_type": "code",
   "execution_count": null,
   "metadata": {},
   "outputs": [],
   "source": [
    "df_aug2014.rc_north.hvplot.violin(by='index.day', title='August Azimuth North 2014',ylim=(-1, 1)).opts(fontsize={'xticks': 12, 'yticks': 12, 'title': 12, 'ylabel': 12, 'xlabel': 12}) * hv.HLine(0)"
   ]
  },
  {
   "cell_type": "code",
   "execution_count": null,
   "metadata": {},
   "outputs": [],
   "source": [
    "df_augwd2014T = df_wd2014T['2014-08-01 00:00:00' : \"2014-08-31 23:59:00\"]\n",
    "df_augwd2014T.head()"
   ]
  },
  {
   "cell_type": "code",
   "execution_count": null,
   "metadata": {},
   "outputs": [],
   "source": [
    "df_augwd2014C = df_wd2014C['2014-08-01 00:00:00' : \"2014-08-31 23:59:00\"]\n",
    "df_augwd2014C.head()"
   ]
  },
  {
   "cell_type": "code",
   "execution_count": null,
   "metadata": {},
   "outputs": [],
   "source": [
    "df_augwd2014T.wd_north.hvplot.violin(by='index.day') * hv.HLine(0)"
   ]
  },
  {
   "cell_type": "code",
   "execution_count": null,
   "metadata": {},
   "outputs": [],
   "source": [
    "df_augwd2014C.wd_north.hvplot.violin(by='index.day') * hv.HLine(0)"
   ]
  },
  {
   "cell_type": "code",
   "execution_count": null,
   "metadata": {},
   "outputs": [],
   "source": [
    "df_augwd2014C.wd_north2.hvplot.violin(by='index.day') * hv.HLine(0)"
   ]
  },
  {
   "cell_type": "markdown",
   "metadata": {},
   "source": [
    "**September**"
   ]
  },
  {
   "cell_type": "code",
   "execution_count": null,
   "metadata": {},
   "outputs": [],
   "source": [
    "!echo 'date,inclination,azimuth,minimum,maximum,sum1,sum2' | cat - ~jovyan/data/covis_data/data2014/sepang14.dat > ~jovyan/data/covis_data/temp.txt\n",
    "!sed 's/ /,/g' ~jovyan/data/covis_data/temp.txt > ~jovyan/data/covis_data/data2014/sepang14.csv\n",
    "!rm ~jovyan/data/covis_data/temp*\n",
    "!head /home/jovyan/data/covis_data/data2014/sepang14.csv"
   ]
  },
  {
   "cell_type": "code",
   "execution_count": null,
   "metadata": {},
   "outputs": [],
   "source": [
    "path = '/home/jovyan/data/covis_data/data2014/sepang14.csv' \n",
    "df_sep2014 = pd.read_csv(path, sep=\",\")\n",
    "df_sep2014['year'] = '2014'\n",
    "df_sep2014['datetime'] = pd.to_datetime(df_sep2014.year, format='%Y') + pd.to_timedelta(df_sep2014.date - 1, unit='d')\n",
    "df_sep2014['datetime'] = df_sep2014['datetime'].dt.round('1s')\n",
    "df_sep2014 = df_sep2014.set_index('datetime')\n",
    "df_sep2014.drop(['date', 'year'], axis=1,inplace=True)\n",
    "df_sep2014 = df_sep2014.rename_axis(None)\n",
    "#fix for azimuth angle, 90 - azimuth then recomputation for any values that aren't in between 0 and 360 \n",
    "df_sep2014.azimuth = df_sep2014.azimuth.rsub(90)\n",
    "df_sep2014['azimuth'] %= 360 \n",
    "df_sep2014['minimum'] = pd.to_numeric(df_sep2014['minimum'], errors='coerce')\n",
    "df_sep2014['azirads'] = df_sep2014['azimuth']*(np.pi/180)\n",
    "df_sep2014['incrads'] = df_sep2014['inclination']*(np.pi/180)\n",
    "r = df_sep2014['r_value'] = 1\n",
    "theta = df_sep2014['azimuth']\n",
    "phi = df_sep2014['inclination']\n",
    "df_sep2014['rc_north'] = r * np.sin(theta) * np.cos(phi)\n",
    "df_sep2014['rc_east'] = r * np.sin(theta) * np.sin(phi)\n",
    "df_sep2014.drop(['r_value'], axis=1, inplace=True)\n",
    "df_sep2014 = df_sep2014.resample('h').mean().dropna()\n",
    "df_sep2014 = df_sep2014['2014-09-01 00:00:00' : \"2014-09-30 23:59:00\"]\n",
    "df_sep2014"
   ]
  },
  {
   "cell_type": "code",
   "execution_count": null,
   "metadata": {},
   "outputs": [],
   "source": [
    "df_sep2014['inclination_category'] = pd.cut(df_sep2014['inclination'], bins=[0, 10, 40, 100], include_lowest=True, labels=['vertical', 'ordinary', 'extreme'])\n",
    "df_sep2014.hvplot.hist(y='inclination', by='inclination_category', bin_range=(0,95)).opts(fontsize={'xticks': 12.5, 'yticks': 12.5})"
   ]
  },
  {
   "cell_type": "code",
   "execution_count": null,
   "metadata": {},
   "outputs": [],
   "source": [
    "df_sep2014.inclination.hvplot.violin(by='index.day', title='September Inclination 2014')"
   ]
  },
  {
   "cell_type": "code",
   "execution_count": null,
   "metadata": {},
   "outputs": [],
   "source": [
    "df_sep2014.rc_north.hvplot.violin(by='index.day', title='September Azimuth North 2014',ylim=(-1, 1)).opts(fontsize={'xticks': 12, 'yticks': 12, 'title': 12, 'ylabel': 12, 'xlabel': 12}) * hv.HLine(0)"
   ]
  },
  {
   "cell_type": "code",
   "execution_count": null,
   "metadata": {},
   "outputs": [],
   "source": [
    "df_sepwd2014T = df_wd2014T['2014-09-01 00:00:00' : \"2014-09-30 23:59:00\"]\n",
    "df_sepwd2014T.head()"
   ]
  },
  {
   "cell_type": "code",
   "execution_count": null,
   "metadata": {},
   "outputs": [],
   "source": [
    "df_sepwd2014C = df_wd2014C['2014-09-01 00:00:00' : \"2014-09-30 23:59:00\"]\n",
    "df_sepwd2014C.head()"
   ]
  },
  {
   "cell_type": "code",
   "execution_count": null,
   "metadata": {},
   "outputs": [],
   "source": [
    "df_sepwd2014T.wd_north.hvplot.violin(by='index.day') * hv.HLine(0)"
   ]
  },
  {
   "cell_type": "code",
   "execution_count": null,
   "metadata": {},
   "outputs": [],
   "source": [
    "df_sepwd2014C.wd_north.hvplot.violin(by='index.day') * hv.HLine(0)"
   ]
  },
  {
   "cell_type": "code",
   "execution_count": null,
   "metadata": {},
   "outputs": [],
   "source": [
    "df_sepwd2014C.wd_north2.hvplot.violin(by='index.day') * hv.HLine(0)"
   ]
  },
  {
   "cell_type": "markdown",
   "metadata": {},
   "source": [
    "**October**"
   ]
  },
  {
   "cell_type": "code",
   "execution_count": null,
   "metadata": {},
   "outputs": [],
   "source": [
    "!echo 'date,inclination,azimuth,minimum,maximum,sum1,sum2' | cat - ~jovyan/data/covis_data/data2014/octang14.dat > ~jovyan/data/covis_data/temp.txt\n",
    "!sed 's/ /,/g' ~jovyan/data/covis_data/temp.txt > ~jovyan/data/covis_data/data2014/octang14.csv\n",
    "!rm ~jovyan/data/covis_data/temp*\n",
    "!head /home/jovyan/data/covis_data/data2014/octang14.csv"
   ]
  },
  {
   "cell_type": "code",
   "execution_count": null,
   "metadata": {},
   "outputs": [],
   "source": [
    "path = '/home/jovyan/data/covis_data/data2014/octang14.csv' \n",
    "df_oct2014 = pd.read_csv(path, sep=\",\")\n",
    "df_oct2014['year'] = '2014'\n",
    "df_oct2014['datetime'] = pd.to_datetime(df_oct2014.year, format='%Y') + pd.to_timedelta(df_oct2014.date - 1, unit='d')\n",
    "df_oct2014['datetime'] = df_oct2014['datetime'].dt.round('1s')\n",
    "df_oct2014 = df_oct2014.set_index('datetime')\n",
    "df_oct2014.drop(['date', 'year'], axis=1,inplace=True)\n",
    "df_oct2014 = df_oct2014.rename_axis(None)\n",
    "#fix for azimuth angle, 90 - azimuth then recomputation for any values that aren't in between 0 and 360 \n",
    "df_oct2014.azimuth = df_oct2014.azimuth.rsub(90)\n",
    "df_oct2014['azimuth'] %= 360 \n",
    "df_oct2014['minimum'] = pd.to_numeric(df_oct2014['minimum'], errors='coerce')\n",
    "df_oct2014['azirads'] = df_oct2014['azimuth']*(np.pi/180)\n",
    "df_oct2014['incrads'] = df_oct2014['inclination']*(np.pi/180)\n",
    "r = df_oct2014['r_value'] = 1\n",
    "theta = df_oct2014['azimuth']\n",
    "phi = df_oct2014['inclination']\n",
    "df_oct2014['rc_north'] = r * np.sin(theta) * np.cos(phi)\n",
    "df_oct2014['rc_east'] = r * np.sin(theta) * np.sin(phi)\n",
    "df_oct2014.drop(['r_value'], axis=1, inplace=True)\n",
    "df_oct2014 = df_oct2014.resample('h').mean().dropna()\n",
    "df_oct2014 = df_oct2014['2014-10-01 00:00:00' : \"2014-10-31 23:59:00\"]\n",
    "df_oct2014"
   ]
  },
  {
   "cell_type": "code",
   "execution_count": null,
   "metadata": {},
   "outputs": [],
   "source": [
    "df_oct2014['inclination_category'] = pd.cut(df_oct2014['inclination'], bins=[0, 10, 40, 100], include_lowest=True, labels=['vertical', 'ordinary', 'extreme'])\n",
    "df_oct2014.hvplot.hist(y='inclination', by='inclination_category', bin_range=(0,95)).opts(fontsize={'xticks': 12.5, 'yticks': 12.5})"
   ]
  },
  {
   "cell_type": "code",
   "execution_count": null,
   "metadata": {},
   "outputs": [],
   "source": [
    "df_oct2014.inclination.hvplot.violin(by='index.day', title='October Inclination 2014')"
   ]
  },
  {
   "cell_type": "code",
   "execution_count": null,
   "metadata": {},
   "outputs": [],
   "source": [
    "df_oct2014.rc_north.hvplot.violin(by='index.day', title='October Azimuth North 2014',ylim=(-1, 1)).opts(fontsize={'xticks': 12, 'yticks': 12, 'title': 12, 'ylabel': 12, 'xlabel': 12}) * hv.HLine(0)"
   ]
  },
  {
   "cell_type": "code",
   "execution_count": null,
   "metadata": {},
   "outputs": [],
   "source": [
    "df_octwd2014T = df_wd2014T['2014-10-01 00:00:00' : \"2014-10-31 23:59:00\"]\n",
    "df_octwd2014T.head()"
   ]
  },
  {
   "cell_type": "code",
   "execution_count": null,
   "metadata": {},
   "outputs": [],
   "source": [
    "df_octwd2014C = df_wd2014C['2014-10-01 00:00:00' : \"2014-10-31 23:59:00\"]\n",
    "df_octwd2014C.head()"
   ]
  },
  {
   "cell_type": "code",
   "execution_count": null,
   "metadata": {},
   "outputs": [],
   "source": [
    "df_octwd2014T.wd_north.hvplot.violin(by='index.day') * hv.HLine(0)"
   ]
  },
  {
   "cell_type": "code",
   "execution_count": null,
   "metadata": {},
   "outputs": [],
   "source": [
    "df_octwd2014C.wd_north.hvplot.violin(by='index.day') * hv.HLine(0)"
   ]
  },
  {
   "cell_type": "code",
   "execution_count": null,
   "metadata": {},
   "outputs": [],
   "source": [
    "df_octwd2014C.wd_north2.hvplot.violin(by='index.day') * hv.HLine(0)"
   ]
  },
  {
   "cell_type": "markdown",
   "metadata": {},
   "source": [
    "**November**"
   ]
  },
  {
   "cell_type": "code",
   "execution_count": null,
   "metadata": {},
   "outputs": [],
   "source": [
    "!echo 'date,inclination,azimuth,minimum,maximum,sum1,sum2' | cat - ~jovyan/data/covis_data/data2014/novang14.dat > ~jovyan/data/covis_data/temp.txt\n",
    "!sed 's/ /,/g' ~jovyan/data/covis_data/temp.txt > ~jovyan/data/covis_data/data2014/novang14.csv\n",
    "!rm ~jovyan/data/covis_data/temp*\n",
    "!head /home/jovyan/data/covis_data/data2014/novang14.csv"
   ]
  },
  {
   "cell_type": "code",
   "execution_count": null,
   "metadata": {},
   "outputs": [],
   "source": [
    "path = '/home/jovyan/data/covis_data/data2014/novang14.csv' \n",
    "df_nov2014 = pd.read_csv(path, sep=\",\")\n",
    "df_nov2014['year'] = '2014'\n",
    "df_nov2014['datetime'] = pd.to_datetime(df_nov2014.year, format='%Y') + pd.to_timedelta(df_nov2014.date - 1, unit='d')\n",
    "df_nov2014['datetime'] = df_nov2014['datetime'].dt.round('1s')\n",
    "df_nov2014 = df_nov2014.set_index('datetime')\n",
    "df_nov2014.drop(['date', 'year'], axis=1,inplace=True)\n",
    "df_nov2014 = df_nov2014.rename_axis(None)\n",
    "#fix for azimuth angle, 90 - azimuth then recomputation for any values that aren't in between 0 and 360 \n",
    "df_nov2014.azimuth = df_nov2014.azimuth.rsub(90)\n",
    "df_nov2014['azimuth'] %= 360 \n",
    "df_nov2014['minimum'] = pd.to_numeric(df_nov2014['minimum'], errors='coerce')\n",
    "df_nov2014['azirads'] = df_nov2014['azimuth']*(np.pi/180)\n",
    "df_nov2014['incrads'] = df_nov2014['inclination']*(np.pi/180)\n",
    "r = df_nov2014['r_value'] = 1\n",
    "theta = df_nov2014['azimuth']\n",
    "phi = df_nov2014['inclination']\n",
    "df_nov2014['rc_north'] = r * np.sin(theta) * np.cos(phi)\n",
    "df_nov2014['rc_east'] = r * np.sin(theta) * np.sin(phi)\n",
    "df_nov2014.drop(['r_value'], axis=1, inplace=True)\n",
    "df_nov2014 = df_nov2014.resample('h').mean().dropna()\n",
    "df_nov2014 = df_nov2014['2014-11-01 00:00:00' : \"2014-11-30 23:59:00\"]\n",
    "df_nov2014"
   ]
  },
  {
   "cell_type": "code",
   "execution_count": null,
   "metadata": {},
   "outputs": [],
   "source": [
    "df_nov2014['inclination_category'] = pd.cut(df_nov2014['inclination'], bins=[0, 10, 40, 100], include_lowest=True, labels=['vertical', 'ordinary', 'extreme'])\n",
    "df_nov2014.hvplot.hist(y='inclination', by='inclination_category', bin_range=(0,95)).opts(fontsize={'xticks': 12.5, 'yticks': 12.5})"
   ]
  },
  {
   "cell_type": "code",
   "execution_count": null,
   "metadata": {},
   "outputs": [],
   "source": [
    "df_nov2014.inclination.hvplot.violin(by='index.day', title='November Inclination 2014')"
   ]
  },
  {
   "cell_type": "code",
   "execution_count": null,
   "metadata": {},
   "outputs": [],
   "source": [
    "df_nov2014.rc_north.hvplot.violin(by='index.day', title='November Azimuth North 2014',ylim=(-1, 1)).opts(fontsize={'xticks': 12, 'yticks': 12, 'title': 12, 'ylabel': 12, 'xlabel': 12}) * hv.HLine(0)"
   ]
  },
  {
   "cell_type": "code",
   "execution_count": null,
   "metadata": {},
   "outputs": [],
   "source": [
    "df_novwd2014T = df_wd2014T['2014-11-01 00:00:00' : \"2014-11-30 23:59:00\"]\n",
    "df_novwd2014T.head()"
   ]
  },
  {
   "cell_type": "code",
   "execution_count": null,
   "metadata": {},
   "outputs": [],
   "source": [
    "df_novwd2014C = df_wd2014C['2014-11-01 00:00:00' : \"2014-11-30 23:59:00\"]\n",
    "df_novwd2014C.head()"
   ]
  },
  {
   "cell_type": "code",
   "execution_count": null,
   "metadata": {},
   "outputs": [],
   "source": [
    "df_novwd2014T.wd_north.hvplot.violin(by='index.day') * hv.HLine(0)"
   ]
  },
  {
   "cell_type": "code",
   "execution_count": null,
   "metadata": {},
   "outputs": [],
   "source": [
    "df_novwd2014C.wd_north.hvplot.violin(by='index.day') * hv.HLine(0)"
   ]
  },
  {
   "cell_type": "code",
   "execution_count": null,
   "metadata": {},
   "outputs": [],
   "source": [
    "df_novwd2014C.wd_north2.hvplot.violin(by='index.day') * hv.HLine(0)"
   ]
  },
  {
   "cell_type": "markdown",
   "metadata": {},
   "source": [
    "**December**"
   ]
  },
  {
   "cell_type": "code",
   "execution_count": null,
   "metadata": {},
   "outputs": [],
   "source": [
    "!echo 'date,inclination,azimuth,minimum,maximum,sum1,sum2' | cat - ~jovyan/data/covis_data/data2014/decang14.dat > ~jovyan/data/covis_data/temp.txt\n",
    "!sed 's/ /,/g' ~jovyan/data/covis_data/temp.txt > ~jovyan/data/covis_data/data2014/decang14.csv\n",
    "!rm ~jovyan/data/covis_data/temp*\n",
    "!head /home/jovyan/data/covis_data/data2014/decang14.csv"
   ]
  },
  {
   "cell_type": "code",
   "execution_count": null,
   "metadata": {},
   "outputs": [],
   "source": [
    "path = '/home/jovyan/data/covis_data/data2014/decang14.csv' \n",
    "df_dec2014 = pd.read_csv(path, sep=\",\")\n",
    "df_dec2014['year'] = '2014'\n",
    "df_dec2014['datetime'] = pd.to_datetime(df_dec2014.year, format='%Y') + pd.to_timedelta(df_dec2014.date - 1, unit='d')\n",
    "df_dec2014['datetime'] = df_dec2014['datetime'].dt.round('1s')\n",
    "df_dec2014 = df_dec2014.set_index('datetime')\n",
    "df_dec2014.drop(['date', 'year'], axis=1,inplace=True)\n",
    "df_dec2014 = df_dec2014.rename_axis(None)\n",
    "#fix for azimuth angle, 90 - azimuth then recomputation for any values that aren't in between 0 and 360 \n",
    "df_dec2014.azimuth = df_dec2014.azimuth.rsub(90)\n",
    "df_dec2014['azimuth'] %= 360 \n",
    "df_dec2014['minimum'] = pd.to_numeric(df_dec2014['minimum'], errors='coerce')\n",
    "df_dec2014['azirads'] = df_dec2014['azimuth']*(np.pi/180)\n",
    "df_dec2014['incrads'] = df_dec2014['inclination']*(np.pi/180)\n",
    "r = df_dec2014['r_value'] = 1\n",
    "theta = df_dec2014['azimuth']\n",
    "phi = df_dec2014['inclination']\n",
    "df_dec2014['rc_north'] = r * np.sin(theta) * np.cos(phi)\n",
    "df_dec2014['rc_east'] = r * np.sin(theta) * np.sin(phi)\n",
    "df_dec2014.drop(['r_value'], axis=1, inplace=True)\n",
    "df_dec2014 = df_dec2014.resample('h').mean().dropna()\n",
    "df_dec2014 = df_dec2014['2014-12-01 00:00:00' : \"2014-12-31 23:59:00\"]\n",
    "df_dec2014"
   ]
  },
  {
   "cell_type": "code",
   "execution_count": null,
   "metadata": {},
   "outputs": [],
   "source": [
    "df_dec2014['inclination_category'] = pd.cut(df_dec2014['inclination'], bins=[0, 10, 40, 100], include_lowest=True, labels=['vertical', 'ordinary', 'extreme'])\n",
    "df_dec2014.hvplot.hist(y='inclination', by='inclination_category', bin_range=(0,95)).opts(fontsize={'xticks': 12.5, 'yticks': 12.5})"
   ]
  },
  {
   "cell_type": "code",
   "execution_count": null,
   "metadata": {},
   "outputs": [],
   "source": [
    "df_dec2014.inclination.hvplot.violin(by='index.day', title='December Inclination 2014')"
   ]
  },
  {
   "cell_type": "code",
   "execution_count": null,
   "metadata": {},
   "outputs": [],
   "source": [
    "df_dec2014.rc_north.hvplot.violin(by='index.day', title='December Azimuth North 2014',ylim=(-1, 1)).opts(fontsize={'xticks': 12, 'yticks': 12, 'title': 12, 'ylabel': 12, 'xlabel': 12}) * hv.HLine(0)"
   ]
  },
  {
   "cell_type": "code",
   "execution_count": null,
   "metadata": {},
   "outputs": [],
   "source": [
    "df_decwd2014T = df_wd2014T['2014-12-01 00:00:00' : \"2014-12-31 23:59:00\"]\n",
    "df_decwd2014T.head()"
   ]
  },
  {
   "cell_type": "code",
   "execution_count": null,
   "metadata": {},
   "outputs": [],
   "source": [
    "df_decwd2014C = df_wd2014C['2014-12-01 00:00:00' : \"2014-12-31 23:59:00\"]\n",
    "df_decwd2014C.head()"
   ]
  },
  {
   "cell_type": "code",
   "execution_count": null,
   "metadata": {},
   "outputs": [],
   "source": [
    "df_decwd2014T.wd_north.hvplot.violin(by='index.day') * hv.HLine(0)"
   ]
  },
  {
   "cell_type": "code",
   "execution_count": null,
   "metadata": {},
   "outputs": [],
   "source": [
    "df_decwd2014C.wd_north.hvplot.violin(by='index.day') * hv.HLine(0)"
   ]
  },
  {
   "cell_type": "code",
   "execution_count": null,
   "metadata": {},
   "outputs": [],
   "source": [
    "df_decwd2014C.wd_north2.hvplot.violin(by='index.day') * hv.HLine(0)"
   ]
  },
  {
   "cell_type": "markdown",
   "metadata": {},
   "source": [
    "## Yearly Plots"
   ]
  },
  {
   "cell_type": "code",
   "execution_count": null,
   "metadata": {},
   "outputs": [],
   "source": [
    "df_D2014 = pd.concat([df_jan2014, df_feb2014, df_mar2014, df_apr2014, df_may2014, df_jun2014, df_jul2014, df_aug2014, df_sep2014, df_oct2014, df_nov2014, df_dec2014])\n",
    "df_D2014"
   ]
  },
  {
   "cell_type": "code",
   "execution_count": null,
   "metadata": {},
   "outputs": [],
   "source": [
    "D2014T = pd.merge(df_D2014, df_wd2014T,how='inner', indicator=True, left_index=True, right_index=True, suffixes=('_B', '_G'))\n",
    "df_D2014T = pd.DataFrame()\n",
    "df_D2014T = D2014T[D2014T['_merge'] == 'both']\n",
    "del df_D2014T['_merge']\n",
    "df_D2014T.drop(['r_value','dom_wvp','av_wvp','mwd','dew_temp','vis','tide'], axis=1, inplace=True)\n",
    "df_D2014T"
   ]
  },
  {
   "cell_type": "code",
   "execution_count": null,
   "metadata": {},
   "outputs": [],
   "source": [
    "D2014C = pd.merge(df_D2014, df_wd2014C,how='inner', indicator=True, left_index=True, right_index=True, suffixes=('_B', '_G'))\n",
    "df_D2014C = pd.DataFrame()\n",
    "df_D2014C = D2014C[D2014C['_merge'] == 'both']\n",
    "del df_D2014C['_merge']\n",
    "df_D2014C = df_D2014C[(df_D2014C != 0).all(1)]\n",
    "df_D2014C"
   ]
  },
  {
   "cell_type": "code",
   "execution_count": null,
   "metadata": {},
   "outputs": [],
   "source": [
    "df_D2014['inclination_category'] = pd.cut(df_D2014['inclination'], bins=[0, 10, 40, 100], include_lowest=True, labels=['vertical', 'ordinary', 'extreme'])\n",
    "df_D2014.hvplot.hist(y='inclination', by='inclination_category', title='2014', bin_range=(0, 95)).opts(fontsize={'xticks': 12.5, 'yticks': 12.5, 'title': 12.5})"
   ]
  },
  {
   "cell_type": "code",
   "execution_count": null,
   "metadata": {},
   "outputs": [],
   "source": [
    "df_D2014R = df_D2014['2014-10-01 00:00:00' : \"2014-12-31 23:59:00\"]\n",
    "df_D2014R.hvplot.hist(y='inclination', by='inclination_category', title='2014 (Reduced)', bin_range=(0, 95)).opts(fontsize={'xticks': 12.5, 'yticks': 12.5, 'title': 12.5})"
   ]
  },
  {
   "cell_type": "code",
   "execution_count": null,
   "metadata": {},
   "outputs": [],
   "source": [
    "plt.hist([df_D2014['inclination']], bins = int(360/15), density=True)\n",
    "plt.xlabel('Inclination', fontsize='14')\n",
    "plt.ylabel('Normalized Frequency', fontsize='14')\n",
    "plt.title('2014 Inclination', fontsize='16')\n",
    "plt.xlim(0, 90) \n",
    "plt.tight_layout()\n",
    "plt.savefig('/home/jovyan/Repos/AGU_2019/JoshFolder/2013Figs/HistInc14', dpi=300)\n",
    "plt.show()"
   ]
  },
  {
   "cell_type": "code",
   "execution_count": null,
   "metadata": {},
   "outputs": [],
   "source": [
    "degrees = df_D2014T['azimuth'].values\n",
    "radians = np.deg2rad(degrees)\n",
    "\n",
    "bin_size = 2\n",
    "a , b=np.histogram(degrees, bins=np.arange(0, 360+bin_size, bin_size))\n",
    "centers = np.deg2rad(np.ediff1d(b)//2 + b[:-1])\n",
    "\n",
    "fig = plt.figure(figsize=(10,8))\n",
    "ax = fig.add_subplot(111, projection='polar')\n",
    "ax.bar(centers, a, width=np.deg2rad(bin_size), bottom=0.0, color='cyan', edgecolor='k')\n",
    "ax.set_theta_zero_location(\"N\")\n",
    "ax.set_theta_direction(-1)\n",
    "plt.title('Azimuth 2014',fontsize='15')\n",
    "plt.rc('xtick', labelsize=20)\n",
    "plt.rc('ytick', labelsize=15)\n",
    "plt.savefig('/home/jovyan/Repos/AGU_2019/JoshFolder/2013Figs/azimuth2014')\n",
    "plt.show()"
   ]
  },
  {
   "cell_type": "code",
   "execution_count": null,
   "metadata": {},
   "outputs": [],
   "source": [
    "degrees = df_oct2014['azimuth'].values\n",
    "radians = np.deg2rad(degrees)\n",
    "\n",
    "bin_size = 2\n",
    "a , b=np.histogram(degrees, bins=np.arange(0, 360+bin_size, bin_size))\n",
    "centers = np.deg2rad(np.ediff1d(b)//2 + b[:-1])\n",
    "\n",
    "fig = plt.figure(figsize=(10,8))\n",
    "ax = fig.add_subplot(111, projection='polar')\n",
    "ax.bar(centers, a, width=np.deg2rad(bin_size), bottom=0.0, color='cyan', edgecolor='k')\n",
    "ax.set_theta_zero_location(\"N\")\n",
    "ax.set_theta_direction(-1)\n",
    "plt.title('October Azimuth 2014',fontsize='15')\n",
    "plt.rc('xtick', labelsize=20)\n",
    "plt.rc('ytick', labelsize=15)\n",
    "plt.savefig('/home/jovyan/Repos/AGU_2019/JoshFolder/2013Figs/octazimuth2014')\n",
    "plt.show()"
   ]
  },
  {
   "cell_type": "code",
   "execution_count": null,
   "metadata": {},
   "outputs": [],
   "source": [
    "df_D2014RT = df_D2014T['2014-10-01 00:00:00' : \"2014-12-31 23:59:00\"]\n",
    "degrees = df_D2014RT['azimuth'].values\n",
    "radians = np.deg2rad(degrees)\n",
    "\n",
    "bin_size = 2\n",
    "a , b=np.histogram(degrees, bins=np.arange(0, 360+bin_size, bin_size))\n",
    "centers = np.deg2rad(np.ediff1d(b)//2 + b[:-1])\n",
    "\n",
    "fig = plt.figure(figsize=(10,8))\n",
    "ax = fig.add_subplot(111, projection='polar')\n",
    "ax.bar(centers, a, width=np.deg2rad(bin_size), bottom=0.0, color='cyan', edgecolor='k')\n",
    "ax.set_theta_zero_location(\"N\")\n",
    "ax.set_theta_direction(-1)\n",
    "plt.title('Azimuth 2014 (Reduced)',fontsize='15')\n",
    "plt.rc('xtick', labelsize=20)\n",
    "plt.rc('ytick', labelsize=15)\n",
    "plt.savefig('/home/jovyan/Repos/AGU_2019/JoshFolder/2013Figs/azimuth2014reduced')\n",
    "plt.show()"
   ]
  },
  {
   "cell_type": "code",
   "execution_count": null,
   "metadata": {},
   "outputs": [],
   "source": [
    "degrees = df_D2014T['wnd_dir'].values\n",
    "radians = np.deg2rad(degrees)\n",
    "\n",
    "bin_size = 2\n",
    "a , b=np.histogram(degrees, bins=np.arange(0, 360+bin_size, bin_size))\n",
    "centers = np.deg2rad(np.ediff1d(b)//2 + b[:-1])\n",
    "\n",
    "fig = plt.figure(figsize=(10,8))\n",
    "ax = fig.add_subplot(111, projection='polar')\n",
    "ax.bar(centers, a, width=np.deg2rad(bin_size), bottom=0.0, color='cyan', edgecolor='k')\n",
    "ax.set_theta_zero_location(\"N\")\n",
    "ax.set_theta_direction(-1)\n",
    "plt.title('Wind Direction 2014 Tillamook',fontsize='15')\n",
    "plt.rc('xtick', labelsize=20)\n",
    "plt.rc('ytick', labelsize=15)\n",
    "plt.savefig('/home/jovyan/Repos/AGU_2019/JoshFolder/2013Figs/wd2014T')\n",
    "plt.show()"
   ]
  },
  {
   "cell_type": "code",
   "execution_count": null,
   "metadata": {},
   "outputs": [],
   "source": [
    "degrees = df_octwd2014T['wnd_dir'].values\n",
    "radians = np.deg2rad(degrees)\n",
    "\n",
    "bin_size = 2\n",
    "a , b=np.histogram(degrees, bins=np.arange(0, 360+bin_size, bin_size))\n",
    "centers = np.deg2rad(np.ediff1d(b)//2 + b[:-1])\n",
    "\n",
    "fig = plt.figure(figsize=(10,8))\n",
    "ax = fig.add_subplot(111, projection='polar')\n",
    "ax.bar(centers, a, width=np.deg2rad(bin_size), bottom=0.0, color='cyan', edgecolor='k')\n",
    "ax.set_theta_zero_location(\"N\")\n",
    "ax.set_theta_direction(-1)\n",
    "plt.title('October Wind Direction 2014 Tillamook',fontsize='15')\n",
    "plt.rc('xtick', labelsize=20)\n",
    "plt.rc('ytick', labelsize=15)\n",
    "plt.savefig('/home/jovyan/Repos/AGU_2019/JoshFolder/2013Figs/octwd2014T')\n",
    "plt.show()"
   ]
  },
  {
   "cell_type": "code",
   "execution_count": null,
   "metadata": {},
   "outputs": [],
   "source": [
    "degrees = df_D2014RT['wnd_dir'].values\n",
    "radians = np.deg2rad(degrees)\n",
    "\n",
    "bin_size = 2\n",
    "a , b=np.histogram(degrees, bins=np.arange(0, 360+bin_size, bin_size))\n",
    "centers = np.deg2rad(np.ediff1d(b)//2 + b[:-1])\n",
    "\n",
    "fig = plt.figure(figsize=(10,8))\n",
    "ax = fig.add_subplot(111, projection='polar')\n",
    "ax.bar(centers, a, width=np.deg2rad(bin_size), bottom=0.0, color='cyan', edgecolor='k')\n",
    "ax.set_theta_zero_location(\"N\")\n",
    "ax.set_theta_direction(-1)\n",
    "plt.title('Wind Direction 2014 Tillamook (Reduced)',fontsize='15')\n",
    "plt.rc('xtick', labelsize=20)\n",
    "plt.rc('ytick', labelsize=15)\n",
    "plt.savefig('/home/jovyan/Repos/AGU_2019/JoshFolder/2013Figs/wd2014TRed')\n",
    "plt.show()"
   ]
  },
  {
   "cell_type": "code",
   "execution_count": null,
   "metadata": {},
   "outputs": [],
   "source": [
    "df_D20140=df_D2014C.loc[df_D2014C['WDIR.1']==0]\n",
    "df_D20140.head()"
   ]
  },
  {
   "cell_type": "code",
   "execution_count": null,
   "metadata": {},
   "outputs": [],
   "source": [
    "degrees = df_D2014C['WDIR'].values\n",
    "radians = np.deg2rad(degrees)\n",
    "\n",
    "bin_size = 2\n",
    "a , b=np.histogram(degrees, bins=np.arange(0, 360+bin_size, bin_size))\n",
    "centers = np.deg2rad(np.ediff1d(b)//2 + b[:-1])\n",
    "\n",
    "fig = plt.figure(figsize=(10,8))\n",
    "ax = fig.add_subplot(111, projection='polar')\n",
    "ax.bar(centers, a, width=np.deg2rad(bin_size), bottom=0.0, color='cyan', edgecolor='k')\n",
    "ax.set_theta_zero_location(\"N\")\n",
    "ax.set_theta_direction(-1)\n",
    "plt.title('Wind Direction 2014 c46036 1',fontsize='15')\n",
    "plt.rc('xtick', labelsize=20)\n",
    "plt.rc('ytick', labelsize=15)\n",
    "plt.savefig('/home/jovyan/Repos/AGU_2019/JoshFolder/2013Figs/wd2014C1')\n",
    "plt.show()"
   ]
  },
  {
   "cell_type": "code",
   "execution_count": null,
   "metadata": {},
   "outputs": [],
   "source": [
    "degrees = df_octwd2014C['WDIR'].values\n",
    "radians = np.deg2rad(degrees)\n",
    "\n",
    "bin_size = 2\n",
    "a , b=np.histogram(degrees, bins=np.arange(0, 360+bin_size, bin_size))\n",
    "centers = np.deg2rad(np.ediff1d(b)//2 + b[:-1])\n",
    "\n",
    "fig = plt.figure(figsize=(10,8))\n",
    "ax = fig.add_subplot(111, projection='polar')\n",
    "ax.bar(centers, a, width=np.deg2rad(bin_size), bottom=0.0, color='cyan', edgecolor='k')\n",
    "ax.set_theta_zero_location(\"N\")\n",
    "ax.set_theta_direction(-1)\n",
    "plt.title('October Wind Direction 2014 c46036 1',fontsize='15')\n",
    "plt.rc('xtick', labelsize=20)\n",
    "plt.rc('ytick', labelsize=15)\n",
    "plt.savefig('/home/jovyan/Repos/AGU_2019/JoshFolder/2013Figs/octwd2014C1')\n",
    "plt.show()"
   ]
  },
  {
   "cell_type": "code",
   "execution_count": null,
   "metadata": {},
   "outputs": [],
   "source": [
    "df_D2014RC = df_D2014C['2014-10-01 00:00:00' : \"2014-12-31 23:59:00\"]\n",
    "degrees = df_D2014RC['WDIR'].values\n",
    "radians = np.deg2rad(degrees)\n",
    "\n",
    "bin_size = 2\n",
    "a , b=np.histogram(degrees, bins=np.arange(0, 360+bin_size, bin_size))\n",
    "centers = np.deg2rad(np.ediff1d(b)//2 + b[:-1])\n",
    "\n",
    "fig = plt.figure(figsize=(10,8))\n",
    "ax = fig.add_subplot(111, projection='polar')\n",
    "ax.bar(centers, a, width=np.deg2rad(bin_size), bottom=0.0, color='cyan', edgecolor='k')\n",
    "ax.set_theta_zero_location(\"N\")\n",
    "ax.set_theta_direction(-1)\n",
    "plt.title('Wind Direction 2014 c46036 1 (Reduced)',fontsize='15')\n",
    "plt.rc('xtick', labelsize=20)\n",
    "plt.rc('ytick', labelsize=15)\n",
    "plt.savefig('/home/jovyan/Repos/AGU_2019/JoshFolder/2013Figs/wd2014C1Red')\n",
    "plt.show()"
   ]
  },
  {
   "cell_type": "code",
   "execution_count": null,
   "metadata": {},
   "outputs": [],
   "source": [
    "degrees = df_D2014C['WDIR.1'].values\n",
    "radians = np.deg2rad(degrees)\n",
    "\n",
    "bin_size = 2\n",
    "a , b=np.histogram(degrees, bins=np.arange(0, 360+bin_size, bin_size))\n",
    "centers = np.deg2rad(np.ediff1d(b)//2 + b[:-1])\n",
    "\n",
    "fig = plt.figure(figsize=(10,8))\n",
    "ax = fig.add_subplot(111, projection='polar')\n",
    "ax.bar(centers, a, width=np.deg2rad(bin_size), bottom=0.0, color='cyan', edgecolor='k')\n",
    "ax.set_theta_zero_location(\"N\")\n",
    "ax.set_theta_direction(-1)\n",
    "plt.title('Wind Direction 2014 c46036 2',fontsize='15')\n",
    "plt.rc('xtick', labelsize=20)\n",
    "plt.rc('ytick', labelsize=15)\n",
    "plt.savefig('/home/jovyan/Repos/AGU_2019/JoshFolder/2013Figs/wd2014C2')\n",
    "plt.show()"
   ]
  },
  {
   "cell_type": "code",
   "execution_count": null,
   "metadata": {},
   "outputs": [],
   "source": [
    "degrees = df_octwd2014C['WDIR.1'].values\n",
    "radians = np.deg2rad(degrees)\n",
    "\n",
    "bin_size = 2\n",
    "a , b=np.histogram(degrees, bins=np.arange(0, 360+bin_size, bin_size))\n",
    "centers = np.deg2rad(np.ediff1d(b)//2 + b[:-1])\n",
    "\n",
    "fig = plt.figure(figsize=(10,8))\n",
    "ax = fig.add_subplot(111, projection='polar')\n",
    "ax.bar(centers, a, width=np.deg2rad(bin_size), bottom=0.0, color='cyan', edgecolor='k')\n",
    "ax.set_theta_zero_location(\"N\")\n",
    "ax.set_theta_direction(-1)\n",
    "plt.title('October Wind Direction 2014 c46036 2',fontsize='15')\n",
    "plt.rc('xtick', labelsize=20)\n",
    "plt.rc('ytick', labelsize=15)\n",
    "plt.savefig('/home/jovyan/Repos/AGU_2019/JoshFolder/2013Figs/octwd2014C2')\n",
    "plt.show()"
   ]
  },
  {
   "cell_type": "code",
   "execution_count": null,
   "metadata": {},
   "outputs": [],
   "source": [
    "degrees = df_D2014RC['WDIR.1'].values\n",
    "radians = np.deg2rad(degrees)\n",
    "\n",
    "bin_size = 2\n",
    "a , b=np.histogram(degrees, bins=np.arange(0, 360+bin_size, bin_size))\n",
    "centers = np.deg2rad(np.ediff1d(b)//2 + b[:-1])\n",
    "\n",
    "fig = plt.figure(figsize=(10,8))\n",
    "ax = fig.add_subplot(111, projection='polar')\n",
    "ax.bar(centers, a, width=np.deg2rad(bin_size), bottom=0.0, color='cyan', edgecolor='k')\n",
    "ax.set_theta_zero_location(\"N\")\n",
    "ax.set_theta_direction(-1)\n",
    "plt.title('Wind Direction 2014 c46036 2 (Reduced)',fontsize='15')\n",
    "plt.rc('xtick', labelsize=20)\n",
    "plt.rc('ytick', labelsize=15)\n",
    "plt.savefig('/home/jovyan/Repos/AGU_2019/JoshFolder/2013Figs/wd2014C2Red')\n",
    "plt.show()"
   ]
  },
  {
   "cell_type": "code",
   "execution_count": null,
   "metadata": {},
   "outputs": [],
   "source": [
    "df_D2014ex=df_D2014T.loc[df_D2014T['inclination']>60]\n",
    "df_D2014ex.head(100)"
   ]
  },
  {
   "cell_type": "code",
   "execution_count": null,
   "metadata": {},
   "outputs": [],
   "source": [
    "degrees = df_D2014ex['azimuth'].values\n",
    "radians = np.deg2rad(degrees)\n",
    "\n",
    "bin_size = 2\n",
    "a , b=np.histogram(degrees, bins=np.arange(0, 360+bin_size, bin_size))\n",
    "centers = np.deg2rad(np.ediff1d(b)//2 + b[:-1])\n",
    "\n",
    "fig = plt.figure(figsize=(10,8))\n",
    "ax = fig.add_subplot(111, projection='polar')\n",
    "ax.bar(centers, a, width=np.deg2rad(bin_size), bottom=0.0, color='cyan', edgecolor='k')\n",
    "ax.set_theta_zero_location(\"N\")\n",
    "ax.set_theta_direction(-1)\n",
    "plt.title('Extreme Azimuth 2014',fontsize='15')\n",
    "plt.rc('xtick', labelsize=20)\n",
    "plt.rc('ytick', labelsize=15)\n",
    "plt.savefig('/home/jovyan/Repos/AGU_2019/JoshFolder/2013Figs/extazi2014')\n",
    "plt.show()"
   ]
  },
  {
   "cell_type": "code",
   "execution_count": null,
   "metadata": {},
   "outputs": [],
   "source": [
    "df_D2014T.inclination.hvplot.violin(by='index.month') * hv.HLine(0)"
   ]
  },
  {
   "cell_type": "code",
   "execution_count": null,
   "metadata": {},
   "outputs": [],
   "source": [
    "(df_D2014T.rc_north.hvplot.violin(by='index.month', title='Azimuth North 2014',ylim=(-1, 1)).opts(fontsize={'xticks': 12, 'yticks': 12, 'title': 12, 'ylabel': 12, 'xlabel': 12}) * hv.HLine(0) +\n",
    " df_D2014T.wd_north.hvplot.violin(by='index.month', title='Tillamook Wind Direction North 2014') * hv.HLine(0)).cols(1)"
   ]
  },
  {
   "cell_type": "code",
   "execution_count": null,
   "metadata": {},
   "outputs": [],
   "source": []
  }
 ],
 "metadata": {
  "kernelspec": {
   "display_name": "Python 3",
   "language": "python",
   "name": "python3"
  },
  "language_info": {
   "codemirror_mode": {
    "name": "ipython",
    "version": 3
   },
   "file_extension": ".py",
   "mimetype": "text/x-python",
   "name": "python",
   "nbconvert_exporter": "python",
   "pygments_lexer": "ipython3",
   "version": "3.7.8"
  }
 },
 "nbformat": 4,
 "nbformat_minor": 4
}
