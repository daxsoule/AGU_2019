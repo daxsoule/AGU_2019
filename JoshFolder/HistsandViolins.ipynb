{
 "cells": [
  {
   "cell_type": "markdown",
   "metadata": {},
   "source": [
    "# Histograms and Violin Plots Science Plan\n",
    "\n",
    "*This notebook contains the histograms, violin plots, and any data necessary for them from the FinalSackerSciencePlan notebook*"
   ]
  },
  {
   "cell_type": "code",
   "execution_count": null,
   "metadata": {},
   "outputs": [],
   "source": [
    "import numpy as np\n",
    "import matplotlib.dates\n",
    "import matplotlib.pyplot as plt\n",
    "%matplotlib inline\n",
    "from mpl_toolkits import mplot3d\n",
    "import pandas as pd\n",
    "from datetime import datetime\n",
    "import seaborn as sns\n",
    "import hvplot.pandas\n",
    "import holoviews as hv\n",
    "from holoviews import dim, opts\n",
    "hv.extension('bokeh')"
   ]
  },
  {
   "cell_type": "markdown",
   "metadata": {},
   "source": [
    "## Recomputed Plume Bending Data \n",
    "\n",
    "**2010**"
   ]
  },
  {
   "cell_type": "code",
   "execution_count": null,
   "metadata": {},
   "outputs": [],
   "source": [
    "path = '/home/jovyan/data/covis_data/recomputed/angles_partialpts_2010.csv' \n",
    "df_rc2010 = pd.read_csv(path, sep=\",\")\n",
    "df_rc2010['year'] = '2010'\n",
    "df_rc2010['datetime'] = pd.to_datetime(df_rc2010.year, format='%Y') + pd.to_timedelta(df_rc2010.date - 1, unit='d')\n",
    "df_rc2010['datetime'] = df_rc2010['datetime'].dt.round('1s')\n",
    "df_rc2010 = df_rc2010.set_index('datetime')\n",
    "df_rc2010.drop(['date', 'year'], axis=1,inplace=True)\n",
    "df_rc2010 = df_rc2010.rename_axis(None)\n",
    "#fix for azimuth angle, 90 - azimuth then recomputation for any values that aren't in between 0 and 360 \n",
    "df_rc2010.azimuth = df_rc2010.azimuth.rsub(90)\n",
    "df_rc2010['azimuth'] %= 360 \n",
    "df_rc2010 = df_rc2010.resample('h').mean()\n",
    "df_rc2010.head()"
   ]
  },
  {
   "cell_type": "markdown",
   "metadata": {},
   "source": [
    "**2011**"
   ]
  },
  {
   "cell_type": "code",
   "execution_count": null,
   "metadata": {},
   "outputs": [],
   "source": [
    "path = '/home/jovyan/data/covis_data/recomputed/angles_partialpts_2011.csv' \n",
    "df_rc2011 = pd.read_csv(path, sep=\",\")\n",
    "df_rc2011['year'] = '2011'\n",
    "df_rc2011['datetime'] = pd.to_datetime(df_rc2011.year, format='%Y') + pd.to_timedelta(df_rc2011.date - 1, unit='d')\n",
    "df_rc2011['datetime'] = df_rc2011['datetime'].dt.round('1s')\n",
    "df_rc2011 = df_rc2011.set_index('datetime')\n",
    "df_rc2011.drop(['date', 'year'], axis=1,inplace=True)\n",
    "df_rc2011 = df_rc2011.rename_axis(None)\n",
    "#fix for azimuth angle, 90 - azimuth then recomputation for any values that aren't in between 0 and 360\n",
    "df_rc2011.azimuth = df_rc2011.azimuth.rsub(90)\n",
    "df_rc2011['azimuth'] %= 360 \n",
    "df_rc2011 = df_rc2011.resample('h').mean()\n",
    "df_rc2011.head()"
   ]
  },
  {
   "cell_type": "markdown",
   "metadata": {},
   "source": [
    "## Weather Data "
   ]
  },
  {
   "cell_type": "markdown",
   "metadata": {},
   "source": [
    "**2010 C46036**"
   ]
  },
  {
   "cell_type": "code",
   "execution_count": null,
   "metadata": {},
   "outputs": [],
   "source": [
    "path = '/home/jovyan/data/covis_data/weather_data_for_plotting_2010_C46036.csv' \n",
    "df_wd2010c46036 = pd.read_csv(path, sep=\",\")\n",
    "df_wd2010c46036['year']= df_wd2010c46036['year'].astype(int).astype(str)\n",
    "df_wd2010c46036['month']= df_wd2010c46036['month'].astype(int).astype(str).str.pad(width=2, side='left', fillchar='0')\n",
    "df_wd2010c46036['day']= df_wd2010c46036['day'].astype(int).astype(str).str.pad(width=2, side='left', fillchar='0')\n",
    "df_wd2010c46036['hour']= df_wd2010c46036['hour'].astype(int).astype(str).str.pad(width=2, side='left', fillchar='0')\n",
    "df_wd2010c46036['minute']=df_wd2010c46036['minute'].astype(int).astype(str).str.pad(width=2, side='left', fillchar='0')\n",
    "df_wd2010c46036['datetime'] = df_wd2010c46036['year'] + df_wd2010c46036['month'] + df_wd2010c46036['day'] +\\\n",
    "'T' + df_wd2010c46036['hour']+ ':' + df_wd2010c46036['minute']\n",
    "df_wd2010c46036['datetime'] = pd.to_datetime(df_wd2010c46036['datetime'])\n",
    "df_wd2010c46036 = df_wd2010c46036.set_index('datetime')\n",
    "df_wd2010c46036 = df_wd2010c46036[['jday', 'wv_height', 'wnd_dir', 'wnd_spd', 'wnd_gspd', 'atm_prs', 'air_temp']]\n",
    "df_wd2010c46036 = df_wd2010c46036.rename_axis(None)\n",
    "df_wd2010c46036 = df_wd2010c46036.resample('h').mean()\n",
    "df_wd2010c46036.head()"
   ]
  },
  {
   "cell_type": "markdown",
   "metadata": {},
   "source": [
    "**2011 C46036**"
   ]
  },
  {
   "cell_type": "code",
   "execution_count": null,
   "metadata": {},
   "outputs": [],
   "source": [
    "path = '/home/jovyan/data/covis_data/weather_data_for_plotting_2011_C46036.csv'\n",
    "df_wd2011c46036 = pd.read_csv(path, sep=\",\")\n",
    "df_wd2011c46036['year']= df_wd2011c46036['year'].astype(int).astype(str)\n",
    "df_wd2011c46036['month']= df_wd2011c46036['month'].astype(int).astype(str).str.pad(width=2, side='left', fillchar='0')\n",
    "df_wd2011c46036['day']= df_wd2011c46036['day'].astype(int).astype(str).str.pad(width=2, side='left', fillchar='0')\n",
    "df_wd2011c46036['hour']= df_wd2011c46036['hour'].astype(int).astype(str).str.pad(width=2, side='left', fillchar='0')\n",
    "df_wd2011c46036['minute']=df_wd2011c46036['minute'].astype(int).astype(str).str.pad(width=2, side='left', fillchar='0')\n",
    "df_wd2011c46036['datetime'] = df_wd2011c46036['year'] + df_wd2011c46036['month'] + df_wd2011c46036['day'] +\\\n",
    "'T' + df_wd2011c46036['hour']+ ':' + df_wd2011c46036['minute']\n",
    "df_wd2011c46036['datetime'] = pd.to_datetime(df_wd2011c46036['datetime'])\n",
    "df_wd2011c46036 = df_wd2011c46036.set_index('datetime')\n",
    "df_wd2011c46036 = df_wd2011c46036[['jday', 'wv_height', 'wnd_dir', 'wnd_spd', 'wnd_gspd', 'atm_prs', 'air_temp']]\n",
    "df_wd2011c46036 = df_wd2011c46036.rename_axis(None)\n",
    "df_wd2011c46036 = df_wd2011c46036.resample('h').mean()\n",
    "df_wd2011c46036.head()"
   ]
  },
  {
   "cell_type": "markdown",
   "metadata": {},
   "source": [
    "**2010 Tillamook**"
   ]
  },
  {
   "cell_type": "code",
   "execution_count": null,
   "metadata": {},
   "outputs": [],
   "source": [
    "path = '/home/jovyan/data/covis_data/weather_data_for_plotting_2010_Tillamook.csv' \n",
    "df_wd2010Tillamook = pd.read_csv(path, sep=\",\")\n",
    "df_wd2010Tillamook['year']= df_wd2010Tillamook['year'].astype(int).astype(str)\n",
    "df_wd2010Tillamook['month']= df_wd2010Tillamook['month'].astype(int).astype(str).str.pad(width=2, side='left', fillchar='0')\n",
    "df_wd2010Tillamook['day']= df_wd2010Tillamook['day'].astype(int).astype(str).str.pad(width=2, side='left', fillchar='0')\n",
    "df_wd2010Tillamook['hour']= df_wd2010Tillamook['hour'].astype(int).astype(str).str.pad(width=2, side='left', fillchar='0')\n",
    "df_wd2010Tillamook['minute']=df_wd2010Tillamook['minute'].astype(int).astype(str).str.pad(width=2, side='left', fillchar='0')\n",
    "df_wd2010Tillamook['wv_height'] = df_wd2010Tillamook['wv_height'].astype('float64')\n",
    "df_wd2010Tillamook['wnd_dir'] = df_wd2010Tillamook['wnd_dir'].astype('float64')\n",
    "df_wd2010Tillamook['wnd_spd'] = df_wd2010Tillamook['wnd_spd'].astype('float64')\n",
    "df_wd2010Tillamook['wnd_gspd'] = df_wd2010Tillamook['wnd_gspd'].astype('float64')\n",
    "df_wd2010Tillamook['atm_prs'] = df_wd2010Tillamook['atm_prs'].astype('float64')\n",
    "df_wd2010Tillamook['air_temp'] = df_wd2010Tillamook['air_temp'].astype('float64')\n",
    "df_wd2010Tillamook['datetime'] = df_wd2010Tillamook['year'] + df_wd2010Tillamook['month'] + df_wd2010Tillamook['day'] +\\\n",
    "'T' + df_wd2010Tillamook['hour']+ ':' + df_wd2010Tillamook['minute']\n",
    "df_wd2010Tillamook['datetime'] = pd.to_datetime(df_wd2010Tillamook['datetime'])\n",
    "df_wd2010Tillamook = df_wd2010Tillamook.set_index('datetime')\n",
    "df_wd2010Tillamook = df_wd2010Tillamook[['jday', 'wv_height', 'wnd_dir', 'wnd_spd', 'wnd_gspd', 'atm_prs', 'air_temp']]\n",
    "df_wd2010Tillamook = df_wd2010Tillamook.rename_axis(None)\n",
    "df_wd2010Tillamook = df_wd2010Tillamook.resample('h').mean()\n",
    "df_wd2010Tillamook.head()"
   ]
  },
  {
   "cell_type": "markdown",
   "metadata": {},
   "source": [
    "**2011 Tillamook**"
   ]
  },
  {
   "cell_type": "code",
   "execution_count": null,
   "metadata": {},
   "outputs": [],
   "source": [
    "path = '/home/jovyan/data/covis_data/weather_data_for_plotting_2011_Tillamook.csv' \n",
    "df_wd2011Tillamook = pd.read_csv(path, sep=\",\", engine='python')\n",
    "df_wd2011Tillamook= df_wd2011Tillamook.dropna()\n",
    "df_wd2011Tillamook['year']= df_wd2011Tillamook['year'].astype(int).astype(str)\n",
    "df_wd2011Tillamook['month']= df_wd2011Tillamook['month'].astype(int).astype(str).str.pad(width=2, side='left', fillchar='0')\n",
    "df_wd2011Tillamook['day']= df_wd2011Tillamook['day'].astype(int).astype(str).str.pad(width=2, side='left', fillchar='0')\n",
    "df_wd2011Tillamook['hour']= df_wd2011Tillamook['hour'].astype(int).astype(str).str.pad(width=2, side='left', fillchar='0')\n",
    "df_wd2011Tillamook['minute']=df_wd2011Tillamook['minute'].astype(int).astype(str).str.pad(width=2, side='left', fillchar='0')\n",
    "df_wd2011Tillamook['wv_height'] = df_wd2011Tillamook['wv_height'].astype('float64')\n",
    "df_wd2011Tillamook['wnd_dir'] = df_wd2011Tillamook['wnd_dir'].astype('float64')\n",
    "df_wd2011Tillamook['wnd_spd'] = df_wd2011Tillamook['wnd_spd'].astype('float64')\n",
    "df_wd2011Tillamook['wnd_gspd'] = df_wd2011Tillamook['wnd_gspd'].astype('float64')\n",
    "df_wd2011Tillamook['atm_prs'] = df_wd2011Tillamook['atm_prs'].astype('float64')\n",
    "df_wd2011Tillamook['air_temp'] = df_wd2011Tillamook['air_temp'].astype('float64')\n",
    "df_wd2011Tillamook['datetime'] = df_wd2011Tillamook['year'] + df_wd2011Tillamook['month'] + df_wd2011Tillamook['day'] +\\\n",
    "'T' + df_wd2011Tillamook['hour']+ ':' + df_wd2011Tillamook['minute']\n",
    "df_wd2011Tillamook['datetime'] = pd.to_datetime(df_wd2011Tillamook['datetime'])\n",
    "df_wd2011Tillamook = df_wd2011Tillamook.set_index('datetime')\n",
    "df_wd2011Tillamook = df_wd2011Tillamook[['jday', 'wv_height', 'wnd_dir', 'wnd_spd', 'wnd_gspd', 'atm_prs', 'air_temp']]\n",
    "df_wd2011Tillamook = df_wd2011Tillamook.rename_axis(None)\n",
    "df_wd2011Tillamook = df_wd2011Tillamook.resample('h').mean()\n",
    "df_wd2011Tillamook.head()"
   ]
  },
  {
   "cell_type": "markdown",
   "metadata": {},
   "source": [
    "## Mooring Data\n",
    "\n",
    "**Mooring NE 005**"
   ]
  },
  {
   "cell_type": "code",
   "execution_count": null,
   "metadata": {},
   "outputs": [],
   "source": [
    "path = '/home/jovyan/data/covis_data/mooring_data/MooringNE_005mab_CurrentMeter.csv'\n",
    "df_NE_005mab = pd.read_csv(path, sep=\",\")\n",
    "df_NE_005mab['datetime'] = matplotlib.dates.num2date(df_NE_005mab['time'], tz=None)\n",
    "df_NE_005mab = df_NE_005mab.set_index('datetime')\n",
    "df_NE_005mab = df_NE_005mab.resample('T').mean()\n",
    "df_NE_005mab.drop(['time'], axis=1,inplace=True)\n",
    "df_NE_005mab['angle'] = np.arctan(df_NE_005mab['current_nc']/df_NE_005mab['current_ec'])\n",
    "df_NE_005mab['angle'] = np.degrees(df_NE_005mab['angle'])\n",
    "df_NE_005mab['angle'] %= 360 \n",
    "df_NE_005mab.head()"
   ]
  },
  {
   "cell_type": "markdown",
   "metadata": {},
   "source": [
    "**Mooring NE 050**"
   ]
  },
  {
   "cell_type": "code",
   "execution_count": null,
   "metadata": {},
   "outputs": [],
   "source": [
    "path = '/home/jovyan/data/covis_data/mooring_data/MooringNE_050mab_CurrentMeter.csv'\n",
    "df_NE_050mab = pd.read_csv(path, sep=\",\")\n",
    "df_NE_050mab['datetime'] = matplotlib.dates.num2date(df_NE_050mab['time'], tz=None)\n",
    "df_NE_050mab = df_NE_050mab.set_index('datetime')\n",
    "df_NE_050mab = df_NE_050mab.resample('T').mean()\n",
    "df_NE_050mab.drop(['time'], axis=1,inplace=True)\n",
    "df_NE_050mab['angle'] = np.arctan(df_NE_050mab['current_nc']/df_NE_050mab['current_ec'])\n",
    "df_NE_050mab['angle'] = np.degrees(df_NE_050mab['angle'])\n",
    "df_NE_050mab['angle'] %= 360 \n",
    "df_NE_050mab.head()"
   ]
  },
  {
   "cell_type": "markdown",
   "metadata": {},
   "source": [
    "## Combining Data\n",
    "\n",
    "**2010 C46036**"
   ]
  },
  {
   "cell_type": "code",
   "execution_count": null,
   "metadata": {},
   "outputs": [],
   "source": [
    "rc2010c = pd.merge(df_wd2010c46036, df_rc2010,how='inner', indicator=True, left_index=True, right_index=True, suffixes=('_B', '_G'))"
   ]
  },
  {
   "cell_type": "code",
   "execution_count": null,
   "metadata": {},
   "outputs": [],
   "source": [
    "df_covis_rc2010c = pd.DataFrame()\n",
    "df_covis_rc2010c = rc2010c[rc2010c['_merge'] == 'both']\n",
    "del df_covis_rc2010c['_merge']\n",
    "df_covis_rc2010c = df_covis_rc2010c.dropna()\n",
    "del df_covis_rc2010c['jday']\n",
    "df_covis_rc2010c.head()"
   ]
  },
  {
   "cell_type": "markdown",
   "metadata": {},
   "source": [
    "**2010 Tillamook**"
   ]
  },
  {
   "cell_type": "code",
   "execution_count": null,
   "metadata": {},
   "outputs": [],
   "source": [
    "rc2010T = pd.merge(df_wd2010Tillamook, df_rc2010,how='inner', indicator=True, left_index=True, right_index=True, suffixes=('_B', '_G'))"
   ]
  },
  {
   "cell_type": "code",
   "execution_count": null,
   "metadata": {},
   "outputs": [],
   "source": [
    "df_covis_rc2010T = pd.DataFrame()\n",
    "df_covis_rc2010T = rc2010T[rc2010T['_merge'] == 'both']\n",
    "del df_covis_rc2010T['_merge']\n",
    "#df_covis_rc2010T = df_covis_rc2010T.dropna()\n",
    "del df_covis_rc2010T['jday']\n",
    "df_covis_rc2010T.head()"
   ]
  },
  {
   "cell_type": "markdown",
   "metadata": {},
   "source": [
    "**2011 C46036**"
   ]
  },
  {
   "cell_type": "code",
   "execution_count": null,
   "metadata": {},
   "outputs": [],
   "source": [
    "rc2011c = pd.merge(df_wd2011c46036, df_rc2011,how='inner', indicator=True, left_index=True, right_index=True, suffixes=('_B', '_G'))"
   ]
  },
  {
   "cell_type": "code",
   "execution_count": null,
   "metadata": {},
   "outputs": [],
   "source": [
    "df_covis_rc2011c = pd.DataFrame()\n",
    "df_covis_rc2011c = rc2011c[rc2011c['_merge'] == 'both']\n",
    "del df_covis_rc2011c['_merge']\n",
    "df_covis_rc2011c = df_covis_rc2011c.dropna()\n",
    "del df_covis_rc2011c['jday']\n",
    "df_covis_rc2011c.head()"
   ]
  },
  {
   "cell_type": "markdown",
   "metadata": {},
   "source": [
    "**2011 Tillamook**"
   ]
  },
  {
   "cell_type": "code",
   "execution_count": null,
   "metadata": {},
   "outputs": [],
   "source": [
    "rc2011T = pd.merge(df_wd2011Tillamook, df_rc2011,how='inner', indicator=True, left_index=True, right_index=True, suffixes=('_B', '_G'))"
   ]
  },
  {
   "cell_type": "code",
   "execution_count": null,
   "metadata": {},
   "outputs": [],
   "source": [
    "df_covis_rc2011T = pd.DataFrame()\n",
    "df_covis_rc2011T = rc2011T[rc2011T['_merge'] == 'both']\n",
    "del df_covis_rc2011T['_merge']\n",
    "#df_covis_rc2011T = df_covis_rc2011T.dropna()\n",
    "del df_covis_rc2011T['jday']\n",
    "df_covis_rc2011T.head()"
   ]
  },
  {
   "cell_type": "markdown",
   "metadata": {},
   "source": [
    "## Histograms\n",
    "\n",
    "**2010 and 2011 Inclination**"
   ]
  },
  {
   "cell_type": "code",
   "execution_count": null,
   "metadata": {},
   "outputs": [],
   "source": [
    "x1 = df_covis_rc2010c['inclination']\n",
    "x2 = df_covis_rc2011c['inclination']\n",
    "\n",
    "colors = ['blue', 'orange']\n",
    "names = ['2010', '2011']\n",
    "\n",
    "plt.hist([x1, x2], bins = int(360/15), density=True,\n",
    "         color = colors, label=names)\n",
    "\n",
    "plt.legend()\n",
    "plt.xlabel('Inclination')\n",
    "plt.ylabel('Normalized Frequency')\n",
    "plt.title('2010 and 2011 Inclination')\n",
    "plt.show()"
   ]
  },
  {
   "cell_type": "markdown",
   "metadata": {},
   "source": [
    "**2010 Inclination**"
   ]
  },
  {
   "cell_type": "code",
   "execution_count": null,
   "metadata": {},
   "outputs": [],
   "source": [
    "df_covis_rc2010c['inclination_category'] = pd.cut(df_covis_rc2010c['inclination'], bins=[0, 10, 40, 60], include_lowest=True, labels=['vertical', 'ordinary', 'extreme'])\n",
    "df_covis_rc2010c.hvplot.hist(y='inclination', by='inclination_category')"
   ]
  },
  {
   "cell_type": "markdown",
   "metadata": {},
   "source": [
    "**2011 Inclination**"
   ]
  },
  {
   "cell_type": "code",
   "execution_count": null,
   "metadata": {},
   "outputs": [],
   "source": [
    "df_covis_rc2011c['inclination_category'] = pd.cut(df_covis_rc2011c['inclination'], bins=[0, 10, 40, 60], include_lowest=True, labels=['vertical', 'ordinary', 'extreme'])\n",
    "df_covis_rc2011c.hvplot.hist(y='inclination', by='inclination_category')"
   ]
  },
  {
   "cell_type": "markdown",
   "metadata": {},
   "source": [
    "## Violin Plots"
   ]
  },
  {
   "cell_type": "markdown",
   "metadata": {},
   "source": [
    "**2010**"
   ]
  },
  {
   "cell_type": "code",
   "execution_count": null,
   "metadata": {},
   "outputs": [],
   "source": [
    "df_covis_rc2010c.inclination.hvplot.violin(by='index.day')"
   ]
  },
  {
   "cell_type": "code",
   "execution_count": null,
   "metadata": {},
   "outputs": [],
   "source": [
    "df_covis_rc2010c.wnd_spd.hvplot.violin(by='index.day')"
   ]
  },
  {
   "cell_type": "code",
   "execution_count": null,
   "metadata": {},
   "outputs": [],
   "source": [
    "df_NE_005mab.pressure.hvplot.violin(by='index.day')"
   ]
  },
  {
   "cell_type": "code",
   "execution_count": null,
   "metadata": {},
   "outputs": [],
   "source": [
    "df_NE_005mab.current_nc.hvplot.violin(by='index.day') + df_NE_005mab.current_ec.hvplot.violin(by='index.day')"
   ]
  },
  {
   "cell_type": "markdown",
   "metadata": {},
   "source": [
    "**2011**"
   ]
  },
  {
   "cell_type": "code",
   "execution_count": null,
   "metadata": {},
   "outputs": [],
   "source": [
    "df_covis_rc2011c.inclination.hvplot.violin(by='index.day')"
   ]
  },
  {
   "cell_type": "code",
   "execution_count": null,
   "metadata": {},
   "outputs": [],
   "source": [
    "df_covis_rc2011c.wnd_spd.hvplot.violin(by='index.day')"
   ]
  },
  {
   "cell_type": "code",
   "execution_count": null,
   "metadata": {},
   "outputs": [],
   "source": [
    "df_NE_050mab.pressure.hvplot.violin(by='index.day')"
   ]
  },
  {
   "cell_type": "code",
   "execution_count": null,
   "metadata": {},
   "outputs": [],
   "source": [
    "df_NE_050mab.current_nc.hvplot.violin(by='index.day') + df_NE_005mab.current_ec.hvplot.violin(by='index.day')"
   ]
  }
 ],
 "metadata": {
  "kernelspec": {
   "display_name": "Python 3",
   "language": "python",
   "name": "python3"
  },
  "language_info": {
   "codemirror_mode": {
    "name": "ipython",
    "version": 3
   },
   "file_extension": ".py",
   "mimetype": "text/x-python",
   "name": "python",
   "nbconvert_exporter": "python",
   "pygments_lexer": "ipython3",
   "version": "3.7.3"
  }
 },
 "nbformat": 4,
 "nbformat_minor": 4
}
