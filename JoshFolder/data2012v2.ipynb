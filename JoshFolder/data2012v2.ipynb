{
 "cells": [
  {
   "cell_type": "code",
   "execution_count": null,
   "metadata": {},
   "outputs": [],
   "source": [
    "import numpy as np\n",
    "import matplotlib.dates\n",
    "import matplotlib.pyplot as plt\n",
    "%matplotlib inline\n",
    "from mpl_toolkits import mplot3d\n",
    "import pandas as pd\n",
    "from datetime import datetime\n",
    "import hvplot.pandas\n",
    "import holoviews as hv\n",
    "from holoviews import dim, opts\n",
    "hv.extension('bokeh')"
   ]
  },
  {
   "cell_type": "markdown",
   "metadata": {},
   "source": [
    "## Weather Data\n",
    "\n",
    "**Tillamook**"
   ]
  },
  {
   "cell_type": "code",
   "execution_count": null,
   "metadata": {},
   "outputs": [],
   "source": [
    "!rm ~jovyan/data/covis_data/data2012/T2012.csv\n",
    "!sed '1,3d' file ~jovyan/data/covis_data/data2012/T2012.txt > ~jovyan/data/covis_data/data2012/temp.txt\n",
    "!echo 'year,month,day,hour,minute,wnd_dir,wnd_spd,wnd_gspd,wv_height,dom_wvp,av_wvp,mwd,atm_prs,air_temp,sea_temp,dew_temp,vis,tide' | cat - ~jovyan/data/covis_data/data2012/temp.txt > ~jovyan/data/covis_data/data2012/temp1.txt\n",
    "!sed 's/   /,/g' ~jovyan/data/covis_data/data2012/temp1.txt > ~jovyan/data/covis_data/data2012/temp2.txt\n",
    "!sed 's/  /,/g' ~jovyan/data/covis_data/data2012/temp2.txt > ~jovyan/data/covis_data/data2012/temp3.txt\n",
    "!sed 's/ /,/g' ~jovyan/data/covis_data/data2012/temp3.txt > ~jovyan/data/covis_data/data2012/temp4.txt\n",
    "!sed 's/^,//' <~jovyan/data/covis_data/data2012/temp4.txt >~jovyan/data/covis_data/data2012/T2012.csv\n",
    "!rm ~jovyan/data/covis_data/data2012/temp*\n",
    "!head ~jovyan/data/covis_data/data2012/T2012.csv"
   ]
  },
  {
   "cell_type": "code",
   "execution_count": null,
   "metadata": {},
   "outputs": [],
   "source": [
    "path = '/home/jovyan/data/covis_data/data2012/T2012.csv' \n",
    "df_wd2012T = pd.read_csv(path, sep=\",\")\n",
    "df_wd2012T['year'] = '2012'\n",
    "df_wd2012T['year']= df_wd2012T['year'].astype(int).astype(str)\n",
    "df_wd2012T['month']= df_wd2012T['month'].astype(int).astype(str).str.pad(width=2, side='left', fillchar='0')\n",
    "df_wd2012T['day']= df_wd2012T['day'].astype(int).astype(str).str.pad(width=2, side='left', fillchar='0')\n",
    "df_wd2012T['hour']= df_wd2012T['hour'].astype(int).astype(str).str.pad(width=2, side='left', fillchar='0')\n",
    "df_wd2012T['minute']= df_wd2012T['minute'].astype(int).astype(str).str.pad(width=2, side='left', fillchar='0')\n",
    "df_wd2012T['datetime'] = df_wd2012T['year'] + df_wd2012T['month'] + df_wd2012T['day'] +\\\n",
    "'T' + df_wd2012T['hour']+ ':' + df_wd2012T['minute']\n",
    "df_wd2012T['datetime'] = pd.to_datetime(df_wd2012T['datetime'])\n",
    "df_wd2012T = df_wd2012T.set_index('datetime')\n",
    "df_wd2012T = df_wd2012T[['wnd_dir','wnd_spd','wnd_gspd','wv_height','dom_wvp','av_wvp','mwd','atm_prs','air_temp','dew_temp','vis','tide']]\n",
    "df_wd2012T = df_wd2012T.rename_axis(None)\n",
    "df_wd2012T['wndrads'] = df_wd2012T['wnd_dir']*(np.pi/180)\n",
    "r = df_wd2012T['r_value'] = 1\n",
    "theta = df_wd2012T['wndrads']\n",
    "phi = df_wd2012T['wndrads']\n",
    "df_wd2012T['wd_north'] = r * np.sin(theta) * np.cos(phi)\n",
    "df_wd2012T['wd_east'] = r * np.sin(theta) * np.sin(phi)\n",
    "df_wd2012T = df_wd2012T.resample('h').mean()\n",
    "df_wd2012T.head()"
   ]
  },
  {
   "cell_type": "markdown",
   "metadata": {},
   "source": [
    "**c46036**"
   ]
  },
  {
   "cell_type": "code",
   "execution_count": null,
   "metadata": {},
   "outputs": [],
   "source": [
    "path = '/home/jovyan/data/covis_data/data2013/c46036WD.csv' \n",
    "df_wd2012C = pd.read_csv(path, sep=\",\")\n",
    "df_wd2012C.drop(['STN_ID','Q_FLAG','LATITUDE','LONGITUDE','DEPTH','VCAR','VTPK','VWH$','VCMX','VTP$','WSS$','WSS$.1','Unnamed: 23'], axis=1, inplace=True)\n",
    "df_wd2012C['datetime'] = df_wd2012C['DATE']\n",
    "df_wd2012C['datetime'] = pd.to_datetime(df_wd2012C['datetime'])\n",
    "df_wd2012C = df_wd2012C.set_index('datetime')\n",
    "df_wd2012C = df_wd2012C.rename_axis(None)\n",
    "df_wd2012C = df_wd2012C['2012-01-01 00:00:00' : \"2012-12-31 23:59:00\"]\n",
    "df_wd2012C['wndrads'] = df_wd2012C['WDIR']*(np.pi/180)\n",
    "df_wd2012C['wndrads2'] = df_wd2012C['WDIR.1']*(np.pi/180)\n",
    "r = df_wd2012C['r_value'] = 1\n",
    "theta = df_wd2012C['wndrads']\n",
    "phi = df_wd2012C['wndrads']\n",
    "df_wd2012C['wd_north'] = r * np.sin(theta) * np.cos(phi)\n",
    "df_wd2012C['wd_east'] = r * np.sin(theta) * np.sin(phi)\n",
    "theta1 = df_wd2012C['wndrads2']\n",
    "phi1 = df_wd2012C['wndrads2']\n",
    "df_wd2012C['wd_north2'] = r * np.sin(theta1) * np.cos(phi1)\n",
    "df_wd2012C['wd_east2'] = r * np.sin(theta1) * np.sin(phi1)\n",
    "df_wd2012C.drop(['r_value'], axis=1, inplace=True)\n",
    "df_wd2012C = df_wd2012C.resample('h').mean()\n",
    "df_wd2012C.head()"
   ]
  },
  {
   "cell_type": "markdown",
   "metadata": {},
   "source": [
    "## Buoy Data\n",
    "\n",
    "**January**"
   ]
  },
  {
   "cell_type": "code",
   "execution_count": null,
   "metadata": {},
   "outputs": [],
   "source": [
    "!echo 'date,inclination,azimuth,minimum,maximum,sum1,sum2' | cat - ~jovyan/data/covis_data/data2012/janang12.dat > ~jovyan/data/covis_data/temp.txt\n",
    "!sed 's/ /,/g' ~jovyan/data/covis_data/temp.txt > ~jovyan/data/covis_data/data2012/janang12.csv\n",
    "!rm ~jovyan/data/covis_data/temp*\n",
    "!head /home/jovyan/data/covis_data/data2012/janang12.csv"
   ]
  },
  {
   "cell_type": "code",
   "execution_count": null,
   "metadata": {},
   "outputs": [],
   "source": [
    "path = '/home/jovyan/data/covis_data/data2012/janang12.csv' \n",
    "df_jan2012 = pd.read_csv(path, sep=\",\")\n",
    "df_jan2012['year'] = '2012'\n",
    "df_jan2012['datetime'] = pd.to_datetime(df_jan2012.year, format='%Y') + pd.to_timedelta(df_jan2012.date - 1, unit='d')\n",
    "df_jan2012['datetime'] = df_jan2012['datetime'].dt.round('1s')\n",
    "df_jan2012 = df_jan2012.set_index('datetime')\n",
    "df_jan2012.drop(['date', 'year'], axis=1,inplace=True)\n",
    "df_jan2012 = df_jan2012.rename_axis(None)\n",
    "#fix for azimuth angle, 90 - azimuth then recomputation for any values that aren't in between 0 and 360 \n",
    "df_jan2012.azimuth = df_jan2012.azimuth.rsub(90)\n",
    "df_jan2012['azimuth'] %= 360 \n",
    "df_jan2012['minimum'] = pd.to_numeric(df_jan2012['minimum'], errors='coerce')\n",
    "df_jan2012['azirads'] = df_jan2012['azimuth']*(np.pi/180)\n",
    "df_jan2012['incrads'] = df_jan2012['inclination']*(np.pi/180)\n",
    "r = df_jan2012['r_value'] = 1\n",
    "theta = df_jan2012['azimuth']\n",
    "phi = df_jan2012['inclination']\n",
    "df_jan2012['rc_north'] = r * np.sin(theta) * np.cos(phi)\n",
    "df_jan2012['rc_east'] = r * np.sin(theta) * np.sin(phi)\n",
    "df_jan2012.drop(['r_value'], axis=1, inplace=True)\n",
    "df_jan2012 = df_jan2012.resample('h').mean().dropna()\n",
    "df_jan2012 = df_jan2012['2012-01-01 00:00:00' : \"2012-01-31 23:59:00\"]\n",
    "df_jan2012"
   ]
  },
  {
   "cell_type": "code",
   "execution_count": null,
   "metadata": {},
   "outputs": [],
   "source": [
    "df_jan2012['inclination_category'] = pd.cut(df_jan2012['inclination'], bins=[0, 10, 40, 100], include_lowest=True, labels=['vertical', 'ordinary', 'extreme'])\n",
    "df_jan2012.hvplot.hist(y='inclination', by='inclination_category', bin_range=(0,95)).opts(fontsize={'xticks': 12.5, 'yticks': 12.5})"
   ]
  },
  {
   "cell_type": "code",
   "execution_count": null,
   "metadata": {},
   "outputs": [],
   "source": [
    "df_jan2012.inclination.hvplot.violin(by='index.day', title='January Inclination 2012')"
   ]
  },
  {
   "cell_type": "code",
   "execution_count": null,
   "metadata": {},
   "outputs": [],
   "source": [
    "df_jan2012.rc_north.hvplot.violin(by='index.day', title='January Azimuth North 2012',ylim=(-1, 1)).opts(fontsize={'xticks': 12, 'yticks': 12, 'title': 12, 'ylabel': 12, 'xlabel': 12}) * hv.HLine(0)"
   ]
  },
  {
   "cell_type": "code",
   "execution_count": null,
   "metadata": {},
   "outputs": [],
   "source": [
    "df_janwd2012T = df_wd2012T['2012-01-01 00:00:00' : \"2012-01-31 23:59:00\"]\n",
    "df_janwd2012T.head()"
   ]
  },
  {
   "cell_type": "code",
   "execution_count": null,
   "metadata": {},
   "outputs": [],
   "source": [
    "df_janwd2012C = df_wd2012C['2012-01-01 00:00:00' : \"2012-01-31 23:59:00\"]\n",
    "df_janwd2012C.head()"
   ]
  },
  {
   "cell_type": "code",
   "execution_count": null,
   "metadata": {},
   "outputs": [],
   "source": [
    "df_janwd2012T.wd_north.hvplot.violin(by='index.day') * hv.HLine(0)"
   ]
  },
  {
   "cell_type": "code",
   "execution_count": null,
   "metadata": {},
   "outputs": [],
   "source": [
    "df_janwd2012C.wd_north.hvplot.violin(by='index.day') * hv.HLine(0)"
   ]
  },
  {
   "cell_type": "code",
   "execution_count": null,
   "metadata": {},
   "outputs": [],
   "source": [
    "df_janwd2012C.wd_north2.hvplot.violin(by='index.day') * hv.HLine(0)"
   ]
  },
  {
   "cell_type": "markdown",
   "metadata": {},
   "source": [
    "**Feburary**"
   ]
  },
  {
   "cell_type": "code",
   "execution_count": null,
   "metadata": {},
   "outputs": [],
   "source": [
    "!echo 'date,inclination,azimuth,minimum,maximum,sum1,sum2' | cat - ~jovyan/data/covis_data/data2012/febmarang12.dat > ~jovyan/data/covis_data/temp.txt\n",
    "!sed 's/ /,/g' ~jovyan/data/covis_data/temp.txt > ~jovyan/data/covis_data/data2012/febmarang12.csv\n",
    "!rm ~jovyan/data/covis_data/temp*\n",
    "!head /home/jovyan/data/covis_data/data2012/febmarang12.csv"
   ]
  },
  {
   "cell_type": "code",
   "execution_count": null,
   "metadata": {},
   "outputs": [],
   "source": [
    "path = '/home/jovyan/data/covis_data/data2012/febmarang12.csv' \n",
    "df_feb2012 = pd.read_csv(path, sep=\",\")\n",
    "df_feb2012['year'] = '2012'\n",
    "df_feb2012['datetime'] = pd.to_datetime(df_feb2012.year, format='%Y') + pd.to_timedelta(df_feb2012.date - 1, unit='d')\n",
    "df_feb2012['datetime'] = df_feb2012['datetime'].dt.round('1s')\n",
    "df_feb2012 = df_feb2012.set_index('datetime')\n",
    "df_feb2012.drop(['date', 'year'], axis=1,inplace=True)\n",
    "df_feb2012 = df_feb2012.rename_axis(None)\n",
    "#fix for azimuth angle, 90 - azimuth then recomputation for any values that aren't in between 0 and 360 \n",
    "df_feb2012.azimuth = df_feb2012.azimuth.rsub(90)\n",
    "df_feb2012['azimuth'] %= 360 \n",
    "df_feb2012['minimum'] = pd.to_numeric(df_feb2012['minimum'], errors='coerce')\n",
    "df_feb2012['azirads'] = df_feb2012['azimuth']*(np.pi/180)\n",
    "df_feb2012['incrads'] = df_feb2012['inclination']*(np.pi/180)\n",
    "r = df_feb2012['r_value'] = 1\n",
    "theta = df_feb2012['azimuth']\n",
    "phi = df_feb2012['inclination']\n",
    "df_feb2012['rc_north'] = r * np.sin(theta) * np.cos(phi)\n",
    "df_feb2012['rc_east'] = r * np.sin(theta) * np.sin(phi)\n",
    "df_feb2012.drop(['r_value'], axis=1, inplace=True)\n",
    "df_feb2012 = df_feb2012.resample('h').mean().dropna()\n",
    "df_feb2012 = df_feb2012['2012-02-01 00:00:00' : \"2012-02-28 23:59:00\"]\n",
    "df_feb2012"
   ]
  },
  {
   "cell_type": "code",
   "execution_count": null,
   "metadata": {},
   "outputs": [],
   "source": [
    "df_feb2012['inclination_category'] = pd.cut(df_feb2012['inclination'], bins=[0, 10, 40, 100], include_lowest=True, labels=['vertical', 'ordinary', 'extreme'])\n",
    "df_feb2012.hvplot.hist(y='inclination', by='inclination_category', bin_range=(0,95)).opts(fontsize={'xticks': 12.5, 'yticks': 12.5})"
   ]
  },
  {
   "cell_type": "code",
   "execution_count": null,
   "metadata": {},
   "outputs": [],
   "source": [
    "df_feb2012.inclination.hvplot.violin(by='index.day', title='Feburary Inclination 2012')"
   ]
  },
  {
   "cell_type": "code",
   "execution_count": null,
   "metadata": {},
   "outputs": [],
   "source": [
    "df_feb2012.rc_north.hvplot.violin(by='index.day', title='Feburary Azimuth North 2012',ylim=(-1, 1)).opts(fontsize={'xticks': 12, 'yticks': 12, 'title': 12, 'ylabel': 12, 'xlabel': 12}) * hv.HLine(0)"
   ]
  },
  {
   "cell_type": "code",
   "execution_count": null,
   "metadata": {},
   "outputs": [],
   "source": [
    "df_febwd2012T = df_wd2012T['2012-02-01 00:00:00' : \"2012-02-28 23:59:00\"]\n",
    "df_febwd2012T.head()"
   ]
  },
  {
   "cell_type": "code",
   "execution_count": null,
   "metadata": {},
   "outputs": [],
   "source": [
    "df_febwd2012C = df_wd2012C['2012-02-01 00:00:00' : \"2012-02-28 23:59:00\"]\n",
    "df_febwd2012C.head()"
   ]
  },
  {
   "cell_type": "code",
   "execution_count": null,
   "metadata": {},
   "outputs": [],
   "source": [
    "df_febwd2012T.wd_north.hvplot.violin(by='index.day') * hv.HLine(0)"
   ]
  },
  {
   "cell_type": "code",
   "execution_count": null,
   "metadata": {},
   "outputs": [],
   "source": [
    "df_febwd2012C.wd_north.hvplot.violin(by='index.day') * hv.HLine(0)"
   ]
  },
  {
   "cell_type": "code",
   "execution_count": null,
   "metadata": {},
   "outputs": [],
   "source": [
    "df_febwd2012C.wd_north2.hvplot.violin(by='index.day') * hv.HLine(0)"
   ]
  },
  {
   "cell_type": "markdown",
   "metadata": {},
   "source": [
    "**March**"
   ]
  },
  {
   "cell_type": "code",
   "execution_count": null,
   "metadata": {},
   "outputs": [],
   "source": [
    "path = '/home/jovyan/data/covis_data/data2012/febmarang12.csv' \n",
    "df_mar2012 = pd.read_csv(path, sep=\",\")\n",
    "df_mar2012['year'] = '2012'\n",
    "df_mar2012['datetime'] = pd.to_datetime(df_mar2012.year, format='%Y') + pd.to_timedelta(df_mar2012.date - 1, unit='d')\n",
    "df_mar2012['datetime'] = df_mar2012['datetime'].dt.round('1s')\n",
    "df_mar2012 = df_mar2012.set_index('datetime')\n",
    "df_mar2012.drop(['date', 'year'], axis=1,inplace=True)\n",
    "df_mar2012 = df_mar2012.rename_axis(None)\n",
    "#fix for azimuth angle, 90 - azimuth then recomputation for any values that aren't in between 0 and 360 \n",
    "df_mar2012.azimuth = df_mar2012.azimuth.rsub(90)\n",
    "df_mar2012['azimuth'] %= 360 \n",
    "df_mar2012['minimum'] = pd.to_numeric(df_mar2012['minimum'], errors='coerce')\n",
    "df_mar2012['azirads'] = df_mar2012['azimuth']*(np.pi/180)\n",
    "df_mar2012['incrads'] = df_mar2012['inclination']*(np.pi/180)\n",
    "r = df_mar2012['r_value'] = 1\n",
    "theta = df_mar2012['azimuth']\n",
    "phi = df_mar2012['inclination']\n",
    "df_mar2012['rc_north'] = r * np.sin(theta) * np.cos(phi)\n",
    "df_mar2012['rc_east'] = r * np.sin(theta) * np.sin(phi)\n",
    "df_mar2012.drop(['r_value'], axis=1, inplace=True)\n",
    "df_mar2012 = df_mar2012.resample('h').mean().dropna()\n",
    "df_mar2012 = df_mar2012['2012-03-01 00:00:00' : \"2012-03-31 23:59:00\"]\n",
    "df_mar2012"
   ]
  },
  {
   "cell_type": "code",
   "execution_count": null,
   "metadata": {},
   "outputs": [],
   "source": [
    "df_mar2012['inclination_category'] = pd.cut(df_mar2012['inclination'], bins=[0, 10, 40, 100], include_lowest=True, labels=['vertical', 'ordinary', 'extreme'])\n",
    "df_mar2012.hvplot.hist(y='inclination', by='inclination_category', bin_range=(0,95)).opts(fontsize={'xticks': 12.5, 'yticks': 12.5})"
   ]
  },
  {
   "cell_type": "code",
   "execution_count": null,
   "metadata": {},
   "outputs": [],
   "source": [
    "df_mar2012.inclination.hvplot.violin(by='index.day', title='March Inclination 2012')"
   ]
  },
  {
   "cell_type": "code",
   "execution_count": null,
   "metadata": {},
   "outputs": [],
   "source": [
    "df_mar2012.rc_north.hvplot.violin(by='index.day', title='March Azimuth North 2012',ylim=(-1, 1)).opts(fontsize={'xticks': 12, 'yticks': 12, 'title': 12, 'ylabel': 12, 'xlabel': 12}) * hv.HLine(0)"
   ]
  },
  {
   "cell_type": "code",
   "execution_count": null,
   "metadata": {},
   "outputs": [],
   "source": [
    "df_marwd2012T = df_wd2012T['2012-03-01 00:00:00' : \"2012-03-31 23:59:00\"]\n",
    "df_marwd2012T.head()"
   ]
  },
  {
   "cell_type": "code",
   "execution_count": null,
   "metadata": {},
   "outputs": [],
   "source": [
    "df_marwd2012C = df_wd2012C['2012-03-01 00:00:00' : \"2012-03-31 23:59:00\"]\n",
    "df_marwd2012C.head()"
   ]
  },
  {
   "cell_type": "code",
   "execution_count": null,
   "metadata": {},
   "outputs": [],
   "source": [
    "df_marwd2012T.wd_north.hvplot.violin(by='index.day') * hv.HLine(0)"
   ]
  },
  {
   "cell_type": "code",
   "execution_count": null,
   "metadata": {},
   "outputs": [],
   "source": [
    "df_marwd2012C.wd_north.hvplot.violin(by='index.day') * hv.HLine(0)"
   ]
  },
  {
   "cell_type": "code",
   "execution_count": null,
   "metadata": {},
   "outputs": [],
   "source": [
    "df_marwd2012C.wd_north2.hvplot.violin(by='index.day') * hv.HLine(0)"
   ]
  },
  {
   "cell_type": "markdown",
   "metadata": {},
   "source": [
    "**April**"
   ]
  },
  {
   "cell_type": "code",
   "execution_count": null,
   "metadata": {},
   "outputs": [],
   "source": [
    "!echo 'date,inclination,azimuth,minimum,maximum,sum1,sum2' | cat - ~jovyan/data/covis_data/data2012/aprang12.dat > ~jovyan/data/covis_data/temp.txt\n",
    "!sed 's/ /,/g' ~jovyan/data/covis_data/temp.txt > ~jovyan/data/covis_data/data2012/aprang12.csv\n",
    "!rm ~jovyan/data/covis_data/temp*\n",
    "!head /home/jovyan/data/covis_data/data2012/aprang12.csv"
   ]
  },
  {
   "cell_type": "code",
   "execution_count": null,
   "metadata": {},
   "outputs": [],
   "source": [
    "path = '/home/jovyan/data/covis_data/data2012/aprang12.csv' \n",
    "df_apr2012 = pd.read_csv(path, sep=\",\")\n",
    "df_apr2012['year'] = '2012'\n",
    "df_apr2012['datetime'] = pd.to_datetime(df_apr2012.year, format='%Y') + pd.to_timedelta(df_apr2012.date - 1, unit='d')\n",
    "df_apr2012['datetime'] = df_apr2012['datetime'].dt.round('1s')\n",
    "df_apr2012 = df_apr2012.set_index('datetime')\n",
    "df_apr2012.drop(['date', 'year'], axis=1,inplace=True)\n",
    "df_apr2012 = df_apr2012.rename_axis(None)\n",
    "#fix for azimuth angle, 90 - azimuth then recomputation for any values that aren't in between 0 and 360 \n",
    "df_apr2012.azimuth = df_apr2012.azimuth.rsub(90)\n",
    "df_apr2012['azimuth'] %= 360 \n",
    "df_apr2012['minimum'] = pd.to_numeric(df_apr2012['minimum'], errors='coerce')\n",
    "df_apr2012['azirads'] = df_apr2012['azimuth']*(np.pi/180)\n",
    "df_apr2012['incrads'] = df_apr2012['inclination']*(np.pi/180)\n",
    "r = df_apr2012['r_value'] = 1\n",
    "theta = df_apr2012['azimuth']\n",
    "phi = df_apr2012['inclination']\n",
    "df_apr2012['rc_north'] = r * np.sin(theta) * np.cos(phi)\n",
    "df_apr2012['rc_east'] = r * np.sin(theta) * np.sin(phi)\n",
    "df_apr2012.drop(['r_value'], axis=1, inplace=True)\n",
    "df_apr2012 = df_apr2012.resample('h').mean().dropna()\n",
    "df_apr2012 = df_apr2012['2012-04-01 00:00:00' : \"2012-04-30 23:59:00\"]\n",
    "df_apr2012"
   ]
  },
  {
   "cell_type": "code",
   "execution_count": null,
   "metadata": {},
   "outputs": [],
   "source": [
    "df_apr2012['inclination_category'] = pd.cut(df_apr2012['inclination'], bins=[0, 10, 40, 100], include_lowest=True, labels=['vertical', 'ordinary', 'extreme'])\n",
    "df_apr2012.hvplot.hist(y='inclination', by='inclination_category', bin_range=(0,95)).opts(fontsize={'xticks': 12.5, 'yticks': 12.5})"
   ]
  },
  {
   "cell_type": "code",
   "execution_count": null,
   "metadata": {},
   "outputs": [],
   "source": [
    "df_apr2012.inclination.hvplot.violin(by='index.day', title='April Inclination 2012')"
   ]
  },
  {
   "cell_type": "code",
   "execution_count": null,
   "metadata": {},
   "outputs": [],
   "source": [
    "df_apr2012.rc_north.hvplot.violin(by='index.day', title='April Azimuth North 2012',ylim=(-1, 1)).opts(fontsize={'xticks': 12, 'yticks': 12, 'title': 12, 'ylabel': 12, 'xlabel': 12}) * hv.HLine(0)"
   ]
  },
  {
   "cell_type": "code",
   "execution_count": null,
   "metadata": {},
   "outputs": [],
   "source": [
    "df_aprwd2012T = df_wd2012T['2012-04-01 00:00:00' : \"2012-04-30 23:59:00\"]\n",
    "df_aprwd2012T.head()"
   ]
  },
  {
   "cell_type": "code",
   "execution_count": null,
   "metadata": {},
   "outputs": [],
   "source": [
    "df_aprwd2012C = df_wd2012C['2012-04-01 00:00:00' : \"2012-04-30 23:59:00\"]\n",
    "df_aprwd2012C.head()"
   ]
  },
  {
   "cell_type": "code",
   "execution_count": null,
   "metadata": {},
   "outputs": [],
   "source": [
    "df_aprwd2012T.wd_north.hvplot.violin(by='index.day') * hv.HLine(0)"
   ]
  },
  {
   "cell_type": "code",
   "execution_count": null,
   "metadata": {},
   "outputs": [],
   "source": [
    "df_aprwd2012C.wd_north.hvplot.violin(by='index.day') * hv.HLine(0)"
   ]
  },
  {
   "cell_type": "code",
   "execution_count": null,
   "metadata": {},
   "outputs": [],
   "source": [
    "df_aprwd2012C.wd_north2.hvplot.violin(by='index.day') * hv.HLine(0)"
   ]
  },
  {
   "cell_type": "markdown",
   "metadata": {},
   "source": [
    "**May**"
   ]
  },
  {
   "cell_type": "code",
   "execution_count": null,
   "metadata": {},
   "outputs": [],
   "source": [
    "!echo 'date,inclination,azimuth,minimum,maximum,sum1,sum2' | cat - ~jovyan/data/covis_data/data2012/mayjunang12.dat > ~jovyan/data/covis_data/temp.txt\n",
    "!sed 's/ /,/g' ~jovyan/data/covis_data/temp.txt > ~jovyan/data/covis_data/data2012/mayjunang12.csv\n",
    "!rm ~jovyan/data/covis_data/temp*\n",
    "!head /home/jovyan/data/covis_data/data2012/mayjunang12.csv"
   ]
  },
  {
   "cell_type": "code",
   "execution_count": null,
   "metadata": {},
   "outputs": [],
   "source": [
    "path = '/home/jovyan/data/covis_data/data2012/mayjunang12.csv' \n",
    "df_may2012 = pd.read_csv(path, sep=\",\")\n",
    "df_may2012['year'] = '2012'\n",
    "df_may2012['datetime'] = pd.to_datetime(df_may2012.year, format='%Y') + pd.to_timedelta(df_may2012.date - 1, unit='d')\n",
    "df_may2012['datetime'] = df_may2012['datetime'].dt.round('1s')\n",
    "df_may2012 = df_may2012.set_index('datetime')\n",
    "df_may2012.drop(['date', 'year'], axis=1,inplace=True)\n",
    "df_may2012 = df_may2012.rename_axis(None)\n",
    "#fix for azimuth angle, 90 - azimuth then recomputation for any values that aren't in between 0 and 360 \n",
    "df_may2012.azimuth = df_may2012.azimuth.rsub(90)\n",
    "df_may2012['azimuth'] %= 360 \n",
    "df_may2012['minimum'] = pd.to_numeric(df_may2012['minimum'], errors='coerce')\n",
    "df_may2012['azirads'] = df_may2012['azimuth']*(np.pi/180)\n",
    "df_may2012['incrads'] = df_may2012['inclination']*(np.pi/180)\n",
    "r = df_may2012['r_value'] = 1\n",
    "theta = df_may2012['azimuth']\n",
    "phi = df_may2012['inclination']\n",
    "df_may2012['rc_north'] = r * np.sin(theta) * np.cos(phi)\n",
    "df_may2012['rc_east'] = r * np.sin(theta) * np.sin(phi)\n",
    "df_may2012.drop(['r_value'], axis=1, inplace=True)\n",
    "df_may2012 = df_may2012.resample('h').mean().dropna()\n",
    "df_may2012 = df_may2012['2012-05-01 00:00:00' : \"2012-05-31 23:59:00\"]\n",
    "df_may2012"
   ]
  },
  {
   "cell_type": "code",
   "execution_count": null,
   "metadata": {},
   "outputs": [],
   "source": [
    "df_may2012['inclination_category'] = pd.cut(df_may2012['inclination'], bins=[0, 10, 40, 100], include_lowest=True, labels=['vertical', 'ordinary', 'extreme'])\n",
    "df_may2012.hvplot.hist(y='inclination', by='inclination_category', bin_range=(0,95)).opts(fontsize={'xticks': 12.5, 'yticks': 12.5})"
   ]
  },
  {
   "cell_type": "code",
   "execution_count": null,
   "metadata": {},
   "outputs": [],
   "source": [
    "df_may2012.inclination.hvplot.violin(by='index.day', title='May Inclination 2012')"
   ]
  },
  {
   "cell_type": "code",
   "execution_count": null,
   "metadata": {},
   "outputs": [],
   "source": [
    "df_may2012.rc_north.hvplot.violin(by='index.day', title='May Azimuth North 2012',ylim=(-1, 1)).opts(fontsize={'xticks': 12, 'yticks': 12, 'title': 12, 'ylabel': 12, 'xlabel': 12}) * hv.HLine(0)"
   ]
  },
  {
   "cell_type": "code",
   "execution_count": null,
   "metadata": {},
   "outputs": [],
   "source": [
    "df_maywd2012T = df_wd2012T['2012-05-01 00:00:00' : \"2012-05-31 23:59:00\"]\n",
    "df_maywd2012T.head()"
   ]
  },
  {
   "cell_type": "code",
   "execution_count": null,
   "metadata": {},
   "outputs": [],
   "source": [
    "df_maywd2012C = df_wd2012C['2012-05-01 00:00:00' : \"2012-05-31 23:59:00\"]\n",
    "df_maywd2012C.head()"
   ]
  },
  {
   "cell_type": "code",
   "execution_count": null,
   "metadata": {},
   "outputs": [],
   "source": [
    "df_maywd2012T.wd_north.hvplot.violin(by='index.day') * hv.HLine(0)"
   ]
  },
  {
   "cell_type": "code",
   "execution_count": null,
   "metadata": {},
   "outputs": [],
   "source": [
    "df_maywd2012C.wd_north.hvplot.violin(by='index.day') * hv.HLine(0)"
   ]
  },
  {
   "cell_type": "code",
   "execution_count": null,
   "metadata": {},
   "outputs": [],
   "source": [
    "df_maywd2012C.wd_north2.hvplot.violin(by='index.day') * hv.HLine(0)"
   ]
  },
  {
   "cell_type": "markdown",
   "metadata": {},
   "source": [
    "**June**"
   ]
  },
  {
   "cell_type": "code",
   "execution_count": null,
   "metadata": {},
   "outputs": [],
   "source": [
    "path = '/home/jovyan/data/covis_data/data2012/mayjunang12.csv' \n",
    "df_jun2012 = pd.read_csv(path, sep=\",\")\n",
    "df_jun2012['year'] = '2012'\n",
    "df_jun2012['datetime'] = pd.to_datetime(df_jun2012.year, format='%Y') + pd.to_timedelta(df_jun2012.date - 1, unit='d')\n",
    "df_jun2012['datetime'] = df_jun2012['datetime'].dt.round('1s')\n",
    "df_jun2012 = df_jun2012.set_index('datetime')\n",
    "df_jun2012.drop(['date', 'year'], axis=1,inplace=True)\n",
    "df_jun2012 = df_jun2012.rename_axis(None)\n",
    "#fix for azimuth angle, 90 - azimuth then recomputation for any values that aren't in between 0 and 360 \n",
    "df_jun2012.azimuth = df_jun2012.azimuth.rsub(90)\n",
    "df_jun2012['azimuth'] %= 360 \n",
    "df_jun2012['minimum'] = pd.to_numeric(df_jun2012['minimum'], errors='coerce')\n",
    "df_jun2012['azirads'] = df_jun2012['azimuth']*(np.pi/180)\n",
    "df_jun2012['incrads'] = df_jun2012['inclination']*(np.pi/180)\n",
    "r = df_jun2012['r_value'] = 1\n",
    "theta = df_jun2012['azimuth']\n",
    "phi = df_jun2012['inclination']\n",
    "df_jun2012['rc_north'] = r * np.sin(theta) * np.cos(phi)\n",
    "df_jun2012['rc_east'] = r * np.sin(theta) * np.sin(phi)\n",
    "df_jun2012.drop(['r_value'], axis=1, inplace=True)\n",
    "df_jun2012 = df_jun2012.resample('h').mean().dropna()\n",
    "df_jun2012 = df_jun2012['2012-06-01 00:00:00' : \"2012-06-30 23:59:00\"]\n",
    "df_jun2012.head()"
   ]
  },
  {
   "cell_type": "code",
   "execution_count": null,
   "metadata": {},
   "outputs": [],
   "source": [
    "df_jun2012['inclination_category'] = pd.cut(df_jun2012['inclination'], bins=[0, 10, 40, 100], include_lowest=True, labels=['vertical', 'ordinary', 'extreme'])\n",
    "df_jun2012.hvplot.hist(y='inclination', by='inclination_category', bin_range=(0,95)).opts(fontsize={'xticks': 12.5, 'yticks': 12.5})"
   ]
  },
  {
   "cell_type": "code",
   "execution_count": null,
   "metadata": {},
   "outputs": [],
   "source": [
    "df_jun2012.inclination.hvplot.violin(by='index.day', title='June Inclination 2012')"
   ]
  },
  {
   "cell_type": "code",
   "execution_count": null,
   "metadata": {},
   "outputs": [],
   "source": [
    "df_jun2012.rc_north.hvplot.violin(by='index.day', title='June Azimuth North 2012',ylim=(-1, 1)).opts(fontsize={'xticks': 12, 'yticks': 12, 'title': 12, 'ylabel': 12, 'xlabel': 12}) * hv.HLine(0)"
   ]
  },
  {
   "cell_type": "code",
   "execution_count": null,
   "metadata": {},
   "outputs": [],
   "source": [
    "df_junwd2012T = df_wd2012T['2012-06-01 00:00:00' : \"2012-06-30 23:59:00\"]\n",
    "df_junwd2012T.head()"
   ]
  },
  {
   "cell_type": "code",
   "execution_count": null,
   "metadata": {},
   "outputs": [],
   "source": [
    "df_junwd2012C = df_wd2012C['2012-06-01 00:00:00' : \"2012-06-30 23:59:00\"]\n",
    "df_junwd2012C.head()"
   ]
  },
  {
   "cell_type": "code",
   "execution_count": null,
   "metadata": {},
   "outputs": [],
   "source": [
    "df_junwd2012T.wd_north.hvplot.violin(by='index.day') * hv.HLine(0)"
   ]
  },
  {
   "cell_type": "code",
   "execution_count": null,
   "metadata": {},
   "outputs": [],
   "source": [
    "df_junwd2012C.wd_north.hvplot.violin(by='index.day') * hv.HLine(0)"
   ]
  },
  {
   "cell_type": "code",
   "execution_count": null,
   "metadata": {},
   "outputs": [],
   "source": [
    "df_junwd2012C.wd_north2.hvplot.violin(by='index.day') * hv.HLine(0)"
   ]
  },
  {
   "cell_type": "markdown",
   "metadata": {},
   "source": [
    "**July**"
   ]
  },
  {
   "cell_type": "code",
   "execution_count": null,
   "metadata": {},
   "outputs": [],
   "source": [
    "!echo 'date,inclination,azimuth,minimum,maximum,sum1,sum2' | cat - ~jovyan/data/covis_data/data2012/julaugang12.dat > ~jovyan/data/covis_data/temp.txt\n",
    "!sed 's/ /,/g' ~jovyan/data/covis_data/temp.txt > ~jovyan/data/covis_data/data2012/julaugang12.csv\n",
    "!rm ~jovyan/data/covis_data/temp*\n",
    "!head /home/jovyan/data/covis_data/data2012/julaugang12.csv"
   ]
  },
  {
   "cell_type": "code",
   "execution_count": null,
   "metadata": {},
   "outputs": [],
   "source": [
    "path = '/home/jovyan/data/covis_data/data2012/julaugang12.csv' \n",
    "df_jul2012 = pd.read_csv(path, sep=\",\")\n",
    "df_jul2012['year'] = '2012'\n",
    "df_jul2012['datetime'] = pd.to_datetime(df_jul2012.year, format='%Y') + pd.to_timedelta(df_jul2012.date - 1, unit='d')\n",
    "df_jul2012['datetime'] = df_jul2012['datetime'].dt.round('1s')\n",
    "df_jul2012 = df_jul2012.set_index('datetime')\n",
    "df_jul2012.drop(['date', 'year'], axis=1,inplace=True)\n",
    "df_jul2012 = df_jul2012.rename_axis(None)\n",
    "#fix for azimuth angle, 90 - azimuth then recomputation for any values that aren't in between 0 and 360 \n",
    "df_jul2012.azimuth = df_jul2012.azimuth.rsub(90)\n",
    "df_jul2012['azimuth'] %= 360 \n",
    "df_jul2012['minimum'] = pd.to_numeric(df_jul2012['minimum'], errors='coerce')\n",
    "df_jul2012['azirads'] = df_jul2012['azimuth']*(np.pi/180)\n",
    "df_jul2012['incrads'] = df_jul2012['inclination']*(np.pi/180)\n",
    "r = df_jul2012['r_value'] = 1\n",
    "theta = df_jul2012['azimuth']\n",
    "phi = df_jul2012['inclination']\n",
    "df_jul2012['rc_north'] = r * np.sin(theta) * np.cos(phi)\n",
    "df_jul2012['rc_east'] = r * np.sin(theta) * np.sin(phi)\n",
    "df_jul2012.drop(['r_value'], axis=1, inplace=True)\n",
    "df_jul2012 = df_jul2012.resample('h').mean().dropna()\n",
    "df_jul2012 = df_jul2012['2012-07-01 00:00:00' : \"2012-07-31 23:59:00\"]\n",
    "df_jul2012"
   ]
  },
  {
   "cell_type": "code",
   "execution_count": null,
   "metadata": {},
   "outputs": [],
   "source": [
    "df_jul2012['inclination_category'] = pd.cut(df_jul2012['inclination'], bins=[0, 10, 40, 100], include_lowest=True, labels=['vertical', 'ordinary', 'extreme'])\n",
    "df_jul2012.hvplot.hist(y='inclination', by='inclination_category', bin_range=(0,95)).opts(fontsize={'xticks': 12.5, 'yticks': 12.5})"
   ]
  },
  {
   "cell_type": "code",
   "execution_count": null,
   "metadata": {},
   "outputs": [],
   "source": [
    "df_jul2012.inclination.hvplot.violin(by='index.day', title='July Inclination 2012')"
   ]
  },
  {
   "cell_type": "code",
   "execution_count": null,
   "metadata": {},
   "outputs": [],
   "source": [
    "df_jul2012.rc_north.hvplot.violin(by='index.day', title='July Azimuth North 2012',ylim=(-1, 1)).opts(fontsize={'xticks': 12, 'yticks': 12, 'title': 12, 'ylabel': 12, 'xlabel': 12}) * hv.HLine(0)"
   ]
  },
  {
   "cell_type": "code",
   "execution_count": null,
   "metadata": {},
   "outputs": [],
   "source": [
    "df_julwd2012T = df_wd2012T['2012-07-01 00:00:00' : \"2012-07-31 23:59:00\"]\n",
    "df_julwd2012T.head()"
   ]
  },
  {
   "cell_type": "code",
   "execution_count": null,
   "metadata": {},
   "outputs": [],
   "source": [
    "df_julwd2012C = df_wd2012C['2012-07-01 00:00:00' : \"2012-07-31 23:59:00\"]\n",
    "df_julwd2012C.head()"
   ]
  },
  {
   "cell_type": "code",
   "execution_count": null,
   "metadata": {},
   "outputs": [],
   "source": [
    "df_julwd2012T.wd_north.hvplot.violin(by='index.day') * hv.HLine(0)"
   ]
  },
  {
   "cell_type": "code",
   "execution_count": null,
   "metadata": {},
   "outputs": [],
   "source": [
    "df_julwd2012C.wd_north.hvplot.violin(by='index.day') * hv.HLine(0)"
   ]
  },
  {
   "cell_type": "code",
   "execution_count": null,
   "metadata": {},
   "outputs": [],
   "source": [
    "df_julwd2012C.wd_north2.hvplot.violin(by='index.day') * hv.HLine(0)"
   ]
  },
  {
   "cell_type": "markdown",
   "metadata": {},
   "source": [
    "**August**"
   ]
  },
  {
   "cell_type": "code",
   "execution_count": null,
   "metadata": {},
   "outputs": [],
   "source": [
    "!echo 'date,inclination,azimuth,minimum,maximum,sum1,sum2' | cat - ~jovyan/data/covis_data/data2012/julaugang12.dat > ~jovyan/data/covis_data/temp.txt\n",
    "!sed 's/ /,/g' ~jovyan/data/covis_data/temp.txt > ~jovyan/data/covis_data/data2012/julaugang12.csv\n",
    "!rm ~jovyan/data/covis_data/temp*\n",
    "!head /home/jovyan/data/covis_data/data2012/julaugang12.csv"
   ]
  },
  {
   "cell_type": "code",
   "execution_count": null,
   "metadata": {},
   "outputs": [],
   "source": [
    "path = '/home/jovyan/data/covis_data/data2012/julaugang12.csv' \n",
    "df_aug2012 = pd.read_csv(path, sep=\",\")\n",
    "df_aug2012['year'] = '2012'\n",
    "df_aug2012['datetime'] = pd.to_datetime(df_aug2012.year, format='%Y') + pd.to_timedelta(df_aug2012.date - 1, unit='d')\n",
    "df_aug2012['datetime'] = df_aug2012['datetime'].dt.round('1s')\n",
    "df_aug2012 = df_aug2012.set_index('datetime')\n",
    "df_aug2012.drop(['date', 'year'], axis=1,inplace=True)\n",
    "df_aug2012 = df_aug2012.rename_axis(None)\n",
    "#fix for azimuth angle, 90 - azimuth then recomputation for any values that aren't in between 0 and 360 \n",
    "df_aug2012.azimuth = df_aug2012.azimuth.rsub(90)\n",
    "df_aug2012['azimuth'] %= 360 \n",
    "df_aug2012['minimum'] = pd.to_numeric(df_aug2012['minimum'], errors='coerce')\n",
    "df_aug2012['azirads'] = df_aug2012['azimuth']*(np.pi/180)\n",
    "df_aug2012['incrads'] = df_aug2012['inclination']*(np.pi/180)\n",
    "r = df_aug2012['r_value'] = 1\n",
    "theta = df_aug2012['azimuth']\n",
    "phi = df_aug2012['inclination']\n",
    "df_aug2012['rc_north'] = r * np.sin(theta) * np.cos(phi)\n",
    "df_aug2012['rc_east'] = r * np.sin(theta) * np.sin(phi)\n",
    "df_aug2012.drop(['r_value'], axis=1, inplace=True)\n",
    "df_aug2012 = df_aug2012.resample('h').mean().dropna()\n",
    "df_aug2012 = df_aug2012['2012-08-01 00:00:00' : \"2012-08-31 23:59:00\"]\n",
    "df_aug2012"
   ]
  },
  {
   "cell_type": "code",
   "execution_count": null,
   "metadata": {},
   "outputs": [],
   "source": [
    "df_aug2012['inclination_category'] = pd.cut(df_aug2012['inclination'], bins=[0, 10, 40, 100], include_lowest=True, labels=['vertical', 'ordinary', 'extreme'])\n",
    "df_aug2012.hvplot.hist(y='inclination', by='inclination_category', bin_range=(0,95)).opts(fontsize={'xticks': 12.5, 'yticks': 12.5})"
   ]
  },
  {
   "cell_type": "code",
   "execution_count": null,
   "metadata": {},
   "outputs": [],
   "source": [
    "df_aug2012.inclination.hvplot.violin(by='index.day', title='August Inclination 2012')"
   ]
  },
  {
   "cell_type": "code",
   "execution_count": null,
   "metadata": {},
   "outputs": [],
   "source": [
    "df_aug2012.rc_north.hvplot.violin(by='index.day', title='August Azimuth North 2012',ylim=(-1, 1)).opts(fontsize={'xticks': 12, 'yticks': 12, 'title': 12, 'ylabel': 12, 'xlabel': 12}) * hv.HLine(0)"
   ]
  },
  {
   "cell_type": "code",
   "execution_count": null,
   "metadata": {},
   "outputs": [],
   "source": [
    "df_augwd2012T = df_wd2012T['2012-08-01 00:00:00' : \"2012-08-31 23:59:00\"]\n",
    "df_augwd2012T.head()"
   ]
  },
  {
   "cell_type": "code",
   "execution_count": null,
   "metadata": {},
   "outputs": [],
   "source": [
    "df_augwd2012C = df_wd2012C['2012-08-01 00:00:00' : \"2012-08-31 23:59:00\"]\n",
    "df_augwd2012C.head()"
   ]
  },
  {
   "cell_type": "code",
   "execution_count": null,
   "metadata": {},
   "outputs": [],
   "source": [
    "df_augwd2012T.wd_north.hvplot.violin(by='index.day') * hv.HLine(0)"
   ]
  },
  {
   "cell_type": "code",
   "execution_count": null,
   "metadata": {},
   "outputs": [],
   "source": [
    "df_augwd2012C.wd_north.hvplot.violin(by='index.day') * hv.HLine(0)"
   ]
  },
  {
   "cell_type": "code",
   "execution_count": null,
   "metadata": {},
   "outputs": [],
   "source": [
    "df_augwd2012C.wd_north2.hvplot.violin(by='index.day') * hv.HLine(0)"
   ]
  },
  {
   "cell_type": "markdown",
   "metadata": {},
   "source": [
    "**September**"
   ]
  },
  {
   "cell_type": "code",
   "execution_count": null,
   "metadata": {},
   "outputs": [],
   "source": [
    "!echo 'date,inclination,azimuth,minimum,maximum,sum1,sum2' | cat - ~jovyan/data/covis_data/data2012/sepoctang12.dat > ~jovyan/data/covis_data/temp.txt\n",
    "!sed 's/ /,/g' ~jovyan/data/covis_data/temp.txt > ~jovyan/data/covis_data/data2012/sepoctang12.csv\n",
    "!rm ~jovyan/data/covis_data/temp*\n",
    "!head /home/jovyan/data/covis_data/data2012/sepoctang12.csv"
   ]
  },
  {
   "cell_type": "code",
   "execution_count": null,
   "metadata": {},
   "outputs": [],
   "source": [
    "path = '/home/jovyan/data/covis_data/data2012/sepoctang12.csv' \n",
    "df_sep2012 = pd.read_csv(path, sep=\",\")\n",
    "df_sep2012['year'] = '2012'\n",
    "df_sep2012['datetime'] = pd.to_datetime(df_sep2012.year, format='%Y') + pd.to_timedelta(df_sep2012.date - 1, unit='d')\n",
    "df_sep2012['datetime'] = df_sep2012['datetime'].dt.round('1s')\n",
    "df_sep2012 = df_sep2012.set_index('datetime')\n",
    "df_sep2012.drop(['date', 'year'], axis=1,inplace=True)\n",
    "df_sep2012 = df_sep2012.rename_axis(None)\n",
    "#fix for azimuth angle, 90 - azimuth then recomputation for any values that aren't in between 0 and 360 \n",
    "df_sep2012.azimuth = df_sep2012.azimuth.rsub(90)\n",
    "df_sep2012['azimuth'] %= 360 \n",
    "df_sep2012['minimum'] = pd.to_numeric(df_sep2012['minimum'], errors='coerce')\n",
    "df_sep2012['azirads'] = df_sep2012['azimuth']*(np.pi/180)\n",
    "df_sep2012['incrads'] = df_sep2012['inclination']*(np.pi/180)\n",
    "r = df_sep2012['r_value'] = 1\n",
    "theta = df_sep2012['azimuth']\n",
    "phi = df_sep2012['inclination']\n",
    "df_sep2012['rc_north'] = r * np.sin(theta) * np.cos(phi)\n",
    "df_sep2012['rc_east'] = r * np.sin(theta) * np.sin(phi)\n",
    "df_sep2012.drop(['r_value'], axis=1, inplace=True)\n",
    "df_sep2012 = df_sep2012.resample('h').mean().dropna()\n",
    "df_sep2012 = df_sep2012['2012-09-01 00:00:00' : \"2012-09-30 23:59:00\"]\n",
    "df_sep2012"
   ]
  },
  {
   "cell_type": "code",
   "execution_count": null,
   "metadata": {},
   "outputs": [],
   "source": [
    "df_sep2012['inclination_category'] = pd.cut(df_sep2012['inclination'], bins=[0, 10, 40, 100], include_lowest=True, labels=['vertical', 'ordinary', 'extreme'])\n",
    "df_sep2012.hvplot.hist(y='inclination', by='inclination_category', bin_range=(0,95)).opts(fontsize={'xticks': 12.5, 'yticks': 12.5})"
   ]
  },
  {
   "cell_type": "code",
   "execution_count": null,
   "metadata": {},
   "outputs": [],
   "source": [
    "df_sep2012.inclination.hvplot.violin(by='index.day', title='September Inclination 2012')"
   ]
  },
  {
   "cell_type": "code",
   "execution_count": null,
   "metadata": {},
   "outputs": [],
   "source": [
    "df_sep2012.rc_north.hvplot.violin(by='index.day', title='September Azimuth North 2012',ylim=(-1, 1)).opts(fontsize={'xticks': 12, 'yticks': 12, 'title': 12, 'ylabel': 12, 'xlabel': 12}) * hv.HLine(0)"
   ]
  },
  {
   "cell_type": "code",
   "execution_count": null,
   "metadata": {},
   "outputs": [],
   "source": [
    "df_sepwd2012T = df_wd2012T['2012-09-01 00:00:00' : \"2012-09-30 23:59:00\"]\n",
    "df_sepwd2012T.head()"
   ]
  },
  {
   "cell_type": "code",
   "execution_count": null,
   "metadata": {},
   "outputs": [],
   "source": [
    "df_sepwd2012C = df_wd2012C['2012-09-01 00:00:00' : \"2012-09-30 23:59:00\"]\n",
    "df_sepwd2012C.head()"
   ]
  },
  {
   "cell_type": "code",
   "execution_count": null,
   "metadata": {},
   "outputs": [],
   "source": [
    "df_sepwd2012T.wd_north.hvplot.violin(by='index.day') * hv.HLine(0)"
   ]
  },
  {
   "cell_type": "code",
   "execution_count": null,
   "metadata": {},
   "outputs": [],
   "source": [
    "df_sepwd2012C.wd_north.hvplot.violin(by='index.day') * hv.HLine(0)"
   ]
  },
  {
   "cell_type": "code",
   "execution_count": null,
   "metadata": {},
   "outputs": [],
   "source": [
    "df_sepwd2012C.wd_north2.hvplot.violin(by='index.day') * hv.HLine(0)"
   ]
  },
  {
   "cell_type": "markdown",
   "metadata": {},
   "source": [
    "**October**"
   ]
  },
  {
   "cell_type": "code",
   "execution_count": null,
   "metadata": {},
   "outputs": [],
   "source": [
    "path = '/home/jovyan/data/covis_data/data2012/sepoctang12.csv' \n",
    "df_oct2012 = pd.read_csv(path, sep=\",\")\n",
    "df_oct2012['year'] = '2012'\n",
    "df_oct2012['datetime'] = pd.to_datetime(df_oct2012.year, format='%Y') + pd.to_timedelta(df_oct2012.date - 1, unit='d')\n",
    "df_oct2012['datetime'] = df_oct2012['datetime'].dt.round('1s')\n",
    "df_oct2012 = df_oct2012.set_index('datetime')\n",
    "df_oct2012.drop(['date', 'year'], axis=1,inplace=True)\n",
    "df_oct2012 = df_oct2012.rename_axis(None)\n",
    "#fix for azimuth angle, 90 - azimuth then recomputation for any values that aren't in between 0 and 360 \n",
    "df_oct2012.azimuth = df_oct2012.azimuth.rsub(90)\n",
    "df_oct2012['azimuth'] %= 360 \n",
    "df_oct2012['minimum'] = pd.to_numeric(df_oct2012['minimum'], errors='coerce')\n",
    "df_oct2012['azirads'] = df_oct2012['azimuth']*(np.pi/180)\n",
    "df_oct2012['incrads'] = df_oct2012['inclination']*(np.pi/180)\n",
    "r = df_oct2012['r_value'] = 1\n",
    "theta = df_oct2012['azimuth']\n",
    "phi = df_oct2012['inclination']\n",
    "df_oct2012['rc_north'] = r * np.sin(theta) * np.cos(phi)\n",
    "df_oct2012['rc_east'] = r * np.sin(theta) * np.sin(phi)\n",
    "df_oct2012.drop(['r_value'], axis=1, inplace=True)\n",
    "df_oct2012 = df_oct2012.resample('h').mean().dropna()\n",
    "df_oct2012 = df_oct2012['2012-10-01 00:00:00' : \"2012-10-31 23:59:00\"]\n",
    "df_oct2012"
   ]
  },
  {
   "cell_type": "code",
   "execution_count": null,
   "metadata": {},
   "outputs": [],
   "source": [
    "df_oct2012['inclination_category'] = pd.cut(df_oct2012['inclination'], bins=[0, 10, 40, 100], include_lowest=True, labels=['vertical', 'ordinary', 'extreme'])\n",
    "df_oct2012.hvplot.hist(y='inclination', by='inclination_category', bin_range=(0,95)).opts(fontsize={'xticks': 12.5, 'yticks': 12.5})"
   ]
  },
  {
   "cell_type": "code",
   "execution_count": null,
   "metadata": {},
   "outputs": [],
   "source": [
    "df_oct2012.inclination.hvplot.violin(by='index.day', title='October Inclination 2012')"
   ]
  },
  {
   "cell_type": "code",
   "execution_count": null,
   "metadata": {},
   "outputs": [],
   "source": [
    "df_oct2012.rc_north.hvplot.violin(by='index.day', title='October Azimuth North 2012',ylim=(-1, 1)).opts(fontsize={'xticks': 12, 'yticks': 12, 'title': 12, 'ylabel': 12, 'xlabel': 12}) * hv.HLine(0)"
   ]
  },
  {
   "cell_type": "code",
   "execution_count": null,
   "metadata": {},
   "outputs": [],
   "source": [
    "df_octwd2012T = df_wd2012T['2012-10-01 00:00:00' : \"2012-10-31 23:59:00\"]\n",
    "df_octwd2012T.head()"
   ]
  },
  {
   "cell_type": "code",
   "execution_count": null,
   "metadata": {},
   "outputs": [],
   "source": [
    "df_octwd2012C = df_wd2012C['2012-10-01 00:00:00' : \"2012-10-31 23:59:00\"]\n",
    "df_octwd2012C.head()"
   ]
  },
  {
   "cell_type": "code",
   "execution_count": null,
   "metadata": {},
   "outputs": [],
   "source": [
    "df_octwd2012T.wd_north.hvplot.violin(by='index.day') * hv.HLine(0)"
   ]
  },
  {
   "cell_type": "code",
   "execution_count": null,
   "metadata": {},
   "outputs": [],
   "source": [
    "df_octwd2012C.wd_north.hvplot.violin(by='index.day') * hv.HLine(0)"
   ]
  },
  {
   "cell_type": "code",
   "execution_count": null,
   "metadata": {},
   "outputs": [],
   "source": [
    "df_octwd2012C.wd_north2.hvplot.violin(by='index.day') * hv.HLine(0)"
   ]
  },
  {
   "cell_type": "markdown",
   "metadata": {},
   "source": [
    "**November**"
   ]
  },
  {
   "cell_type": "code",
   "execution_count": null,
   "metadata": {},
   "outputs": [],
   "source": [
    "!echo 'date,inclination,azimuth,minimum,maximum,sum1,sum2' | cat - ~jovyan/data/covis_data/data2012/novdecang12.dat > ~jovyan/data/covis_data/temp.txt\n",
    "!sed 's/ /,/g' ~jovyan/data/covis_data/temp.txt > ~jovyan/data/covis_data/data2012/novdecang12.csv\n",
    "!rm ~jovyan/data/covis_data/temp*\n",
    "!head /home/jovyan/data/covis_data/data2012/novdecang12.csv"
   ]
  },
  {
   "cell_type": "code",
   "execution_count": null,
   "metadata": {},
   "outputs": [],
   "source": [
    "path = '/home/jovyan/data/covis_data/data2012/novdecang12.csv' \n",
    "df_nov2012 = pd.read_csv(path, sep=\",\")\n",
    "df_nov2012['year'] = '2012'\n",
    "df_nov2012['datetime'] = pd.to_datetime(df_nov2012.year, format='%Y') + pd.to_timedelta(df_nov2012.date - 1, unit='d')\n",
    "df_nov2012['datetime'] = df_nov2012['datetime'].dt.round('1s')\n",
    "df_nov2012 = df_nov2012.set_index('datetime')\n",
    "df_nov2012.drop(['date', 'year'], axis=1,inplace=True)\n",
    "df_nov2012 = df_nov2012.rename_axis(None)\n",
    "#fix for azimuth angle, 90 - azimuth then recomputation for any values that aren't in between 0 and 360 \n",
    "df_nov2012.azimuth = df_nov2012.azimuth.rsub(90)\n",
    "df_nov2012['azimuth'] %= 360 \n",
    "df_nov2012['minimum'] = pd.to_numeric(df_nov2012['minimum'], errors='coerce')\n",
    "df_nov2012['azirads'] = df_nov2012['azimuth']*(np.pi/180)\n",
    "df_nov2012['incrads'] = df_nov2012['inclination']*(np.pi/180)\n",
    "r = df_nov2012['r_value'] = 1\n",
    "theta = df_nov2012['azimuth']\n",
    "phi = df_nov2012['inclination']\n",
    "df_nov2012['rc_north'] = r * np.sin(theta) * np.cos(phi)\n",
    "df_nov2012['rc_east'] = r * np.sin(theta) * np.sin(phi)\n",
    "df_nov2012.drop(['r_value'], axis=1, inplace=True)\n",
    "df_nov2012 = df_nov2012.resample('h').mean().dropna()\n",
    "df_nov2012 = df_nov2012['2012-11-01 00:00:00' : \"2012-11-30 23:59:00\"]\n",
    "df_nov2012"
   ]
  },
  {
   "cell_type": "code",
   "execution_count": null,
   "metadata": {},
   "outputs": [],
   "source": [
    "df_nov2012['inclination_category'] = pd.cut(df_nov2012['inclination'], bins=[0, 10, 40, 100], include_lowest=True, labels=['vertical', 'ordinary', 'extreme'])\n",
    "df_nov2012.hvplot.hist(y='inclination', by='inclination_category', bin_range=(0,95)).opts(fontsize={'xticks': 12.5, 'yticks': 12.5})"
   ]
  },
  {
   "cell_type": "code",
   "execution_count": null,
   "metadata": {},
   "outputs": [],
   "source": [
    "df_nov2012.inclination.hvplot.violin(by='index.day', title='November Inclination 2012')"
   ]
  },
  {
   "cell_type": "code",
   "execution_count": null,
   "metadata": {},
   "outputs": [],
   "source": [
    "df_nov2012.rc_north.hvplot.violin(by='index.day', title='November Azimuth North 2012',ylim=(-1, 1)).opts(fontsize={'xticks': 12, 'yticks': 12, 'title': 12, 'ylabel': 12, 'xlabel': 12}) * hv.HLine(0)"
   ]
  },
  {
   "cell_type": "code",
   "execution_count": null,
   "metadata": {},
   "outputs": [],
   "source": [
    "df_novwd2012T = df_wd2012T['2012-11-01 00:00:00' : \"2012-11-30 23:59:00\"]\n",
    "df_novwd2012T.head()"
   ]
  },
  {
   "cell_type": "code",
   "execution_count": null,
   "metadata": {},
   "outputs": [],
   "source": [
    "df_novwd2012C = df_wd2012C['2012-11-01 00:00:00' : \"2012-11-30 23:59:00\"]\n",
    "df_novwd2012C.head()"
   ]
  },
  {
   "cell_type": "code",
   "execution_count": null,
   "metadata": {},
   "outputs": [],
   "source": [
    "df_novwd2012T.wd_north.hvplot.violin(by='index.day') * hv.HLine(0)"
   ]
  },
  {
   "cell_type": "code",
   "execution_count": null,
   "metadata": {},
   "outputs": [],
   "source": [
    "df_novwd2012C.wd_north.hvplot.violin(by='index.day') * hv.HLine(0)"
   ]
  },
  {
   "cell_type": "code",
   "execution_count": null,
   "metadata": {},
   "outputs": [],
   "source": [
    "df_novwd2012C.wd_north2.hvplot.violin(by='index.day') * hv.HLine(0)"
   ]
  },
  {
   "cell_type": "markdown",
   "metadata": {},
   "source": [
    "**December**"
   ]
  },
  {
   "cell_type": "code",
   "execution_count": null,
   "metadata": {},
   "outputs": [],
   "source": [
    "path = '/home/jovyan/data/covis_data/data2012/novdecang12.csv' \n",
    "df_dec2012 = pd.read_csv(path, sep=\",\")\n",
    "df_dec2012['year'] = '2012'\n",
    "df_dec2012['datetime'] = pd.to_datetime(df_dec2012.year, format='%Y') + pd.to_timedelta(df_dec2012.date - 1, unit='d')\n",
    "df_dec2012['datetime'] = df_dec2012['datetime'].dt.round('1s')\n",
    "df_dec2012 = df_dec2012.set_index('datetime')\n",
    "df_dec2012.drop(['date', 'year'], axis=1,inplace=True)\n",
    "df_dec2012 = df_dec2012.rename_axis(None)\n",
    "#fix for azimuth angle, 90 - azimuth then recomputation for any values that aren't in between 0 and 360 \n",
    "df_dec2012.azimuth = df_dec2012.azimuth.rsub(90)\n",
    "df_dec2012['azimuth'] %= 360 \n",
    "df_dec2012['minimum'] = pd.to_numeric(df_dec2012['minimum'], errors='coerce')\n",
    "df_dec2012['azirads'] = df_dec2012['azimuth']*(np.pi/180)\n",
    "df_dec2012['incrads'] = df_dec2012['inclination']*(np.pi/180)\n",
    "r = df_dec2012['r_value'] = 1\n",
    "theta = df_dec2012['azimuth']\n",
    "phi = df_dec2012['inclination']\n",
    "df_dec2012['rc_north'] = r * np.sin(theta) * np.cos(phi)\n",
    "df_dec2012['rc_east'] = r * np.sin(theta) * np.sin(phi)\n",
    "df_dec2012.drop(['r_value'], axis=1, inplace=True)\n",
    "df_dec2012 = df_dec2012.resample('h').mean().dropna()\n",
    "df_dec2012 = df_dec2012['2012-12-01 00:00:00' : \"2012-12-31 23:59:00\"]\n",
    "df_dec2012"
   ]
  },
  {
   "cell_type": "code",
   "execution_count": null,
   "metadata": {},
   "outputs": [],
   "source": [
    "df_dec2012['inclination_category'] = pd.cut(df_dec2012['inclination'], bins=[0, 10, 40, 100], include_lowest=True, labels=['vertical', 'ordinary', 'extreme'])\n",
    "df_dec2012.hvplot.hist(y='inclination', by='inclination_category', bin_range=(0,95)).opts(fontsize={'xticks': 12.5, 'yticks': 12.5})"
   ]
  },
  {
   "cell_type": "code",
   "execution_count": null,
   "metadata": {},
   "outputs": [],
   "source": [
    "df_dec2012.inclination.hvplot.violin(by='index.day', title='December Inclination 2012')"
   ]
  },
  {
   "cell_type": "code",
   "execution_count": null,
   "metadata": {},
   "outputs": [],
   "source": [
    "df_dec2012.rc_north.hvplot.violin(by='index.day', title='December Azimuth North 2012',ylim=(-1, 1)).opts(fontsize={'xticks': 12, 'yticks': 12, 'title': 12, 'ylabel': 12, 'xlabel': 12}) * hv.HLine(0)"
   ]
  },
  {
   "cell_type": "code",
   "execution_count": null,
   "metadata": {},
   "outputs": [],
   "source": [
    "df_decwd2012T = df_wd2012T['2012-12-01 00:00:00' : \"2012-12-31 23:59:00\"]\n",
    "df_decwd2012T.head()"
   ]
  },
  {
   "cell_type": "code",
   "execution_count": null,
   "metadata": {},
   "outputs": [],
   "source": [
    "df_decwd2012C = df_wd2012C['2012-12-01 00:00:00' : \"2012-12-31 23:59:00\"]\n",
    "df_decwd2012C.head()"
   ]
  },
  {
   "cell_type": "code",
   "execution_count": null,
   "metadata": {},
   "outputs": [],
   "source": [
    "df_decwd2012T.wd_north.hvplot.violin(by='index.day') * hv.HLine(0)"
   ]
  },
  {
   "cell_type": "code",
   "execution_count": null,
   "metadata": {},
   "outputs": [],
   "source": [
    "df_decwd2012C.wd_north.hvplot.violin(by='index.day') * hv.HLine(0)"
   ]
  },
  {
   "cell_type": "code",
   "execution_count": null,
   "metadata": {},
   "outputs": [],
   "source": [
    "df_decwd2012C.wd_north2.hvplot.violin(by='index.day') * hv.HLine(0)"
   ]
  },
  {
   "cell_type": "markdown",
   "metadata": {},
   "source": [
    "## Yearly Plots"
   ]
  },
  {
   "cell_type": "code",
   "execution_count": null,
   "metadata": {},
   "outputs": [],
   "source": [
    "df_D2012 = pd.concat([df_jan2012, df_feb2012, df_mar2012, df_apr2012, df_may2012, df_jun2012, df_jul2012, df_aug2012, df_sep2012, df_oct2012, df_nov2012, df_dec2012])\n",
    "df_D2012"
   ]
  },
  {
   "cell_type": "code",
   "execution_count": null,
   "metadata": {},
   "outputs": [],
   "source": [
    "D2012T = pd.merge(df_D2012, df_wd2012T,how='inner', indicator=True, left_index=True, right_index=True, suffixes=('_B', '_G'))\n",
    "df_D2012T = pd.DataFrame()\n",
    "df_D2012T = D2012T[D2012T['_merge'] == 'both']\n",
    "del df_D2012T['_merge']\n",
    "df_D2012T.drop(['r_value','dom_wvp','av_wvp','mwd','dew_temp','vis','tide'], axis=1, inplace=True)\n",
    "df_D2012T"
   ]
  },
  {
   "cell_type": "code",
   "execution_count": null,
   "metadata": {},
   "outputs": [],
   "source": [
    "D2012C = pd.merge(df_D2012, df_wd2012C,how='inner', indicator=True, left_index=True, right_index=True, suffixes=('_B', '_G'))\n",
    "df_D2012C = pd.DataFrame()\n",
    "df_D2012C = D2012C[D2012C['_merge'] == 'both']\n",
    "del df_D2012C['_merge']\n",
    "df_D2012C = df_D2012C[(df_D2012C != 0).all(1)]\n",
    "df_D2012C"
   ]
  },
  {
   "cell_type": "code",
   "execution_count": null,
   "metadata": {},
   "outputs": [],
   "source": [
    "df_D2012['inclination_category'] = pd.cut(df_D2012['inclination'], bins=[0, 10, 40, 100], include_lowest=True, labels=['vertical', 'ordinary', 'extreme'])\n",
    "df_D2012.hvplot.hist(y='inclination', by='inclination_category', title='2012', bin_range=(0, 95)).opts(fontsize={'xticks': 12.5, 'yticks': 12.5, 'title': 12.5})"
   ]
  },
  {
   "cell_type": "code",
   "execution_count": null,
   "metadata": {},
   "outputs": [],
   "source": [
    "df_D2012R = df_D2012['2012-10-01 00:00:00' : \"2012-12-31 23:59:00\"]\n",
    "df_D2012R.hvplot.hist(y='inclination', by='inclination_category', title='2012 (Reduced)', bin_range=(0, 95)).opts(fontsize={'xticks': 12.5, 'yticks': 12.5, 'title': 12.5})"
   ]
  },
  {
   "cell_type": "code",
   "execution_count": null,
   "metadata": {},
   "outputs": [],
   "source": [
    "plt.hist([df_D2012['inclination']], bins = int(360/15), density=True)\n",
    "plt.xlabel('Inclination', fontsize='14')\n",
    "plt.ylabel('Normalized Frequency', fontsize='14')\n",
    "plt.title('2012 Inclination', fontsize='16')\n",
    "plt.xlim(0, 90) \n",
    "plt.tight_layout()\n",
    "plt.savefig('/home/jovyan/Repos/AGU_2019/JoshFolder/2013Figs/HistInc12', dpi=300)\n",
    "plt.show()"
   ]
  },
  {
   "cell_type": "code",
   "execution_count": null,
   "metadata": {},
   "outputs": [],
   "source": [
    "degrees = df_D2012T['azimuth'].values\n",
    "radians = np.deg2rad(degrees)\n",
    "\n",
    "bin_size = 2\n",
    "a , b=np.histogram(degrees, bins=np.arange(0, 360+bin_size, bin_size))\n",
    "centers = np.deg2rad(np.ediff1d(b)//2 + b[:-1])\n",
    "\n",
    "fig = plt.figure(figsize=(10,8))\n",
    "ax = fig.add_subplot(111, projection='polar')\n",
    "ax.bar(centers, a, width=np.deg2rad(bin_size), bottom=0.0, color='cyan', edgecolor='k')\n",
    "ax.set_theta_zero_location(\"N\")\n",
    "ax.set_theta_direction(-1)\n",
    "plt.title('Azimuth 2012',fontsize='15')\n",
    "plt.rc('xtick', labelsize=20)\n",
    "plt.rc('ytick', labelsize=15)\n",
    "plt.savefig('/home/jovyan/Repos/AGU_2019/JoshFolder/2013Figs/azimuth2012')\n",
    "plt.show()"
   ]
  },
  {
   "cell_type": "code",
   "execution_count": null,
   "metadata": {},
   "outputs": [],
   "source": [
    "degrees = df_oct2012['azimuth'].values\n",
    "radians = np.deg2rad(degrees)\n",
    "\n",
    "bin_size = 2\n",
    "a , b=np.histogram(degrees, bins=np.arange(0, 360+bin_size, bin_size))\n",
    "centers = np.deg2rad(np.ediff1d(b)//2 + b[:-1])\n",
    "\n",
    "fig = plt.figure(figsize=(10,8))\n",
    "ax = fig.add_subplot(111, projection='polar')\n",
    "ax.bar(centers, a, width=np.deg2rad(bin_size), bottom=0.0, color='cyan', edgecolor='k')\n",
    "ax.set_theta_zero_location(\"N\")\n",
    "ax.set_theta_direction(-1)\n",
    "plt.title('October Azimuth 2012',fontsize='15')\n",
    "plt.rc('xtick', labelsize=20)\n",
    "plt.rc('ytick', labelsize=15)\n",
    "plt.savefig('/home/jovyan/Repos/AGU_2019/JoshFolder/2013Figs/octazimuth2012')\n",
    "plt.show()"
   ]
  },
  {
   "cell_type": "code",
   "execution_count": null,
   "metadata": {},
   "outputs": [],
   "source": [
    "df_D2012RT = df_D2012T['2012-10-01 00:00:00' : \"2012-12-31 23:59:00\"]\n",
    "degrees = df_D2012RT['azimuth'].values\n",
    "radians = np.deg2rad(degrees)\n",
    "\n",
    "bin_size = 2\n",
    "a , b=np.histogram(degrees, bins=np.arange(0, 360+bin_size, bin_size))\n",
    "centers = np.deg2rad(np.ediff1d(b)//2 + b[:-1])\n",
    "\n",
    "fig = plt.figure(figsize=(10,8))\n",
    "ax = fig.add_subplot(111, projection='polar')\n",
    "ax.bar(centers, a, width=np.deg2rad(bin_size), bottom=0.0, color='cyan', edgecolor='k')\n",
    "ax.set_theta_zero_location(\"N\")\n",
    "ax.set_theta_direction(-1)\n",
    "plt.title('Azimuth 2012 (Reduced)',fontsize='15')\n",
    "plt.rc('xtick', labelsize=20)\n",
    "plt.rc('ytick', labelsize=15)\n",
    "plt.savefig('/home/jovyan/Repos/AGU_2019/JoshFolder/2013Figs/azimuth2012reduced')\n",
    "plt.show()"
   ]
  },
  {
   "cell_type": "code",
   "execution_count": null,
   "metadata": {},
   "outputs": [],
   "source": [
    "degrees = df_D2012T['wnd_dir'].values\n",
    "radians = np.deg2rad(degrees)\n",
    "\n",
    "bin_size = 2\n",
    "a , b=np.histogram(degrees, bins=np.arange(0, 360+bin_size, bin_size))\n",
    "centers = np.deg2rad(np.ediff1d(b)//2 + b[:-1])\n",
    "\n",
    "fig = plt.figure(figsize=(10,8))\n",
    "ax = fig.add_subplot(111, projection='polar')\n",
    "ax.bar(centers, a, width=np.deg2rad(bin_size), bottom=0.0, color='cyan', edgecolor='k')\n",
    "ax.set_theta_zero_location(\"N\")\n",
    "ax.set_theta_direction(-1)\n",
    "plt.title('Wind Direction 2012 Tillamook',fontsize='15')\n",
    "plt.rc('xtick', labelsize=20)\n",
    "plt.rc('ytick', labelsize=15)\n",
    "plt.savefig('/home/jovyan/Repos/AGU_2019/JoshFolder/2013Figs/wd2012T')\n",
    "plt.show()"
   ]
  },
  {
   "cell_type": "code",
   "execution_count": null,
   "metadata": {},
   "outputs": [],
   "source": [
    "degrees = df_octwd2012T['wnd_dir'].values\n",
    "radians = np.deg2rad(degrees)\n",
    "\n",
    "bin_size = 2\n",
    "a , b=np.histogram(degrees, bins=np.arange(0, 360+bin_size, bin_size))\n",
    "centers = np.deg2rad(np.ediff1d(b)//2 + b[:-1])\n",
    "\n",
    "fig = plt.figure(figsize=(10,8))\n",
    "ax = fig.add_subplot(111, projection='polar')\n",
    "ax.bar(centers, a, width=np.deg2rad(bin_size), bottom=0.0, color='cyan', edgecolor='k')\n",
    "ax.set_theta_zero_location(\"N\")\n",
    "ax.set_theta_direction(-1)\n",
    "plt.title('October Wind Direction 2012 Tillamook',fontsize='15')\n",
    "plt.rc('xtick', labelsize=20)\n",
    "plt.rc('ytick', labelsize=15)\n",
    "plt.savefig('/home/jovyan/Repos/AGU_2019/JoshFolder/2013Figs/octwd2012T')\n",
    "plt.show()"
   ]
  },
  {
   "cell_type": "code",
   "execution_count": null,
   "metadata": {},
   "outputs": [],
   "source": [
    "degrees = df_D2012RT['wnd_dir'].values\n",
    "radians = np.deg2rad(degrees)\n",
    "\n",
    "bin_size = 2\n",
    "a , b=np.histogram(degrees, bins=np.arange(0, 360+bin_size, bin_size))\n",
    "centers = np.deg2rad(np.ediff1d(b)//2 + b[:-1])\n",
    "\n",
    "fig = plt.figure(figsize=(10,8))\n",
    "ax = fig.add_subplot(111, projection='polar')\n",
    "ax.bar(centers, a, width=np.deg2rad(bin_size), bottom=0.0, color='cyan', edgecolor='k')\n",
    "ax.set_theta_zero_location(\"N\")\n",
    "ax.set_theta_direction(-1)\n",
    "plt.title('Wind Direction 2012 Tillamook (Reduced)',fontsize='15')\n",
    "plt.rc('xtick', labelsize=20)\n",
    "plt.rc('ytick', labelsize=15)\n",
    "plt.savefig('/home/jovyan/Repos/AGU_2019/JoshFolder/2013Figs/wd2012TRed')\n",
    "plt.show()"
   ]
  },
  {
   "cell_type": "code",
   "execution_count": null,
   "metadata": {},
   "outputs": [],
   "source": [
    "df_D20120=df_D2012C.loc[df_D2012C['WDIR.1']==0]\n",
    "df_D20120.head()"
   ]
  },
  {
   "cell_type": "code",
   "execution_count": null,
   "metadata": {},
   "outputs": [],
   "source": [
    "degrees = df_D2012C['WDIR'].values\n",
    "radians = np.deg2rad(degrees)\n",
    "\n",
    "bin_size = 2\n",
    "a , b=np.histogram(degrees, bins=np.arange(0, 360+bin_size, bin_size))\n",
    "centers = np.deg2rad(np.ediff1d(b)//2 + b[:-1])\n",
    "\n",
    "fig = plt.figure(figsize=(10,8))\n",
    "ax = fig.add_subplot(111, projection='polar')\n",
    "ax.bar(centers, a, width=np.deg2rad(bin_size), bottom=0.0, color='cyan', edgecolor='k')\n",
    "ax.set_theta_zero_location(\"N\")\n",
    "ax.set_theta_direction(-1)\n",
    "plt.title('Wind Direction 2012 c46036 1',fontsize='15')\n",
    "plt.rc('xtick', labelsize=20)\n",
    "plt.rc('ytick', labelsize=15)\n",
    "plt.savefig('/home/jovyan/Repos/AGU_2019/JoshFolder/2013Figs/wd2012C1')\n",
    "plt.show()"
   ]
  },
  {
   "cell_type": "code",
   "execution_count": null,
   "metadata": {},
   "outputs": [],
   "source": [
    "degrees = df_octwd2012C['WDIR'].values\n",
    "radians = np.deg2rad(degrees)\n",
    "\n",
    "bin_size = 2\n",
    "a , b=np.histogram(degrees, bins=np.arange(0, 360+bin_size, bin_size))\n",
    "centers = np.deg2rad(np.ediff1d(b)//2 + b[:-1])\n",
    "\n",
    "fig = plt.figure(figsize=(10,8))\n",
    "ax = fig.add_subplot(111, projection='polar')\n",
    "ax.bar(centers, a, width=np.deg2rad(bin_size), bottom=0.0, color='cyan', edgecolor='k')\n",
    "ax.set_theta_zero_location(\"N\")\n",
    "ax.set_theta_direction(-1)\n",
    "plt.title('October Wind Direction 2012 c46036 1',fontsize='15')\n",
    "plt.rc('xtick', labelsize=20)\n",
    "plt.rc('ytick', labelsize=15)\n",
    "plt.savefig('/home/jovyan/Repos/AGU_2019/JoshFolder/2013Figs/octwd2012C1')\n",
    "plt.show()"
   ]
  },
  {
   "cell_type": "code",
   "execution_count": null,
   "metadata": {},
   "outputs": [],
   "source": [
    "df_D2012RC = df_D2012C['2012-10-01 00:00:00' : \"2012-12-31 23:59:00\"]\n",
    "degrees = df_D2012RC['WDIR'].values\n",
    "radians = np.deg2rad(degrees)\n",
    "\n",
    "bin_size = 2\n",
    "a , b=np.histogram(degrees, bins=np.arange(0, 360+bin_size, bin_size))\n",
    "centers = np.deg2rad(np.ediff1d(b)//2 + b[:-1])\n",
    "\n",
    "fig = plt.figure(figsize=(10,8))\n",
    "ax = fig.add_subplot(111, projection='polar')\n",
    "ax.bar(centers, a, width=np.deg2rad(bin_size), bottom=0.0, color='cyan', edgecolor='k')\n",
    "ax.set_theta_zero_location(\"N\")\n",
    "ax.set_theta_direction(-1)\n",
    "plt.title('Wind Direction 2012 c46036 1 (Reduced)',fontsize='15')\n",
    "plt.rc('xtick', labelsize=20)\n",
    "plt.rc('ytick', labelsize=15)\n",
    "plt.savefig('/home/jovyan/Repos/AGU_2019/JoshFolder/2013Figs/wd2012C1Red')\n",
    "plt.show()"
   ]
  },
  {
   "cell_type": "code",
   "execution_count": null,
   "metadata": {},
   "outputs": [],
   "source": [
    "degrees = df_D2012C['WDIR.1'].values\n",
    "radians = np.deg2rad(degrees)\n",
    "\n",
    "bin_size = 2\n",
    "a , b=np.histogram(degrees, bins=np.arange(0, 360+bin_size, bin_size))\n",
    "centers = np.deg2rad(np.ediff1d(b)//2 + b[:-1])\n",
    "\n",
    "fig = plt.figure(figsize=(10,8))\n",
    "ax = fig.add_subplot(111, projection='polar')\n",
    "ax.bar(centers, a, width=np.deg2rad(bin_size), bottom=0.0, color='cyan', edgecolor='k')\n",
    "ax.set_theta_zero_location(\"N\")\n",
    "ax.set_theta_direction(-1)\n",
    "plt.title('Wind Direction 2012 c46036 2',fontsize='15')\n",
    "plt.rc('xtick', labelsize=20)\n",
    "plt.rc('ytick', labelsize=15)\n",
    "plt.savefig('/home/jovyan/Repos/AGU_2019/JoshFolder/2013Figs/wd2012C2')\n",
    "plt.show()"
   ]
  },
  {
   "cell_type": "code",
   "execution_count": null,
   "metadata": {},
   "outputs": [],
   "source": [
    "degrees = df_octwd2012C['WDIR.1'].values\n",
    "radians = np.deg2rad(degrees)\n",
    "\n",
    "bin_size = 2\n",
    "a , b=np.histogram(degrees, bins=np.arange(0, 360+bin_size, bin_size))\n",
    "centers = np.deg2rad(np.ediff1d(b)//2 + b[:-1])\n",
    "\n",
    "fig = plt.figure(figsize=(10,8))\n",
    "ax = fig.add_subplot(111, projection='polar')\n",
    "ax.bar(centers, a, width=np.deg2rad(bin_size), bottom=0.0, color='cyan', edgecolor='k')\n",
    "ax.set_theta_zero_location(\"N\")\n",
    "ax.set_theta_direction(-1)\n",
    "plt.title('October Wind Direction 2012 c46036 2',fontsize='15')\n",
    "plt.rc('xtick', labelsize=20)\n",
    "plt.rc('ytick', labelsize=15)\n",
    "plt.savefig('/home/jovyan/Repos/AGU_2019/JoshFolder/2013Figs/octwd2012C2')\n",
    "plt.show()"
   ]
  },
  {
   "cell_type": "code",
   "execution_count": null,
   "metadata": {},
   "outputs": [],
   "source": [
    "degrees = df_D2012RC['WDIR.1'].values\n",
    "radians = np.deg2rad(degrees)\n",
    "\n",
    "bin_size = 2\n",
    "a , b=np.histogram(degrees, bins=np.arange(0, 360+bin_size, bin_size))\n",
    "centers = np.deg2rad(np.ediff1d(b)//2 + b[:-1])\n",
    "\n",
    "fig = plt.figure(figsize=(10,8))\n",
    "ax = fig.add_subplot(111, projection='polar')\n",
    "ax.bar(centers, a, width=np.deg2rad(bin_size), bottom=0.0, color='cyan', edgecolor='k')\n",
    "ax.set_theta_zero_location(\"N\")\n",
    "ax.set_theta_direction(-1)\n",
    "plt.title('Wind Direction 2012 c46036 2 (Reduced)',fontsize='15')\n",
    "plt.rc('xtick', labelsize=20)\n",
    "plt.rc('ytick', labelsize=15)\n",
    "plt.savefig('/home/jovyan/Repos/AGU_2019/JoshFolder/2013Figs/wd2012C2Red')\n",
    "plt.show()"
   ]
  },
  {
   "cell_type": "code",
   "execution_count": null,
   "metadata": {},
   "outputs": [],
   "source": [
    "df_D2012ex=df_D2012T.loc[df_D2012T['inclination']>60]\n",
    "df_D2012ex.head(100)"
   ]
  },
  {
   "cell_type": "code",
   "execution_count": null,
   "metadata": {},
   "outputs": [],
   "source": [
    "degrees = df_D2012ex['azimuth'].values\n",
    "radians = np.deg2rad(degrees)\n",
    "\n",
    "bin_size = 2\n",
    "a , b=np.histogram(degrees, bins=np.arange(0, 360+bin_size, bin_size))\n",
    "centers = np.deg2rad(np.ediff1d(b)//2 + b[:-1])\n",
    "\n",
    "fig = plt.figure(figsize=(10,8))\n",
    "ax = fig.add_subplot(111, projection='polar')\n",
    "ax.bar(centers, a, width=np.deg2rad(bin_size), bottom=0.0, color='cyan', edgecolor='k')\n",
    "ax.set_theta_zero_location(\"N\")\n",
    "ax.set_theta_direction(-1)\n",
    "plt.title('Extreme Azimuth 2012',fontsize='15')\n",
    "plt.rc('xtick', labelsize=20)\n",
    "plt.rc('ytick', labelsize=15)\n",
    "plt.savefig('/home/jovyan/Repos/AGU_2019/JoshFolder/2013Figs/extazi2012')\n",
    "plt.show()"
   ]
  },
  {
   "cell_type": "code",
   "execution_count": null,
   "metadata": {},
   "outputs": [],
   "source": [
    "df_D2012T.inclination.hvplot.violin(by='index.month') * hv.HLine(0)"
   ]
  },
  {
   "cell_type": "code",
   "execution_count": null,
   "metadata": {},
   "outputs": [],
   "source": [
    "(df_D2012T.rc_north.hvplot.violin(by='index.month', title='Azimuth North 2012',ylim=(-1, 1)).opts(fontsize={'xticks': 12, 'yticks': 12, 'title': 12, 'ylabel': 12, 'xlabel': 12}) * hv.HLine(0) +\n",
    " df_D2012T.wd_north.hvplot.violin(by='index.month', title='Tillamook Wind Direction North 2012') * hv.HLine(0)).cols(1)"
   ]
  },
  {
   "cell_type": "code",
   "execution_count": null,
   "metadata": {},
   "outputs": [],
   "source": []
  }
 ],
 "metadata": {
  "kernelspec": {
   "display_name": "Python 3",
   "language": "python",
   "name": "python3"
  },
  "language_info": {
   "codemirror_mode": {
    "name": "ipython",
    "version": 3
   },
   "file_extension": ".py",
   "mimetype": "text/x-python",
   "name": "python",
   "nbconvert_exporter": "python",
   "pygments_lexer": "ipython3",
   "version": "3.7.8"
  }
 },
 "nbformat": 4,
 "nbformat_minor": 4
}
