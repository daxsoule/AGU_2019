{
 "cells": [
  {
   "cell_type": "code",
   "execution_count": null,
   "metadata": {},
   "outputs": [],
   "source": [
    "import numpy as np\n",
    "import matplotlib.dates\n",
    "import matplotlib.pyplot as plt\n",
    "%matplotlib inline\n",
    "from mpl_toolkits import mplot3d\n",
    "#import seaborn as sns\n",
    "import pandas as pd\n",
    "from datetime import datetime\n",
    "import hvplot.pandas\n",
    "import holoviews as hv\n",
    "from holoviews import dim, opts\n",
    "hv.extension('bokeh')"
   ]
  },
  {
   "cell_type": "markdown",
   "metadata": {},
   "source": [
    "## Weather Data\n",
    "\n",
    "**Tillamook**"
   ]
  },
  {
   "cell_type": "code",
   "execution_count": null,
   "metadata": {},
   "outputs": [],
   "source": [
    "!rm ~jovyan/data/covis_data/data2013/T2013.csv\n",
    "!sed '1,3d' file ~jovyan/data/covis_data/data2013/T2013.txt > ~jovyan/data/covis_data/data2012/temp.txt\n",
    "!echo 'year,month,day,hour,minute,wnd_dir,wnd_spd,wnd_gspd,wv_height,dom_wvp,av_wvp,mwd,atm_prs,air_temp,sea_temp,dew_temp,vis,tide' | cat - ~jovyan/data/covis_data/data2012/temp.txt > ~jovyan/data/covis_data/data2012/temp1.txt\n",
    "!sed 's/   /,/g' ~jovyan/data/covis_data/data2012/temp1.txt > ~jovyan/data/covis_data/data2012/temp2.txt\n",
    "!sed 's/  /,/g' ~jovyan/data/covis_data/data2012/temp2.txt > ~jovyan/data/covis_data/data2012/temp3.txt\n",
    "!sed 's/ /,/g' ~jovyan/data/covis_data/data2012/temp3.txt > ~jovyan/data/covis_data/data2012/temp4.txt\n",
    "!sed 's/^,//' <~jovyan/data/covis_data/data2012/temp4.txt >~jovyan/data/covis_data/data2013/T2013.csv\n",
    "!rm ~jovyan/data/covis_data/data2012/temp*\n",
    "!head ~jovyan/data/covis_data/data2013/T2013.csv"
   ]
  },
  {
   "cell_type": "code",
   "execution_count": null,
   "metadata": {},
   "outputs": [],
   "source": [
    "path = '/home/jovyan/data/covis_data/data2013/T2013.csv' \n",
    "df_wd2013T = pd.read_csv(path, sep=\",\")\n",
    "df_wd2013T['year'] = '2013'\n",
    "df_wd2013T['year']= df_wd2013T['year'].astype(int).astype(str)\n",
    "df_wd2013T['month']= df_wd2013T['month'].astype(int).astype(str).str.pad(width=2, side='left', fillchar='0')\n",
    "df_wd2013T['day']= df_wd2013T['day'].astype(int).astype(str).str.pad(width=2, side='left', fillchar='0')\n",
    "df_wd2013T['hour']= df_wd2013T['hour'].astype(int).astype(str).str.pad(width=2, side='left', fillchar='0')\n",
    "df_wd2013T['minute']= df_wd2013T['minute'].astype(int).astype(str).str.pad(width=2, side='left', fillchar='0')\n",
    "df_wd2013T['datetime'] = df_wd2013T['year'] + df_wd2013T['month'] + df_wd2013T['day'] +\\\n",
    "'T' + df_wd2013T['hour']+ ':' + df_wd2013T['minute']\n",
    "df_wd2013T['datetime'] = pd.to_datetime(df_wd2013T['datetime'])\n",
    "df_wd2013T = df_wd2013T.set_index('datetime')\n",
    "df_wd2013T = df_wd2013T[['wnd_dir','wnd_spd','wnd_gspd','wv_height','dom_wvp','av_wvp','mwd','atm_prs','air_temp','dew_temp','vis','tide']]\n",
    "df_wd2013T = df_wd2013T.rename_axis(None)\n",
    "df_wd2013T['wndrads'] = df_wd2013T['wnd_dir']*(np.pi/180)\n",
    "r = df_wd2013T['r_value'] = 1\n",
    "theta = df_wd2013T['wndrads']\n",
    "phi = df_wd2013T['wndrads']\n",
    "df_wd2013T['wd_north'] = r * np.sin(theta) * np.cos(phi)\n",
    "df_wd2013T['wd_east'] = r * np.sin(theta) * np.sin(phi)\n",
    "df_wd2013T = df_wd2013T.resample('h').mean()\n",
    "df_wd2013T.head()"
   ]
  },
  {
   "cell_type": "markdown",
   "metadata": {},
   "source": [
    "**c46036**"
   ]
  },
  {
   "cell_type": "code",
   "execution_count": null,
   "metadata": {},
   "outputs": [],
   "source": [
    "path = '/home/jovyan/data/covis_data/data2013/c46036WD.csv' \n",
    "df_wd2013C = pd.read_csv(path, sep=\",\")\n",
    "df_wd2013C.drop(['STN_ID','Q_FLAG','LATITUDE','LONGITUDE','DEPTH','VCAR','VTPK','VWH$','VCMX','VTP$','WSS$','WSS$.1','Unnamed: 23'], axis=1, inplace=True)\n",
    "df_wd2013C['datetime'] = df_wd2013C['DATE']\n",
    "df_wd2013C['datetime'] = pd.to_datetime(df_wd2013C['datetime'])\n",
    "df_wd2013C = df_wd2013C.set_index('datetime')\n",
    "df_wd2013C = df_wd2013C.rename_axis(None)\n",
    "df_wd2013C = df_wd2013C['2013-01-01 00:00:00' : \"2013-12-31 23:59:00\"]\n",
    "df_wd2013C['wndrads'] = df_wd2013C['WDIR']*(np.pi/180)\n",
    "df_wd2013C['wndrads2'] = df_wd2013C['WDIR.1']*(np.pi/180)\n",
    "r = df_wd2013C['r_value'] = 1\n",
    "theta = df_wd2013C['wndrads']\n",
    "phi = df_wd2013C['wndrads']\n",
    "df_wd2013C['wd_north'] = r * np.sin(theta) * np.cos(phi)\n",
    "df_wd2013C['wd_east'] = r * np.sin(theta) * np.sin(phi)\n",
    "theta1 = df_wd2013C['wndrads2']\n",
    "phi1 = df_wd2013C['wndrads2']\n",
    "df_wd2013C['wd_north2'] = r * np.sin(theta1) * np.cos(phi1)\n",
    "df_wd2013C['wd_east2'] = r * np.sin(theta1) * np.sin(phi1)\n",
    "df_wd2013C.drop(['r_value'], axis=1, inplace=True)\n",
    "df_wd2013C = df_wd2013C.resample('h').mean()\n",
    "df_wd2013C.head()"
   ]
  },
  {
   "cell_type": "markdown",
   "metadata": {},
   "source": [
    "## Buoy Data\n",
    "\n",
    "**January**"
   ]
  },
  {
   "cell_type": "code",
   "execution_count": null,
   "metadata": {},
   "outputs": [],
   "source": [
    "!echo 'date,inclination,azimuth,minimum,maximum,sum1,sum2' | cat - ~jovyan/data/covis_data/data2013/janang13.dat > ~jovyan/data/covis_data/temp.txt\n",
    "!sed 's/ /,/g' ~jovyan/data/covis_data/temp.txt > ~jovyan/data/covis_data/data2013/janang13.csv\n",
    "!rm ~jovyan/data/covis_data/temp*\n",
    "!head /home/jovyan/data/covis_data/data2013/janang13.csv"
   ]
  },
  {
   "cell_type": "code",
   "execution_count": null,
   "metadata": {},
   "outputs": [],
   "source": [
    "path = '/home/jovyan/data/covis_data/data2013/janang13.csv' \n",
    "df_jan2013 = pd.read_csv(path, sep=\",\")\n",
    "df_jan2013['year'] = '2013'\n",
    "df_jan2013['datetime'] = pd.to_datetime(df_jan2013.year, format='%Y') + pd.to_timedelta(df_jan2013.date - 1, unit='d')\n",
    "df_jan2013['datetime'] = df_jan2013['datetime'].dt.round('1s')\n",
    "df_jan2013 = df_jan2013.set_index('datetime')\n",
    "df_jan2013.drop(['date', 'year'], axis=1,inplace=True)\n",
    "df_jan2013 = df_jan2013.rename_axis(None)\n",
    "#fix for azimuth angle, 90 - azimuth then recomputation for any values that aren't in between 0 and 360 \n",
    "df_jan2013.azimuth = df_jan2013.azimuth.rsub(90)\n",
    "df_jan2013['azimuth'] %= 360 \n",
    "df_jan2013['minimum'] = pd.to_numeric(df_jan2013['minimum'], errors='coerce')\n",
    "df_jan2013['azirads'] = df_jan2013['azimuth']*(np.pi/180)\n",
    "df_jan2013['incrads'] = df_jan2013['inclination']*(np.pi/180)\n",
    "r = df_jan2013['r_value'] = 1\n",
    "theta = df_jan2013['azimuth']\n",
    "phi = df_jan2013['inclination']\n",
    "df_jan2013['rc_north'] = r * np.sin(theta) * np.cos(phi)\n",
    "df_jan2013['rc_east'] = r * np.sin(theta) * np.sin(phi)\n",
    "df_jan2013.drop(['r_value'], axis=1, inplace=True)\n",
    "df_jan2013 = df_jan2013.resample('h').mean().dropna()\n",
    "df_jan2013 = df_jan2013['2013-01-01 00:00:00' : \"2013-01-31 23:59:00\"]\n",
    "df_jan2013"
   ]
  },
  {
   "cell_type": "code",
   "execution_count": null,
   "metadata": {},
   "outputs": [],
   "source": [
    "df_jan2013['inclination_category'] = pd.cut(df_jan2013['inclination'], bins=[0, 10, 40, 100], include_lowest=True, labels=['vertical', 'ordinary', 'extreme'])\n",
    "df_jan2013.hvplot.hist(y='inclination', by='inclination_category', bin_range=(0,95)).opts(fontsize={'xticks': 12.5, 'yticks': 12.5})"
   ]
  },
  {
   "cell_type": "code",
   "execution_count": null,
   "metadata": {},
   "outputs": [],
   "source": [
    "df_jan2013.inclination.hvplot.violin(by='index.day', title='January Inclination 2013')"
   ]
  },
  {
   "cell_type": "code",
   "execution_count": null,
   "metadata": {},
   "outputs": [],
   "source": [
    "df_jan2013.rc_north.hvplot.violin(by='index.day', title='January Azimuth North 2013',ylim=(-1, 1)).opts(fontsize={'xticks': 12, 'yticks': 12, 'title': 12, 'ylabel': 12, 'xlabel': 12}) * hv.HLine(0)"
   ]
  },
  {
   "cell_type": "code",
   "execution_count": null,
   "metadata": {},
   "outputs": [],
   "source": [
    "df_janwd2013T = df_wd2013T['2013-01-01 00:00:00' : \"2013-01-31 23:59:00\"]\n",
    "df_janwd2013T.head()"
   ]
  },
  {
   "cell_type": "code",
   "execution_count": null,
   "metadata": {},
   "outputs": [],
   "source": [
    "df_janwd2013C = df_wd2013C['2013-01-01 00:00:00' : \"2013-01-31 23:59:00\"]\n",
    "df_janwd2013C.head()"
   ]
  },
  {
   "cell_type": "code",
   "execution_count": null,
   "metadata": {},
   "outputs": [],
   "source": [
    "df_janwd2013T.wd_north.hvplot.violin(by='index.day') * hv.HLine(0)"
   ]
  },
  {
   "cell_type": "code",
   "execution_count": null,
   "metadata": {},
   "outputs": [],
   "source": [
    "df_janwd2013C.wd_north.hvplot.violin(by='index.day') * hv.HLine(0)"
   ]
  },
  {
   "cell_type": "code",
   "execution_count": null,
   "metadata": {},
   "outputs": [],
   "source": [
    "df_janwd2013C.wd_north2.hvplot.violin(by='index.day') * hv.HLine(0)"
   ]
  },
  {
   "cell_type": "markdown",
   "metadata": {},
   "source": [
    "**Feburary**"
   ]
  },
  {
   "cell_type": "code",
   "execution_count": null,
   "metadata": {},
   "outputs": [],
   "source": [
    "!echo 'date,inclination,azimuth,minimum,maximum,sum1,sum2' | cat - ~jovyan/data/covis_data/data2013/febang13.dat > ~jovyan/data/covis_data/temp.txt\n",
    "!sed 's/ /,/g' ~jovyan/data/covis_data/temp.txt > ~jovyan/data/covis_data/data2013/febang13.csv\n",
    "!rm ~jovyan/data/covis_data/temp*\n",
    "!head /home/jovyan/data/covis_data/data2013/febang13.csv"
   ]
  },
  {
   "cell_type": "code",
   "execution_count": null,
   "metadata": {},
   "outputs": [],
   "source": [
    "path = '/home/jovyan/data/covis_data/data2013/febang13.csv' \n",
    "df_feb2013 = pd.read_csv(path, sep=\",\")\n",
    "df_feb2013['year'] = '2013'\n",
    "df_feb2013['datetime'] = pd.to_datetime(df_feb2013.year, format='%Y') + pd.to_timedelta(df_feb2013.date - 1, unit='d')\n",
    "df_feb2013['datetime'] = df_feb2013['datetime'].dt.round('1s')\n",
    "df_feb2013 = df_feb2013.set_index('datetime')\n",
    "df_feb2013.drop(['date', 'year'], axis=1,inplace=True)\n",
    "df_feb2013 = df_feb2013.rename_axis(None)\n",
    "#fix for azimuth angle, 90 - azimuth then recomputation for any values that aren't in between 0 and 360 \n",
    "df_feb2013.azimuth = df_feb2013.azimuth.rsub(90)\n",
    "df_feb2013['azimuth'] %= 360 \n",
    "df_feb2013['minimum'] = pd.to_numeric(df_feb2013['minimum'], errors='coerce')\n",
    "df_feb2013['azirads'] = df_feb2013['azimuth']*(np.pi/180)\n",
    "df_feb2013['incrads'] = df_feb2013['inclination']*(np.pi/180)\n",
    "r = df_feb2013['r_value'] = 1\n",
    "theta = df_feb2013['azimuth']\n",
    "phi = df_feb2013['inclination']\n",
    "df_feb2013['rc_north'] = r * np.sin(theta) * np.cos(phi)\n",
    "df_feb2013['rc_east'] = r * np.sin(theta) * np.sin(phi)\n",
    "df_feb2013.drop(['r_value'], axis=1, inplace=True)\n",
    "df_feb2013 = df_feb2013.resample('h').mean().dropna()\n",
    "df_feb2013 = df_feb2013['2013-02-01 00:00:00' : \"2013-02-28 23:59:00\"]\n",
    "df_feb2013"
   ]
  },
  {
   "cell_type": "code",
   "execution_count": null,
   "metadata": {},
   "outputs": [],
   "source": [
    "df_feb2013['inclination_category'] = pd.cut(df_feb2013['inclination'], bins=[0, 10, 40, 100], include_lowest=True, labels=['vertical', 'ordinary', 'extreme'])\n",
    "df_feb2013.hvplot.hist(y='inclination', by='inclination_category', bin_range=(0,95)).opts(fontsize={'xticks': 12.5, 'yticks': 12.5})"
   ]
  },
  {
   "cell_type": "code",
   "execution_count": null,
   "metadata": {},
   "outputs": [],
   "source": [
    "df_feb2013.inclination.hvplot.violin(by='index.day', title='Feburary Inclination 2013')"
   ]
  },
  {
   "cell_type": "code",
   "execution_count": null,
   "metadata": {},
   "outputs": [],
   "source": [
    "df_feb2013.rc_north.hvplot.violin(by='index.day', title='Feburary Azimuth North 2013',ylim=(-1, 1)).opts(fontsize={'xticks': 12, 'yticks': 12, 'title': 12, 'ylabel': 12, 'xlabel': 12}) * hv.HLine(0)"
   ]
  },
  {
   "cell_type": "code",
   "execution_count": null,
   "metadata": {},
   "outputs": [],
   "source": [
    "df_febwd2013T = df_wd2013T['2013-02-01 00:00:00' : \"2013-02-28 23:59:00\"]\n",
    "df_febwd2013T.head()"
   ]
  },
  {
   "cell_type": "code",
   "execution_count": null,
   "metadata": {},
   "outputs": [],
   "source": [
    "df_febwd2013C = df_wd2013C['2013-02-01 00:00:00' : \"2013-02-28 23:59:00\"]\n",
    "df_febwd2013C.head()"
   ]
  },
  {
   "cell_type": "code",
   "execution_count": null,
   "metadata": {},
   "outputs": [],
   "source": [
    "df_febwd2013T.wd_north.hvplot.violin(by='index.day') * hv.HLine(0)"
   ]
  },
  {
   "cell_type": "code",
   "execution_count": null,
   "metadata": {},
   "outputs": [],
   "source": [
    "df_febwd2013C.wd_north.hvplot.violin(by='index.day') * hv.HLine(0)"
   ]
  },
  {
   "cell_type": "code",
   "execution_count": null,
   "metadata": {},
   "outputs": [],
   "source": [
    "df_febwd2013C.wd_north2.hvplot.violin(by='index.day') * hv.HLine(0)"
   ]
  },
  {
   "cell_type": "markdown",
   "metadata": {},
   "source": [
    "**March**"
   ]
  },
  {
   "cell_type": "code",
   "execution_count": null,
   "metadata": {},
   "outputs": [],
   "source": [
    "!echo 'date,inclination,azimuth,minimum,maximum,sum1,sum2' | cat - ~jovyan/data/covis_data/data2013/marang13.dat > ~jovyan/data/covis_data/temp.txt\n",
    "!sed 's/ /,/g' ~jovyan/data/covis_data/temp.txt > ~jovyan/data/covis_data/data2013/marang13.csv\n",
    "!rm ~jovyan/data/covis_data/temp*\n",
    "!head /home/jovyan/data/covis_data/data2013/marang13.csv"
   ]
  },
  {
   "cell_type": "code",
   "execution_count": null,
   "metadata": {},
   "outputs": [],
   "source": [
    "path = '/home/jovyan/data/covis_data/data2013/marang13.csv' \n",
    "df_mar2013 = pd.read_csv(path, sep=\",\")\n",
    "df_mar2013['year'] = '2013'\n",
    "df_mar2013['datetime'] = pd.to_datetime(df_mar2013.year, format='%Y') + pd.to_timedelta(df_mar2013.date - 1, unit='d')\n",
    "df_mar2013['datetime'] = df_mar2013['datetime'].dt.round('1s')\n",
    "df_mar2013 = df_mar2013.set_index('datetime')\n",
    "df_mar2013.drop(['date', 'year'], axis=1,inplace=True)\n",
    "df_mar2013 = df_mar2013.rename_axis(None)\n",
    "#fix for azimuth angle, 90 - azimuth then recomputation for any values that aren't in between 0 and 360 \n",
    "df_mar2013.azimuth = df_mar2013.azimuth.rsub(90)\n",
    "df_mar2013['azimuth'] %= 360 \n",
    "df_mar2013['minimum'] = pd.to_numeric(df_mar2013['minimum'], errors='coerce')\n",
    "df_mar2013['azirads'] = df_mar2013['azimuth']*(np.pi/180)\n",
    "df_mar2013['incrads'] = df_mar2013['inclination']*(np.pi/180)\n",
    "r = df_mar2013['r_value'] = 1\n",
    "theta = df_mar2013['azimuth']\n",
    "phi = df_mar2013['inclination']\n",
    "df_mar2013['rc_north'] = r * np.sin(theta) * np.cos(phi)\n",
    "df_mar2013['rc_east'] = r * np.sin(theta) * np.sin(phi)\n",
    "df_mar2013.drop(['r_value'], axis=1, inplace=True)\n",
    "df_mar2013 = df_mar2013.resample('h').mean().dropna()\n",
    "df_mar2013 = df_mar2013['2013-03-01 00:00:00' : \"2013-03-31 23:59:00\"]\n",
    "df_mar2013"
   ]
  },
  {
   "cell_type": "code",
   "execution_count": null,
   "metadata": {},
   "outputs": [],
   "source": [
    "df_mar2013['inclination_category'] = pd.cut(df_mar2013['inclination'], bins=[0, 10, 40, 100], include_lowest=True, labels=['vertical', 'ordinary', 'extreme'])\n",
    "df_mar2013.hvplot.hist(y='inclination', by='inclination_category', bin_range=(0,95)).opts(fontsize={'xticks': 12.5, 'yticks': 12.5})"
   ]
  },
  {
   "cell_type": "code",
   "execution_count": null,
   "metadata": {},
   "outputs": [],
   "source": [
    "df_mar2013.inclination.hvplot.violin(by='index.day', title='March Inclination 2013')"
   ]
  },
  {
   "cell_type": "code",
   "execution_count": null,
   "metadata": {},
   "outputs": [],
   "source": [
    "df_mar2013.rc_north.hvplot.violin(by='index.day', title='March Azimuth North 2013',ylim=(-1, 1)).opts(fontsize={'xticks': 12, 'yticks': 12, 'title': 12, 'ylabel': 12, 'xlabel': 12}) * hv.HLine(0)"
   ]
  },
  {
   "cell_type": "code",
   "execution_count": null,
   "metadata": {},
   "outputs": [],
   "source": [
    "df_marwd2013T = df_wd2013T['2013-03-01 00:00:00' : \"2013-03-31 23:59:00\"]\n",
    "df_marwd2013T.head()"
   ]
  },
  {
   "cell_type": "code",
   "execution_count": null,
   "metadata": {},
   "outputs": [],
   "source": [
    "df_marwd2013C = df_wd2013C['2013-03-01 00:00:00' : \"2013-03-31 23:59:00\"]\n",
    "df_marwd2013C.head()"
   ]
  },
  {
   "cell_type": "code",
   "execution_count": null,
   "metadata": {},
   "outputs": [],
   "source": [
    "df_marwd2013T.wd_north.hvplot.violin(by='index.day') * hv.HLine(0)"
   ]
  },
  {
   "cell_type": "code",
   "execution_count": null,
   "metadata": {},
   "outputs": [],
   "source": [
    "df_marwd2013C.wd_north.hvplot.violin(by='index.day') * hv.HLine(0)"
   ]
  },
  {
   "cell_type": "code",
   "execution_count": null,
   "metadata": {},
   "outputs": [],
   "source": [
    "df_marwd2013C.wd_north2.hvplot.violin(by='index.day') * hv.HLine(0)"
   ]
  },
  {
   "cell_type": "markdown",
   "metadata": {},
   "source": [
    "**April**"
   ]
  },
  {
   "cell_type": "code",
   "execution_count": null,
   "metadata": {},
   "outputs": [],
   "source": [
    "!echo 'date,inclination,azimuth,minimum,maximum,sum1,sum2' | cat - ~jovyan/data/covis_data/data2013/aprang13.dat > ~jovyan/data/covis_data/temp.txt\n",
    "!sed 's/ /,/g' ~jovyan/data/covis_data/temp.txt > ~jovyan/data/covis_data/data2013/aprang13.csv\n",
    "!rm ~jovyan/data/covis_data/temp*\n",
    "!head /home/jovyan/data/covis_data/data2013/aprang13.csv"
   ]
  },
  {
   "cell_type": "code",
   "execution_count": null,
   "metadata": {},
   "outputs": [],
   "source": [
    "path = '/home/jovyan/data/covis_data/data2013/aprang13.csv' \n",
    "df_apr2013 = pd.read_csv(path, sep=\",\")\n",
    "df_apr2013['year'] = '2013'\n",
    "df_apr2013['datetime'] = pd.to_datetime(df_apr2013.year, format='%Y') + pd.to_timedelta(df_apr2013.date - 1, unit='d')\n",
    "df_apr2013['datetime'] = df_apr2013['datetime'].dt.round('1s')\n",
    "df_apr2013 = df_apr2013.set_index('datetime')\n",
    "df_apr2013.drop(['date', 'year'], axis=1,inplace=True)\n",
    "df_apr2013 = df_apr2013.rename_axis(None)\n",
    "#fix for azimuth angle, 90 - azimuth then recomputation for any values that aren't in between 0 and 360 \n",
    "df_apr2013.azimuth = df_apr2013.azimuth.rsub(90)\n",
    "df_apr2013['azimuth'] %= 360 \n",
    "df_apr2013['minimum'] = pd.to_numeric(df_apr2013['minimum'], errors='coerce')\n",
    "df_apr2013['azirads'] = df_apr2013['azimuth']*(np.pi/180)\n",
    "df_apr2013['incrads'] = df_apr2013['inclination']*(np.pi/180)\n",
    "r = df_apr2013['r_value'] = 1\n",
    "theta = df_apr2013['azimuth']\n",
    "phi = df_apr2013['inclination']\n",
    "df_apr2013['rc_north'] = r * np.sin(theta) * np.cos(phi)\n",
    "df_apr2013['rc_east'] = r * np.sin(theta) * np.sin(phi)\n",
    "df_apr2013.drop(['r_value'], axis=1, inplace=True)\n",
    "df_apr2013 = df_apr2013.resample('h').mean().dropna()\n",
    "df_apr2013 = df_apr2013['2013-04-01 00:00:00' : \"2013-04-30 23:59:00\"]\n",
    "df_apr2013"
   ]
  },
  {
   "cell_type": "code",
   "execution_count": null,
   "metadata": {},
   "outputs": [],
   "source": [
    "df_apr2013['inclination_category'] = pd.cut(df_apr2013['inclination'], bins=[0, 10, 40, 100], include_lowest=True, labels=['vertical', 'ordinary', 'extreme'])\n",
    "df_apr2013.hvplot.hist(y='inclination', by='inclination_category', bin_range=(0,95)).opts(fontsize={'xticks': 12.5, 'yticks': 12.5})"
   ]
  },
  {
   "cell_type": "code",
   "execution_count": null,
   "metadata": {},
   "outputs": [],
   "source": [
    "df_apr2013.inclination.hvplot.violin(by='index.day', title='April Inclination 2013')"
   ]
  },
  {
   "cell_type": "code",
   "execution_count": null,
   "metadata": {},
   "outputs": [],
   "source": [
    "df_apr2013.rc_north.hvplot.violin(by='index.day', title='April Azimuth North 2013',ylim=(-1, 1)).opts(fontsize={'xticks': 12, 'yticks': 12, 'title': 12, 'ylabel': 12, 'xlabel': 12}) * hv.HLine(0)"
   ]
  },
  {
   "cell_type": "code",
   "execution_count": null,
   "metadata": {},
   "outputs": [],
   "source": [
    "df_aprwd2013T = df_wd2013T['2013-04-01 00:00:00' : \"2013-04-30 23:59:00\"]\n",
    "df_aprwd2013T.head()"
   ]
  },
  {
   "cell_type": "code",
   "execution_count": null,
   "metadata": {},
   "outputs": [],
   "source": [
    "df_aprwd2013C = df_wd2013C['2013-04-01 00:00:00' : \"2013-04-30 23:59:00\"]\n",
    "df_aprwd2013C.head()"
   ]
  },
  {
   "cell_type": "code",
   "execution_count": null,
   "metadata": {},
   "outputs": [],
   "source": [
    "df_aprwd2013T.wd_north.hvplot.violin(by='index.day') * hv.HLine(0)"
   ]
  },
  {
   "cell_type": "code",
   "execution_count": null,
   "metadata": {},
   "outputs": [],
   "source": [
    "df_aprwd2013C.wd_north.hvplot.violin(by='index.day') * hv.HLine(0)"
   ]
  },
  {
   "cell_type": "code",
   "execution_count": null,
   "metadata": {},
   "outputs": [],
   "source": [
    "df_aprwd2013C.wd_north2.hvplot.violin(by='index.day') * hv.HLine(0)"
   ]
  },
  {
   "cell_type": "markdown",
   "metadata": {},
   "source": [
    "**May**"
   ]
  },
  {
   "cell_type": "code",
   "execution_count": null,
   "metadata": {},
   "outputs": [],
   "source": [
    "!echo 'date,inclination,azimuth,minimum,maximum,sum1,sum2' | cat - ~jovyan/data/covis_data/data2013/mayang13.dat > ~jovyan/data/covis_data/temp.txt\n",
    "!sed 's/ /,/g' ~jovyan/data/covis_data/temp.txt > ~jovyan/data/covis_data/data2013/mayang13.csv\n",
    "!rm ~jovyan/data/covis_data/temp*\n",
    "!head /home/jovyan/data/covis_data/data2013/mayang13.csv"
   ]
  },
  {
   "cell_type": "code",
   "execution_count": null,
   "metadata": {},
   "outputs": [],
   "source": [
    "path = '/home/jovyan/data/covis_data/data2013/mayang13.csv' \n",
    "df_may2013 = pd.read_csv(path, sep=\",\")\n",
    "df_may2013['year'] = '2013'\n",
    "df_may2013['datetime'] = pd.to_datetime(df_may2013.year, format='%Y') + pd.to_timedelta(df_may2013.date - 1, unit='d')\n",
    "df_may2013['datetime'] = df_may2013['datetime'].dt.round('1s')\n",
    "df_may2013 = df_may2013.set_index('datetime')\n",
    "df_may2013.drop(['date', 'year'], axis=1,inplace=True)\n",
    "df_may2013 = df_may2013.rename_axis(None)\n",
    "#fix for azimuth angle, 90 - azimuth then recomputation for any values that aren't in between 0 and 360 \n",
    "df_may2013.azimuth = df_may2013.azimuth.rsub(90)\n",
    "df_may2013['azimuth'] %= 360 \n",
    "df_may2013['minimum'] = pd.to_numeric(df_may2013['minimum'], errors='coerce')\n",
    "df_may2013['azirads'] = df_may2013['azimuth']*(np.pi/180)\n",
    "df_may2013['incrads'] = df_may2013['inclination']*(np.pi/180)\n",
    "r = df_may2013['r_value'] = 1\n",
    "theta = df_may2013['azimuth']\n",
    "phi = df_may2013['inclination']\n",
    "df_may2013['rc_north'] = r * np.sin(theta) * np.cos(phi)\n",
    "df_may2013['rc_east'] = r * np.sin(theta) * np.sin(phi)\n",
    "df_may2013.drop(['r_value'], axis=1, inplace=True)\n",
    "df_may2013 = df_may2013.resample('h').mean().dropna()\n",
    "df_may2013 = df_may2013['2013-05-01 00:00:00' : \"2013-05-31 23:59:00\"]\n",
    "df_may2013"
   ]
  },
  {
   "cell_type": "code",
   "execution_count": null,
   "metadata": {},
   "outputs": [],
   "source": [
    "df_may2013['inclination_category'] = pd.cut(df_may2013['inclination'], bins=[0, 10, 40, 100], include_lowest=True, labels=['vertical', 'ordinary', 'extreme'])\n",
    "df_may2013.hvplot.hist(y='inclination', by='inclination_category', bin_range=(0,95)).opts(fontsize={'xticks': 12.5, 'yticks': 12.5})"
   ]
  },
  {
   "cell_type": "code",
   "execution_count": null,
   "metadata": {},
   "outputs": [],
   "source": [
    "df_may2013.inclination.hvplot.violin(by='index.day', title='May Inclination 2013')"
   ]
  },
  {
   "cell_type": "code",
   "execution_count": null,
   "metadata": {},
   "outputs": [],
   "source": [
    "df_may2013.rc_north.hvplot.violin(by='index.day', title='May Azimuth North 2013',ylim=(-1, 1)).opts(fontsize={'xticks': 12, 'yticks': 12, 'title': 12, 'ylabel': 12, 'xlabel': 12}) * hv.HLine(0)"
   ]
  },
  {
   "cell_type": "code",
   "execution_count": null,
   "metadata": {},
   "outputs": [],
   "source": [
    "df_maywd2013T = df_wd2013T['2013-05-01 00:00:00' : \"2013-05-31 23:59:00\"]\n",
    "df_maywd2013T.head()"
   ]
  },
  {
   "cell_type": "code",
   "execution_count": null,
   "metadata": {},
   "outputs": [],
   "source": [
    "df_maywd2013C = df_wd2013C['2013-05-01 00:00:00' : \"2013-05-31 23:59:00\"]\n",
    "df_maywd2013C.head()"
   ]
  },
  {
   "cell_type": "code",
   "execution_count": null,
   "metadata": {},
   "outputs": [],
   "source": [
    "df_maywd2013T.wd_north.hvplot.violin(by='index.day') * hv.HLine(0)"
   ]
  },
  {
   "cell_type": "code",
   "execution_count": null,
   "metadata": {},
   "outputs": [],
   "source": [
    "df_maywd2013C.wd_north.hvplot.violin(by='index.day') * hv.HLine(0)"
   ]
  },
  {
   "cell_type": "code",
   "execution_count": null,
   "metadata": {},
   "outputs": [],
   "source": [
    "df_maywd2013C.wd_north2.hvplot.violin(by='index.day') * hv.HLine(0)"
   ]
  },
  {
   "cell_type": "markdown",
   "metadata": {},
   "source": [
    "**June**"
   ]
  },
  {
   "cell_type": "code",
   "execution_count": null,
   "metadata": {},
   "outputs": [],
   "source": [
    "!echo 'date,inclination,azimuth,minimum,maximum,sum1,sum2' | cat - ~jovyan/data/covis_data/data2013/junang13.dat > ~jovyan/data/covis_data/temp.txt\n",
    "!sed 's/ /,/g' ~jovyan/data/covis_data/temp.txt > ~jovyan/data/covis_data/data2013/junang13.csv\n",
    "!rm ~jovyan/data/covis_data/temp*\n",
    "!head /home/jovyan/data/covis_data/data2013/junang13.csv"
   ]
  },
  {
   "cell_type": "code",
   "execution_count": null,
   "metadata": {},
   "outputs": [],
   "source": [
    "path = '/home/jovyan/data/covis_data/data2013/junang13.csv' \n",
    "df_jun2013 = pd.read_csv(path, sep=\",\")\n",
    "df_jun2013['year'] = '2013'\n",
    "df_jun2013['datetime'] = pd.to_datetime(df_jun2013.year, format='%Y') + pd.to_timedelta(df_jun2013.date - 1, unit='d')\n",
    "df_jun2013['datetime'] = df_jun2013['datetime'].dt.round('1s')\n",
    "df_jun2013 = df_jun2013.set_index('datetime')\n",
    "df_jun2013.drop(['date', 'year'], axis=1,inplace=True)\n",
    "df_jun2013 = df_jun2013.rename_axis(None)\n",
    "#fix for azimuth angle, 90 - azimuth then recomputation for any values that aren't in between 0 and 360 \n",
    "df_jun2013.azimuth = df_jun2013.azimuth.rsub(90)\n",
    "df_jun2013['azimuth'] %= 360 \n",
    "df_jun2013['minimum'] = pd.to_numeric(df_jun2013['minimum'], errors='coerce')\n",
    "df_jun2013['azirads'] = df_jun2013['azimuth']*(np.pi/180)\n",
    "df_jun2013['incrads'] = df_jun2013['inclination']*(np.pi/180)\n",
    "r = df_jun2013['r_value'] = 1\n",
    "theta = df_jun2013['azimuth']\n",
    "phi = df_jun2013['inclination']\n",
    "df_jun2013['rc_north'] = r * np.sin(theta) * np.cos(phi)\n",
    "df_jun2013['rc_east'] = r * np.sin(theta) * np.sin(phi)\n",
    "df_jun2013.drop(['r_value'], axis=1, inplace=True)\n",
    "df_jun2013 = df_jun2013.resample('h').mean().dropna()\n",
    "df_jun2013 = df_jun2013['2013-06-01 00:00:00' : \"2013-06-30 23:59:00\"]\n",
    "df_jun2013"
   ]
  },
  {
   "cell_type": "code",
   "execution_count": null,
   "metadata": {},
   "outputs": [],
   "source": [
    "df_jun2013['inclination_category'] = pd.cut(df_jun2013['inclination'], bins=[0, 10, 40, 100], include_lowest=True, labels=['vertical', 'ordinary', 'extreme'])\n",
    "df_jun2013.hvplot.hist(y='inclination', by='inclination_category', bin_range=(0,95)).opts(fontsize={'xticks': 12.5, 'yticks': 12.5})"
   ]
  },
  {
   "cell_type": "code",
   "execution_count": null,
   "metadata": {},
   "outputs": [],
   "source": [
    "df_jun2013.inclination.hvplot.violin(by='index.day', title='June Inclination 2013')"
   ]
  },
  {
   "cell_type": "code",
   "execution_count": null,
   "metadata": {},
   "outputs": [],
   "source": [
    "df_jun2013.rc_north.hvplot.violin(by='index.day', title='June Azimuth North 2013',ylim=(-1, 1)).opts(fontsize={'xticks': 12, 'yticks': 12, 'title': 12, 'ylabel': 12, 'xlabel': 12}) * hv.HLine(0)"
   ]
  },
  {
   "cell_type": "code",
   "execution_count": null,
   "metadata": {},
   "outputs": [],
   "source": [
    "df_junwd2013T = df_wd2013T['2013-06-01 00:00:00' : \"2013-06-30 23:59:00\"]\n",
    "df_junwd2013T.head()"
   ]
  },
  {
   "cell_type": "code",
   "execution_count": null,
   "metadata": {},
   "outputs": [],
   "source": [
    "df_junwd2013C = df_wd2013C['2013-06-01 00:00:00' : \"2013-06-30 23:59:00\"]\n",
    "df_junwd2013C.head()"
   ]
  },
  {
   "cell_type": "code",
   "execution_count": null,
   "metadata": {},
   "outputs": [],
   "source": [
    "df_junwd2013T.wd_north.hvplot.violin(by='index.day') * hv.HLine(0)"
   ]
  },
  {
   "cell_type": "code",
   "execution_count": null,
   "metadata": {},
   "outputs": [],
   "source": [
    "df_junwd2013C.wd_north.hvplot.violin(by='index.day') * hv.HLine(0)"
   ]
  },
  {
   "cell_type": "code",
   "execution_count": null,
   "metadata": {},
   "outputs": [],
   "source": [
    "df_junwd2013C.wd_north2.hvplot.violin(by='index.day') * hv.HLine(0)"
   ]
  },
  {
   "cell_type": "markdown",
   "metadata": {},
   "source": [
    "**July**"
   ]
  },
  {
   "cell_type": "code",
   "execution_count": null,
   "metadata": {},
   "outputs": [],
   "source": [
    "!echo 'date,inclination,azimuth,minimum,maximum,sum1,sum2' | cat - ~jovyan/data/covis_data/data2013/julang13.dat > ~jovyan/data/covis_data/temp.txt\n",
    "!sed 's/ /,/g' ~jovyan/data/covis_data/temp.txt > ~jovyan/data/covis_data/data2013/julang13.csv\n",
    "!rm ~jovyan/data/covis_data/temp*\n",
    "!head /home/jovyan/data/covis_data/data2013/julang13.csv"
   ]
  },
  {
   "cell_type": "code",
   "execution_count": null,
   "metadata": {},
   "outputs": [],
   "source": [
    "path = '/home/jovyan/data/covis_data/data2013/julang13.csv' \n",
    "df_jul2013 = pd.read_csv(path, sep=\",\")\n",
    "df_jul2013['year'] = '2013'\n",
    "df_jul2013['datetime'] = pd.to_datetime(df_jul2013.year, format='%Y') + pd.to_timedelta(df_jul2013.date - 1, unit='d')\n",
    "df_jul2013['datetime'] = df_jul2013['datetime'].dt.round('1s')\n",
    "df_jul2013 = df_jul2013.set_index('datetime')\n",
    "df_jul2013.drop(['date', 'year'], axis=1,inplace=True)\n",
    "df_jul2013 = df_jul2013.rename_axis(None)\n",
    "#fix for azimuth angle, 90 - azimuth then recomputation for any values that aren't in between 0 and 360 \n",
    "df_jul2013.azimuth = df_jul2013.azimuth.rsub(90)\n",
    "df_jul2013['azimuth'] %= 360 \n",
    "df_jul2013['minimum'] = pd.to_numeric(df_jul2013['minimum'], errors='coerce')\n",
    "df_jul2013['azirads'] = df_jul2013['azimuth']*(np.pi/180)\n",
    "df_jul2013['incrads'] = df_jul2013['inclination']*(np.pi/180)\n",
    "r = df_jul2013['r_value'] = 1\n",
    "theta = df_jul2013['azimuth']\n",
    "phi = df_jul2013['inclination']\n",
    "df_jul2013['rc_north'] = r * np.sin(theta) * np.cos(phi)\n",
    "df_jul2013['rc_east'] = r * np.sin(theta) * np.sin(phi)\n",
    "df_jul2013.drop(['r_value'], axis=1, inplace=True)\n",
    "df_jul2013 = df_jul2013.resample('h').mean().dropna()\n",
    "df_jul2013 = df_jul2013['2013-07-01 00:00:00' : \"2013-07-31 23:59:00\"]\n",
    "df_jul2013"
   ]
  },
  {
   "cell_type": "code",
   "execution_count": null,
   "metadata": {},
   "outputs": [],
   "source": [
    "df_jul2013['inclination_category'] = pd.cut(df_jul2013['inclination'], bins=[0, 10, 40, 100], include_lowest=True, labels=['vertical', 'ordinary', 'extreme'])\n",
    "df_jul2013.hvplot.hist(y='inclination', by='inclination_category', bin_range=(0,95)).opts(fontsize={'xticks': 12.5, 'yticks': 12.5})"
   ]
  },
  {
   "cell_type": "code",
   "execution_count": null,
   "metadata": {},
   "outputs": [],
   "source": [
    "df_jul2013.inclination.hvplot.violin(by='index.day', title='July Inclination 2013')"
   ]
  },
  {
   "cell_type": "code",
   "execution_count": null,
   "metadata": {},
   "outputs": [],
   "source": [
    "df_jul2013.rc_north.hvplot.violin(by='index.day', title='July Azimuth North 2013',ylim=(-1, 1)).opts(fontsize={'xticks': 12, 'yticks': 12, 'title': 12, 'ylabel': 12, 'xlabel': 12}) * hv.HLine(0)"
   ]
  },
  {
   "cell_type": "code",
   "execution_count": null,
   "metadata": {},
   "outputs": [],
   "source": [
    "df_julwd2013T = df_wd2013T['2013-07-01 00:00:00' : \"2013-07-31 23:59:00\"]\n",
    "df_julwd2013T.head()"
   ]
  },
  {
   "cell_type": "code",
   "execution_count": null,
   "metadata": {},
   "outputs": [],
   "source": [
    "df_julwd2013C = df_wd2013C['2013-07-01 00:00:00' : \"2013-07-31 23:59:00\"]\n",
    "df_julwd2013C.head()"
   ]
  },
  {
   "cell_type": "code",
   "execution_count": null,
   "metadata": {},
   "outputs": [],
   "source": [
    "df_julwd2013T.wd_north.hvplot.violin(by='index.day') * hv.HLine(0)"
   ]
  },
  {
   "cell_type": "code",
   "execution_count": null,
   "metadata": {},
   "outputs": [],
   "source": [
    "df_julwd2013C.wd_north.hvplot.violin(by='index.day') * hv.HLine(0)"
   ]
  },
  {
   "cell_type": "code",
   "execution_count": null,
   "metadata": {},
   "outputs": [],
   "source": [
    "df_julwd2013C.wd_north2.hvplot.violin(by='index.day') * hv.HLine(0)"
   ]
  },
  {
   "cell_type": "markdown",
   "metadata": {},
   "source": [
    "**August**"
   ]
  },
  {
   "cell_type": "code",
   "execution_count": null,
   "metadata": {},
   "outputs": [],
   "source": [
    "!echo 'date,inclination,azimuth,minimum,maximum,sum1,sum2' | cat - ~jovyan/data/covis_data/data2013/augang13.dat > ~jovyan/data/covis_data/temp.txt\n",
    "!sed 's/ /,/g' ~jovyan/data/covis_data/temp.txt > ~jovyan/data/covis_data/data2013/augang13.csv\n",
    "!rm ~jovyan/data/covis_data/temp*\n",
    "!head /home/jovyan/data/covis_data/data2013/augang13.csv"
   ]
  },
  {
   "cell_type": "code",
   "execution_count": null,
   "metadata": {},
   "outputs": [],
   "source": [
    "path = '/home/jovyan/data/covis_data/data2013/augang13.csv' \n",
    "df_aug2013 = pd.read_csv(path, sep=\",\")\n",
    "df_aug2013['year'] = '2013'\n",
    "df_aug2013['datetime'] = pd.to_datetime(df_aug2013.year, format='%Y') + pd.to_timedelta(df_aug2013.date - 1, unit='d')\n",
    "df_aug2013['datetime'] = df_aug2013['datetime'].dt.round('1s')\n",
    "df_aug2013 = df_aug2013.set_index('datetime')\n",
    "df_aug2013.drop(['date', 'year'], axis=1,inplace=True)\n",
    "df_aug2013 = df_aug2013.rename_axis(None)\n",
    "#fix for azimuth angle, 90 - azimuth then recomputation for any values that aren't in between 0 and 360 \n",
    "df_aug2013.azimuth = df_aug2013.azimuth.rsub(90)\n",
    "df_aug2013['azimuth'] %= 360 \n",
    "df_aug2013['minimum'] = pd.to_numeric(df_aug2013['minimum'], errors='coerce')\n",
    "df_aug2013['azirads'] = df_aug2013['azimuth']*(np.pi/180)\n",
    "df_aug2013['incrads'] = df_aug2013['inclination']*(np.pi/180)\n",
    "r = df_aug2013['r_value'] = 1\n",
    "theta = df_aug2013['azimuth']\n",
    "phi = df_aug2013['inclination']\n",
    "df_aug2013['rc_north'] = r * np.sin(theta) * np.cos(phi)\n",
    "df_aug2013['rc_east'] = r * np.sin(theta) * np.sin(phi)\n",
    "df_aug2013.drop(['r_value'], axis=1, inplace=True)\n",
    "df_aug2013 = df_aug2013.resample('h').mean().dropna()\n",
    "df_aug2013 = df_aug2013['2013-08-01 00:00:00' : \"2013-08-31 23:59:00\"]\n",
    "df_aug2013"
   ]
  },
  {
   "cell_type": "code",
   "execution_count": null,
   "metadata": {},
   "outputs": [],
   "source": [
    "df_aug2013['inclination_category'] = pd.cut(df_aug2013['inclination'], bins=[0, 10, 40, 100], include_lowest=True, labels=['vertical', 'ordinary', 'extreme'])\n",
    "df_aug2013.hvplot.hist(y='inclination', by='inclination_category', bin_range=(0,95)).opts(fontsize={'xticks': 12.5, 'yticks': 12.5})"
   ]
  },
  {
   "cell_type": "code",
   "execution_count": null,
   "metadata": {},
   "outputs": [],
   "source": [
    "df_aug2013.inclination.hvplot.violin(by='index.day', title='August Inclination 2013')"
   ]
  },
  {
   "cell_type": "code",
   "execution_count": null,
   "metadata": {},
   "outputs": [],
   "source": [
    "df_aug2013.rc_north.hvplot.violin(by='index.day', title='August Azimuth North 2013',ylim=(-1, 1)).opts(fontsize={'xticks': 12, 'yticks': 12, 'title': 12, 'ylabel': 12, 'xlabel': 12}) * hv.HLine(0)"
   ]
  },
  {
   "cell_type": "code",
   "execution_count": null,
   "metadata": {},
   "outputs": [],
   "source": [
    "df_augwd2013T = df_wd2013T['2013-08-01 00:00:00' : \"2013-08-31 23:59:00\"]\n",
    "df_augwd2013T.head()"
   ]
  },
  {
   "cell_type": "code",
   "execution_count": null,
   "metadata": {},
   "outputs": [],
   "source": [
    "df_augwd2013C = df_wd2013C['2013-08-01 00:00:00' : \"2013-08-31 23:59:00\"]\n",
    "df_augwd2013C.head()"
   ]
  },
  {
   "cell_type": "code",
   "execution_count": null,
   "metadata": {},
   "outputs": [],
   "source": [
    "df_augwd2013T.wd_north.hvplot.violin(by='index.day') * hv.HLine(0)"
   ]
  },
  {
   "cell_type": "code",
   "execution_count": null,
   "metadata": {},
   "outputs": [],
   "source": [
    "df_augwd2013C.wd_north.hvplot.violin(by='index.day') * hv.HLine(0)"
   ]
  },
  {
   "cell_type": "code",
   "execution_count": null,
   "metadata": {},
   "outputs": [],
   "source": [
    "df_augwd2013C.wd_north2.hvplot.violin(by='index.day') * hv.HLine(0)"
   ]
  },
  {
   "cell_type": "markdown",
   "metadata": {},
   "source": [
    "**September**"
   ]
  },
  {
   "cell_type": "code",
   "execution_count": null,
   "metadata": {},
   "outputs": [],
   "source": [
    "!echo 'date,inclination,azimuth,minimum,maximum,sum1,sum2' | cat - ~jovyan/data/covis_data/data2013/sepang13.dat > ~jovyan/data/covis_data/temp.txt\n",
    "!sed 's/ /,/g' ~jovyan/data/covis_data/temp.txt > ~jovyan/data/covis_data/data2013/sepang13.csv\n",
    "!rm ~jovyan/data/covis_data/temp*\n",
    "!head /home/jovyan/data/covis_data/data2013/sepang13.csv"
   ]
  },
  {
   "cell_type": "code",
   "execution_count": null,
   "metadata": {},
   "outputs": [],
   "source": [
    "path = '/home/jovyan/data/covis_data/data2013/sepang13.csv' \n",
    "df_sep2013 = pd.read_csv(path, sep=\",\")\n",
    "df_sep2013['year'] = '2013'\n",
    "df_sep2013['datetime'] = pd.to_datetime(df_sep2013.year, format='%Y') + pd.to_timedelta(df_sep2013.date - 1, unit='d')\n",
    "df_sep2013['datetime'] = df_sep2013['datetime'].dt.round('1s')\n",
    "df_sep2013 = df_sep2013.set_index('datetime')\n",
    "df_sep2013.drop(['date', 'year'], axis=1,inplace=True)\n",
    "df_sep2013 = df_sep2013.rename_axis(None)\n",
    "#fix for azimuth angle, 90 - azimuth then recomputation for any values that aren't in between 0 and 360 \n",
    "df_sep2013.azimuth = df_sep2013.azimuth.rsub(90)\n",
    "df_sep2013['azimuth'] %= 360 \n",
    "df_sep2013['minimum'] = pd.to_numeric(df_sep2013['minimum'], errors='coerce')\n",
    "df_sep2013['azirads'] = df_sep2013['azimuth']*(np.pi/180)\n",
    "df_sep2013['incrads'] = df_sep2013['inclination']*(np.pi/180)\n",
    "r = df_sep2013['r_value'] = 1\n",
    "theta = df_sep2013['azimuth']\n",
    "phi = df_sep2013['inclination']\n",
    "df_sep2013['rc_north'] = r * np.sin(theta) * np.cos(phi)\n",
    "df_sep2013['rc_east'] = r * np.sin(theta) * np.sin(phi)\n",
    "df_sep2013.drop(['r_value'], axis=1, inplace=True)\n",
    "df_sep2013 = df_sep2013.resample('h').mean().dropna()\n",
    "df_sep2013 = df_sep2013['2013-09-01 00:00:00' : \"2013-09-30 23:59:00\"]\n",
    "df_sep2013"
   ]
  },
  {
   "cell_type": "code",
   "execution_count": null,
   "metadata": {},
   "outputs": [],
   "source": [
    "df_sep2013['inclination_category'] = pd.cut(df_sep2013['inclination'], bins=[0, 10, 40, 100], include_lowest=True, labels=['vertical', 'ordinary', 'extreme'])\n",
    "df_sep2013.hvplot.hist(y='inclination', by='inclination_category', bin_range=(0,95)).opts(fontsize={'xticks': 12.5, 'yticks': 12.5})"
   ]
  },
  {
   "cell_type": "code",
   "execution_count": null,
   "metadata": {},
   "outputs": [],
   "source": [
    "df_sep2013.inclination.hvplot.violin(by='index.day', title='September Inclination 2013')"
   ]
  },
  {
   "cell_type": "code",
   "execution_count": null,
   "metadata": {},
   "outputs": [],
   "source": [
    "df_sep2013.rc_north.hvplot.violin(by='index.day', title='September Azimuth North 2013',ylim=(-1, 1)).opts(fontsize={'xticks': 12, 'yticks': 12, 'title': 12, 'ylabel': 12, 'xlabel': 12}) * hv.HLine(0)"
   ]
  },
  {
   "cell_type": "code",
   "execution_count": null,
   "metadata": {},
   "outputs": [],
   "source": [
    "df_sepwd2013T = df_wd2013T['2013-09-01 00:00:00' : \"2013-09-30 23:59:00\"]\n",
    "df_sepwd2013T.head()"
   ]
  },
  {
   "cell_type": "code",
   "execution_count": null,
   "metadata": {},
   "outputs": [],
   "source": [
    "df_sepwd2013C = df_wd2013C['2013-09-01 00:00:00' : \"2013-09-30 23:59:00\"]\n",
    "df_sepwd2013C.head()"
   ]
  },
  {
   "cell_type": "code",
   "execution_count": null,
   "metadata": {},
   "outputs": [],
   "source": [
    "df_sepwd2013T.wd_north.hvplot.violin(by='index.day') * hv.HLine(0)"
   ]
  },
  {
   "cell_type": "code",
   "execution_count": null,
   "metadata": {},
   "outputs": [],
   "source": [
    "df_sepwd2013C.wd_north.hvplot.violin(by='index.day') * hv.HLine(0)"
   ]
  },
  {
   "cell_type": "code",
   "execution_count": null,
   "metadata": {},
   "outputs": [],
   "source": [
    "df_sepwd2013C.wd_north2.hvplot.violin(by='index.day') * hv.HLine(0)"
   ]
  },
  {
   "cell_type": "markdown",
   "metadata": {},
   "source": [
    "**October**"
   ]
  },
  {
   "cell_type": "code",
   "execution_count": null,
   "metadata": {},
   "outputs": [],
   "source": [
    "!echo 'date,inclination,azimuth,minimum,maximum,sum1,sum2' | cat - ~jovyan/data/covis_data/data2013/octang13.dat > ~jovyan/data/covis_data/temp.txt\n",
    "!sed 's/ /,/g' ~jovyan/data/covis_data/temp.txt > ~jovyan/data/covis_data/data2013/octang13.csv\n",
    "!rm ~jovyan/data/covis_data/temp*\n",
    "!head /home/jovyan/data/covis_data/data2013/octang13.csv"
   ]
  },
  {
   "cell_type": "code",
   "execution_count": null,
   "metadata": {},
   "outputs": [],
   "source": [
    "path = '/home/jovyan/data/covis_data/data2013/octang13.csv' \n",
    "df_oct2013 = pd.read_csv(path, sep=\",\")\n",
    "df_oct2013['year'] = '2013'\n",
    "df_oct2013['datetime'] = pd.to_datetime(df_oct2013.year, format='%Y') + pd.to_timedelta(df_oct2013.date - 1, unit='d')\n",
    "df_oct2013['datetime'] = df_oct2013['datetime'].dt.round('1s')\n",
    "df_oct2013 = df_oct2013.set_index('datetime')\n",
    "df_oct2013.drop(['date', 'year'], axis=1,inplace=True)\n",
    "df_oct2013 = df_oct2013.rename_axis(None)\n",
    "#fix for azimuth angle, 90 - azimuth then recomputation for any values that aren't in between 0 and 360 \n",
    "df_oct2013.azimuth = df_oct2013.azimuth.rsub(90)\n",
    "df_oct2013['azimuth'] %= 360 \n",
    "df_oct2013['minimum'] = pd.to_numeric(df_oct2013['minimum'], errors='coerce')\n",
    "df_oct2013['azirads'] = df_oct2013['azimuth']*(np.pi/180)\n",
    "df_oct2013['incrads'] = df_oct2013['inclination']*(np.pi/180)\n",
    "r = df_oct2013['r_value'] = 1\n",
    "theta = df_oct2013['azimuth']\n",
    "phi = df_oct2013['inclination']\n",
    "df_oct2013['rc_north'] = r * np.sin(theta) * np.cos(phi)\n",
    "df_oct2013['rc_east'] = r * np.sin(theta) * np.sin(phi)\n",
    "df_oct2013.drop(['r_value'], axis=1, inplace=True)\n",
    "df_oct2013 = df_oct2013.resample('h').mean().dropna()\n",
    "df_oct2013 = df_oct2013['2013-10-01 00:00:00' : \"2013-10-31 23:59:00\"]\n",
    "df_oct2013"
   ]
  },
  {
   "cell_type": "code",
   "execution_count": null,
   "metadata": {},
   "outputs": [],
   "source": [
    "df_oct2013['inclination_category'] = pd.cut(df_oct2013['inclination'], bins=[0, 10, 40, 100], include_lowest=True, labels=['vertical', 'ordinary', 'extreme'])\n",
    "df_oct2013.hvplot.hist(y='inclination', by='inclination_category', bin_range=(0,95)).opts(fontsize={'xticks': 12.5, 'yticks': 12.5})"
   ]
  },
  {
   "cell_type": "code",
   "execution_count": null,
   "metadata": {},
   "outputs": [],
   "source": [
    "df_oct2013.inclination.hvplot.violin(by='index.day', title='October Inclination 2013')"
   ]
  },
  {
   "cell_type": "code",
   "execution_count": null,
   "metadata": {},
   "outputs": [],
   "source": [
    "df_oct2013.rc_north.hvplot.violin(by='index.day', title='October Azimuth North 2013',ylim=(-1, 1)).opts(fontsize={'xticks': 12, 'yticks': 12, 'title': 12, 'ylabel': 12, 'xlabel': 12}) * hv.HLine(0)"
   ]
  },
  {
   "cell_type": "code",
   "execution_count": null,
   "metadata": {},
   "outputs": [],
   "source": [
    "df_octwd2013T = df_wd2013T['2013-10-01 00:00:00' : \"2013-10-31 23:59:00\"]\n",
    "df_octwd2013T.head()"
   ]
  },
  {
   "cell_type": "code",
   "execution_count": null,
   "metadata": {},
   "outputs": [],
   "source": [
    "df_octwd2013C = df_wd2013C['2013-10-01 00:00:00' : \"2013-10-31 23:59:00\"]\n",
    "df_octwd2013C.head()"
   ]
  },
  {
   "cell_type": "code",
   "execution_count": null,
   "metadata": {},
   "outputs": [],
   "source": [
    "df_octwd2013T.wd_north.hvplot.violin(by='index.day') * hv.HLine(0)"
   ]
  },
  {
   "cell_type": "code",
   "execution_count": null,
   "metadata": {},
   "outputs": [],
   "source": [
    "df_octwd2013C.wd_north.hvplot.violin(by='index.day') * hv.HLine(0)"
   ]
  },
  {
   "cell_type": "code",
   "execution_count": null,
   "metadata": {},
   "outputs": [],
   "source": [
    "df_octwd2013C.wd_north2.hvplot.violin(by='index.day') * hv.HLine(0)"
   ]
  },
  {
   "cell_type": "markdown",
   "metadata": {},
   "source": [
    "**November**"
   ]
  },
  {
   "cell_type": "code",
   "execution_count": null,
   "metadata": {},
   "outputs": [],
   "source": [
    "!echo 'date,inclination,azimuth,minimum,maximum,sum1,sum2' | cat - ~jovyan/data/covis_data/data2013/novang13.dat > ~jovyan/data/covis_data/temp.txt\n",
    "!sed 's/ /,/g' ~jovyan/data/covis_data/temp.txt > ~jovyan/data/covis_data/data2013/novang13.csv\n",
    "!rm ~jovyan/data/covis_data/temp*\n",
    "!head /home/jovyan/data/covis_data/data2013/novang13.csv"
   ]
  },
  {
   "cell_type": "code",
   "execution_count": null,
   "metadata": {},
   "outputs": [],
   "source": [
    "path = '/home/jovyan/data/covis_data/data2013/novang13.csv' \n",
    "df_nov2013 = pd.read_csv(path, sep=\",\")\n",
    "df_nov2013['year'] = '2013'\n",
    "df_nov2013['datetime'] = pd.to_datetime(df_nov2013.year, format='%Y') + pd.to_timedelta(df_nov2013.date - 1, unit='d')\n",
    "df_nov2013['datetime'] = df_nov2013['datetime'].dt.round('1s')\n",
    "df_nov2013 = df_nov2013.set_index('datetime')\n",
    "df_nov2013.drop(['date', 'year'], axis=1,inplace=True)\n",
    "df_nov2013 = df_nov2013.rename_axis(None)\n",
    "#fix for azimuth angle, 90 - azimuth then recomputation for any values that aren't in between 0 and 360 \n",
    "df_nov2013.azimuth = df_nov2013.azimuth.rsub(90)\n",
    "df_nov2013['azimuth'] %= 360 \n",
    "df_nov2013['minimum'] = pd.to_numeric(df_nov2013['minimum'], errors='coerce')\n",
    "df_nov2013['azirads'] = df_nov2013['azimuth']*(np.pi/180)\n",
    "df_nov2013['incrads'] = df_nov2013['inclination']*(np.pi/180)\n",
    "r = df_nov2013['r_value'] = 1\n",
    "theta = df_nov2013['azimuth']\n",
    "phi = df_nov2013['inclination']\n",
    "df_nov2013['rc_north'] = r * np.sin(theta) * np.cos(phi)\n",
    "df_nov2013['rc_east'] = r * np.sin(theta) * np.sin(phi)\n",
    "df_nov2013.drop(['r_value'], axis=1, inplace=True)\n",
    "df_nov2013 = df_nov2013.resample('h').mean().dropna()\n",
    "df_nov2013 = df_nov2013['2013-11-01 00:00:00' : \"2013-11-30 23:59:00\"]\n",
    "df_nov2013"
   ]
  },
  {
   "cell_type": "code",
   "execution_count": null,
   "metadata": {},
   "outputs": [],
   "source": [
    "df_nov2013['inclination_category'] = pd.cut(df_nov2013['inclination'], bins=[0, 10, 40, 100], include_lowest=True, labels=['vertical', 'ordinary', 'extreme'])\n",
    "df_nov2013.hvplot.hist(y='inclination', by='inclination_category', bin_range=(0,95)).opts(fontsize={'xticks': 12.5, 'yticks': 12.5})"
   ]
  },
  {
   "cell_type": "code",
   "execution_count": null,
   "metadata": {},
   "outputs": [],
   "source": [
    "df_nov2013.inclination.hvplot.violin(by='index.day', title='November Inclination 2013')"
   ]
  },
  {
   "cell_type": "code",
   "execution_count": null,
   "metadata": {},
   "outputs": [],
   "source": [
    "df_nov2013.rc_north.hvplot.violin(by='index.day', title='November Azimuth North 2013',ylim=(-1, 1)).opts(fontsize={'xticks': 12, 'yticks': 12, 'title': 12, 'ylabel': 12, 'xlabel': 12}) * hv.HLine(0)"
   ]
  },
  {
   "cell_type": "code",
   "execution_count": null,
   "metadata": {},
   "outputs": [],
   "source": [
    "df_novwd2013T = df_wd2013T['2013-11-01 00:00:00' : \"2013-11-30 23:59:00\"]\n",
    "df_novwd2013T.head()"
   ]
  },
  {
   "cell_type": "code",
   "execution_count": null,
   "metadata": {},
   "outputs": [],
   "source": [
    "df_novwd2013C = df_wd2013C['2013-11-01 00:00:00' : \"2013-11-30 23:59:00\"]\n",
    "df_novwd2013C.head()"
   ]
  },
  {
   "cell_type": "code",
   "execution_count": null,
   "metadata": {},
   "outputs": [],
   "source": [
    "df_novwd2013T.wd_north.hvplot.violin(by='index.day') * hv.HLine(0)"
   ]
  },
  {
   "cell_type": "code",
   "execution_count": null,
   "metadata": {},
   "outputs": [],
   "source": [
    "df_novwd2013C.wd_north.hvplot.violin(by='index.day') * hv.HLine(0)"
   ]
  },
  {
   "cell_type": "code",
   "execution_count": null,
   "metadata": {},
   "outputs": [],
   "source": [
    "df_novwd2013C.wd_north2.hvplot.violin(by='index.day') * hv.HLine(0)"
   ]
  },
  {
   "cell_type": "markdown",
   "metadata": {},
   "source": [
    "**December**"
   ]
  },
  {
   "cell_type": "code",
   "execution_count": null,
   "metadata": {},
   "outputs": [],
   "source": [
    "!echo 'date,inclination,azimuth,minimum,maximum,sum1,sum2' | cat - ~jovyan/data/covis_data/data2013/decang13.dat > ~jovyan/data/covis_data/temp.txt\n",
    "!sed 's/ /,/g' ~jovyan/data/covis_data/temp.txt > ~jovyan/data/covis_data/data2013/decang13.csv\n",
    "!rm ~jovyan/data/covis_data/temp*\n",
    "!head /home/jovyan/data/covis_data/data2013/decang13.csv"
   ]
  },
  {
   "cell_type": "code",
   "execution_count": null,
   "metadata": {},
   "outputs": [],
   "source": [
    "path = '/home/jovyan/data/covis_data/data2013/decang13.csv' \n",
    "df_dec2013 = pd.read_csv(path, sep=\",\")\n",
    "df_dec2013['year'] = '2013'\n",
    "df_dec2013['datetime'] = pd.to_datetime(df_dec2013.year, format='%Y') + pd.to_timedelta(df_dec2013.date - 1, unit='d')\n",
    "df_dec2013['datetime'] = df_dec2013['datetime'].dt.round('1s')\n",
    "df_dec2013 = df_dec2013.set_index('datetime')\n",
    "df_dec2013.drop(['date', 'year'], axis=1,inplace=True)\n",
    "df_dec2013 = df_dec2013.rename_axis(None)\n",
    "#fix for azimuth angle, 90 - azimuth then recomputation for any values that aren't in between 0 and 360 \n",
    "df_dec2013.azimuth = df_dec2013.azimuth.rsub(90)\n",
    "df_dec2013['azimuth'] %= 360 \n",
    "df_dec2013['minimum'] = pd.to_numeric(df_dec2013['minimum'], errors='coerce')\n",
    "df_dec2013['azirads'] = df_dec2013['azimuth']*(np.pi/180)\n",
    "df_dec2013['incrads'] = df_dec2013['inclination']*(np.pi/180)\n",
    "r = df_dec2013['r_value'] = 1\n",
    "theta = df_dec2013['azimuth']\n",
    "phi = df_dec2013['inclination']\n",
    "df_dec2013['rc_north'] = r * np.sin(theta) * np.cos(phi)\n",
    "df_dec2013['rc_east'] = r * np.sin(theta) * np.sin(phi)\n",
    "df_dec2013.drop(['r_value'], axis=1, inplace=True)\n",
    "df_dec2013 = df_dec2013.resample('h').mean().dropna()\n",
    "df_dec2013 = df_dec2013['2013-12-01 00:00:00' : \"2013-12-31 23:59:00\"]\n",
    "df_dec2013"
   ]
  },
  {
   "cell_type": "code",
   "execution_count": null,
   "metadata": {},
   "outputs": [],
   "source": [
    "df_dec2013['inclination_category'] = pd.cut(df_dec2013['inclination'], bins=[0, 10, 40, 100], include_lowest=True, labels=['vertical', 'ordinary', 'extreme'])\n",
    "df_dec2013.hvplot.hist(y='inclination', by='inclination_category', bin_range=(0,95)).opts(fontsize={'xticks': 12.5, 'yticks': 12.5})"
   ]
  },
  {
   "cell_type": "code",
   "execution_count": null,
   "metadata": {},
   "outputs": [],
   "source": [
    "df_dec2013.inclination.hvplot.violin(by='index.day', title='December Inclination 2013')"
   ]
  },
  {
   "cell_type": "code",
   "execution_count": null,
   "metadata": {},
   "outputs": [],
   "source": [
    "df_dec2013.rc_north.hvplot.violin(by='index.day', title='December Azimuth North 2013',ylim=(-1, 1)).opts(fontsize={'xticks': 12, 'yticks': 12, 'title': 12, 'ylabel': 12, 'xlabel': 12}) * hv.HLine(0)"
   ]
  },
  {
   "cell_type": "code",
   "execution_count": null,
   "metadata": {},
   "outputs": [],
   "source": [
    "df_decwd2013T = df_wd2013T['2013-12-01 00:00:00' : \"2013-12-31 23:59:00\"]\n",
    "df_decwd2013T.head()"
   ]
  },
  {
   "cell_type": "code",
   "execution_count": null,
   "metadata": {},
   "outputs": [],
   "source": [
    "df_decwd2013C = df_wd2013C['2013-12-01 00:00:00' : \"2013-12-31 23:59:00\"]\n",
    "df_decwd2013C.head()"
   ]
  },
  {
   "cell_type": "code",
   "execution_count": null,
   "metadata": {},
   "outputs": [],
   "source": [
    "df_decwd2013T.wd_north.hvplot.violin(by='index.day') * hv.HLine(0)"
   ]
  },
  {
   "cell_type": "code",
   "execution_count": null,
   "metadata": {},
   "outputs": [],
   "source": [
    "df_decwd2013C.wd_north.hvplot.violin(by='index.day') * hv.HLine(0)"
   ]
  },
  {
   "cell_type": "code",
   "execution_count": null,
   "metadata": {},
   "outputs": [],
   "source": [
    "df_decwd2013C.wd_north2.hvplot.violin(by='index.day') * hv.HLine(0)"
   ]
  },
  {
   "cell_type": "markdown",
   "metadata": {},
   "source": [
    "## Yearly Plots"
   ]
  },
  {
   "cell_type": "code",
   "execution_count": null,
   "metadata": {},
   "outputs": [],
   "source": [
    "df_D2013 = pd.concat([df_jan2013, df_feb2013, df_mar2013, df_apr2013, df_may2013, df_jun2013, df_jul2013, df_aug2013, df_sep2013, df_oct2013, df_nov2013, df_dec2013])\n",
    "df_D2013"
   ]
  },
  {
   "cell_type": "code",
   "execution_count": null,
   "metadata": {},
   "outputs": [],
   "source": [
    "D2013T = pd.merge(df_D2013, df_wd2013T,how='inner', indicator=True, left_index=True, right_index=True, suffixes=('_B', '_G'))\n",
    "df_D2013T = pd.DataFrame()\n",
    "df_D2013T = D2013T[D2013T['_merge'] == 'both']\n",
    "del df_D2013T['_merge']\n",
    "df_D2013T.drop(['r_value','dom_wvp','av_wvp','mwd','dew_temp','vis','tide'], axis=1, inplace=True)\n",
    "df_D2013T"
   ]
  },
  {
   "cell_type": "code",
   "execution_count": null,
   "metadata": {},
   "outputs": [],
   "source": [
    "D2013C = pd.merge(df_D2013, df_wd2013C,how='inner', indicator=True, left_index=True, right_index=True, suffixes=('_B', '_G'))\n",
    "df_D2013C = pd.DataFrame()\n",
    "df_D2013C = D2013C[D2013C['_merge'] == 'both']\n",
    "del df_D2013C['_merge']\n",
    "df_D2013C"
   ]
  },
  {
   "cell_type": "code",
   "execution_count": null,
   "metadata": {},
   "outputs": [],
   "source": [
    "df_D2013['inclination_category'] = pd.cut(df_D2013['inclination'], bins=[0, 10, 40, 100], include_lowest=True, labels=['vertical', 'ordinary', 'extreme'])\n",
    "df_D2013.hvplot.hist(y='inclination', by='inclination_category', title='2013', bin_range=(0, 95)).opts(fontsize={'xticks': 12.5, 'yticks': 12.5, 'title': 12.5})"
   ]
  },
  {
   "cell_type": "code",
   "execution_count": null,
   "metadata": {},
   "outputs": [],
   "source": [
    "df_D2013R = df_D2013['2013-10-01 00:00:00' : \"2013-12-31 23:59:00\"]\n",
    "df_D2013R.hvplot.hist(y='inclination', by='inclination_category', title='2013 (Reduced)', bin_range=(0, 95)).opts(fontsize={'xticks': 12.5, 'yticks': 12.5, 'title': 12.5})"
   ]
  },
  {
   "cell_type": "code",
   "execution_count": null,
   "metadata": {},
   "outputs": [],
   "source": [
    "plt.hist([df_D2013['inclination']], bins = int(360/15), density=True)\n",
    "plt.xlabel('Inclination', fontsize='14')\n",
    "plt.ylabel('Normalized Frequency', fontsize='14')\n",
    "plt.title('2013 Inclination', fontsize='16')\n",
    "plt.xlim(0, 90)\n",
    "plt.tight_layout()\n",
    "plt.savefig('/home/jovyan/Repos/AGU_2019/JoshFolder/2013Figs/HistInc13', dpi=300)\n",
    "plt.show()"
   ]
  },
  {
   "cell_type": "code",
   "execution_count": null,
   "metadata": {},
   "outputs": [],
   "source": [
    "degrees = df_D2013T['azimuth'].values\n",
    "radians = np.deg2rad(degrees)\n",
    "\n",
    "bin_size = 2\n",
    "a , b=np.histogram(degrees, bins=np.arange(0, 360+bin_size, bin_size))\n",
    "centers = np.deg2rad(np.ediff1d(b)//2 + b[:-1])\n",
    "\n",
    "fig = plt.figure(figsize=(10,8))\n",
    "ax = fig.add_subplot(111, projection='polar')\n",
    "ax.bar(centers, a, width=np.deg2rad(bin_size), bottom=0.0, color='cyan', edgecolor='k')\n",
    "ax.set_theta_zero_location(\"N\")\n",
    "ax.set_theta_direction(-1)\n",
    "plt.title('Azimuth 2013',fontsize='15')\n",
    "plt.rc('xtick', labelsize=20)\n",
    "plt.rc('ytick', labelsize=15)\n",
    "plt.savefig('/home/jovyan/Repos/AGU_2019/JoshFolder/2013Figs/azimuth2013')\n",
    "plt.show()"
   ]
  },
  {
   "cell_type": "code",
   "execution_count": null,
   "metadata": {},
   "outputs": [],
   "source": [
    "degrees = df_oct2013['azimuth'].values\n",
    "radians = np.deg2rad(degrees)\n",
    "\n",
    "bin_size = 2\n",
    "a , b=np.histogram(degrees, bins=np.arange(0, 360+bin_size, bin_size))\n",
    "centers = np.deg2rad(np.ediff1d(b)//2 + b[:-1])\n",
    "\n",
    "fig = plt.figure(figsize=(10,8))\n",
    "ax = fig.add_subplot(111, projection='polar')\n",
    "ax.bar(centers, a, width=np.deg2rad(bin_size), bottom=0.0, color='cyan', edgecolor='k')\n",
    "ax.set_theta_zero_location(\"N\")\n",
    "ax.set_theta_direction(-1)\n",
    "plt.title('October Azimuth 2013',fontsize='15')\n",
    "plt.rc('xtick', labelsize=20)\n",
    "plt.rc('ytick', labelsize=15)\n",
    "plt.savefig('/home/jovyan/Repos/AGU_2019/JoshFolder/2013Figs/octazimuth2013')\n",
    "plt.show()"
   ]
  },
  {
   "cell_type": "code",
   "execution_count": null,
   "metadata": {},
   "outputs": [],
   "source": [
    "df_D2013RT = df_D2013T['2013-10-01 00:00:00' : \"2013-12-31 23:59:00\"]\n",
    "degrees = df_D2013RT['azimuth'].values\n",
    "radians = np.deg2rad(degrees)\n",
    "\n",
    "bin_size = 2\n",
    "a , b=np.histogram(degrees, bins=np.arange(0, 360+bin_size, bin_size))\n",
    "centers = np.deg2rad(np.ediff1d(b)//2 + b[:-1])\n",
    "\n",
    "fig = plt.figure(figsize=(10,8))\n",
    "ax = fig.add_subplot(111, projection='polar')\n",
    "ax.bar(centers, a, width=np.deg2rad(bin_size), bottom=0.0, color='cyan', edgecolor='k')\n",
    "ax.set_theta_zero_location(\"N\")\n",
    "ax.set_theta_direction(-1)\n",
    "plt.title('Azimuth 2013 (Reduced)',fontsize='15')\n",
    "plt.rc('xtick', labelsize=20)\n",
    "plt.rc('ytick', labelsize=15)\n",
    "plt.savefig('/home/jovyan/Repos/AGU_2019/JoshFolder/2013Figs/azimuth2013Red')\n",
    "plt.show()"
   ]
  },
  {
   "cell_type": "code",
   "execution_count": null,
   "metadata": {},
   "outputs": [],
   "source": [
    "degrees = df_D2013T['wnd_dir'].values\n",
    "radians = np.deg2rad(degrees)\n",
    "\n",
    "bin_size = 2\n",
    "a , b=np.histogram(degrees, bins=np.arange(0, 360+bin_size, bin_size))\n",
    "centers = np.deg2rad(np.ediff1d(b)//2 + b[:-1])\n",
    "\n",
    "fig = plt.figure(figsize=(10,8))\n",
    "ax = fig.add_subplot(111, projection='polar')\n",
    "ax.bar(centers, a, width=np.deg2rad(bin_size), bottom=0.0, color='cyan', edgecolor='k')\n",
    "ax.set_theta_zero_location(\"N\")\n",
    "ax.set_theta_direction(-1)\n",
    "plt.title('Wind Direction 2013 Tillamook',fontsize='15')\n",
    "plt.rc('xtick', labelsize=20)\n",
    "plt.rc('ytick', labelsize=15)\n",
    "plt.savefig('/home/jovyan/Repos/AGU_2019/JoshFolder/2013Figs/wd2013T')\n",
    "plt.show()"
   ]
  },
  {
   "cell_type": "code",
   "execution_count": null,
   "metadata": {},
   "outputs": [],
   "source": [
    "degrees = df_octwd2013T['wnd_dir'].values\n",
    "radians = np.deg2rad(degrees)\n",
    "\n",
    "bin_size = 2\n",
    "a , b=np.histogram(degrees, bins=np.arange(0, 360+bin_size, bin_size))\n",
    "centers = np.deg2rad(np.ediff1d(b)//2 + b[:-1])\n",
    "\n",
    "fig = plt.figure(figsize=(10,8))\n",
    "ax = fig.add_subplot(111, projection='polar')\n",
    "ax.bar(centers, a, width=np.deg2rad(bin_size), bottom=0.0, color='cyan', edgecolor='k')\n",
    "ax.set_theta_zero_location(\"N\")\n",
    "ax.set_theta_direction(-1)\n",
    "plt.title('October Wind Direction 2013 Tillamook',fontsize='15')\n",
    "plt.rc('xtick', labelsize=20)\n",
    "plt.rc('ytick', labelsize=15)\n",
    "plt.savefig('/home/jovyan/Repos/AGU_2019/JoshFolder/2013Figs/octwd2013T')\n",
    "plt.show()"
   ]
  },
  {
   "cell_type": "code",
   "execution_count": null,
   "metadata": {},
   "outputs": [],
   "source": [
    "degrees = df_D2013RT['wnd_dir'].values\n",
    "radians = np.deg2rad(degrees)\n",
    "\n",
    "bin_size = 2\n",
    "a , b=np.histogram(degrees, bins=np.arange(0, 360+bin_size, bin_size))\n",
    "centers = np.deg2rad(np.ediff1d(b)//2 + b[:-1])\n",
    "\n",
    "fig = plt.figure(figsize=(10,8))\n",
    "ax = fig.add_subplot(111, projection='polar')\n",
    "ax.bar(centers, a, width=np.deg2rad(bin_size), bottom=0.0, color='cyan', edgecolor='k')\n",
    "ax.set_theta_zero_location(\"N\")\n",
    "ax.set_theta_direction(-1)\n",
    "plt.title('Wind Direction 2013 Tillamook (Reduced)',fontsize='15')\n",
    "plt.rc('xtick', labelsize=20)\n",
    "plt.rc('ytick', labelsize=15)\n",
    "plt.savefig('/home/jovyan/Repos/AGU_2019/JoshFolder/2013Figs/wd2013TRed')\n",
    "plt.show()"
   ]
  },
  {
   "cell_type": "code",
   "execution_count": null,
   "metadata": {},
   "outputs": [],
   "source": [
    "degrees = df_D2013C['WDIR'].values\n",
    "radians = np.deg2rad(degrees)\n",
    "\n",
    "bin_size = 2\n",
    "a , b=np.histogram(degrees, bins=np.arange(0, 360+bin_size, bin_size))\n",
    "centers = np.deg2rad(np.ediff1d(b)//2 + b[:-1])\n",
    "\n",
    "fig = plt.figure(figsize=(10,8))\n",
    "ax = fig.add_subplot(111, projection='polar')\n",
    "ax.bar(centers, a, width=np.deg2rad(bin_size), bottom=0.0, color='cyan', edgecolor='k')\n",
    "ax.set_theta_zero_location(\"N\")\n",
    "ax.set_theta_direction(-1)\n",
    "plt.title('Wind Direction 2013 c46036 1',fontsize='15')\n",
    "plt.rc('xtick', labelsize=20)\n",
    "plt.rc('ytick', labelsize=15)\n",
    "plt.savefig('/home/jovyan/Repos/AGU_2019/JoshFolder/2013Figs/wd2013C1')\n",
    "plt.show()"
   ]
  },
  {
   "cell_type": "code",
   "execution_count": null,
   "metadata": {},
   "outputs": [],
   "source": [
    "degrees = df_octwd2013C['WDIR'].values\n",
    "radians = np.deg2rad(degrees)\n",
    "\n",
    "bin_size = 2\n",
    "a , b=np.histogram(degrees, bins=np.arange(0, 360+bin_size, bin_size))\n",
    "centers = np.deg2rad(np.ediff1d(b)//2 + b[:-1])\n",
    "\n",
    "fig = plt.figure(figsize=(10,8))\n",
    "ax = fig.add_subplot(111, projection='polar')\n",
    "ax.bar(centers, a, width=np.deg2rad(bin_size), bottom=0.0, color='cyan', edgecolor='k')\n",
    "ax.set_theta_zero_location(\"N\")\n",
    "ax.set_theta_direction(-1)\n",
    "plt.title('October Wind Direction 2013 c46036 1',fontsize='15')\n",
    "plt.rc('xtick', labelsize=20)\n",
    "plt.rc('ytick', labelsize=15)\n",
    "plt.savefig('/home/jovyan/Repos/AGU_2019/JoshFolder/2013Figs/octwd2013C1')\n",
    "plt.show()"
   ]
  },
  {
   "cell_type": "code",
   "execution_count": null,
   "metadata": {},
   "outputs": [],
   "source": [
    "df_D2013RC = df_D2013C['2013-10-01 00:00:00' : \"2013-12-31 23:59:00\"]\n",
    "degrees = df_D2013RC['WDIR'].values\n",
    "radians = np.deg2rad(degrees)\n",
    "\n",
    "bin_size = 2\n",
    "a , b=np.histogram(degrees, bins=np.arange(0, 360+bin_size, bin_size))\n",
    "centers = np.deg2rad(np.ediff1d(b)//2 + b[:-1])\n",
    "\n",
    "fig = plt.figure(figsize=(10,8))\n",
    "ax = fig.add_subplot(111, projection='polar')\n",
    "ax.bar(centers, a, width=np.deg2rad(bin_size), bottom=0.0, color='cyan', edgecolor='k')\n",
    "ax.set_theta_zero_location(\"N\")\n",
    "ax.set_theta_direction(-1)\n",
    "plt.title('Wind Direction 2013 c46036 1 (Reduced)',fontsize='15')\n",
    "plt.rc('xtick', labelsize=20)\n",
    "plt.rc('ytick', labelsize=15)\n",
    "plt.savefig('/home/jovyan/Repos/AGU_2019/JoshFolder/2013Figs/wd2013C1Red')\n",
    "plt.show()"
   ]
  },
  {
   "cell_type": "code",
   "execution_count": null,
   "metadata": {},
   "outputs": [],
   "source": [
    "degrees = df_D2013C['WDIR.1'].values\n",
    "radians = np.deg2rad(degrees)\n",
    "\n",
    "bin_size = 2\n",
    "a , b=np.histogram(degrees, bins=np.arange(0, 360+bin_size, bin_size))\n",
    "centers = np.deg2rad(np.ediff1d(b)//2 + b[:-1])\n",
    "\n",
    "fig = plt.figure(figsize=(10,8))\n",
    "ax = fig.add_subplot(111, projection='polar')\n",
    "ax.bar(centers, a, width=np.deg2rad(bin_size), bottom=0.0, color='cyan', edgecolor='k')\n",
    "ax.set_theta_zero_location(\"N\")\n",
    "ax.set_theta_direction(-1)\n",
    "plt.title('Wind Direction 2013 c46036 2',fontsize='15')\n",
    "plt.rc('xtick', labelsize=20)\n",
    "plt.rc('ytick', labelsize=15)\n",
    "plt.savefig('/home/jovyan/Repos/AGU_2019/JoshFolder/2013Figs/wd2013C2')\n",
    "plt.show()"
   ]
  },
  {
   "cell_type": "code",
   "execution_count": null,
   "metadata": {},
   "outputs": [],
   "source": [
    "degrees = df_octwd2013C['WDIR.1'].values\n",
    "radians = np.deg2rad(degrees)\n",
    "\n",
    "bin_size = 2\n",
    "a , b=np.histogram(degrees, bins=np.arange(0, 360+bin_size, bin_size))\n",
    "centers = np.deg2rad(np.ediff1d(b)//2 + b[:-1])\n",
    "\n",
    "fig = plt.figure(figsize=(10,8))\n",
    "ax = fig.add_subplot(111, projection='polar')\n",
    "ax.bar(centers, a, width=np.deg2rad(bin_size), bottom=0.0, color='cyan', edgecolor='k')\n",
    "ax.set_theta_zero_location(\"N\")\n",
    "ax.set_theta_direction(-1)\n",
    "plt.title('October Wind Direction 2013 c46036 2',fontsize='15')\n",
    "plt.rc('xtick', labelsize=20)\n",
    "plt.rc('ytick', labelsize=15)\n",
    "plt.savefig('/home/jovyan/Repos/AGU_2019/JoshFolder/2013Figs/octwd2013C2')\n",
    "plt.show()"
   ]
  },
  {
   "cell_type": "code",
   "execution_count": null,
   "metadata": {},
   "outputs": [],
   "source": [
    "degrees = df_D2013RC['WDIR.1'].values\n",
    "radians = np.deg2rad(degrees)\n",
    "\n",
    "bin_size = 2\n",
    "a , b=np.histogram(degrees, bins=np.arange(0, 360+bin_size, bin_size))\n",
    "centers = np.deg2rad(np.ediff1d(b)//2 + b[:-1])\n",
    "\n",
    "fig = plt.figure(figsize=(10,8))\n",
    "ax = fig.add_subplot(111, projection='polar')\n",
    "ax.bar(centers, a, width=np.deg2rad(bin_size), bottom=0.0, color='cyan', edgecolor='k')\n",
    "ax.set_theta_zero_location(\"N\")\n",
    "ax.set_theta_direction(-1)\n",
    "plt.title('Wind Direction 2013 c46036 2 (Reduced)',fontsize='15')\n",
    "plt.rc('xtick', labelsize=20)\n",
    "plt.rc('ytick', labelsize=15)\n",
    "plt.savefig('/home/jovyan/Repos/AGU_2019/JoshFolder/2013Figs/wd2013C2Red')\n",
    "plt.show()"
   ]
  },
  {
   "cell_type": "code",
   "execution_count": null,
   "metadata": {},
   "outputs": [],
   "source": [
    "df_D2013ex=df_D2013T.loc[df_D2013T['inclination']>40]\n",
    "df_D2013ex.head(100)"
   ]
  },
  {
   "cell_type": "code",
   "execution_count": null,
   "metadata": {},
   "outputs": [],
   "source": [
    "degrees = df_D2013ex['azimuth'].values\n",
    "radians = np.deg2rad(degrees)\n",
    "\n",
    "bin_size = 2\n",
    "a , b=np.histogram(degrees, bins=np.arange(0, 360+bin_size, bin_size))\n",
    "centers = np.deg2rad(np.ediff1d(b)//2 + b[:-1])\n",
    "\n",
    "fig = plt.figure(figsize=(10,8))\n",
    "ax = fig.add_subplot(111, projection='polar')\n",
    "ax.bar(centers, a, width=np.deg2rad(bin_size), bottom=0.0, color='cyan', edgecolor='k')\n",
    "ax.set_theta_zero_location(\"N\")\n",
    "ax.set_theta_direction(-1)\n",
    "plt.title('Extreme Azimuth 2013',fontsize='15')\n",
    "plt.rc('xtick', labelsize=20)\n",
    "plt.rc('ytick', labelsize=15)\n",
    "plt.savefig('/home/jovyan/Repos/AGU_2019/JoshFolder/2013Figs/extazi2013')\n",
    "plt.show()"
   ]
  },
  {
   "cell_type": "code",
   "execution_count": null,
   "metadata": {},
   "outputs": [],
   "source": [
    "test = df_D2013T.inclination.hvplot.violin(by='index.month') * hv.HLine(0)\n",
    "test"
   ]
  },
  {
   "cell_type": "code",
   "execution_count": null,
   "metadata": {},
   "outputs": [],
   "source": [
    "(df_D2013T.rc_north.hvplot.violin(by='index.month', title='Azimuth North 2013',ylim=(-1, 1)).opts(fontsize={'xticks': 12, 'yticks': 12, 'title': 12, 'ylabel': 12, 'xlabel': 12}) * hv.HLine(0) +\n",
    " df_D2013T.wd_north.hvplot.violin(by='index.month', title='Tillamook Wind Direction North 2013') * hv.HLine(0)).cols(1)"
   ]
  },
  {
   "cell_type": "code",
   "execution_count": null,
   "metadata": {},
   "outputs": [],
   "source": []
  },
  {
   "cell_type": "code",
   "execution_count": null,
   "metadata": {},
   "outputs": [],
   "source": []
  }
 ],
 "metadata": {
  "kernelspec": {
   "display_name": "Python 3",
   "language": "python",
   "name": "python3"
  },
  "language_info": {
   "codemirror_mode": {
    "name": "ipython",
    "version": 3
   },
   "file_extension": ".py",
   "mimetype": "text/x-python",
   "name": "python",
   "nbconvert_exporter": "python",
   "pygments_lexer": "ipython3",
   "version": "3.7.8"
  }
 },
 "nbformat": 4,
 "nbformat_minor": 4
}
