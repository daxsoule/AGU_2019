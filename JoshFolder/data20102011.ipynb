{
 "cells": [
  {
   "cell_type": "code",
   "execution_count": null,
   "metadata": {},
   "outputs": [],
   "source": [
    "import numpy as np\n",
    "import matplotlib.dates\n",
    "import matplotlib.pyplot as plt\n",
    "%matplotlib inline\n",
    "from mpl_toolkits import mplot3d\n",
    "import pandas as pd\n",
    "from datetime import datetime\n",
    "import hvplot.pandas\n",
    "import holoviews as hv\n",
    "from holoviews import dim, opts\n",
    "hv.extension('bokeh')"
   ]
  },
  {
   "cell_type": "markdown",
   "metadata": {},
   "source": [
    "## Weather Data\n",
    "\n",
    "**2010**\n",
    "\n",
    "**Tillamook**"
   ]
  },
  {
   "cell_type": "code",
   "execution_count": null,
   "metadata": {},
   "outputs": [],
   "source": [
    "!rm ~jovyan/data/covis_data/data20102011/T2010.csv\n",
    "!sed '1,3d' file ~jovyan/data/covis_data/data20102011/T2010.txt > ~jovyan/data/covis_data/data20102011/temp.txt\n",
    "!echo 'year,month,day,hour,minute,wnd_dir,wnd_spd,wnd_gspd,wv_height,dom_wvp,av_wvp,mwd,atm_prs,air_temp,sea_temp,dew_temp,vis,tide' | cat - ~jovyan/data/covis_data/data20102011/temp.txt > ~jovyan/data/covis_data/data20102011/temp1.txt\n",
    "!sed 's/   /,/g' ~jovyan/data/covis_data/data20102011/temp1.txt > ~jovyan/data/covis_data/data20102011/temp2.txt\n",
    "!sed 's/  /,/g' ~jovyan/data/covis_data/data20102011/temp2.txt > ~jovyan/data/covis_data/data20102011/temp3.txt\n",
    "!sed 's/ /,/g' ~jovyan/data/covis_data/data20102011/temp3.txt > ~jovyan/data/covis_data/data20102011/temp4.txt\n",
    "!sed 's/^,//' <~jovyan/data/covis_data/data20102011/temp4.txt >~jovyan/data/covis_data/data20102011/T2010.csv\n",
    "!rm ~jovyan/data/covis_data/data20102011/temp*\n",
    "!head ~jovyan/data/covis_data/data20102011/T2010.csv"
   ]
  },
  {
   "cell_type": "code",
   "execution_count": null,
   "metadata": {},
   "outputs": [],
   "source": [
    "path = '/home/jovyan/data/covis_data/data20102011/T2010.csv' \n",
    "df_wd2010T = pd.read_csv(path, sep=\",\")\n",
    "df_wd2010T['year'] = '2010'\n",
    "df_wd2010T['year']= df_wd2010T['year'].astype(int).astype(str)\n",
    "df_wd2010T['month']= df_wd2010T['month'].astype(int).astype(str).str.pad(width=2, side='left', fillchar='0')\n",
    "df_wd2010T['day']= df_wd2010T['day'].astype(int).astype(str).str.pad(width=2, side='left', fillchar='0')\n",
    "df_wd2010T['hour']= df_wd2010T['hour'].astype(int).astype(str).str.pad(width=2, side='left', fillchar='0')\n",
    "df_wd2010T['minute']= df_wd2010T['minute'].astype(int).astype(str).str.pad(width=2, side='left', fillchar='0')\n",
    "df_wd2010T['datetime'] = df_wd2010T['year'] + df_wd2010T['month'] + df_wd2010T['day'] +\\\n",
    "'T' + df_wd2010T['hour']+ ':' + df_wd2010T['minute']\n",
    "df_wd2010T['datetime'] = pd.to_datetime(df_wd2010T['datetime'])\n",
    "df_wd2010T = df_wd2010T.set_index('datetime')\n",
    "df_wd2010T = df_wd2010T[['wnd_dir','wnd_spd','wnd_gspd','wv_height','dom_wvp','av_wvp','mwd','atm_prs','air_temp','dew_temp','vis','tide']]\n",
    "df_wd2010T = df_wd2010T.rename_axis(None)\n",
    "df_wd2010T['wndrads'] = df_wd2010T['wnd_dir']*(np.pi/180)\n",
    "r = df_wd2010T['r_value'] = 1\n",
    "theta = df_wd2010T['wndrads']\n",
    "phi = df_wd2010T['wndrads']\n",
    "df_wd2010T['wd_north'] = r * np.sin(theta) * np.cos(phi)\n",
    "df_wd2010T['wd_east'] = r * np.sin(theta) * np.sin(phi)\n",
    "df_wd2010T = df_wd2010T.resample('h').mean()\n",
    "df_wd2010T.head()"
   ]
  },
  {
   "cell_type": "markdown",
   "metadata": {},
   "source": [
    "**C46036**"
   ]
  },
  {
   "cell_type": "code",
   "execution_count": null,
   "metadata": {},
   "outputs": [],
   "source": [
    "path = '/home/jovyan/data/covis_data/data2013/c46036WD.csv' \n",
    "df_wd2010C = pd.read_csv(path, sep=\",\")\n",
    "df_wd2010C.drop(['STN_ID','Q_FLAG','LATITUDE','LONGITUDE','DEPTH','VCAR','VTPK','VWH$','VCMX','VTP$','WSS$','WSS$.1','Unnamed: 23'], axis=1, inplace=True)\n",
    "df_wd2010C['datetime'] = df_wd2010C['DATE']\n",
    "df_wd2010C['datetime'] = pd.to_datetime(df_wd2010C['datetime'])\n",
    "df_wd2010C = df_wd2010C.set_index('datetime')\n",
    "df_wd2010C = df_wd2010C.rename_axis(None)\n",
    "df_wd2010C = df_wd2010C['2010-01-01 00:00:00' : \"2010-12-31 23:59:00\"]\n",
    "df_wd2010C['wndrads'] = df_wd2010C['WDIR']*(np.pi/180)\n",
    "df_wd2010C['wndrads2'] = df_wd2010C['WDIR.1']*(np.pi/180)\n",
    "r = df_wd2010C['r_value'] = 1\n",
    "theta = df_wd2010C['wndrads']\n",
    "phi = df_wd2010C['wndrads']\n",
    "df_wd2010C['wd_north'] = r * np.sin(theta) * np.cos(phi)\n",
    "df_wd2010C['wd_east'] = r * np.sin(theta) * np.sin(phi)\n",
    "theta1 = df_wd2010C['wndrads2']\n",
    "phi1 = df_wd2010C['wndrads2']\n",
    "df_wd2010C['wd_north2'] = r * np.sin(theta1) * np.cos(phi1)\n",
    "df_wd2010C['wd_east2'] = r * np.sin(theta1) * np.sin(phi1)\n",
    "df_wd2010C.drop(['r_value'], axis=1, inplace=True)\n",
    "df_wd2010C = df_wd2010C.resample('h').mean()\n",
    "df_wd2010C.head()"
   ]
  },
  {
   "cell_type": "markdown",
   "metadata": {},
   "source": [
    "**2011**\n",
    "\n",
    "**Tillamook**"
   ]
  },
  {
   "cell_type": "code",
   "execution_count": null,
   "metadata": {},
   "outputs": [],
   "source": [
    "!rm ~jovyan/data/covis_data/data20102011/T2011.csv\n",
    "!sed '1,3d' file ~jovyan/data/covis_data/data20102011/T2011.txt > ~jovyan/data/covis_data/data20102011/temp.txt\n",
    "!echo 'year,month,day,hour,minute,wnd_dir,wnd_spd,wnd_gspd,wv_height,dom_wvp,av_wvp,mwd,atm_prs,air_temp,sea_temp,dew_temp,vis,tide' | cat - ~jovyan/data/covis_data/data20102011/temp.txt > ~jovyan/data/covis_data/data20102011/temp1.txt\n",
    "!sed 's/   /,/g' ~jovyan/data/covis_data/data20102011/temp1.txt > ~jovyan/data/covis_data/data20102011/temp2.txt\n",
    "!sed 's/  /,/g' ~jovyan/data/covis_data/data20102011/temp2.txt > ~jovyan/data/covis_data/data20102011/temp3.txt\n",
    "!sed 's/ /,/g' ~jovyan/data/covis_data/data20102011/temp3.txt > ~jovyan/data/covis_data/data20102011/temp4.txt\n",
    "!sed 's/^,//' <~jovyan/data/covis_data/data20102011/temp4.txt >~jovyan/data/covis_data/data20102011/T2011.csv\n",
    "!rm ~jovyan/data/covis_data/data20102011/temp*\n",
    "!head ~jovyan/data/covis_data/data20102011/T2011.csv"
   ]
  },
  {
   "cell_type": "code",
   "execution_count": null,
   "metadata": {},
   "outputs": [],
   "source": [
    "path = '/home/jovyan/data/covis_data/data20102011/T2011.csv' \n",
    "df_wd2011T = pd.read_csv(path, sep=\",\")\n",
    "df_wd2011T['year'] = '2011'\n",
    "df_wd2011T['year']= df_wd2011T['year'].astype(int).astype(str)\n",
    "df_wd2011T['month']= df_wd2011T['month'].astype(int).astype(str).str.pad(width=2, side='left', fillchar='0')\n",
    "df_wd2011T['day']= df_wd2011T['day'].astype(int).astype(str).str.pad(width=2, side='left', fillchar='0')\n",
    "df_wd2011T['hour']= df_wd2011T['hour'].astype(int).astype(str).str.pad(width=2, side='left', fillchar='0')\n",
    "df_wd2011T['minute']= df_wd2011T['minute'].astype(int).astype(str).str.pad(width=2, side='left', fillchar='0')\n",
    "df_wd2011T['datetime'] = df_wd2011T['year'] + df_wd2011T['month'] + df_wd2011T['day'] +\\\n",
    "'T' + df_wd2011T['hour']+ ':' + df_wd2011T['minute']\n",
    "df_wd2011T['datetime'] = pd.to_datetime(df_wd2011T['datetime'])\n",
    "df_wd2011T = df_wd2011T.set_index('datetime')\n",
    "df_wd2011T = df_wd2011T[['wnd_dir','wnd_spd','wnd_gspd','wv_height','dom_wvp','av_wvp','mwd','atm_prs','air_temp','dew_temp','vis','tide']]\n",
    "df_wd2011T = df_wd2011T.rename_axis(None)\n",
    "df_wd2011T['wndrads'] = df_wd2011T['wnd_dir']*(np.pi/180)\n",
    "r = df_wd2011T['r_value'] = 1\n",
    "theta = df_wd2011T['wndrads']\n",
    "phi = df_wd2011T['wndrads']\n",
    "df_wd2011T['wd_north'] = r * np.sin(theta) * np.cos(phi)\n",
    "df_wd2011T['wd_east'] = r * np.sin(theta) * np.sin(phi)\n",
    "df_wd2011T = df_wd2011T.resample('h').mean()\n",
    "df_wd2011T.head()"
   ]
  },
  {
   "cell_type": "markdown",
   "metadata": {},
   "source": [
    "**c46036**"
   ]
  },
  {
   "cell_type": "code",
   "execution_count": null,
   "metadata": {},
   "outputs": [],
   "source": [
    "path = '/home/jovyan/data/covis_data/data2013/c46036WD.csv' \n",
    "df_wd2011C = pd.read_csv(path, sep=\",\")\n",
    "df_wd2011C.drop(['STN_ID','Q_FLAG','LATITUDE','LONGITUDE','DEPTH','VCAR','VTPK','VWH$','VCMX','VTP$','WSS$','WSS$.1','Unnamed: 23'], axis=1, inplace=True)\n",
    "df_wd2011C['datetime'] = df_wd2011C['DATE']\n",
    "df_wd2011C['datetime'] = pd.to_datetime(df_wd2011C['datetime'])\n",
    "df_wd2011C = df_wd2011C.set_index('datetime')\n",
    "df_wd2011C = df_wd2011C.rename_axis(None)\n",
    "df_wd2011C = df_wd2011C['2011-01-01 00:00:00' : \"2011-12-31 23:59:00\"]\n",
    "df_wd2011C['wndrads'] = df_wd2011C['WDIR']*(np.pi/180)\n",
    "df_wd2011C['wndrads2'] = df_wd2011C['WDIR.1']*(np.pi/180)\n",
    "r = df_wd2011C['r_value'] = 1\n",
    "theta = df_wd2011C['wndrads']\n",
    "phi = df_wd2011C['wndrads']\n",
    "df_wd2011C['wd_north'] = r * np.sin(theta) * np.cos(phi)\n",
    "df_wd2011C['wd_east'] = r * np.sin(theta) * np.sin(phi)\n",
    "theta1 = df_wd2011C['wndrads2']\n",
    "phi1 = df_wd2011C['wndrads2']\n",
    "df_wd2011C['wd_north2'] = r * np.sin(theta1) * np.cos(phi1)\n",
    "df_wd2011C['wd_east2'] = r * np.sin(theta1) * np.sin(phi1)\n",
    "df_wd2011C.drop(['r_value'], axis=1, inplace=True)\n",
    "df_wd2011C = df_wd2011C.resample('h').mean()\n",
    "df_wd2011C.head()"
   ]
  },
  {
   "cell_type": "markdown",
   "metadata": {},
   "source": [
    "## Buoy Data\n",
    "\n",
    "## 2010\n",
    "\n",
    "**October**"
   ]
  },
  {
   "cell_type": "code",
   "execution_count": null,
   "metadata": {},
   "outputs": [],
   "source": [
    "!echo 'date,inclination,azimuth,minimum,maximum,sum1,sum2' | cat - ~jovyan/data/covis_data/data20102011/octang10.dat > ~jovyan/data/covis_data/temp.txt\n",
    "!sed 's/ /,/g' ~jovyan/data/covis_data/temp.txt > ~jovyan/data/covis_data/data20102011/octang10.csv\n",
    "!rm ~jovyan/data/covis_data/temp*\n",
    "!head /home/jovyan/data/covis_data/data20102011/octang10.csv"
   ]
  },
  {
   "cell_type": "code",
   "execution_count": null,
   "metadata": {},
   "outputs": [],
   "source": [
    "path = '/home/jovyan/data/covis_data/data20102011/octang10.csv' \n",
    "df_oct2010 = pd.read_csv(path, sep=\",\")\n",
    "df_oct2010['year'] = '2010'\n",
    "df_oct2010['datetime'] = pd.to_datetime(df_oct2010.year, format='%Y') + pd.to_timedelta(df_oct2010.date - 1, unit='d')\n",
    "df_oct2010['datetime'] = df_oct2010['datetime'].dt.round('1s')\n",
    "df_oct2010 = df_oct2010.set_index('datetime')\n",
    "df_oct2010.drop(['date', 'year'], axis=1,inplace=True)\n",
    "df_oct2010 = df_oct2010.rename_axis(None)\n",
    "#fix for azimuth angle, 90 - azimuth then recomputation for any values that aren't in between 0 and 360 \n",
    "df_oct2010.azimuth = df_oct2010.azimuth.rsub(90)\n",
    "df_oct2010['azimuth'] %= 360 \n",
    "df_oct2010['minimum'] = pd.to_numeric(df_oct2010['minimum'], errors='coerce')\n",
    "df_oct2010['azirads'] = df_oct2010['azimuth']*(np.pi/180)\n",
    "df_oct2010['incrads'] = df_oct2010['inclination']*(np.pi/180)\n",
    "r = df_oct2010['r_value'] = 1\n",
    "theta = df_oct2010['azimuth']\n",
    "phi = df_oct2010['inclination']\n",
    "df_oct2010['rc_north'] = r * np.sin(theta) * np.cos(phi)\n",
    "df_oct2010['rc_east'] = r * np.sin(theta) * np.sin(phi)\n",
    "df_oct2010.drop(['r_value'], axis=1, inplace=True)\n",
    "df_oct2010 = df_oct2010.resample('h').mean().dropna()\n",
    "#df_oct2010 = df_oct2010['2010-09-01 00:00:00' : \"2010-09-31 23:59:00\"]\n",
    "df_oct2010"
   ]
  },
  {
   "cell_type": "code",
   "execution_count": null,
   "metadata": {},
   "outputs": [],
   "source": [
    "df_oct2010['inclination_category'] = pd.cut(df_oct2010['inclination'], bins=[0, 10, 40, 100], include_lowest=True, labels=['vertical', 'ordinary', 'extreme'])\n",
    "df_oct2010.hvplot.hist(y='inclination', by='inclination_category', bin_range=(0,95)).opts(fontsize={'xticks': 12.5, 'yticks': 12.5})"
   ]
  },
  {
   "cell_type": "code",
   "execution_count": null,
   "metadata": {},
   "outputs": [],
   "source": [
    "df_oct2010.inclination.hvplot.violin(by='index.day', title='October Inclination 2010')"
   ]
  },
  {
   "cell_type": "code",
   "execution_count": null,
   "metadata": {},
   "outputs": [],
   "source": [
    "df_oct2010.rc_north.hvplot.violin(by='index.day', title='October Azimuth North 2010',ylim=(-1, 1)).opts(fontsize={'xticks': 12, 'yticks': 12, 'title': 12, 'ylabel': 12, 'xlabel': 12}) * hv.HLine(0)"
   ]
  },
  {
   "cell_type": "code",
   "execution_count": null,
   "metadata": {},
   "outputs": [],
   "source": [
    "df_octwd2010T = df_wd2010T['2010-10-01 00:00:00' : \"2010-10-31 23:59:00\"]\n",
    "df_octwd2010T.head()"
   ]
  },
  {
   "cell_type": "code",
   "execution_count": null,
   "metadata": {},
   "outputs": [],
   "source": [
    "df_octwd2010C = df_wd2010C['2010-10-01 00:00:00' : \"2010-10-31 23:59:00\"]\n",
    "df_octwd2010C.head()"
   ]
  },
  {
   "cell_type": "code",
   "execution_count": null,
   "metadata": {},
   "outputs": [],
   "source": [
    "df_octwd2010T.wd_north.hvplot.violin(by='index.day') * hv.HLine(0)"
   ]
  },
  {
   "cell_type": "code",
   "execution_count": null,
   "metadata": {},
   "outputs": [],
   "source": [
    "df_octwd2010C.wd_north.hvplot.violin(by='index.day') * hv.HLine(0)"
   ]
  },
  {
   "cell_type": "code",
   "execution_count": null,
   "metadata": {},
   "outputs": [],
   "source": [
    "df_octwd2010C.wd_north2.hvplot.violin(by='index.day') * hv.HLine(0)"
   ]
  },
  {
   "cell_type": "markdown",
   "metadata": {},
   "source": [
    "## 2011\n",
    "**October**"
   ]
  },
  {
   "cell_type": "code",
   "execution_count": null,
   "metadata": {},
   "outputs": [],
   "source": [
    "!echo 'date,inclination,azimuth,minimum,maximum,sum1,sum2' | cat - ~jovyan/data/covis_data/data20102011/oct1st11.dat > ~jovyan/data/covis_data/temp.txt\n",
    "!sed 's/ /,/g' ~jovyan/data/covis_data/temp.txt > ~jovyan/data/covis_data/data20102011/oct1st11.csv\n",
    "!rm ~jovyan/data/covis_data/temp*\n",
    "!head /home/jovyan/data/covis_data/data20102011/oct1st11.csv"
   ]
  },
  {
   "cell_type": "code",
   "execution_count": null,
   "metadata": {},
   "outputs": [],
   "source": [
    "path = '/home/jovyan/data/covis_data/data20102011/oct1st11.csv' \n",
    "df_oct1 = pd.read_csv(path, sep=\",\")\n",
    "df_oct1['year'] = '2011'\n",
    "df_oct1['datetime'] = pd.to_datetime(df_oct1.year, format='%Y') + pd.to_timedelta(df_oct1.date - 1, unit='d')\n",
    "df_oct1['datetime'] = df_oct1['datetime'].dt.round('1s')\n",
    "df_oct1 = df_oct1.set_index('datetime')\n",
    "df_oct1.drop(['date', 'year'], axis=1,inplace=True)\n",
    "df_oct1 = df_oct1.rename_axis(None)\n",
    "#fix for azimuth angle, 90 - azimuth then recomputation for any values that aren't in between 0 and 360 \n",
    "df_oct1.azimuth = df_oct1.azimuth.rsub(90)\n",
    "df_oct1['azimuth'] %= 360 \n",
    "df_oct1['minimum'] = pd.to_numeric(df_oct1['minimum'], errors='coerce')\n",
    "df_oct1['azirads'] = df_oct1['azimuth']*(np.pi/180)\n",
    "df_oct1['incrads'] = df_oct1['inclination']*(np.pi/180)\n",
    "r = df_oct1['r_value'] = 1\n",
    "theta = df_oct1['azimuth']\n",
    "phi = df_oct1['inclination']\n",
    "df_oct1['rc_north'] = r * np.sin(theta) * np.cos(phi)\n",
    "df_oct1['rc_east'] = r * np.sin(theta) * np.sin(phi)\n",
    "df_oct1.drop(['r_value'], axis=1, inplace=True)\n",
    "df_oct1 = df_oct1.resample('h').mean().dropna()\n",
    "#df_oct1 = df_oct1['2012-01-01 00:00:00' : \"2012-01-31 23:59:00\"]\n",
    "df_oct1"
   ]
  },
  {
   "cell_type": "code",
   "execution_count": null,
   "metadata": {},
   "outputs": [],
   "source": [
    "!echo 'date,inclination,azimuth,minimum,maximum,sum1,sum2' | cat - ~jovyan/data/covis_data/data20102011/oct2411.dat > ~jovyan/data/covis_data/temp.txt\n",
    "!sed 's/ /,/g' ~jovyan/data/covis_data/temp.txt > ~jovyan/data/covis_data/data20102011/oct2411.csv\n",
    "!rm ~jovyan/data/covis_data/temp*\n",
    "!head /home/jovyan/data/covis_data/data20102011/oct2411.csv"
   ]
  },
  {
   "cell_type": "code",
   "execution_count": null,
   "metadata": {},
   "outputs": [],
   "source": [
    "path = '/home/jovyan/data/covis_data/data20102011/oct2411.csv' \n",
    "df_oct2 = pd.read_csv(path, sep=\",\")\n",
    "df_oct2['year'] = '2011'\n",
    "df_oct2['datetime'] = pd.to_datetime(df_oct2.year, format='%Y') + pd.to_timedelta(df_oct2.date - 1, unit='d')\n",
    "df_oct2['datetime'] = df_oct2['datetime'].dt.round('1s')\n",
    "df_oct2 = df_oct2.set_index('datetime')\n",
    "df_oct2.drop(['date', 'year'], axis=1,inplace=True)\n",
    "df_oct2 = df_oct2.rename_axis(None)\n",
    "#fix for azimuth angle, 90 - azimuth then recomputation for any values that aren't in between 0 and 360 \n",
    "df_oct2.azimuth = df_oct2.azimuth.rsub(90)\n",
    "df_oct2['azimuth'] %= 360 \n",
    "df_oct2['minimum'] = pd.to_numeric(df_oct2['minimum'], errors='coerce')\n",
    "df_oct2['azirads'] = df_oct2['azimuth']*(np.pi/180)\n",
    "df_oct2['incrads'] = df_oct2['inclination']*(np.pi/180)\n",
    "r = df_oct2['r_value'] = 1\n",
    "theta = df_oct2['azimuth']\n",
    "phi = df_oct2['inclination']\n",
    "df_oct2['rc_north'] = r * np.sin(theta) * np.cos(phi)\n",
    "df_oct2['rc_east'] = r * np.sin(theta) * np.sin(phi)\n",
    "df_oct2.drop(['r_value'], axis=1, inplace=True)\n",
    "df_oct2 = df_oct2.resample('h').mean().dropna()\n",
    "#df_oct1 = df_oct1['2012-01-01 00:00:00' : \"2012-01-31 23:59:00\"]\n",
    "df_oct2"
   ]
  },
  {
   "cell_type": "code",
   "execution_count": null,
   "metadata": {},
   "outputs": [],
   "source": [
    "!echo 'date,inclination,azimuth,minimum,maximum,sum1,sum2' | cat - ~jovyan/data/covis_data/data20102011/oct4811.dat > ~jovyan/data/covis_data/temp.txt\n",
    "!sed 's/ /,/g' ~jovyan/data/covis_data/temp.txt > ~jovyan/data/covis_data/data20102011/oct4811.csv\n",
    "!rm ~jovyan/data/covis_data/temp*\n",
    "!head /home/jovyan/data/covis_data/data20102011/oct4811.csv"
   ]
  },
  {
   "cell_type": "code",
   "execution_count": null,
   "metadata": {},
   "outputs": [],
   "source": [
    "path = '/home/jovyan/data/covis_data/data20102011/oct4811.csv' \n",
    "df_oct3 = pd.read_csv(path, sep=\",\")\n",
    "df_oct3['year'] = '2011'\n",
    "df_oct3['datetime'] = pd.to_datetime(df_oct3.year, format='%Y') + pd.to_timedelta(df_oct3.date - 1, unit='d')\n",
    "df_oct3['datetime'] = df_oct3['datetime'].dt.round('1s')\n",
    "df_oct3 = df_oct3.set_index('datetime')\n",
    "df_oct3.drop(['date', 'year'], axis=1,inplace=True)\n",
    "df_oct3 = df_oct3.rename_axis(None)\n",
    "#fix for azimuth angle, 90 - azimuth then recomputation for any values that aren't in between 0 and 360 \n",
    "df_oct3.azimuth = df_oct3.azimuth.rsub(90)\n",
    "df_oct3['azimuth'] %= 360 \n",
    "df_oct3['minimum'] = pd.to_numeric(df_oct3['minimum'], errors='coerce')\n",
    "df_oct3['azirads'] = df_oct3['azimuth']*(np.pi/180)\n",
    "df_oct3['incrads'] = df_oct3['inclination']*(np.pi/180)\n",
    "r = df_oct3['r_value'] = 1\n",
    "theta = df_oct3['azimuth']\n",
    "phi = df_oct3['inclination']\n",
    "df_oct3['rc_north'] = r * np.sin(theta) * np.cos(phi)\n",
    "df_oct3['rc_east'] = r * np.sin(theta) * np.sin(phi)\n",
    "df_oct3.drop(['r_value'], axis=1, inplace=True)\n",
    "df_oct3 = df_oct3.resample('h').mean().dropna()\n",
    "#df_oct1 = df_oct1['2012-01-01 00:00:00' : \"2012-01-31 23:59:00\"]\n",
    "df_oct3"
   ]
  },
  {
   "cell_type": "code",
   "execution_count": null,
   "metadata": {},
   "outputs": [],
   "source": [
    "!echo 'date,inclination,azimuth,minimum,maximum,sum1,sum2' | cat - ~jovyan/data/covis_data/data20102011/oct91511.dat > ~jovyan/data/covis_data/temp.txt\n",
    "!sed 's/ /,/g' ~jovyan/data/covis_data/temp.txt > ~jovyan/data/covis_data/data20102011/oct91511.csv\n",
    "!rm ~jovyan/data/covis_data/temp*\n",
    "!head /home/jovyan/data/covis_data/data20102011/oct91511.csv"
   ]
  },
  {
   "cell_type": "code",
   "execution_count": null,
   "metadata": {},
   "outputs": [],
   "source": [
    "path = '/home/jovyan/data/covis_data/data20102011/oct91511.csv' \n",
    "df_oct4 = pd.read_csv(path, sep=\",\")\n",
    "df_oct4['year'] = '2011'\n",
    "df_oct4['datetime'] = pd.to_datetime(df_oct4.year, format='%Y') + pd.to_timedelta(df_oct4.date - 1, unit='d')\n",
    "df_oct4['datetime'] = df_oct4['datetime'].dt.round('1s')\n",
    "df_oct4 = df_oct4.set_index('datetime')\n",
    "df_oct4.drop(['date', 'year'], axis=1,inplace=True)\n",
    "df_oct4 = df_oct4.rename_axis(None)\n",
    "#fix for azimuth angle, 90 - azimuth then recomputation for any values that aren't in between 0 and 360 \n",
    "df_oct4.azimuth = df_oct4.azimuth.rsub(90)\n",
    "df_oct4['azimuth'] %= 360 \n",
    "df_oct4['minimum'] = pd.to_numeric(df_oct4['minimum'], errors='coerce')\n",
    "df_oct4['azirads'] = df_oct4['azimuth']*(np.pi/180)\n",
    "df_oct4['incrads'] = df_oct4['inclination']*(np.pi/180)\n",
    "r = df_oct4['r_value'] = 1\n",
    "theta = df_oct4['azimuth']\n",
    "phi = df_oct4['inclination']\n",
    "df_oct4['rc_north'] = r * np.sin(theta) * np.cos(phi)\n",
    "df_oct4['rc_east'] = r * np.sin(theta) * np.sin(phi)\n",
    "df_oct4.drop(['r_value'], axis=1, inplace=True)\n",
    "df_oct4 = df_oct4.resample('h').mean().dropna()\n",
    "#df_oct1 = df_oct1['2012-01-01 00:00:00' : \"2012-01-31 23:59:00\"]\n",
    "df_oct4"
   ]
  },
  {
   "cell_type": "code",
   "execution_count": null,
   "metadata": {},
   "outputs": [],
   "source": [
    "!echo 'date,inclination,azimuth,minimum,maximum,sum1,sum2' | cat - ~jovyan/data/covis_data/data20102011/oct1611.dat > ~jovyan/data/covis_data/temp.txt\n",
    "!sed 's/ /,/g' ~jovyan/data/covis_data/temp.txt > ~jovyan/data/covis_data/data20102011/oct1611.csv\n",
    "!rm ~jovyan/data/covis_data/temp*\n",
    "!head /home/jovyan/data/covis_data/data20102011/oct1611.csv"
   ]
  },
  {
   "cell_type": "code",
   "execution_count": null,
   "metadata": {},
   "outputs": [],
   "source": [
    "path = '/home/jovyan/data/covis_data/data20102011/oct1611.csv' \n",
    "df_oct5 = pd.read_csv(path, sep=\",\")\n",
    "df_oct5['year'] = '2011'\n",
    "df_oct5['datetime'] = pd.to_datetime(df_oct5.year, format='%Y') + pd.to_timedelta(df_oct5.date - 1, unit='d')\n",
    "df_oct5['datetime'] = df_oct5['datetime'].dt.round('1s')\n",
    "df_oct5 = df_oct5.set_index('datetime')\n",
    "df_oct5.drop(['date', 'year'], axis=1,inplace=True)\n",
    "df_oct5 = df_oct5.rename_axis(None)\n",
    "#fix for azimuth angle, 90 - azimuth then recomputation for any values that aren't in between 0 and 360 \n",
    "df_oct5.azimuth = df_oct5.azimuth.rsub(90)\n",
    "df_oct5['azimuth'] %= 360 \n",
    "df_oct5['minimum'] = pd.to_numeric(df_oct5['minimum'], errors='coerce')\n",
    "df_oct5['azirads'] = df_oct5['azimuth']*(np.pi/180)\n",
    "df_oct5['incrads'] = df_oct5['inclination']*(np.pi/180)\n",
    "r = df_oct5['r_value'] = 1\n",
    "theta = df_oct5['azimuth']\n",
    "phi = df_oct5['inclination']\n",
    "df_oct5['rc_north'] = r * np.sin(theta) * np.cos(phi)\n",
    "df_oct5['rc_east'] = r * np.sin(theta) * np.sin(phi)\n",
    "df_oct5.drop(['r_value'], axis=1, inplace=True)\n",
    "df_oct5 = df_oct5.resample('h').mean().dropna()\n",
    "#df_oct1 = df_oct1['2012-01-01 00:00:00' : \"2012-01-31 23:59:00\"]\n",
    "df_oct5"
   ]
  },
  {
   "cell_type": "code",
   "execution_count": null,
   "metadata": {},
   "outputs": [],
   "source": [
    "df_oct2011 = pd.concat([df_oct1, df_oct2, df_oct3, df_oct4, df_oct5])\n",
    "df_oct2011"
   ]
  },
  {
   "cell_type": "code",
   "execution_count": null,
   "metadata": {},
   "outputs": [],
   "source": [
    "df_oct2011['inclination_category'] = pd.cut(df_oct2011['inclination'], bins=[0, 10, 40, 100], include_lowest=True, labels=['vertical', 'ordinary', 'extreme'])\n",
    "df_oct2011.hvplot.hist(y='inclination', by='inclination_category', bin_range=(0,95)).opts(fontsize={'xticks': 12.5, 'yticks': 12.5})"
   ]
  },
  {
   "cell_type": "code",
   "execution_count": null,
   "metadata": {},
   "outputs": [],
   "source": [
    "df_oct2011.inclination.hvplot.violin(by='index.day', title='October Inclination 2011')"
   ]
  },
  {
   "cell_type": "code",
   "execution_count": null,
   "metadata": {},
   "outputs": [],
   "source": [
    "df_oct2011.rc_north.hvplot.violin(by='index.day', title='October Azimuth North 2011',ylim=(-1, 1)).opts(fontsize={'xticks': 12, 'yticks': 12, 'title': 12, 'ylabel': 12, 'xlabel': 12}) * hv.HLine(0)"
   ]
  },
  {
   "cell_type": "code",
   "execution_count": null,
   "metadata": {},
   "outputs": [],
   "source": [
    "df_octwd2011T = df_wd2011T['2011-10-01 00:00:00' : \"2011-10-31 23:59:00\"]\n",
    "df_octwd2011T.head()"
   ]
  },
  {
   "cell_type": "code",
   "execution_count": null,
   "metadata": {},
   "outputs": [],
   "source": [
    "df_octwd2011C = df_wd2011C['2011-10-01 00:00:00' : \"2011-10-31 23:59:00\"]\n",
    "df_octwd2011C.head()"
   ]
  },
  {
   "cell_type": "code",
   "execution_count": null,
   "metadata": {},
   "outputs": [],
   "source": [
    "df_octwd2011T.wd_north.hvplot.violin(by='index.day') * hv.HLine(0)"
   ]
  },
  {
   "cell_type": "code",
   "execution_count": null,
   "metadata": {},
   "outputs": [],
   "source": [
    "df_octwd2011C.wd_north.hvplot.violin(by='index.day') * hv.HLine(0)"
   ]
  },
  {
   "cell_type": "code",
   "execution_count": null,
   "metadata": {},
   "outputs": [],
   "source": [
    "df_octwd2011C.wd_north2.hvplot.violin(by='index.day') * hv.HLine(0)"
   ]
  },
  {
   "cell_type": "markdown",
   "metadata": {},
   "source": [
    "**November**"
   ]
  },
  {
   "cell_type": "code",
   "execution_count": null,
   "metadata": {},
   "outputs": [],
   "source": [
    "!echo 'date,inclination,azimuth,minimum,maximum,sum1,sum2' | cat - ~jovyan/data/covis_data/data20102011/novang11.dat > ~jovyan/data/covis_data/temp.txt\n",
    "!sed 's/ /,/g' ~jovyan/data/covis_data/temp.txt > ~jovyan/data/covis_data/data20102011/novang11.csv\n",
    "!rm ~jovyan/data/covis_data/temp*\n",
    "!head /home/jovyan/data/covis_data/data20102011/novang11.csv"
   ]
  },
  {
   "cell_type": "code",
   "execution_count": null,
   "metadata": {},
   "outputs": [],
   "source": [
    "path = '/home/jovyan/data/covis_data/data20102011/novang11.csv' \n",
    "df_nov2011 = pd.read_csv(path, sep=\",\")\n",
    "df_nov2011['year'] = '2011'\n",
    "df_nov2011['datetime'] = pd.to_datetime(df_nov2011.year, format='%Y') + pd.to_timedelta(df_nov2011.date - 1, unit='d')\n",
    "df_nov2011['datetime'] = df_nov2011['datetime'].dt.round('1s')\n",
    "df_nov2011 = df_nov2011.set_index('datetime')\n",
    "df_nov2011.drop(['date', 'year'], axis=1,inplace=True)\n",
    "df_nov2011 = df_nov2011.rename_axis(None)\n",
    "#fix for azimuth angle, 90 - azimuth then recomputation for any values that aren't in between 0 and 360 \n",
    "df_nov2011.azimuth = df_nov2011.azimuth.rsub(90)\n",
    "df_nov2011['azimuth'] %= 360 \n",
    "df_nov2011['minimum'] = pd.to_numeric(df_nov2011['minimum'], errors='coerce')\n",
    "df_nov2011['azirads'] = df_nov2011['azimuth']*(np.pi/180)\n",
    "df_nov2011['incrads'] = df_nov2011['inclination']*(np.pi/180)\n",
    "r = df_nov2011['r_value'] = 1\n",
    "theta = df_nov2011['azimuth']\n",
    "phi = df_nov2011['inclination']\n",
    "df_nov2011['rc_north'] = r * np.sin(theta) * np.cos(phi)\n",
    "df_nov2011['rc_east'] = r * np.sin(theta) * np.sin(phi)\n",
    "df_nov2011.drop(['r_value'], axis=1, inplace=True)\n",
    "df_nov2011 = df_nov2011.resample('h').mean().dropna()\n",
    "#df_oct1 = df_oct1['2012-01-01 00:00:00' : \"2012-01-31 23:59:00\"]\n",
    "df_nov2011"
   ]
  },
  {
   "cell_type": "code",
   "execution_count": null,
   "metadata": {},
   "outputs": [],
   "source": [
    "df_nov2011['inclination_category'] = pd.cut(df_nov2011['inclination'], bins=[0, 10, 40, 100], include_lowest=True, labels=['vertical', 'ordinary', 'extreme'])\n",
    "df_nov2011.hvplot.hist(y='inclination', by='inclination_category', bin_range=(0,95)).opts(fontsize={'xticks': 12.5, 'yticks': 12.5})"
   ]
  },
  {
   "cell_type": "markdown",
   "metadata": {},
   "source": [
    "**December**"
   ]
  },
  {
   "cell_type": "code",
   "execution_count": null,
   "metadata": {},
   "outputs": [],
   "source": [
    "!echo 'date,inclination,azimuth,minimum,maximum,sum1,sum2' | cat - ~jovyan/data/covis_data/data20102011/decang11.dat > ~jovyan/data/covis_data/temp.txt\n",
    "!sed 's/ /,/g' ~jovyan/data/covis_data/temp.txt > ~jovyan/data/covis_data/data20102011/decang11.csv\n",
    "!rm ~jovyan/data/covis_data/temp*\n",
    "!head /home/jovyan/data/covis_data/data20102011/decang11.csv"
   ]
  },
  {
   "cell_type": "code",
   "execution_count": null,
   "metadata": {},
   "outputs": [],
   "source": [
    "path = '/home/jovyan/data/covis_data/data20102011/decang11.csv' \n",
    "df_dec2011 = pd.read_csv(path, sep=\",\")\n",
    "df_dec2011['year'] = '2011'\n",
    "df_dec2011['datetime'] = pd.to_datetime(df_dec2011.year, format='%Y') + pd.to_timedelta(df_dec2011.date - 1, unit='d')\n",
    "df_dec2011['datetime'] = df_dec2011['datetime'].dt.round('1s')\n",
    "df_dec2011 = df_dec2011.set_index('datetime')\n",
    "df_dec2011.drop(['date', 'year'], axis=1,inplace=True)\n",
    "df_dec2011 = df_dec2011.rename_axis(None)\n",
    "#fix for azimuth angle, 90 - azimuth then recomputation for any values that aren't in between 0 and 360 \n",
    "df_dec2011.azimuth = df_dec2011.azimuth.rsub(90)\n",
    "df_dec2011['azimuth'] %= 360 \n",
    "df_dec2011['minimum'] = pd.to_numeric(df_dec2011['minimum'], errors='coerce')\n",
    "df_dec2011['azirads'] = df_dec2011['azimuth']*(np.pi/180)\n",
    "df_dec2011['incrads'] = df_dec2011['inclination']*(np.pi/180)\n",
    "r = df_dec2011['r_value'] = 1\n",
    "theta = df_dec2011['azimuth']\n",
    "phi = df_dec2011['inclination']\n",
    "df_dec2011['rc_north'] = r * np.sin(theta) * np.cos(phi)\n",
    "df_dec2011['rc_east'] = r * np.sin(theta) * np.sin(phi)\n",
    "df_dec2011.drop(['r_value'], axis=1, inplace=True)\n",
    "df_dec2011 = df_dec2011.resample('h').mean().dropna()\n",
    "#df_oct1 = df_oct1['2012-01-01 00:00:00' : \"2012-01-31 23:59:00\"]\n",
    "df_dec2011"
   ]
  },
  {
   "cell_type": "code",
   "execution_count": null,
   "metadata": {},
   "outputs": [],
   "source": [
    "df_dec2011['inclination_category'] = pd.cut(df_dec2011['inclination'], bins=[0, 10, 40, 100], include_lowest=True, labels=['vertical', 'ordinary', 'extreme'])\n",
    "df_dec2011.hvplot.hist(y='inclination', by='inclination_category', bin_range=(0,95)).opts(fontsize={'xticks': 12.5, 'yticks': 12.5})"
   ]
  },
  {
   "cell_type": "markdown",
   "metadata": {},
   "source": [
    "## Yearly Plots\n",
    "**2010**"
   ]
  },
  {
   "cell_type": "code",
   "execution_count": null,
   "metadata": {},
   "outputs": [],
   "source": [
    "D2010T = pd.merge(df_oct2010, df_wd2010T,how='inner', indicator=True, left_index=True, right_index=True, suffixes=('_B', '_G'))\n",
    "df_D2010T = pd.DataFrame()\n",
    "df_D2010T = D2010T[D2010T['_merge'] == 'both']\n",
    "del df_D2010T['_merge']\n",
    "df_D2010T.drop(['r_value','dom_wvp','av_wvp','mwd','dew_temp','vis','tide'], axis=1, inplace=True)\n",
    "df_D2010T"
   ]
  },
  {
   "cell_type": "code",
   "execution_count": null,
   "metadata": {},
   "outputs": [],
   "source": [
    "D2010C = pd.merge(df_oct2010, df_wd2010C,how='inner', indicator=True, left_index=True, right_index=True, suffixes=('_B', '_G'))\n",
    "df_D2010C = pd.DataFrame()\n",
    "df_D2010C = D2010C[D2010C['_merge'] == 'both']\n",
    "del df_D2010C['_merge']\n",
    "df_D2010C"
   ]
  },
  {
   "cell_type": "code",
   "execution_count": null,
   "metadata": {},
   "outputs": [],
   "source": [
    "df_oct2010['inclination_category'] = pd.cut(df_oct2010['inclination'], bins=[0, 10, 40, 100], include_lowest=True, labels=['vertical', 'ordinary', 'extreme'])\n",
    "df_oct2010.hvplot.hist(y='inclination', by='inclination_category', title='2010', bin_range=(0, 95)).opts(fontsize={'xticks': 12.5, 'yticks': 12.5, 'title': 12.5})"
   ]
  },
  {
   "cell_type": "code",
   "execution_count": null,
   "metadata": {},
   "outputs": [],
   "source": [
    "plt.hist([df_oct2010['inclination']], bins = int(360/15), density=True)\n",
    "plt.xlabel('Inclination', fontsize='14')\n",
    "plt.ylabel('Normalized Frequency', fontsize='14')\n",
    "plt.title('2010 October Inclination', fontsize='16')\n",
    "plt.xlim(0, 90) \n",
    "plt.tight_layout()\n",
    "plt.savefig('/home/jovyan/Repos/AGU_2019/JoshFolder/2013Figs/HistInc10', dpi=300)\n",
    "plt.show()"
   ]
  },
  {
   "cell_type": "code",
   "execution_count": null,
   "metadata": {},
   "outputs": [],
   "source": [
    "degrees = df_oct2010['azimuth'].values\n",
    "radians = np.deg2rad(degrees)\n",
    "\n",
    "bin_size = 2\n",
    "a , b=np.histogram(degrees, bins=np.arange(0, 360+bin_size, bin_size))\n",
    "centers = np.deg2rad(np.ediff1d(b)//2 + b[:-1])\n",
    "\n",
    "fig = plt.figure(figsize=(10,8))\n",
    "ax = fig.add_subplot(111, projection='polar')\n",
    "ax.bar(centers, a, width=np.deg2rad(bin_size), bottom=0.0, color='cyan', edgecolor='k')\n",
    "ax.set_theta_zero_location(\"N\")\n",
    "ax.set_theta_direction(-1)\n",
    "plt.title('Azimuth 2010',fontsize='15')\n",
    "plt.rc('xtick', labelsize=20)\n",
    "plt.rc('ytick', labelsize=15)\n",
    "plt.savefig('/home/jovyan/Repos/AGU_2019/JoshFolder/2013Figs/azimuth2010')\n",
    "plt.show()"
   ]
  },
  {
   "cell_type": "code",
   "execution_count": null,
   "metadata": {},
   "outputs": [],
   "source": [
    "degrees = df_D2010T['wnd_dir'].values\n",
    "radians = np.deg2rad(degrees)\n",
    "\n",
    "bin_size = 2\n",
    "a , b=np.histogram(degrees, bins=np.arange(0, 360+bin_size, bin_size))\n",
    "centers = np.deg2rad(np.ediff1d(b)//2 + b[:-1])\n",
    "\n",
    "fig = plt.figure(figsize=(10,8))\n",
    "ax = fig.add_subplot(111, projection='polar')\n",
    "ax.bar(centers, a, width=np.deg2rad(bin_size), bottom=0.0, color='cyan', edgecolor='k')\n",
    "ax.set_theta_zero_location(\"N\")\n",
    "ax.set_theta_direction(-1)\n",
    "plt.title('Wind Direction 2010 Tillamook',fontsize='15')\n",
    "plt.rc('xtick', labelsize=20)\n",
    "plt.rc('ytick', labelsize=15)\n",
    "plt.savefig('/home/jovyan/Repos/AGU_2019/JoshFolder/2013Figs/wd2010T')\n",
    "plt.show()"
   ]
  },
  {
   "cell_type": "code",
   "execution_count": null,
   "metadata": {},
   "outputs": [],
   "source": [
    "df_octdec2010T = df_wd2010T['2010-10-01 00:00:00' : \"2010-12-31 23:59:00\"]\n",
    "\n",
    "degrees = df_octdec2010T['wnd_dir'].values\n",
    "radians = np.deg2rad(degrees)\n",
    "\n",
    "bin_size = 2\n",
    "a , b=np.histogram(degrees, bins=np.arange(0, 360+bin_size, bin_size))\n",
    "centers = np.deg2rad(np.ediff1d(b)//2 + b[:-1])\n",
    "\n",
    "fig = plt.figure(figsize=(10,8))\n",
    "ax = fig.add_subplot(111, projection='polar')\n",
    "ax.bar(centers, a, width=np.deg2rad(bin_size), bottom=0.0, color='cyan', edgecolor='k')\n",
    "ax.set_theta_zero_location(\"N\")\n",
    "ax.set_theta_direction(-1)\n",
    "plt.title('Wind Direction Oct to Dec 2010 Tillamook',fontsize='15')\n",
    "plt.rc('xtick', labelsize=20)\n",
    "plt.rc('ytick', labelsize=15)\n",
    "plt.savefig('/home/jovyan/Repos/AGU_2019/JoshFolder/2013Figs/wdoctdec2010T')\n",
    "plt.show()"
   ]
  },
  {
   "cell_type": "code",
   "execution_count": null,
   "metadata": {},
   "outputs": [],
   "source": [
    "degrees = df_wd2010T['wnd_dir'].values\n",
    "radians = np.deg2rad(degrees)\n",
    "\n",
    "bin_size = 2\n",
    "a , b=np.histogram(degrees, bins=np.arange(0, 360+bin_size, bin_size))\n",
    "centers = np.deg2rad(np.ediff1d(b)//2 + b[:-1])\n",
    "\n",
    "fig = plt.figure(figsize=(10,8))\n",
    "ax = fig.add_subplot(111, projection='polar')\n",
    "ax.bar(centers, a, width=np.deg2rad(bin_size), bottom=0.0, color='cyan', edgecolor='k')\n",
    "ax.set_theta_zero_location(\"N\")\n",
    "ax.set_theta_direction(-1)\n",
    "plt.title('Wind Direction 2010 Tillamook Full',fontsize='15')\n",
    "plt.rc('xtick', labelsize=20)\n",
    "plt.rc('ytick', labelsize=15)\n",
    "plt.savefig('/home/jovyan/Repos/AGU_2019/JoshFolder/2013Figs/wd2010TF')\n",
    "plt.show()"
   ]
  },
  {
   "cell_type": "code",
   "execution_count": null,
   "metadata": {},
   "outputs": [],
   "source": [
    "degrees = df_D2010C['WDIR'].values\n",
    "radians = np.deg2rad(degrees)\n",
    "\n",
    "bin_size = 2\n",
    "a , b=np.histogram(degrees, bins=np.arange(0, 360+bin_size, bin_size))\n",
    "centers = np.deg2rad(np.ediff1d(b)//2 + b[:-1])\n",
    "\n",
    "fig = plt.figure(figsize=(10,8))\n",
    "ax = fig.add_subplot(111, projection='polar')\n",
    "ax.bar(centers, a, width=np.deg2rad(bin_size), bottom=0.0, color='cyan', edgecolor='k')\n",
    "ax.set_theta_zero_location(\"N\")\n",
    "ax.set_theta_direction(-1)\n",
    "plt.title('Wind Direction 2010 c46036 1',fontsize='15')\n",
    "plt.rc('xtick', labelsize=20)\n",
    "plt.rc('ytick', labelsize=15)\n",
    "plt.savefig('/home/jovyan/Repos/AGU_2019/JoshFolder/2013Figs/wd2010C1')\n",
    "plt.show()"
   ]
  },
  {
   "cell_type": "code",
   "execution_count": null,
   "metadata": {},
   "outputs": [],
   "source": [
    "df_octdec2010C = df_wd2010C['2010-10-01 00:00:00' : \"2010-12-31 23:59:00\"]\n",
    "\n",
    "degrees = df_octdec2010C['WDIR'].values\n",
    "radians = np.deg2rad(degrees)\n",
    "\n",
    "bin_size = 2\n",
    "a , b=np.histogram(degrees, bins=np.arange(0, 360+bin_size, bin_size))\n",
    "centers = np.deg2rad(np.ediff1d(b)//2 + b[:-1])\n",
    "\n",
    "fig = plt.figure(figsize=(10,8))\n",
    "ax = fig.add_subplot(111, projection='polar')\n",
    "ax.bar(centers, a, width=np.deg2rad(bin_size), bottom=0.0, color='cyan', edgecolor='k')\n",
    "ax.set_theta_zero_location(\"N\")\n",
    "ax.set_theta_direction(-1)\n",
    "plt.title('Wind Direction Oct to Dec 2010 c46036 1',fontsize='15')\n",
    "plt.rc('xtick', labelsize=20)\n",
    "plt.rc('ytick', labelsize=15)\n",
    "plt.savefig('/home/jovyan/Repos/AGU_2019/JoshFolder/2013Figs/wdoctdec2010C1')\n",
    "plt.show()"
   ]
  },
  {
   "cell_type": "code",
   "execution_count": null,
   "metadata": {},
   "outputs": [],
   "source": [
    "degrees = df_wd2010C['WDIR'].values\n",
    "radians = np.deg2rad(degrees)\n",
    "\n",
    "bin_size = 2\n",
    "a , b=np.histogram(degrees, bins=np.arange(0, 360+bin_size, bin_size))\n",
    "centers = np.deg2rad(np.ediff1d(b)//2 + b[:-1])\n",
    "\n",
    "fig = plt.figure(figsize=(10,8))\n",
    "ax = fig.add_subplot(111, projection='polar')\n",
    "ax.bar(centers, a, width=np.deg2rad(bin_size), bottom=0.0, color='cyan', edgecolor='k')\n",
    "ax.set_theta_zero_location(\"N\")\n",
    "ax.set_theta_direction(-1)\n",
    "plt.title('Wind Direction 2010 c46036 1 Full',fontsize='15')\n",
    "plt.rc('xtick', labelsize=20)\n",
    "plt.rc('ytick', labelsize=15)\n",
    "plt.savefig('/home/jovyan/Repos/AGU_2019/JoshFolder/2013Figs/wd2010C1F')\n",
    "plt.show()"
   ]
  },
  {
   "cell_type": "code",
   "execution_count": null,
   "metadata": {},
   "outputs": [],
   "source": [
    "degrees = df_D2010C['WDIR.1'].values\n",
    "radians = np.deg2rad(degrees)\n",
    "\n",
    "bin_size = 2\n",
    "a , b=np.histogram(degrees, bins=np.arange(0, 360+bin_size, bin_size))\n",
    "centers = np.deg2rad(np.ediff1d(b)//2 + b[:-1])\n",
    "\n",
    "fig = plt.figure(figsize=(10,8))\n",
    "ax = fig.add_subplot(111, projection='polar')\n",
    "ax.bar(centers, a, width=np.deg2rad(bin_size), bottom=0.0, color='cyan', edgecolor='k')\n",
    "ax.set_theta_zero_location(\"N\")\n",
    "ax.set_theta_direction(-1)\n",
    "plt.title('Wind Direction 2010 c46036 2',fontsize='15')\n",
    "plt.rc('xtick', labelsize=20)\n",
    "plt.rc('ytick', labelsize=15)\n",
    "plt.savefig('/home/jovyan/Repos/AGU_2019/JoshFolder/2013Figs/wd2010C2')\n",
    "plt.show()"
   ]
  },
  {
   "cell_type": "code",
   "execution_count": null,
   "metadata": {},
   "outputs": [],
   "source": [
    "degrees = df_octdec2010C['WDIR.1'].values\n",
    "radians = np.deg2rad(degrees)\n",
    "\n",
    "bin_size = 2\n",
    "a , b=np.histogram(degrees, bins=np.arange(0, 360+bin_size, bin_size))\n",
    "centers = np.deg2rad(np.ediff1d(b)//2 + b[:-1])\n",
    "\n",
    "fig = plt.figure(figsize=(10,8))\n",
    "ax = fig.add_subplot(111, projection='polar')\n",
    "ax.bar(centers, a, width=np.deg2rad(bin_size), bottom=0.0, color='cyan', edgecolor='k')\n",
    "ax.set_theta_zero_location(\"N\")\n",
    "ax.set_theta_direction(-1)\n",
    "plt.title('Wind Direction Oct to Dec 2010 c46036 2',fontsize='15')\n",
    "plt.rc('xtick', labelsize=20)\n",
    "plt.rc('ytick', labelsize=15)\n",
    "plt.savefig('/home/jovyan/Repos/AGU_2019/JoshFolder/2013Figs/wdoctdec2010C2')\n",
    "plt.show()"
   ]
  },
  {
   "cell_type": "code",
   "execution_count": null,
   "metadata": {},
   "outputs": [],
   "source": [
    "degrees = df_wd2010C['WDIR.1'].values\n",
    "radians = np.deg2rad(degrees)\n",
    "\n",
    "bin_size = 2\n",
    "a , b=np.histogram(degrees, bins=np.arange(0, 360+bin_size, bin_size))\n",
    "centers = np.deg2rad(np.ediff1d(b)//2 + b[:-1])\n",
    "\n",
    "fig = plt.figure(figsize=(10,8))\n",
    "ax = fig.add_subplot(111, projection='polar')\n",
    "ax.bar(centers, a, width=np.deg2rad(bin_size), bottom=0.0, color='cyan', edgecolor='k')\n",
    "ax.set_theta_zero_location(\"N\")\n",
    "ax.set_theta_direction(-1)\n",
    "plt.title('Wind Direction 2010 c46036 2 Full',fontsize='15')\n",
    "plt.rc('xtick', labelsize=20)\n",
    "plt.rc('ytick', labelsize=15)\n",
    "plt.savefig('/home/jovyan/Repos/AGU_2019/JoshFolder/2013Figs/wd2010C2F')\n",
    "plt.show()"
   ]
  },
  {
   "cell_type": "code",
   "execution_count": null,
   "metadata": {},
   "outputs": [],
   "source": [
    "df_D2010ex=df_oct2010.loc[df_oct2010['inclination']>40]\n",
    "df_D2010ex.head(100)"
   ]
  },
  {
   "cell_type": "code",
   "execution_count": null,
   "metadata": {},
   "outputs": [],
   "source": [
    "degrees = df_D2010ex['azimuth'].values\n",
    "radians = np.deg2rad(degrees)\n",
    "\n",
    "bin_size = 2\n",
    "a , b=np.histogram(degrees, bins=np.arange(0, 360+bin_size, bin_size))\n",
    "centers = np.deg2rad(np.ediff1d(b)//2 + b[:-1])\n",
    "\n",
    "fig = plt.figure(figsize=(10,8))\n",
    "ax = fig.add_subplot(111, projection='polar')\n",
    "ax.bar(centers, a, width=np.deg2rad(bin_size), bottom=0.0, color='cyan', edgecolor='k')\n",
    "ax.set_theta_zero_location(\"N\")\n",
    "ax.set_theta_direction(-1)\n",
    "plt.title('Extreme Azimuth 2010',fontsize='15')\n",
    "plt.rc('xtick', labelsize=20)\n",
    "plt.rc('ytick', labelsize=15)\n",
    "plt.savefig('/home/jovyan/Repos/AGU_2019/JoshFolder/2013Figs/extazi2010')\n",
    "plt.show()"
   ]
  },
  {
   "cell_type": "code",
   "execution_count": null,
   "metadata": {},
   "outputs": [],
   "source": [
    "df_D2010T.inclination.hvplot.violin(by='index.month')"
   ]
  },
  {
   "cell_type": "code",
   "execution_count": null,
   "metadata": {},
   "outputs": [],
   "source": [
    "(df_D2010T.rc_north.hvplot.violin(by='index.month', title='Azimuth North 2010',ylim=(-1, 1)).opts(fontsize={'xticks': 12, 'yticks': 12, 'title': 12, 'ylabel': 12, 'xlabel': 12}) * hv.HLine(0) +\n",
    " df_D2010T.wd_north.hvplot.violin(by='index.month', title='Tillamook Wind Direction North 2010') * hv.HLine(0)).cols(1)"
   ]
  },
  {
   "cell_type": "markdown",
   "metadata": {},
   "source": [
    "**2011**"
   ]
  },
  {
   "cell_type": "code",
   "execution_count": null,
   "metadata": {},
   "outputs": [],
   "source": [
    "df_D2011 = pd.concat([df_oct2011, df_nov2011, df_dec2011])\n",
    "df_D2011"
   ]
  },
  {
   "cell_type": "code",
   "execution_count": null,
   "metadata": {},
   "outputs": [],
   "source": [
    "D2011T = pd.merge(df_D2011, df_wd2011T,how='inner', indicator=True, left_index=True, right_index=True, suffixes=('_B', '_G'))\n",
    "df_D2011T = pd.DataFrame()\n",
    "df_D2011T = D2011T[D2011T['_merge'] == 'both']\n",
    "del df_D2011T['_merge']\n",
    "df_D2011T.drop(['r_value','dom_wvp','av_wvp','mwd','dew_temp','vis','tide'], axis=1, inplace=True)\n",
    "df_D2011T"
   ]
  },
  {
   "cell_type": "code",
   "execution_count": null,
   "metadata": {},
   "outputs": [],
   "source": [
    "D2011C = pd.merge(df_D2011, df_wd2011C,how='inner', indicator=True, left_index=True, right_index=True, suffixes=('_B', '_G'))\n",
    "df_D2011C = pd.DataFrame()\n",
    "df_D2011C = D2011C[D2011C['_merge'] == 'both']\n",
    "del df_D2011C['_merge']\n",
    "df_D2011C"
   ]
  },
  {
   "cell_type": "code",
   "execution_count": null,
   "metadata": {},
   "outputs": [],
   "source": [
    "df_D2011['inclination_category'] = pd.cut(df_D2011['inclination'], bins=[0, 10, 40, 100], include_lowest=True, labels=['vertical', 'ordinary', 'extreme'])\n",
    "df_D2011.hvplot.hist(y='inclination', by='inclination_category', title='2011', bin_range=(0, 95)).opts(fontsize={'xticks': 12.5, 'yticks': 12.5, 'title': 12.5})"
   ]
  },
  {
   "cell_type": "code",
   "execution_count": null,
   "metadata": {},
   "outputs": [],
   "source": [
    "plt.hist([df_D2011['inclination']], bins = int(360/15), density=True, rwidth = 1)\n",
    "plt.xlabel('Inclination', fontsize='14')\n",
    "plt.ylabel('Normalized Frequency', fontsize='14')\n",
    "plt.title('2011 Inclination', fontsize='16')\n",
    "plt.xlim(0, 90) \n",
    "plt.tight_layout()\n",
    "plt.savefig('/home/jovyan/Repos/AGU_2019/JoshFolder/2013Figs/HistInc11', dpi=300)\n",
    "plt.show()"
   ]
  },
  {
   "cell_type": "code",
   "execution_count": null,
   "metadata": {},
   "outputs": [],
   "source": [
    "degrees = df_D2011T['azimuth'].values\n",
    "radians = np.deg2rad(degrees)\n",
    "\n",
    "bin_size = 2\n",
    "a , b=np.histogram(degrees, bins=np.arange(0, 360+bin_size, bin_size))\n",
    "centers = np.deg2rad(np.ediff1d(b)//2 + b[:-1])\n",
    "\n",
    "fig = plt.figure(figsize=(10,8))\n",
    "ax = fig.add_subplot(111, projection='polar')\n",
    "ax.bar(centers, a, width=np.deg2rad(bin_size), bottom=0.0, color='cyan', edgecolor='k')\n",
    "ax.set_theta_zero_location(\"N\")\n",
    "ax.set_theta_direction(-1)\n",
    "plt.title('Azimuth 2011',fontsize='15')\n",
    "plt.rc('xtick', labelsize=20)\n",
    "plt.rc('ytick', labelsize=15)\n",
    "plt.savefig('/home/jovyan/Repos/AGU_2019/JoshFolder/2013Figs/azimuth2011')\n",
    "plt.show()"
   ]
  },
  {
   "cell_type": "code",
   "execution_count": null,
   "metadata": {},
   "outputs": [],
   "source": [
    "degrees = df_oct2011['azimuth'].values\n",
    "radians = np.deg2rad(degrees)\n",
    "\n",
    "bin_size = 2\n",
    "a , b=np.histogram(degrees, bins=np.arange(0, 360+bin_size, bin_size))\n",
    "centers = np.deg2rad(np.ediff1d(b)//2 + b[:-1])\n",
    "\n",
    "fig = plt.figure(figsize=(10,8))\n",
    "ax = fig.add_subplot(111, projection='polar')\n",
    "ax.bar(centers, a, width=np.deg2rad(bin_size), bottom=0.0, color='cyan', edgecolor='k')\n",
    "ax.set_theta_zero_location(\"N\")\n",
    "ax.set_theta_direction(-1)\n",
    "plt.title('Ocotber Azimuth 2011',fontsize='15')\n",
    "plt.rc('xtick', labelsize=20)\n",
    "plt.rc('ytick', labelsize=15)\n",
    "plt.savefig('/home/jovyan/Repos/AGU_2019/JoshFolder/2013Figs/octazimuth2011')\n",
    "plt.show()"
   ]
  },
  {
   "cell_type": "code",
   "execution_count": null,
   "metadata": {},
   "outputs": [],
   "source": [
    "degrees = df_D2011T['wnd_dir'].values\n",
    "radians = np.deg2rad(degrees)\n",
    "\n",
    "bin_size = 2\n",
    "a , b=np.histogram(degrees, bins=np.arange(0, 360+bin_size, bin_size))\n",
    "centers = np.deg2rad(np.ediff1d(b)//2 + b[:-1])\n",
    "\n",
    "fig = plt.figure(figsize=(10,8))\n",
    "ax = fig.add_subplot(111, projection='polar')\n",
    "ax.bar(centers, a, width=np.deg2rad(bin_size), bottom=0.0, color='cyan', edgecolor='k')\n",
    "ax.set_theta_zero_location(\"N\")\n",
    "ax.set_theta_direction(-1)\n",
    "plt.title('Wind Direction 2011 Tillamook',fontsize='15')\n",
    "plt.rc('xtick', labelsize=20)\n",
    "plt.rc('ytick', labelsize=15)\n",
    "plt.savefig('/home/jovyan/Repos/AGU_2019/JoshFolder/2013Figs/wd2011T')\n",
    "plt.show()"
   ]
  },
  {
   "cell_type": "code",
   "execution_count": null,
   "metadata": {},
   "outputs": [],
   "source": [
    "degrees = df_wd2011T['wnd_dir'].values\n",
    "radians = np.deg2rad(degrees)\n",
    "\n",
    "bin_size = 2\n",
    "a , b=np.histogram(degrees, bins=np.arange(0, 360+bin_size, bin_size))\n",
    "centers = np.deg2rad(np.ediff1d(b)//2 + b[:-1])\n",
    "\n",
    "fig = plt.figure(figsize=(10,8))\n",
    "ax = fig.add_subplot(111, projection='polar')\n",
    "ax.bar(centers, a, width=np.deg2rad(bin_size), bottom=0.0, color='cyan', edgecolor='k')\n",
    "ax.set_theta_zero_location(\"N\")\n",
    "ax.set_theta_direction(-1)\n",
    "plt.title('Wind Direction 2011 Tillamook Full',fontsize='15')\n",
    "plt.rc('xtick', labelsize=20)\n",
    "plt.rc('ytick', labelsize=15)\n",
    "plt.savefig('/home/jovyan/Repos/AGU_2019/JoshFolder/2013Figs/wd2011TF')\n",
    "plt.show()"
   ]
  },
  {
   "cell_type": "code",
   "execution_count": null,
   "metadata": {},
   "outputs": [],
   "source": [
    "degrees = df_octwd2011T['wnd_dir'].values\n",
    "radians = np.deg2rad(degrees)\n",
    "\n",
    "bin_size = 2\n",
    "a , b=np.histogram(degrees, bins=np.arange(0, 360+bin_size, bin_size))\n",
    "centers = np.deg2rad(np.ediff1d(b)//2 + b[:-1])\n",
    "\n",
    "fig = plt.figure(figsize=(10,8))\n",
    "ax = fig.add_subplot(111, projection='polar')\n",
    "ax.bar(centers, a, width=np.deg2rad(bin_size), bottom=0.0, color='cyan', edgecolor='k')\n",
    "ax.set_theta_zero_location(\"N\")\n",
    "ax.set_theta_direction(-1)\n",
    "plt.title('October Wind Direction 2011 Tillamook',fontsize='15')\n",
    "plt.rc('xtick', labelsize=20)\n",
    "plt.rc('ytick', labelsize=15)\n",
    "plt.savefig('/home/jovyan/Repos/AGU_2019/JoshFolder/2013Figs/octwd2011T')\n",
    "plt.show()"
   ]
  },
  {
   "cell_type": "code",
   "execution_count": null,
   "metadata": {},
   "outputs": [],
   "source": [
    "degrees = df_D2011C['WDIR'].values\n",
    "radians = np.deg2rad(degrees)\n",
    "\n",
    "bin_size = 2\n",
    "a , b=np.histogram(degrees, bins=np.arange(0, 360+bin_size, bin_size))\n",
    "centers = np.deg2rad(np.ediff1d(b)//2 + b[:-1])\n",
    "\n",
    "fig = plt.figure(figsize=(10,8))\n",
    "ax = fig.add_subplot(111, projection='polar')\n",
    "ax.bar(centers, a, width=np.deg2rad(bin_size), bottom=0.0, color='cyan', edgecolor='k')\n",
    "ax.set_theta_zero_location(\"N\")\n",
    "ax.set_theta_direction(-1)\n",
    "plt.title('Wind Direction 2011 c46036 1',fontsize='15')\n",
    "plt.rc('xtick', labelsize=20)\n",
    "plt.rc('ytick', labelsize=15)\n",
    "plt.savefig('/home/jovyan/Repos/AGU_2019/JoshFolder/2013Figs/wd2011C1')\n",
    "plt.show()"
   ]
  },
  {
   "cell_type": "code",
   "execution_count": null,
   "metadata": {},
   "outputs": [],
   "source": [
    "degrees = df_wd2011C['WDIR'].values\n",
    "radians = np.deg2rad(degrees)\n",
    "\n",
    "bin_size = 2\n",
    "a , b=np.histogram(degrees, bins=np.arange(0, 360+bin_size, bin_size))\n",
    "centers = np.deg2rad(np.ediff1d(b)//2 + b[:-1])\n",
    "\n",
    "fig = plt.figure(figsize=(10,8))\n",
    "ax = fig.add_subplot(111, projection='polar')\n",
    "ax.bar(centers, a, width=np.deg2rad(bin_size), bottom=0.0, color='cyan', edgecolor='k')\n",
    "ax.set_theta_zero_location(\"N\")\n",
    "ax.set_theta_direction(-1)\n",
    "plt.title('Wind Direction 2011 c46036 1 Full',fontsize='15')\n",
    "plt.rc('xtick', labelsize=20)\n",
    "plt.rc('ytick', labelsize=15)\n",
    "plt.savefig('/home/jovyan/Repos/AGU_2019/JoshFolder/2013Figs/wd2011C1F')\n",
    "plt.show()"
   ]
  },
  {
   "cell_type": "code",
   "execution_count": null,
   "metadata": {},
   "outputs": [],
   "source": [
    "degrees = df_octwd2011C['WDIR'].values\n",
    "radians = np.deg2rad(degrees)\n",
    "\n",
    "bin_size = 2\n",
    "a , b=np.histogram(degrees, bins=np.arange(0, 360+bin_size, bin_size))\n",
    "centers = np.deg2rad(np.ediff1d(b)//2 + b[:-1])\n",
    "\n",
    "fig = plt.figure(figsize=(10,8))\n",
    "ax = fig.add_subplot(111, projection='polar')\n",
    "ax.bar(centers, a, width=np.deg2rad(bin_size), bottom=0.0, color='cyan', edgecolor='k')\n",
    "ax.set_theta_zero_location(\"N\")\n",
    "ax.set_theta_direction(-1)\n",
    "plt.title('October Wind Direction 2011 c46036 1',fontsize='15')\n",
    "plt.rc('xtick', labelsize=20)\n",
    "plt.rc('ytick', labelsize=15)\n",
    "plt.savefig('/home/jovyan/Repos/AGU_2019/JoshFolder/2013Figs/octwd2011C1')\n",
    "plt.show()"
   ]
  },
  {
   "cell_type": "code",
   "execution_count": null,
   "metadata": {},
   "outputs": [],
   "source": [
    "degrees = df_D2011C['WDIR.1'].values\n",
    "radians = np.deg2rad(degrees)\n",
    "\n",
    "bin_size = 2\n",
    "a , b=np.histogram(degrees, bins=np.arange(0, 360+bin_size, bin_size))\n",
    "centers = np.deg2rad(np.ediff1d(b)//2 + b[:-1])\n",
    "\n",
    "fig = plt.figure(figsize=(10,8))\n",
    "ax = fig.add_subplot(111, projection='polar')\n",
    "ax.bar(centers, a, width=np.deg2rad(bin_size), bottom=0.0, color='cyan', edgecolor='k')\n",
    "ax.set_theta_zero_location(\"N\")\n",
    "ax.set_theta_direction(-1)\n",
    "plt.title('Wind Direction 2011 c46036 2',fontsize='15')\n",
    "plt.rc('xtick', labelsize=20)\n",
    "plt.rc('ytick', labelsize=15)\n",
    "plt.savefig('/home/jovyan/Repos/AGU_2019/JoshFolder/2013Figs/wd2011C2')\n",
    "plt.show()"
   ]
  },
  {
   "cell_type": "code",
   "execution_count": null,
   "metadata": {},
   "outputs": [],
   "source": [
    "degrees = df_wd2011C['WDIR.1'].values\n",
    "radians = np.deg2rad(degrees)\n",
    "\n",
    "bin_size = 2\n",
    "a , b=np.histogram(degrees, bins=np.arange(0, 360+bin_size, bin_size))\n",
    "centers = np.deg2rad(np.ediff1d(b)//2 + b[:-1])\n",
    "\n",
    "fig = plt.figure(figsize=(10,8))\n",
    "ax = fig.add_subplot(111, projection='polar')\n",
    "ax.bar(centers, a, width=np.deg2rad(bin_size), bottom=0.0, color='cyan', edgecolor='k')\n",
    "ax.set_theta_zero_location(\"N\")\n",
    "ax.set_theta_direction(-1)\n",
    "plt.title('Wind Direction 2011 c46036 2 Full',fontsize='15')\n",
    "plt.rc('xtick', labelsize=20)\n",
    "plt.rc('ytick', labelsize=15)\n",
    "plt.savefig('/home/jovyan/Repos/AGU_2019/JoshFolder/2013Figs/wd2011C2F')\n",
    "plt.show()"
   ]
  },
  {
   "cell_type": "code",
   "execution_count": null,
   "metadata": {},
   "outputs": [],
   "source": [
    "degrees = df_octwd2011C['WDIR.1'].values\n",
    "radians = np.deg2rad(degrees)\n",
    "\n",
    "bin_size = 2\n",
    "a , b=np.histogram(degrees, bins=np.arange(0, 360+bin_size, bin_size))\n",
    "centers = np.deg2rad(np.ediff1d(b)//2 + b[:-1])\n",
    "\n",
    "fig = plt.figure(figsize=(10,8))\n",
    "ax = fig.add_subplot(111, projection='polar')\n",
    "ax.bar(centers, a, width=np.deg2rad(bin_size), bottom=0.0, color='cyan', edgecolor='k')\n",
    "ax.set_theta_zero_location(\"N\")\n",
    "ax.set_theta_direction(-1)\n",
    "plt.title('October Wind Direction 2011 c46036 2',fontsize='15')\n",
    "plt.rc('xtick', labelsize=20)\n",
    "plt.rc('ytick', labelsize=15)\n",
    "plt.savefig('/home/jovyan/Repos/AGU_2019/JoshFolder/2013Figs/octwd2011C2')\n",
    "plt.show()"
   ]
  },
  {
   "cell_type": "code",
   "execution_count": null,
   "metadata": {},
   "outputs": [],
   "source": [
    "df_D2011ex=df_D2011T.loc[df_D2011T['inclination']>40]\n",
    "df_D2011ex.head(100)"
   ]
  },
  {
   "cell_type": "code",
   "execution_count": null,
   "metadata": {},
   "outputs": [],
   "source": [
    "degrees = df_D2011ex['azimuth'].values\n",
    "radians = np.deg2rad(degrees)\n",
    "\n",
    "bin_size = 2\n",
    "a , b=np.histogram(degrees, bins=np.arange(0, 360+bin_size, bin_size))\n",
    "centers = np.deg2rad(np.ediff1d(b)//2 + b[:-1])\n",
    "\n",
    "fig = plt.figure(figsize=(10,8))\n",
    "ax = fig.add_subplot(111, projection='polar')\n",
    "ax.bar(centers, a, width=np.deg2rad(bin_size), bottom=0.0, color='cyan', edgecolor='k')\n",
    "ax.set_theta_zero_location(\"N\")\n",
    "ax.set_theta_direction(-1)\n",
    "plt.title('Extreme Azimuth 2011',fontsize='15')\n",
    "plt.rc('xtick', labelsize=20)\n",
    "plt.rc('ytick', labelsize=15)\n",
    "plt.savefig('/home/jovyan/Repos/AGU_2019/JoshFolder/2013Figs/extazi2011')\n",
    "plt.show()"
   ]
  },
  {
   "cell_type": "code",
   "execution_count": null,
   "metadata": {},
   "outputs": [],
   "source": [
    "df_D2011T.inclination.hvplot.violin(by='index.month')"
   ]
  },
  {
   "cell_type": "code",
   "execution_count": null,
   "metadata": {},
   "outputs": [],
   "source": [
    "(df_D2011T.rc_north.hvplot.violin(by='index.month', title='Azimuth North 2011',ylim=(-1, 1)).opts(fontsize={'xticks': 12, 'yticks': 12, 'title': 12, 'ylabel': 12, 'xlabel': 12}) * hv.HLine(0) +\n",
    " df_D2011T.wd_north.hvplot.violin(by='index.month', title='Tillamook Wind Direction North 2011') * hv.HLine(0)).cols(1)"
   ]
  },
  {
   "cell_type": "code",
   "execution_count": null,
   "metadata": {},
   "outputs": [],
   "source": []
  },
  {
   "cell_type": "code",
   "execution_count": null,
   "metadata": {},
   "outputs": [],
   "source": []
  }
 ],
 "metadata": {
  "kernelspec": {
   "display_name": "Python 3",
   "language": "python",
   "name": "python3"
  },
  "language_info": {
   "codemirror_mode": {
    "name": "ipython",
    "version": 3
   },
   "file_extension": ".py",
   "mimetype": "text/x-python",
   "name": "python",
   "nbconvert_exporter": "python",
   "pygments_lexer": "ipython3",
   "version": "3.7.8"
  }
 },
 "nbformat": 4,
 "nbformat_minor": 4
}
