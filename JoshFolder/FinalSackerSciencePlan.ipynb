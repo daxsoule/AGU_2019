{
 "cells": [
  {
   "cell_type": "markdown",
   "metadata": {},
   "source": [
    "# Science Plan\n",
    "\n",
    "Objective - test hypothesis that weather events can affect the bottom currents that control the bending and rise heights of Hydrothermal plumes \n",
    "\n",
    "Mostly copied from the New Sacker Science Plan notebook, however this notebook reduces what is present to only the most important data and figures for the poster. Many of the missing figures can be found in the New Sacker Science Plan notebook for reference. "
   ]
  },
  {
   "cell_type": "code",
   "execution_count": null,
   "metadata": {},
   "outputs": [],
   "source": [
    "import numpy as np\n",
    "import matplotlib.pyplot as plt\n",
    "%matplotlib inline\n",
    "from mpl_toolkits import mplot3d\n",
    "import pandas as pd\n",
    "from datetime import datetime\n",
    "import seaborn as sns\n",
    "import hvplot.pandas\n",
    "import holoviews as hv\n",
    "from holoviews import dim, opts\n",
    "hv.extension('bokeh')"
   ]
  },
  {
   "cell_type": "markdown",
   "metadata": {},
   "source": [
    "## Step One - Find Some Data\n",
    "\n",
    "* Check out the loaded zip file. It contains plume bending data (direction of bending and magnitude of bending), vertical velocity in the plume, a vent temperature data file, and some weather data.  Note these files contain data for two time frames - Oct 2010 and Oct to Dec 2011. \n",
    "    i. BendData*.txt - these two files are the basic bending data - three columns = {direction as angle from north, bending magnitude as angle from vertical, julian date}\n",
    "    ii. Other files are .mat format so Dax or I may need to help with these. I’ll try to load more information on them soon.\n",
    "* I also loaded two powerpoints of talks that came out of the pilot study.  Some of the material is irrelevant.\n",
    "* I don’t have a handy tidal data file -- bottom current and pressure from tides -- but this should exist at least as model data\n",
    "* At Ocean Networks Canada’s NEPTUNE observatory, they had current meters (ADCP) at a regional circulation mooring about 1 km N to NE of the COVIS site that collected data in Oct 2010 and in late 2011 to early 2012. \n",
    "* I did include the weather data I found. This came from the NOAA and National Weather Center’s records.  Feel free to do your own hunt for data!\n",
    "* At some point, you might want the actual grids of COVIS data.  Right now most data is in Matlab’s .mat format and takes a bit of processing to get images, centerlines, and bending data.  But this will be useful to lengthen the data series (COVIS took data in Oct 2010 and form Oct 2011 to some time in late 2014 or early 2015).\n",
    "\n",
    "**New bending data (angles.partialpts_2010/2011.dat) have replaced the BendData files. This bending data as initially ingested contains two angles:**\n",
    "\n",
    "**1. inclination - which is the angle from the vertical (positive z-axis)**\n",
    "\n",
    "**2. azimuth - which is the counterclockwise angle from the postive x-axis (standard for polar coordinate systems)**"
   ]
  },
  {
   "cell_type": "markdown",
   "metadata": {},
   "source": [
    "## Recomputed Plume Bending Data \n",
    "\n",
    "**2010**"
   ]
  },
  {
   "cell_type": "code",
   "execution_count": null,
   "metadata": {},
   "outputs": [],
   "source": [
    "!echo 'date,inclination,azimuth' | cat - ~jovyan/data/covis_data/recomputed/angles_partialpts_2010.dat > ~jovyan/data/covis_data/temp.txt\n",
    "!sed 's/ /,/g' ~jovyan/data/covis_data/temp.txt > ~jovyan/data/covis_data/recomputed/angles_partialpts_2010.csv\n",
    "!rm ~jovyan/data/covis_data/temp*\n",
    "!head /home/jovyan/data/covis_data/recomputed/angles_partialpts_2010.csv"
   ]
  },
  {
   "cell_type": "code",
   "execution_count": null,
   "metadata": {},
   "outputs": [],
   "source": [
    "path = '/home/jovyan/data/covis_data/recomputed/angles_partialpts_2010.csv' \n",
    "df_rc2010 = pd.read_csv(path, sep=\",\")\n",
    "df_rc2010['year'] = '2010'\n",
    "df_rc2010['datetime'] = pd.to_datetime(df_rc2010.year, format='%Y') + pd.to_timedelta(df_rc2010.date - 1, unit='d')\n",
    "df_rc2010['datetime'] = df_rc2010['datetime'].dt.round('1s')\n",
    "df_rc2010 = df_rc2010.set_index('datetime')\n",
    "df_rc2010.drop(['date', 'year'], axis=1,inplace=True)\n",
    "df_rc2010 = df_rc2010.rename_axis(None)\n",
    "#fix for azimuth angle, 90 - azimuth then recomputation for any values that aren't in between 0 and 360 \n",
    "df_rc2010.azimuth = df_rc2010.azimuth.rsub(90)\n",
    "df_rc2010['azimuth'] %= 360 \n",
    "df_rc2010 = df_rc2010.resample('h').mean()\n",
    "df_rc2010.head(20)"
   ]
  },
  {
   "cell_type": "code",
   "execution_count": null,
   "metadata": {},
   "outputs": [],
   "source": [
    "#not resampled version (nr)\n",
    "path = '/home/jovyan/data/covis_data/recomputed/angles_partialpts_2010.csv' \n",
    "df_nrrc2010 = pd.read_csv(path, sep=\",\")\n",
    "df_nrrc2010['year'] = '2010'\n",
    "df_nrrc2010['datetime'] = pd.to_datetime(df_nrrc2010.year, format='%Y') + pd.to_timedelta(df_nrrc2010.date - 1, unit='d')\n",
    "df_nrrc2010['datetime'] = df_nrrc2010['datetime'].dt.round('1s')\n",
    "df_nrrc2010 = df_nrrc2010.set_index('datetime')\n",
    "df_nrrc2010.drop(['date', 'year'], axis=1,inplace=True)\n",
    "df_nrrc2010 = df_nrrc2010.rename_axis(None)\n",
    "#fix for azimuth angle, 90 - azimuth then recomputation for any values that aren't in between 0 and 360 \n",
    "df_nrrc2010.azimuth = df_nrrc2010.azimuth.rsub(90)\n",
    "df_nrrc2010['azimuth'] %= 360 \n",
    "df_nrrc2010.head(20)"
   ]
  },
  {
   "cell_type": "markdown",
   "metadata": {},
   "source": [
    "**2011**"
   ]
  },
  {
   "cell_type": "code",
   "execution_count": null,
   "metadata": {},
   "outputs": [],
   "source": [
    "!echo 'date,inclination,azimuth' | cat - ~jovyan/data/covis_data/recomputed/angles_partialpts_2011.dat > ~jovyan/data/covis_data/temp.txt\n",
    "!sed 's/ /,/g' ~jovyan/data/covis_data/temp.txt > ~jovyan/data/covis_data/recomputed/angles_partialpts_2011.csv\n",
    "!rm ~jovyan/data/covis_data/temp*\n",
    "!head /home/jovyan/data/covis_data/recomputed/angles_partialpts_2011.csv"
   ]
  },
  {
   "cell_type": "code",
   "execution_count": null,
   "metadata": {},
   "outputs": [],
   "source": [
    "path = '/home/jovyan/data/covis_data/recomputed/angles_partialpts_2011.csv' \n",
    "df_rc2011 = pd.read_csv(path, sep=\",\")\n",
    "df_rc2011['year'] = '2011'\n",
    "df_rc2011['datetime'] = pd.to_datetime(df_rc2011.year, format='%Y') + pd.to_timedelta(df_rc2011.date - 1, unit='d')\n",
    "df_rc2011['datetime'] = df_rc2011['datetime'].dt.round('1s')\n",
    "df_rc2011 = df_rc2011.set_index('datetime')\n",
    "df_rc2011.drop(['date', 'year'], axis=1,inplace=True)\n",
    "df_rc2011 = df_rc2011.rename_axis(None)\n",
    "#fix for azimuth angle, 90 - azimuth then recomputation for any values that aren't in between 0 and 360\n",
    "df_rc2011.azimuth = df_rc2011.azimuth.rsub(90)\n",
    "df_rc2011['azimuth'] %= 360 \n",
    "df_rc2011 = df_rc2011.resample('h').mean()\n",
    "df_rc2011.head(3)"
   ]
  },
  {
   "cell_type": "code",
   "execution_count": null,
   "metadata": {},
   "outputs": [],
   "source": [
    "#not resampled version (nr)\n",
    "path = '/home/jovyan/data/covis_data/recomputed/angles_partialpts_2011.csv' \n",
    "df_nrrc2011 = pd.read_csv(path, sep=\",\")\n",
    "df_nrrc2011['year'] = '2011'\n",
    "df_nrrc2011['datetime'] = pd.to_datetime(df_nrrc2011.year, format='%Y') + pd.to_timedelta(df_nrrc2011.date - 1, unit='d')\n",
    "df_nrrc2011['datetime'] = df_nrrc2011['datetime'].dt.round('1s')\n",
    "df_nrrc2011 = df_nrrc2011.set_index('datetime')\n",
    "df_nrrc2011.drop(['date', 'year'], axis=1,inplace=True)\n",
    "#fix for azimuth angle, 90 - azimuth then recomputation for any values that aren't in between 0 and 360\n",
    "df_nrrc2011 = df_nrrc2011.rename_axis(None)\n",
    "df_nrrc2011.azimuth = df_nrrc2011.azimuth.rsub(90)\n",
    "df_nrrc2011['azimuth'] %= 360 \n",
    "df_nrrc2011.head(3)"
   ]
  },
  {
   "cell_type": "markdown",
   "metadata": {},
   "source": [
    "## Weather Data\n",
    "\n",
    "(weather_data_for_plotting*.txt files)\n",
    "\n",
    " An explanation of the variable names can be found at https://www.ndbc.noaa.gov/measdes.shtml\n",
    "\n",
    "13 variables (Year, Month, Day, Hour, Minute, Seconds, Julian day, wave height, wind direction, wind speed, wind gust speed, atmospheric pressure, air temperature)\n",
    "\n",
    "separator = single blank space\n",
    "\n",
    "Notes:\n",
    "1. Time is given both as a vector (from original data file probably) and as a Julian day.\n",
    "2. No information on other units by m/s likely for speeds.  Rest should match the NOAA information.  \n",
    "3. I probably still have the original NOAA data files for these buoys. I'll see if I can match data files to the time periods; my directories seemed a little confused. "
   ]
  },
  {
   "cell_type": "markdown",
   "metadata": {},
   "source": [
    "**2010 C46036**"
   ]
  },
  {
   "cell_type": "code",
   "execution_count": null,
   "metadata": {},
   "outputs": [],
   "source": [
    "!rm ~jovyan/data/covis_data/weather_data_for_plotting_2010_C46036.csv\n",
    "!echo 'year,month,day,hour,minute,seconds,jday,wv_height,wnd_dir,wnd_spd,wnd_gspd,atm_prs,air_temp' | cat - ~jovyan/data/covis_data/weather_data_for_plotting_2010_C46036.txt > ~jovyan/data/covis_data/temp.txt\n",
    "!sed 's/   /,/g' ~jovyan/data/covis_data/temp.txt > ~jovyan/data/covis_data/temp1.txt\n",
    "!sed 's/^,//' <~jovyan/data/covis_data/temp1.txt >~jovyan/data/covis_data/weather_data_for_plotting_2010_C46036.csv\n",
    "!rm ~jovyan/data/covis_data/temp*"
   ]
  },
  {
   "cell_type": "code",
   "execution_count": null,
   "metadata": {},
   "outputs": [],
   "source": [
    "path = '/home/jovyan/data/covis_data/weather_data_for_plotting_2010_C46036.csv' \n",
    "df_wd2010c46036 = pd.read_csv(path, sep=\",\")\n",
    "df_wd2010c46036['year']= df_wd2010c46036['year'].astype(int).astype(str)\n",
    "df_wd2010c46036['month']= df_wd2010c46036['month'].astype(int).astype(str).str.pad(width=2, side='left', fillchar='0')\n",
    "df_wd2010c46036['day']= df_wd2010c46036['day'].astype(int).astype(str).str.pad(width=2, side='left', fillchar='0')\n",
    "df_wd2010c46036['hour']= df_wd2010c46036['hour'].astype(int).astype(str).str.pad(width=2, side='left', fillchar='0')\n",
    "df_wd2010c46036['minute']=df_wd2010c46036['minute'].astype(int).astype(str).str.pad(width=2, side='left', fillchar='0')\n",
    "df_wd2010c46036['datetime'] = df_wd2010c46036['year'] + df_wd2010c46036['month'] + df_wd2010c46036['day'] +\\\n",
    "'T' + df_wd2010c46036['hour']+ ':' + df_wd2010c46036['minute']\n",
    "df_wd2010c46036['datetime'] = pd.to_datetime(df_wd2010c46036['datetime'])\n",
    "df_wd2010c46036 = df_wd2010c46036.set_index('datetime')\n",
    "df_wd2010c46036 = df_wd2010c46036[['jday', 'wv_height', 'wnd_dir', 'wnd_spd', 'wnd_gspd', 'atm_prs', 'air_temp']]\n",
    "df_wd2010c46036 = df_wd2010c46036.rename_axis(None)\n",
    "df_wd2010c46036 = df_wd2010c46036.resample('h').mean()\n",
    "df_wd2010c46036"
   ]
  },
  {
   "cell_type": "markdown",
   "metadata": {},
   "source": [
    "**2011 C46036**"
   ]
  },
  {
   "cell_type": "code",
   "execution_count": null,
   "metadata": {},
   "outputs": [],
   "source": [
    "!rm ~jovyan/data/covis_data/weather_data_for_plotting_2011_C46036.csv\n",
    "!echo 'year,month,day,hour,minute,seconds,jday,wv_height,wnd_dir,wnd_spd,wnd_gspd,atm_prs,air_temp' | cat - ~jovyan/data/covis_data/weather_data_for_plotting_2011_C46036.txt > ~jovyan/data/covis_data/temp.txt\n",
    "!sed 's/   /,/g' ~jovyan/data/covis_data/temp.txt > ~jovyan/data/covis_data/temp1.txt\n",
    "!sed 's/^,//' <~jovyan/data/covis_data/temp1.txt >~jovyan/data/covis_data/weather_data_for_plotting_2011_C46036.csv\n",
    "!rm ~jovyan/data/covis_data/temp*"
   ]
  },
  {
   "cell_type": "code",
   "execution_count": null,
   "metadata": {},
   "outputs": [],
   "source": [
    "path = '/home/jovyan/data/covis_data/weather_data_for_plotting_2011_C46036.csv'\n",
    "df_wd2011c46036 = pd.read_csv(path, sep=\",\")\n",
    "df_wd2011c46036['year']= df_wd2011c46036['year'].astype(int).astype(str)\n",
    "df_wd2011c46036['month']= df_wd2011c46036['month'].astype(int).astype(str).str.pad(width=2, side='left', fillchar='0')\n",
    "df_wd2011c46036['day']= df_wd2011c46036['day'].astype(int).astype(str).str.pad(width=2, side='left', fillchar='0')\n",
    "df_wd2011c46036['hour']= df_wd2011c46036['hour'].astype(int).astype(str).str.pad(width=2, side='left', fillchar='0')\n",
    "df_wd2011c46036['minute']=df_wd2011c46036['minute'].astype(int).astype(str).str.pad(width=2, side='left', fillchar='0')\n",
    "df_wd2011c46036['datetime'] = df_wd2011c46036['year'] + df_wd2011c46036['month'] + df_wd2011c46036['day'] +\\\n",
    "'T' + df_wd2011c46036['hour']+ ':' + df_wd2011c46036['minute']\n",
    "df_wd2011c46036['datetime'] = pd.to_datetime(df_wd2011c46036['datetime'])\n",
    "df_wd2011c46036 = df_wd2011c46036.set_index('datetime')\n",
    "df_wd2011c46036 = df_wd2011c46036[['jday', 'wv_height', 'wnd_dir', 'wnd_spd', 'wnd_gspd', 'atm_prs', 'air_temp']]\n",
    "df_wd2011c46036 = df_wd2011c46036.rename_axis(None)\n",
    "df_wd2011c46036 = df_wd2011c46036.resample('h').mean()\n",
    "df_wd2011c46036"
   ]
  },
  {
   "cell_type": "markdown",
   "metadata": {},
   "source": [
    "**2010 Tillamook**"
   ]
  },
  {
   "cell_type": "code",
   "execution_count": null,
   "metadata": {},
   "outputs": [],
   "source": [
    "!head ~jovyan/data/covis_data/weather_data_for_plotting_2010_Tillamook.txt"
   ]
  },
  {
   "cell_type": "code",
   "execution_count": null,
   "metadata": {},
   "outputs": [],
   "source": [
    "!rm ~jovyan/data/covis_data/weather_data_for_plotting_2010_Tillamook.csv\n",
    "!echo 'year,month,day,hour,minute,seconds,jday,wv_height,wnd_dir,wnd_spd,wnd_gspd,atm_prs,air_temp' | cat - ~jovyan/data/covis_data/weather_data_for_plotting_2010_Tillamook.txt > ~jovyan/data/covis_data/temp.txt\n",
    "!sed 's/   /,/g' ~jovyan/data/covis_data/temp.txt > ~jovyan/data/covis_data/temp1.txt\n",
    "!sed 's/,,,,/,/g' ~jovyan/data/covis_data/temp1.txt > ~jovyan/data/covis_data/temp2.txt\n",
    "!sed 's/^,//' <~jovyan/data/covis_data/temp2.txt >~jovyan/data/covis_data/weather_data_for_plotting_2010_Tillamook.csv\n",
    "!rm ~jovyan/data/covis_data/temp*\n",
    "!head ~jovyan/data/covis_data/weather_data_for_plotting_2010_Tillamook.csv"
   ]
  },
  {
   "cell_type": "code",
   "execution_count": null,
   "metadata": {},
   "outputs": [],
   "source": [
    "path = '/home/jovyan/data/covis_data/weather_data_for_plotting_2010_Tillamook.csv' \n",
    "df_wd2010Tillamook = pd.read_csv(path, sep=\",\")\n",
    "df_wd2010Tillamook['year']= df_wd2010Tillamook['year'].astype(int).astype(str)\n",
    "df_wd2010Tillamook['month']= df_wd2010Tillamook['month'].astype(int).astype(str).str.pad(width=2, side='left', fillchar='0')\n",
    "df_wd2010Tillamook['day']= df_wd2010Tillamook['day'].astype(int).astype(str).str.pad(width=2, side='left', fillchar='0')\n",
    "df_wd2010Tillamook['hour']= df_wd2010Tillamook['hour'].astype(int).astype(str).str.pad(width=2, side='left', fillchar='0')\n",
    "df_wd2010Tillamook['minute']=df_wd2010Tillamook['minute'].astype(int).astype(str).str.pad(width=2, side='left', fillchar='0')\n",
    "df_wd2010Tillamook['wv_height'] = df_wd2010Tillamook['wv_height'].astype('float64')\n",
    "df_wd2010Tillamook['wnd_dir'] = df_wd2010Tillamook['wnd_dir'].astype('float64')\n",
    "df_wd2010Tillamook['wnd_spd'] = df_wd2010Tillamook['wnd_spd'].astype('float64')\n",
    "df_wd2010Tillamook['wnd_gspd'] = df_wd2010Tillamook['wnd_gspd'].astype('float64')\n",
    "df_wd2010Tillamook['atm_prs'] = df_wd2010Tillamook['atm_prs'].astype('float64')\n",
    "df_wd2010Tillamook['air_temp'] = df_wd2010Tillamook['air_temp'].astype('float64')\n",
    "df_wd2010Tillamook['datetime'] = df_wd2010Tillamook['year'] + df_wd2010Tillamook['month'] + df_wd2010Tillamook['day'] +\\\n",
    "'T' + df_wd2010Tillamook['hour']+ ':' + df_wd2010Tillamook['minute']\n",
    "df_wd2010Tillamook['datetime'] = pd.to_datetime(df_wd2010Tillamook['datetime'])\n",
    "df_wd2010Tillamook = df_wd2010Tillamook.set_index('datetime')\n",
    "df_wd2010Tillamook = df_wd2010Tillamook[['jday', 'wv_height', 'wnd_dir', 'wnd_spd', 'wnd_gspd', 'atm_prs', 'air_temp']]\n",
    "df_wd2010Tillamook = df_wd2010Tillamook.rename_axis(None)\n",
    "df_wd2010Tillamook = df_wd2010Tillamook.resample('h').mean()\n",
    "df_wd2010Tillamook"
   ]
  },
  {
   "cell_type": "markdown",
   "metadata": {},
   "source": [
    "**2011 Tillamook**"
   ]
  },
  {
   "cell_type": "code",
   "execution_count": null,
   "metadata": {},
   "outputs": [],
   "source": [
    "!head ~jovyan/data/covis_data/weather_data_for_plotting_2011_Tillamook.txt"
   ]
  },
  {
   "cell_type": "code",
   "execution_count": null,
   "metadata": {},
   "outputs": [],
   "source": [
    "!rm ~jovyan/data/covis_data/weather_data_for_plotting_2011_Tillamook.csv\n",
    "!echo 'year,month,day,hour,minute,seconds,jday,wv_height,wnd_dir,wnd_spd,wnd_gspd,atm_prs,air_temp' | cat - ~jovyan/data/covis_data/weather_data_for_plotting_2011_Tillamook.txt > ~jovyan/data/covis_data/temp.txt\n",
    "!sed 's/   /,/g' ~jovyan/data/covis_data/temp.txt > ~jovyan/data/covis_data/temp1.txt\n",
    "!sed 's/,,,,/,/g' ~jovyan/data/covis_data/temp1.txt > ~jovyan/data/covis_data/temp2.txt\n",
    "!sed 's/  /,/g' ~jovyan/data/covis_data/temp2.txt > ~jovyan/data/covis_data/temp3.txt\n",
    "!sed 's/^,//' <~jovyan/data/covis_data/temp3.txt >~jovyan/data/covis_data/weather_data_for_plotting_2011_Tillamook.csv\n",
    "!rm ~jovyan/data/covis_data/temp*\n",
    "!head ~jovyan/data/covis_data/weather_data_for_plotting_2011_Tillamook.csv"
   ]
  },
  {
   "cell_type": "code",
   "execution_count": null,
   "metadata": {},
   "outputs": [],
   "source": [
    "path = '/home/jovyan/data/covis_data/weather_data_for_plotting_2011_Tillamook.csv' \n",
    "df_wd2011Tillamook = pd.read_csv(path, sep=\",\", engine='python')\n",
    "df_wd2011Tillamook= df_wd2011Tillamook.dropna()\n",
    "df_wd2011Tillamook['year']= df_wd2011Tillamook['year'].astype(int).astype(str)\n",
    "df_wd2011Tillamook['month']= df_wd2011Tillamook['month'].astype(int).astype(str).str.pad(width=2, side='left', fillchar='0')\n",
    "df_wd2011Tillamook['day']= df_wd2011Tillamook['day'].astype(int).astype(str).str.pad(width=2, side='left', fillchar='0')\n",
    "df_wd2011Tillamook['hour']= df_wd2011Tillamook['hour'].astype(int).astype(str).str.pad(width=2, side='left', fillchar='0')\n",
    "df_wd2011Tillamook['minute']=df_wd2011Tillamook['minute'].astype(int).astype(str).str.pad(width=2, side='left', fillchar='0')\n",
    "df_wd2011Tillamook['wv_height'] = df_wd2011Tillamook['wv_height'].astype('float64')\n",
    "df_wd2011Tillamook['wnd_dir'] = df_wd2011Tillamook['wnd_dir'].astype('float64')\n",
    "df_wd2011Tillamook['wnd_spd'] = df_wd2011Tillamook['wnd_spd'].astype('float64')\n",
    "df_wd2011Tillamook['wnd_gspd'] = df_wd2011Tillamook['wnd_gspd'].astype('float64')\n",
    "df_wd2011Tillamook['atm_prs'] = df_wd2011Tillamook['atm_prs'].astype('float64')\n",
    "df_wd2011Tillamook['air_temp'] = df_wd2011Tillamook['air_temp'].astype('float64')\n",
    "df_wd2011Tillamook['datetime'] = df_wd2011Tillamook['year'] + df_wd2011Tillamook['month'] + df_wd2011Tillamook['day'] +\\\n",
    "'T' + df_wd2011Tillamook['hour']+ ':' + df_wd2011Tillamook['minute']\n",
    "df_wd2011Tillamook['datetime'] = pd.to_datetime(df_wd2011Tillamook['datetime'])\n",
    "df_wd2011Tillamook = df_wd2011Tillamook.set_index('datetime')\n",
    "df_wd2011Tillamook = df_wd2011Tillamook[['jday', 'wv_height', 'wnd_dir', 'wnd_spd', 'wnd_gspd', 'atm_prs', 'air_temp']]\n",
    "df_wd2011Tillamook = df_wd2011Tillamook.rename_axis(None)\n",
    "df_wd2011Tillamook = df_wd2011Tillamook.resample('h').mean()\n",
    "df_wd2011Tillamook.head()"
   ]
  },
  {
   "cell_type": "markdown",
   "metadata": {},
   "source": [
    "## **2010**\n",
    "\n",
    "## Recomputed Plume Bending Data and C46036 Weather Data"
   ]
  },
  {
   "cell_type": "code",
   "execution_count": null,
   "metadata": {},
   "outputs": [],
   "source": [
    "rc2010c = pd.merge(df_wd2010c46036, df_rc2010,how='inner', indicator=True, left_index=True, right_index=True, suffixes=('_B', '_G'))"
   ]
  },
  {
   "cell_type": "code",
   "execution_count": null,
   "metadata": {},
   "outputs": [],
   "source": [
    "df_covis_rc2010c = pd.DataFrame()\n",
    "df_covis_rc2010c = rc2010c[rc2010c['_merge'] == 'both']\n",
    "del df_covis_rc2010c['_merge']\n",
    "df_covis_rc2010c = df_covis_rc2010c.dropna()\n",
    "del df_covis_rc2010c['jday']\n",
    "df_covis_rc2010c.head()"
   ]
  },
  {
   "cell_type": "code",
   "execution_count": null,
   "metadata": {},
   "outputs": [],
   "source": [
    "df_covis_rc2010c.describe()"
   ]
  },
  {
   "cell_type": "markdown",
   "metadata": {},
   "source": [
    "**Histograms**"
   ]
  },
  {
   "cell_type": "code",
   "execution_count": null,
   "metadata": {},
   "outputs": [],
   "source": [
    "df_covis_rc2010c.hvplot.hist(y='azimuth')"
   ]
  },
  {
   "cell_type": "code",
   "execution_count": null,
   "metadata": {},
   "outputs": [],
   "source": [
    "degrees = df_covis_rc2010c['azimuth'].values\n",
    "radians = np.deg2rad(degrees)\n",
    "\n",
    "bin_size = 2\n",
    "a , b=np.histogram(degrees, bins=np.arange(0, 360+bin_size, bin_size))\n",
    "centers = np.deg2rad(np.ediff1d(b)//2 + b[:-1])\n",
    "\n",
    "fig = plt.figure(figsize=(10,8))\n",
    "ax = fig.add_subplot(111, projection='polar')\n",
    "ax.bar(centers, a, width=np.deg2rad(bin_size), bottom=0.0, color='cyan', edgecolor='k')\n",
    "ax.set_theta_zero_location(\"N\")\n",
    "ax.set_theta_direction(-1)\n",
    "plt.show()"
   ]
  },
  {
   "cell_type": "code",
   "execution_count": null,
   "metadata": {},
   "outputs": [],
   "source": [
    "df_covis_rc2010c['inclination_category'] = pd.cut(df_covis_rc2010c['inclination'], bins=[0, 10, 40, 60], include_lowest=True, labels=['vertical', 'ordinary', 'extreme'])\n",
    "df_covis_rc2010c.hvplot.hist(y='inclination', by='inclination_category')"
   ]
  },
  {
   "cell_type": "markdown",
   "metadata": {},
   "source": [
    "**Violin Plots**"
   ]
  },
  {
   "cell_type": "code",
   "execution_count": null,
   "metadata": {},
   "outputs": [],
   "source": [
    "df_covis_rc2010c.inclination.hvplot.violin(by='index.day')"
   ]
  },
  {
   "cell_type": "code",
   "execution_count": null,
   "metadata": {},
   "outputs": [],
   "source": [
    "day2010c=df_covis_rc2010c.index.day\n",
    "i2010c=df_covis_rc2010c['inclination']\n",
    "sns.violinplot(day2010c, i2010c)"
   ]
  },
  {
   "cell_type": "code",
   "execution_count": null,
   "metadata": {},
   "outputs": [],
   "source": [
    "plt.violinplot(i2010c, showmeans=True, showextrema=True, showmedians=False)"
   ]
  },
  {
   "cell_type": "markdown",
   "metadata": {},
   "source": [
    "**Cross Correlation**"
   ]
  },
  {
   "cell_type": "code",
   "execution_count": null,
   "metadata": {},
   "outputs": [],
   "source": [
    "df_covis_rc2010c.corr()"
   ]
  },
  {
   "cell_type": "markdown",
   "metadata": {},
   "source": [
    "## Recomputed Plume Bending Data and Tillamook Weather Data\n",
    "\n",
    "***Dropna() command results in no dataframe being shown***"
   ]
  },
  {
   "cell_type": "code",
   "execution_count": null,
   "metadata": {},
   "outputs": [],
   "source": [
    "rc2010T = pd.merge(df_wd2010Tillamook, df_rc2010,how='inner', indicator=True, left_index=True, right_index=True, suffixes=('_B', '_G'))"
   ]
  },
  {
   "cell_type": "code",
   "execution_count": null,
   "metadata": {},
   "outputs": [],
   "source": [
    "df_covis_rc2010T = pd.DataFrame()\n",
    "df_covis_rc2010T = rc2010T[rc2010T['_merge'] == 'both']\n",
    "del df_covis_rc2010T['_merge']\n",
    "#df_covis_rc2010c = df_covis_rc2010c.dropna(axis=1,how='all')\n",
    "#df_covis_rc2010T = df_covis_rc2010T.dropna()\n",
    "del df_covis_rc2010T['jday']\n",
    "df_covis_rc2010T.head(20)"
   ]
  },
  {
   "cell_type": "code",
   "execution_count": null,
   "metadata": {},
   "outputs": [],
   "source": [
    "df_covis_rc2010T.describe()"
   ]
  },
  {
   "cell_type": "markdown",
   "metadata": {},
   "source": [
    "**Histograms**"
   ]
  },
  {
   "cell_type": "code",
   "execution_count": null,
   "metadata": {},
   "outputs": [],
   "source": [
    "df_covis_rc2010T.hvplot.hist(y='azimuth')"
   ]
  },
  {
   "cell_type": "code",
   "execution_count": null,
   "metadata": {},
   "outputs": [],
   "source": [
    "degrees = df_covis_rc2010T['azimuth'].values\n",
    "radians = np.deg2rad(degrees)\n",
    "\n",
    "bin_size = 2\n",
    "a , b=np.histogram(degrees, bins=np.arange(0, 360+bin_size, bin_size))\n",
    "centers = np.deg2rad(np.ediff1d(b)//2 + b[:-1])\n",
    "\n",
    "fig = plt.figure(figsize=(10,8))\n",
    "ax = fig.add_subplot(111, projection='polar')\n",
    "ax.bar(centers, a, width=np.deg2rad(bin_size), bottom=0.0, color='cyan', edgecolor='k')\n",
    "ax.set_theta_zero_location(\"N\")\n",
    "ax.set_theta_direction(-1)\n",
    "plt.show()"
   ]
  },
  {
   "cell_type": "code",
   "execution_count": null,
   "metadata": {},
   "outputs": [],
   "source": [
    "df_covis_rc2010T['inclination_category'] = pd.cut(df_covis_rc2010T['inclination'], bins=[0, 10, 40, 60], include_lowest=True, labels=['vertical', 'ordinary', 'extreme'])\n",
    "df_covis_rc2010T.hvplot.hist(y='inclination', by='inclination_category')"
   ]
  },
  {
   "cell_type": "markdown",
   "metadata": {},
   "source": [
    "***Violin plots are the same from above (2010 C46036)***"
   ]
  },
  {
   "cell_type": "markdown",
   "metadata": {},
   "source": [
    "**Cross Correlation**"
   ]
  },
  {
   "cell_type": "code",
   "execution_count": null,
   "metadata": {},
   "outputs": [],
   "source": [
    "df_covis_rc2010T.corr()"
   ]
  },
  {
   "cell_type": "markdown",
   "metadata": {},
   "source": [
    "## **2011**\n",
    "\n",
    "## Recomputed Plume Bending Data and C46036 Weather Data"
   ]
  },
  {
   "cell_type": "code",
   "execution_count": null,
   "metadata": {},
   "outputs": [],
   "source": [
    "rc2011c = pd.merge(df_wd2011c46036, df_rc2011,how='inner', indicator=True, left_index=True, right_index=True, suffixes=('_B', '_G'))"
   ]
  },
  {
   "cell_type": "code",
   "execution_count": null,
   "metadata": {},
   "outputs": [],
   "source": [
    "df_covis_rc2011c = pd.DataFrame()\n",
    "df_covis_rc2011c = rc2011c[rc2011c['_merge'] == 'both']\n",
    "del df_covis_rc2011c['_merge']\n",
    "df_covis_rc2011c = df_covis_rc2011c.dropna()\n",
    "del df_covis_rc2011c['jday']\n",
    "df_covis_rc2011c.head()"
   ]
  },
  {
   "cell_type": "code",
   "execution_count": null,
   "metadata": {},
   "outputs": [],
   "source": [
    "df_covis_rc2011c.describe()"
   ]
  },
  {
   "cell_type": "markdown",
   "metadata": {},
   "source": [
    "**Histograms**"
   ]
  },
  {
   "cell_type": "code",
   "execution_count": null,
   "metadata": {},
   "outputs": [],
   "source": [
    "df_covis_rc2011c.hvplot.hist(y='azimuth')"
   ]
  },
  {
   "cell_type": "code",
   "execution_count": null,
   "metadata": {},
   "outputs": [],
   "source": [
    "degrees = df_covis_rc2011c['azimuth'].values\n",
    "radians = np.deg2rad(degrees)\n",
    "\n",
    "bin_size = 2\n",
    "a , b=np.histogram(degrees, bins=np.arange(0, 360+bin_size, bin_size))\n",
    "centers = np.deg2rad(np.ediff1d(b)//2 + b[:-1])\n",
    "\n",
    "fig = plt.figure(figsize=(10,8))\n",
    "ax = fig.add_subplot(111, projection='polar')\n",
    "ax.bar(centers, a, width=np.deg2rad(bin_size), bottom=0.0, color='cyan', edgecolor='k')\n",
    "ax.set_theta_zero_location(\"N\")\n",
    "ax.set_theta_direction(-1)\n",
    "plt.show()"
   ]
  },
  {
   "cell_type": "code",
   "execution_count": null,
   "metadata": {},
   "outputs": [],
   "source": [
    "df_covis_rc2011c['inclination_category'] = pd.cut(df_covis_rc2011c['inclination'], bins=[0, 10, 40, 60], include_lowest=True, labels=['vertical', 'ordinary', 'extreme'])\n",
    "df_covis_rc2011c.hvplot.hist(y='inclination', by='inclination_category')"
   ]
  },
  {
   "cell_type": "markdown",
   "metadata": {},
   "source": [
    "**Violin Plots**"
   ]
  },
  {
   "cell_type": "code",
   "execution_count": null,
   "metadata": {},
   "outputs": [],
   "source": [
    "df_covis_rc2011c.inclination.hvplot.violin(by='index.day')"
   ]
  },
  {
   "cell_type": "code",
   "execution_count": null,
   "metadata": {},
   "outputs": [],
   "source": [
    "day2011c=df_covis_rc2011c.index.day\n",
    "i2011c=df_covis_rc2011c['inclination']\n",
    "sns.violinplot(day2011c, i2011c)"
   ]
  },
  {
   "cell_type": "code",
   "execution_count": null,
   "metadata": {},
   "outputs": [],
   "source": [
    "plt.violinplot(i2011c, showmeans=True, showextrema=True, showmedians=False)"
   ]
  },
  {
   "cell_type": "markdown",
   "metadata": {},
   "source": [
    "**Cross Correlation**"
   ]
  },
  {
   "cell_type": "code",
   "execution_count": null,
   "metadata": {},
   "outputs": [],
   "source": [
    "df_covis_rc2011c.corr()"
   ]
  },
  {
   "cell_type": "markdown",
   "metadata": {},
   "source": [
    "## Recomputed Plume Bending Data and Tillamook Weather Data\n",
    "\n",
    "***Dropna() command results in no dataframe being shown***"
   ]
  },
  {
   "cell_type": "code",
   "execution_count": null,
   "metadata": {},
   "outputs": [],
   "source": [
    "rc2011T = pd.merge(df_wd2011Tillamook, df_rc2011,how='inner', indicator=True, left_index=True, right_index=True, suffixes=('_B', '_G'))"
   ]
  },
  {
   "cell_type": "code",
   "execution_count": null,
   "metadata": {},
   "outputs": [],
   "source": [
    "df_covis_rc2011T = pd.DataFrame()\n",
    "df_covis_rc2011T = rc2011T[rc2011T['_merge'] == 'both']\n",
    "del df_covis_rc2011T['_merge']\n",
    "#df_covis_rc2011T = df_covis_rc2011T.dropna(axis=1,how='all')\n",
    "#df_covis_rc2011T = df_covis_rc2011T.dropna()\n",
    "del df_covis_rc2011T['jday']\n",
    "df_covis_rc2011T.head()"
   ]
  },
  {
   "cell_type": "code",
   "execution_count": null,
   "metadata": {},
   "outputs": [],
   "source": [
    "df_covis_rc2011T.describe()"
   ]
  },
  {
   "cell_type": "markdown",
   "metadata": {},
   "source": [
    "**Histograms**"
   ]
  },
  {
   "cell_type": "code",
   "execution_count": null,
   "metadata": {},
   "outputs": [],
   "source": [
    "df_covis_rc2011T.hvplot.hist(y='azimuth')"
   ]
  },
  {
   "cell_type": "code",
   "execution_count": null,
   "metadata": {},
   "outputs": [],
   "source": [
    "degrees = df_covis_rc2011T['azimuth'].values\n",
    "radians = np.deg2rad(degrees)\n",
    "\n",
    "bin_size = 2\n",
    "a , b=np.histogram(degrees, bins=np.arange(0, 360+bin_size, bin_size))\n",
    "centers = np.deg2rad(np.ediff1d(b)//2 + b[:-1])\n",
    "\n",
    "fig = plt.figure(figsize=(10,8))\n",
    "ax = fig.add_subplot(111, projection='polar')\n",
    "ax.bar(centers, a, width=np.deg2rad(bin_size), bottom=0.0, color='cyan', edgecolor='k')\n",
    "ax.set_theta_zero_location(\"N\")\n",
    "ax.set_theta_direction(-1)\n",
    "plt.show()"
   ]
  },
  {
   "cell_type": "code",
   "execution_count": null,
   "metadata": {},
   "outputs": [],
   "source": [
    "df_covis_rc2011T['inclination_category'] = pd.cut(df_covis_rc2011T['inclination'], bins=[0, 10, 40, 60], include_lowest=True, labels=['vertical', 'ordinary', 'extreme']) \n",
    "df_covis_rc2011T.hvplot.hist(y='inclination', by='inclination_category')"
   ]
  },
  {
   "cell_type": "markdown",
   "metadata": {},
   "source": [
    "***Violin plots are the same from above (2011 C46036)***"
   ]
  },
  {
   "cell_type": "markdown",
   "metadata": {},
   "source": [
    "**Cross Correlation**"
   ]
  },
  {
   "cell_type": "code",
   "execution_count": null,
   "metadata": {},
   "outputs": [],
   "source": [
    "df_covis_rc2011T.corr()"
   ]
  },
  {
   "cell_type": "markdown",
   "metadata": {},
   "source": [
    "## Step Two - Plot The Data\n",
    "* What patterns do you see?  \n",
    "* What else can you do with this data?\n",
    "* Do the different data sets correlate?\n"
   ]
  },
  {
   "cell_type": "markdown",
   "metadata": {},
   "source": [
    "## **2010 and 2011 Plume Bending Data Histograms**\n",
    "\n",
    "**Azimuth**"
   ]
  },
  {
   "cell_type": "code",
   "execution_count": null,
   "metadata": {},
   "outputs": [],
   "source": [
    "#histogram with both years but not interactive\n",
    "#see if this can be done with polar plots\n",
    "x1 = df_covis_rc2010c['azimuth']\n",
    "x2 = df_covis_rc2011c['azimuth']\n",
    "\n",
    "colors = ['blue', 'orange']\n",
    "names = ['2010', '2011']\n",
    "\n",
    "plt.hist([x1, x2], bins = int(360/15), density=True,\n",
    "         color = colors, label=names)\n",
    "\n",
    "plt.legend()\n",
    "plt.xlabel('Azimuth')\n",
    "plt.ylabel('Normalized Frequency')\n",
    "llama = plt.show()\n",
    "llama"
   ]
  },
  {
   "cell_type": "code",
   "execution_count": null,
   "metadata": {},
   "outputs": [],
   "source": [
    "#interactive histograms but separate\n",
    "(df_covis_rc2010c.hvplot.hist(y='azimuth') + df_covis_rc2011c.hvplot.hist(y='azimuth')).cols(1)"
   ]
  },
  {
   "cell_type": "markdown",
   "metadata": {},
   "source": [
    "**Inclination**"
   ]
  },
  {
   "cell_type": "code",
   "execution_count": null,
   "metadata": {},
   "outputs": [],
   "source": [
    "#histogram with both years but not interactive\n",
    "\n",
    "x1 = df_covis_rc2010c['inclination']\n",
    "x2 = df_covis_rc2011c['inclination']\n",
    "\n",
    "colors = ['blue', 'orange']\n",
    "names = ['2010', '2011']\n",
    "\n",
    "plt.hist([x1, x2], bins = int(360/15), density=True,\n",
    "         color = colors, label=names)\n",
    "\n",
    "plt.legend()\n",
    "plt.xlabel('Inclination')\n",
    "plt.ylabel('Normalized Frequency')\n",
    "plt.title('2010 and 2011 Inclination')\n",
    "plt.savefig('HistInc.png')\n",
    "plt.show()"
   ]
  },
  {
   "cell_type": "code",
   "execution_count": null,
   "metadata": {},
   "outputs": [],
   "source": [
    "#interactive histograms but separate\n",
    "(df_covis_rc2010c.hvplot.hist(y='inclination') + df_covis_rc2011c.hvplot.hist(y='inclination')).cols(1)"
   ]
  },
  {
   "cell_type": "code",
   "execution_count": null,
   "metadata": {},
   "outputs": [],
   "source": []
  },
  {
   "cell_type": "markdown",
   "metadata": {},
   "source": [
    "## 2010\n",
    "\n",
    "**C46036**\n",
    "\n",
    "Azimuth"
   ]
  },
  {
   "cell_type": "code",
   "execution_count": null,
   "metadata": {},
   "outputs": [],
   "source": [
    "df_covis_rc2010c.hvplot.scatter(y='azimuth',color='inclination',\n",
    "                                     cmap='viridis', s= 'wnd_spd',\n",
    "                                     scale = 2).hist()"
   ]
  },
  {
   "cell_type": "markdown",
   "metadata": {},
   "source": [
    "Inclination"
   ]
  },
  {
   "cell_type": "code",
   "execution_count": null,
   "metadata": {},
   "outputs": [],
   "source": [
    "df_covis_rc2010c.hvplot.scatter(y='inclination',color='inclination',\n",
    "                                     cmap='viridis', s= 'wnd_spd',\n",
    "                                     scale = 2).hist()"
   ]
  },
  {
   "cell_type": "markdown",
   "metadata": {},
   "source": [
    "**Tillamook**"
   ]
  },
  {
   "cell_type": "markdown",
   "metadata": {},
   "source": [
    "Azimuth"
   ]
  },
  {
   "cell_type": "code",
   "execution_count": null,
   "metadata": {},
   "outputs": [],
   "source": [
    "df_covis_rc2010T.hvplot.scatter(y='azimuth',color='inclination',\n",
    "                                     cmap='viridis', s= 'wnd_spd',\n",
    "                                     scale = 2).hist()"
   ]
  },
  {
   "cell_type": "markdown",
   "metadata": {},
   "source": [
    "Inclination"
   ]
  },
  {
   "cell_type": "code",
   "execution_count": null,
   "metadata": {},
   "outputs": [],
   "source": [
    "df_covis_rc2010T.hvplot.scatter(y='inclination',color='inclination',\n",
    "                                     cmap='viridis', s= 'wnd_spd',\n",
    "                                     scale = 2).hist()"
   ]
  },
  {
   "cell_type": "markdown",
   "metadata": {},
   "source": [
    "## 2011\n",
    "\n",
    "**C46036**\n",
    "\n",
    "Azimuth"
   ]
  },
  {
   "cell_type": "code",
   "execution_count": null,
   "metadata": {},
   "outputs": [],
   "source": [
    "df_covis_rc2011c.hvplot.scatter(y='azimuth',color='inclination',\n",
    "                                     cmap='viridis', s= 'wnd_spd',\n",
    "                                     scale = 2).hist()"
   ]
  },
  {
   "cell_type": "markdown",
   "metadata": {},
   "source": [
    "Inclination"
   ]
  },
  {
   "cell_type": "code",
   "execution_count": null,
   "metadata": {},
   "outputs": [],
   "source": [
    "df_covis_rc2011c.hvplot.scatter(y='inclination',color='inclination',\n",
    "                                     cmap='viridis', s= 'wnd_spd',\n",
    "                                     scale = 2).hist()"
   ]
  },
  {
   "cell_type": "markdown",
   "metadata": {},
   "source": [
    "**Tillamook**"
   ]
  },
  {
   "cell_type": "markdown",
   "metadata": {},
   "source": [
    "Azimuth"
   ]
  },
  {
   "cell_type": "code",
   "execution_count": null,
   "metadata": {},
   "outputs": [],
   "source": [
    "df_covis_rc2011T.hvplot.scatter(y='azimuth',color='inclination',\n",
    "                                     cmap='viridis', s= 'wnd_spd',\n",
    "                                     scale = 2).hist()"
   ]
  },
  {
   "cell_type": "markdown",
   "metadata": {},
   "source": [
    "Inclination"
   ]
  },
  {
   "cell_type": "code",
   "execution_count": null,
   "metadata": {},
   "outputs": [],
   "source": [
    "df_covis_rc2011T.hvplot.scatter(y='inclination',color='inclination',\n",
    "                                     cmap='viridis', s= 'wnd_spd',\n",
    "                                     scale = 2).hist()"
   ]
  },
  {
   "cell_type": "markdown",
   "metadata": {},
   "source": [
    "**Cross Correlation Test**"
   ]
  },
  {
   "cell_type": "code",
   "execution_count": null,
   "metadata": {},
   "outputs": [],
   "source": [
    "plt.xcorr(df_covis_rc2010c['azimuth'], df_covis_rc2010c['inclination'], normed=True, usevlines=True, maxlags=20, data=None)"
   ]
  },
  {
   "cell_type": "code",
   "execution_count": null,
   "metadata": {},
   "outputs": [],
   "source": []
  }
 ],
 "metadata": {
  "kernelspec": {
   "display_name": "Python 3",
   "language": "python",
   "name": "python3"
  },
  "language_info": {
   "codemirror_mode": {
    "name": "ipython",
    "version": 3
   },
   "file_extension": ".py",
   "mimetype": "text/x-python",
   "name": "python",
   "nbconvert_exporter": "python",
   "pygments_lexer": "ipython3",
   "version": "3.7.3"
  }
 },
 "nbformat": 4,
 "nbformat_minor": 4
}
